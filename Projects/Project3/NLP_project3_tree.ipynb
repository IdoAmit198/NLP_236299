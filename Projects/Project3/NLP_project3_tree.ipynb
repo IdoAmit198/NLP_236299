{
  "cells": [
    {
      "cell_type": "code",
      "execution_count": 47,
      "id": "e8e8f555",
      "metadata": {
        "collapsed": true,
        "deletable": false,
        "editable": false,
        "jupyter": {
          "outputs_hidden": true,
          "source_hidden": true
        },
        "id": "e8e8f555",
        "colab": {
          "base_uri": "https://localhost:8080/",
          "height": 0
        },
        "outputId": "6d112fce-269a-4a65-9985-263cd04de6b7"
      },
      "outputs": [
        {
          "output_type": "stream",
          "name": "stdout",
          "text": [
            "\n"
          ]
        }
      ],
      "source": [
        "# Please do not change this cell because some hidden tests might depend on it.\n",
        "import os\n",
        "\n",
        "# Otter grader does not handle ! commands well, so we define and use our\n",
        "# own function to execute shell commands.\n",
        "def shell(commands, warn=True):\n",
        "    \"\"\"Executes the string `commands` as a sequence of shell commands.\n",
        "     \n",
        "       Prints the result to stdout and returns the exit status. \n",
        "       Provides a printed warning on non-zero exit status unless `warn` \n",
        "       flag is unset.\n",
        "    \"\"\"\n",
        "    file = os.popen(commands)\n",
        "    print (file.read().rstrip('\\n'))\n",
        "    exit_status = file.close()\n",
        "    if warn and exit_status != None:\n",
        "        print(f\"Completed with errors. Exit status: {exit_status}\\n\")\n",
        "    return exit_status\n",
        "\n",
        "shell(\"\"\"\n",
        "ls requirements.txt >/dev/null 2>&1\n",
        "if [ ! $? = 0 ]; then\n",
        " rm -rf .tmp\n",
        " git clone https://github.com/cs236299-2022-spring/project3.git .tmp\n",
        " mv .tmp/requirements.txt ./\n",
        " rm -rf .tmp\n",
        "fi\n",
        "pip install -q -r requirements.txt\n",
        "\"\"\")"
      ]
    },
    {
      "cell_type": "raw",
      "id": "adbe62ba",
      "metadata": {
        "jupyter": {
          "source_hidden": true
        },
        "id": "adbe62ba"
      },
      "source": [
        "%%latex\n",
        "\\newcommand{\\vect}[1]{\\mathbf{#1}}\n",
        "\\newcommand{\\cnt}[1]{\\sharp(#1)}\n",
        "\\newcommand{\\argmax}[1]{\\underset{#1}{\\operatorname{argmax}}}\n",
        "\\newcommand{\\softmax}{\\operatorname{softmax}}\n",
        "\\newcommand{\\Prob}{\\Pr}\n",
        "\\newcommand{\\given}{\\,|\\,}"
      ]
    },
    {
      "cell_type": "markdown",
      "id": "00647b9c",
      "metadata": {
        "jupyter": {
          "source_hidden": true
        },
        "id": "00647b9c"
      },
      "source": [
        "$$\n",
        "\\renewcommand{\\vect}[1]{\\mathbf{#1}}\n",
        "\\renewcommand{\\cnt}[1]{\\sharp(#1)}\n",
        "\\renewcommand{\\argmax}[1]{\\underset{#1}{\\operatorname{argmax}}}\n",
        "\\renewcommand{\\softmax}{\\operatorname{softmax}}\n",
        "\\renewcommand{\\Prob}{\\Pr}\n",
        "\\renewcommand{\\given}{\\,|\\,}\n",
        "$$"
      ]
    },
    {
      "cell_type": "markdown",
      "id": "c161f065",
      "metadata": {
        "tags": [
          "remove_for_latex"
        ],
        "id": "c161f065"
      },
      "source": [
        "# \t236299 - Introduction to Natural Language Processing\n",
        "## Project 3: Parsing – The CKY Algorithm"
      ]
    },
    {
      "cell_type": "markdown",
      "id": "3fe545d6",
      "metadata": {
        "id": "3fe545d6"
      },
      "source": [
        "Constituency parsing is the recovery of a labeled hierarchical structure, a _parse tree_ for a sentence of a natural language. It is a core intermediary task in natural-language processing, as the meanings of sentences are related to their structure.\n",
        "\n",
        "In this project, you will implement the CKY algorithm for parsing strings relative to context-free grammars (CFG). You will implement versions for both non-probabilistic context-free grammars (CFG) and probabilistic grammars (PCFG) and apply them to the parsing of ATIS queries.\n",
        "\n",
        "The project is structured into five parts:\n",
        "\n",
        "1. Finish a CFG for the ATIS dataset. \n",
        "2. Implement the CKY algorithm for _recognizing_ grammatical sentences, that is, determining whether a parse exists for a given sentence.\n",
        "3. Extend the CKY algorithm for _parsing_ sentences, that is, constructing the parse trees for a given sentence.\n",
        "4. Construct a probabilistic context-free grammar (PCFG) based on a CFG.\n",
        "5. Extend the CKY algorithm to PCFGs, allowing the construction of the most probable parse tree for a sentence according to a PCFG.\n",
        "\n",
        "# Setup"
      ]
    },
    {
      "cell_type": "code",
      "execution_count": 49,
      "id": "d8c08644",
      "metadata": {
        "id": "d8c08644",
        "colab": {
          "base_uri": "https://localhost:8080/",
          "height": 35
        },
        "outputId": "89f5e543-1db3-4f13-fb89-e8dfbacf7abe"
      },
      "outputs": [
        {
          "output_type": "execute_result",
          "data": {
            "text/plain": [
              "'scripts//tree (1).py'"
            ],
            "application/vnd.google.colaboratory.intrinsic+json": {
              "type": "string"
            }
          },
          "metadata": {},
          "execution_count": 49
        }
      ],
      "source": [
        "# Download needed files and scripts\n",
        "import wget\n",
        "os.makedirs('data', exist_ok=True)\n",
        "os.makedirs('scripts', exist_ok=True)\n",
        "# ATIS queries\n",
        "wget.download(\"https://raw.githubusercontent.com/nlp-236299/data/master/ATIS/train.nl\", out=\"data/\")\n",
        "# Corresponding parse trees\n",
        "wget.download(\"https://raw.githubusercontent.com/nlp-236299/data/master/ATIS/train.trees\", out=\"data/\")\n",
        "wget.download(\"https://raw.githubusercontent.com/nlp-236299/data/master/ATIS/test.trees\", out=\"data/\")\n",
        "\n",
        "# Code for comparing and evaluating parse trees\n",
        "wget.download(\"https://raw.githubusercontent.com/nlp-236299/data/master/scripts/trees/evalb.py\", out=\"scripts/\")\n",
        "wget.download(\"https://raw.githubusercontent.com/nlp-236299/data/master/scripts/trees/transform.py\", out=\"scripts/\")\n",
        "wget.download(\"https://raw.githubusercontent.com/nlp-236299/data/master/scripts/trees/tree.py\", out=\"scripts/\")"
      ]
    },
    {
      "cell_type": "code",
      "execution_count": 50,
      "id": "c1cdbcda",
      "metadata": {
        "id": "c1cdbcda"
      },
      "outputs": [],
      "source": [
        "import shutil\n",
        "\n",
        "import nltk\n",
        "\n",
        "import sys\n",
        "\n",
        "from collections import defaultdict, Counter\n",
        "\n",
        "from nltk import treetransforms\n",
        "from nltk.grammar import ProbabilisticProduction, PCFG, Nonterminal\n",
        "from nltk.tree import Tree\n",
        "\n",
        "from tqdm import tqdm\n",
        "\n",
        "# Import functions for transforming augmented grammars\n",
        "sys.path.insert(1, './scripts')\n",
        "import transform as xform"
      ]
    },
    {
      "cell_type": "code",
      "execution_count": 51,
      "id": "0218d3af",
      "metadata": {
        "id": "0218d3af"
      },
      "outputs": [],
      "source": [
        "## Debug flag used below for turning on and off some useful tracing\n",
        "DEBUG = False"
      ]
    },
    {
      "cell_type": "markdown",
      "id": "a1b53c66",
      "metadata": {
        "id": "a1b53c66"
      },
      "source": [
        "# A custom ATIS grammar"
      ]
    },
    {
      "cell_type": "markdown",
      "id": "9def22bf",
      "metadata": {
        "id": "9def22bf"
      },
      "source": [
        "To parse, we need a grammar. In this project, you will use a hand-crafted grammar for a fragment of the ATIS dataset. The grammar is written in a \"semantic grammar\" style, in which the nonterminals tend to correspond to semantic classes of phrases, rather than syntactic classes. By using this style, we can more closely tune the grammar to the application, though we lose generality and transferability to other applications. The grammar will be used again in the next project segment for a question-answering application.\n",
        "\n",
        "We download the grammar to make it available."
      ]
    },
    {
      "cell_type": "code",
      "execution_count": 52,
      "id": "abfc5cc1",
      "metadata": {
        "id": "abfc5cc1"
      },
      "outputs": [],
      "source": [
        "if not os.path.exists('./data/grammar_distrib3'):\n",
        "  wget.download(\"https://raw.githubusercontent.com/nlp-236299/data/master/ATIS/grammar_distrib3\", out=\"data/\")\n",
        "if os.path.exists('./data/grammar_distrib3') and (not os.path.exists('./data/grammar')):\n",
        "  shutil.copy('./data/grammar_distrib3', './data/grammar')"
      ]
    },
    {
      "cell_type": "markdown",
      "id": "5a74e413",
      "metadata": {
        "id": "5a74e413"
      },
      "source": [
        "Take a look at the file `data/grammar_distrib3` that you've just downloaded. The grammar is written in a format that extends the NLTK format expected by `CFG.fromstring`. We've provided functions to make use of this format in the file `scripts/transform.py`. You should familiarize yourself with this format by checking out the documentation in that file.\n",
        "\n",
        "> We made a copy of this grammar for you as `data/grammar`. This is the file you'll be modifying in the next section. You can leave it alone for now.\n",
        "\n",
        "As described there, we can read the grammar in and convert it into NLTK's grammar format using the provided `xform.read_augmented_grammar` function."
      ]
    },
    {
      "cell_type": "code",
      "execution_count": 53,
      "id": "34520161",
      "metadata": {
        "id": "34520161"
      },
      "outputs": [],
      "source": [
        "atis_grammar_distrib, _ = xform.read_augmented_grammar(\"grammar_distrib3\", path=\"data\")"
      ]
    },
    {
      "cell_type": "markdown",
      "id": "f8804111",
      "metadata": {
        "id": "f8804111"
      },
      "source": [
        "To verify that the ATIS grammar that we distributed is working, we can parse a sentence using a built-in NLTK parser. We'll use a tokenizer built with NLTK's tokenizing apparatus."
      ]
    },
    {
      "cell_type": "code",
      "execution_count": 54,
      "id": "8ee5aa8c",
      "metadata": {
        "id": "8ee5aa8c",
        "colab": {
          "base_uri": "https://localhost:8080/",
          "height": 0
        },
        "outputId": "4b159699-4b40-4a45-fd0b-37685162418d"
      },
      "outputs": [
        {
          "output_type": "stream",
          "name": "stdout",
          "text": [
            "['are', 'there', 'any', 'first-class', 'flights', 'at', '11', 'pm', 'for', 'less', 'than', '$3.50', '?']\n"
          ]
        }
      ],
      "source": [
        "## Tokenizer\n",
        "tokenizer = nltk.tokenize.RegexpTokenizer('\\d+|[\\w-]+|\\$[\\d\\.]+|\\S+')\n",
        "def tokenize(string):\n",
        "  return tokenizer.tokenize(string.lower())\n",
        "\n",
        "## Demonstrating the tokenizer\n",
        "## Note especially the handling of `\"11pm\"` and hyphenated words.\n",
        "print(tokenize(\"Are there any first-class flights at 11pm for less than $3.50?\"))"
      ]
    },
    {
      "cell_type": "code",
      "execution_count": 55,
      "id": "db30d2bb",
      "metadata": {
        "id": "db30d2bb",
        "colab": {
          "base_uri": "https://localhost:8080/",
          "height": 0
        },
        "outputId": "910d830f-34ef-4483-a5d9-c99a96f98859"
      },
      "outputs": [
        {
          "output_type": "stream",
          "name": "stdout",
          "text": [
            "                                                 S                                                \n",
            "                        _________________________|________________________                         \n",
            "                       |                                              NP_FLIGHT                   \n",
            "                       |                                                  |                        \n",
            "                       |                                              NOM_FLIGHT                  \n",
            "                       |                                                  |                        \n",
            "                       |                                               N_FLIGHT                   \n",
            "                       |                                        __________|_________               \n",
            "                   PREIGNORE                                   |                    PP            \n",
            "        _______________|____________                           |                    |              \n",
            "       |                        PREIGNORE                      |                 PP_TIME          \n",
            "       |                ____________|____________              |           _________|________      \n",
            "       |               |                     PREIGNORE      N_FLIGHT      |               NP_TIME \n",
            "       |               |                         |             |          |                  |     \n",
            "PREIGNORESYMBOL PREIGNORESYMBOL           PREIGNORESYMBOL TERM_FLIGHT   P_TIME           TERM_TIME\n",
            "       |               |                         |             |          |                  |     \n",
            "      show             me                       the         flights     before              noon  \n",
            "\n",
            "                                           S                                                    \n",
            "                     ______________________|__________________                                   \n",
            "                    |                                     NP_FLIGHT                             \n",
            "                    |                       __________________|_________                         \n",
            "                    |                      |                        NOM_FLIGHT                  \n",
            "                    |                      |                            |                        \n",
            "                    |                      |                         N_FLIGHT                   \n",
            "                    |                      |        ____________________|_________               \n",
            "                    |                      |       |                              PP            \n",
            "                    |                      |       |                              |              \n",
            "                PREIGNORE                  |       |                           PP_TIME          \n",
            "        ____________|____________          |       |                     _________|________      \n",
            "       |                     PREIGNORE     |    N_FLIGHT                |               NP_TIME \n",
            "       |                         |         |       |                    |                  |     \n",
            "PREIGNORESYMBOL           PREIGNORESYMBOL DET TERM_FLIGHT             P_TIME           TERM_TIME\n",
            "       |                         |         |       |                    |                  |     \n",
            "      show                       me       the   flights               before              noon  \n",
            "\n"
          ]
        }
      ],
      "source": [
        "## Test sentence\n",
        "test_sentence_1 = tokenize(\"show me the flights before noon\")\n",
        "\n",
        "## Construct parser from distribution grammar\n",
        "atis_parser_distrib = nltk.parse.BottomUpChartParser(atis_grammar_distrib)\n",
        "\n",
        "## Parse and print the parses\n",
        "parses = atis_parser_distrib.parse(test_sentence_1)\n",
        "for parse in parses:\n",
        "  parse.pretty_print()"
      ]
    },
    {
      "cell_type": "markdown",
      "id": "10258400",
      "metadata": {
        "id": "10258400"
      },
      "source": [
        "## Testing the coverage of the grammar\n",
        "\n",
        "We can get a sense of how well the grammar covers the ATIS query language by measuring the proportion of queries in the training set that are parsable by the grammar. We define a `coverage` function to carry out this evaluation.\n",
        "\n",
        "> Warning: It may take a long time to parse all of the sentence in the training corpus, on the order of 30 minutes. You may want to start with just the first few sentences in the corpus. The `coverage` function below makes it easy to do so, and in the code below we just test coverage on the first 50 sentences."
      ]
    },
    {
      "cell_type": "code",
      "execution_count": 56,
      "id": "779496af",
      "metadata": {
        "id": "779496af"
      },
      "outputs": [],
      "source": [
        "## Read in the training corpus\n",
        "with open('data/train.nl') as file:\n",
        "  training_corpus = [tokenize(line) for line in file]"
      ]
    },
    {
      "cell_type": "code",
      "execution_count": 57,
      "id": "0748df92",
      "metadata": {
        "id": "0748df92"
      },
      "outputs": [],
      "source": [
        "def coverage(recognizer, corpus, n=0):\n",
        "  \"\"\"Returns the proportion of the first `n` sentences in the `corpus` \n",
        "  that are recognized by the `recognizer`, which should return a boolean.\n",
        "  `n` is taken to be the whole corpus if n is not provided or is\n",
        "  non-positive.\n",
        "  \"\"\"\n",
        "  n = len(corpus) if n <= 0 else n\n",
        "  parsed = 0\n",
        "  total = 0\n",
        "  for sent in tqdm(corpus[:n]):\n",
        "    total += 1\n",
        "    try:\n",
        "      parses = recognizer(sent)\n",
        "    except:\n",
        "      parses = None\n",
        "    if parses:\n",
        "      parsed += 1\n",
        "    elif DEBUG:\n",
        "      print(f\"failed: {sent}\")\n",
        "  if DEBUG: print(f\"{parsed} of {total}\")\n",
        "  return parsed/total"
      ]
    },
    {
      "cell_type": "code",
      "execution_count": 58,
      "id": "aaba6b7a",
      "metadata": {
        "id": "aaba6b7a",
        "colab": {
          "base_uri": "https://localhost:8080/",
          "height": 0
        },
        "outputId": "a4bd2185-7ec8-41c3-e7e9-dbb40ec6053f"
      },
      "outputs": [
        {
          "output_type": "stream",
          "name": "stderr",
          "text": [
            "100%|██████████| 50/50 [00:00<00:00, 365.29it/s]\n"
          ]
        },
        {
          "output_type": "execute_result",
          "data": {
            "text/plain": [
              "0.0"
            ]
          },
          "metadata": {},
          "execution_count": 58
        }
      ],
      "source": [
        "coverage(lambda sent: 0 < len(list(atis_parser_distrib.parse(sent))),  # trick for turning parser into recognizer\n",
        "         training_corpus, n=50)"
      ]
    },
    {
      "cell_type": "markdown",
      "id": "fc0d73fd",
      "metadata": {
        "id": "fc0d73fd"
      },
      "source": [
        "Sadly, you'll find that the coverage of the grammar is extraordinarily poor. That's because it is missing crucial parts of the grammar, especially phrases about _places_, which play a role in essentially every ATIS query. You'll need to complete the grammar before it can be useful."
      ]
    },
    {
      "cell_type": "markdown",
      "id": "b834167d",
      "metadata": {
        "id": "b834167d"
      },
      "source": [
        "## Part 1: Finish the CFG for the ATIS dataset\n",
        "\n",
        "Consider the following query:"
      ]
    },
    {
      "cell_type": "code",
      "execution_count": 59,
      "id": "87cf1e1c",
      "metadata": {
        "id": "87cf1e1c"
      },
      "outputs": [],
      "source": [
        "test_sentence_2 = tokenize(\"show me the united flights from boston\")"
      ]
    },
    {
      "cell_type": "markdown",
      "id": "427272e3",
      "metadata": {
        "id": "427272e3"
      },
      "source": [
        "You'll notice that the grammar we distributed doesn't handle this query because it doesn't have a subgrammar for airline information (`\"united\"`) or for places (`\"from boston\"`)."
      ]
    },
    {
      "cell_type": "code",
      "execution_count": 60,
      "id": "30b9a5e1",
      "metadata": {
        "id": "30b9a5e1",
        "colab": {
          "base_uri": "https://localhost:8080/",
          "height": 0
        },
        "outputId": "8f63f638-2bae-4419-9ab7-f336a54b2915"
      },
      "outputs": [
        {
          "output_type": "execute_result",
          "data": {
            "text/plain": [
              "0"
            ]
          },
          "metadata": {},
          "execution_count": 60
        }
      ],
      "source": [
        "len(list(atis_parser_distrib.parse(test_sentence_2)))"
      ]
    },
    {
      "cell_type": "markdown",
      "id": "f96b371f",
      "metadata": {
        "id": "f96b371f"
      },
      "source": [
        "Follow the instructions in the grammar file `data/grammar` to add further coverage to the grammar. (You can and should leave the `data/grammar_distrib3` copy alone and use it for reference.) \n",
        "\n",
        "We'll define a parser based on your modified grammar, so we can compare it against the distributed grammar. Once you've modified the grammar, this test sentence should have at least one parse.\n",
        "\n",
        "> You can search for \"TODO\" in `data/grammar` to find the two places to add grammar rules."
      ]
    },
    {
      "cell_type": "code",
      "execution_count": 61,
      "id": "d432d3f1",
      "metadata": {
        "id": "d432d3f1",
        "colab": {
          "base_uri": "https://localhost:8080/",
          "height": 0
        },
        "outputId": "5a6dec07-173b-4e76-ddb2-cd94102d34a6"
      },
      "outputs": [
        {
          "output_type": "stream",
          "name": "stdout",
          "text": [
            "                                                                S                                                            \n",
            "                        ________________________________________|_______________________                                      \n",
            "                       |                                                            NP_FLIGHT                                \n",
            "                       |                                                                |                                     \n",
            "                       |                                                            NOM_FLIGHT                               \n",
            "                       |                                         _______________________|__________                           \n",
            "                       |                                        |                              NOM_FLIGHT                    \n",
            "                       |                                        |                                  |                          \n",
            "                   PREIGNORE                                    |                               N_FLIGHT                     \n",
            "        _______________|____________                            |             _____________________|_________                 \n",
            "       |                        PREIGNORE                      ADJ           |                               PP              \n",
            "       |                ____________|____________               |            |                               |                \n",
            "       |               |                     PREIGNORE     ADJ_AIRLINE    N_FLIGHT                        PP_PLACE           \n",
            "       |               |                         |              |            |                      _________|_________       \n",
            "PREIGNORESYMBOL PREIGNORESYMBOL           PREIGNORESYMBOL TERM_AIRBRAND TERM_FLIGHT             P_PLACE            TERM_PLACE\n",
            "       |               |                         |              |            |                     |                   |      \n",
            "      show             me                       the           united      flights                 from               boston  \n",
            "\n",
            "                                                    S                                                            \n",
            "                     _______________________________|____________                                                 \n",
            "                    |                                        NP_FLIGHT                                           \n",
            "                    |                       _____________________|__________                                      \n",
            "                    |                      |                            NOM_FLIGHT                               \n",
            "                    |                      |         _______________________|__________                           \n",
            "                    |                      |        |                              NOM_FLIGHT                    \n",
            "                    |                      |        |                                  |                          \n",
            "                    |                      |        |                               N_FLIGHT                     \n",
            "                    |                      |        |             _____________________|_________                 \n",
            "                PREIGNORE                  |       ADJ           |                               PP              \n",
            "        ____________|____________          |        |            |                               |                \n",
            "       |                     PREIGNORE     |   ADJ_AIRLINE    N_FLIGHT                        PP_PLACE           \n",
            "       |                         |         |        |            |                      _________|_________       \n",
            "PREIGNORESYMBOL           PREIGNORESYMBOL DET TERM_AIRBRAND TERM_FLIGHT             P_PLACE            TERM_PLACE\n",
            "       |                         |         |        |            |                     |                   |      \n",
            "      show                       me       the     united      flights                 from               boston  \n",
            "\n"
          ]
        }
      ],
      "source": [
        "atis_grammar_expanded, _ = xform.read_augmented_grammar(\"grammar\", path=\"data\")\n",
        "atis_parser_expanded = nltk.parse.BottomUpChartParser(atis_grammar_expanded)\n",
        "\n",
        "parses = [p for p in atis_parser_expanded.parse(test_sentence_2)]\n",
        "for parse in parses:\n",
        "  parse.pretty_print()"
      ]
    },
    {
      "cell_type": "code",
      "execution_count": 62,
      "id": "06b6599a",
      "metadata": {
        "id": "06b6599a",
        "colab": {
          "base_uri": "https://localhost:8080/",
          "height": 0
        },
        "outputId": "a8395a49-2100-4444-bac7-3c07f4eead6d"
      },
      "outputs": [
        {
          "output_type": "stream",
          "name": "stdout",
          "text": [
            "                                                                                                                 S                                                                                                                            \n",
            "                        _________________________________________________________________________________________|__________                                                                                                                   \n",
            "                       |                                                                                                NP_FLIGHT                                                                                                             \n",
            "                       |                                                                                                    |                                                                                                                  \n",
            "                       |                                                                                                NOM_FLIGHT                                                                                                            \n",
            "                       |                                            ________________________________________________________|___________________                                                                                               \n",
            "                       |                                           |                                                                        NOM_FLIGHT                                                                                        \n",
            "                       |                                           |                           _________________________________________________|__________                                                                                    \n",
            "                       |                                           |                          |                                                        NOM_FLIGHT                                                                             \n",
            "                       |                                           |                          |                                                            |                                                                                   \n",
            "                       |                                           |                          |                                                         N_FLIGHT                                                                              \n",
            "                       |                                           |                          |                                                  __________|_______________________________________________                                    \n",
            "                       |                                           |                          |                                              N_FLIGHT                                                      |                                  \n",
            "                       |                                           |                          |                              ___________________|____________________                                      |                                   \n",
            "                   PREIGNORE                                       |                          |                          N_FLIGHT                                    |                                     PP                                 \n",
            "        _______________|____________                               |                          |                   __________|_________                               |                                     |                                   \n",
            "       |                        PREIGNORE                          |                         ADJ                 |                    PP                             PP                                PP_AIRLINE                             \n",
            "       |                ____________|____________                  |                          |                  |                    |                              |                       ______________|___________                        \n",
            "       |               |                     PREIGNORE            ADJ                   ADJ_FLIGHTTYPE        N_FLIGHT             PP_PLACE                       PP_PLACE                  |                      PP_AIRLINE                 \n",
            "       |               |                         |                 |                          |                  |           _________|_________            _________|_________             |               ___________|_____________          \n",
            "PREIGNORESYMBOL PREIGNORESYMBOL           PREIGNORESYMBOL      ADJ_PRICE               ADJ_FLIGHTTYPESI     TERM_FLIGHT  P_PLACE            TERM_PLACE  P_PLACE            TERM_PLACE P_AIRLINE_TERM TERM_AIRBRAND            TERM_AIRBRANDTYP\n",
            "       |               |                         |                 |                         MPLE                |          |                   |          |                   |            |              |                         E        \n",
            "       |               |                         |          _______|_________        _________|__________        |          |                   |          |                   |            |              |                         |         \n",
            "      what             is                       the       most           expensive one                  way    flight      from               boston       to               atlanta         on          american                  airlines    \n",
            "\n",
            "                                           S                                                                                                                                                                                            \n",
            "                     ______________________|_______________________________                                                                                                                                                              \n",
            "                    |                                                  NP_FLIGHT                                                                                                                                                        \n",
            "                    |                       _______________________________|__________________________________________                                                                                                                   \n",
            "                    |                      |                                                                      NOM_FLIGHT                                                                                                            \n",
            "                    |                      |            ______________________________________________________________|___________________                                                                                               \n",
            "                    |                      |           |                                                                              NOM_FLIGHT                                                                                        \n",
            "                    |                      |           |                                 _________________________________________________|__________                                                                                    \n",
            "                    |                      |           |                                |                                                        NOM_FLIGHT                                                                             \n",
            "                    |                      |           |                                |                                                            |                                                                                   \n",
            "                    |                      |           |                                |                                                         N_FLIGHT                                                                              \n",
            "                    |                      |           |                                |                                                  __________|_______________________________________________                                    \n",
            "                    |                      |           |                                |                                              N_FLIGHT                                                      |                                  \n",
            "                    |                      |           |                                |                              ___________________|____________________                                      |                                   \n",
            "                    |                      |           |                                |                          N_FLIGHT                                    |                                     PP                                 \n",
            "                    |                      |           |                                |                   __________|_________                               |                                     |                                   \n",
            "                PREIGNORE                  |           |                               ADJ                 |                    PP                             PP                                PP_AIRLINE                             \n",
            "        ____________|____________          |           |                                |                  |                    |                              |                       ______________|___________                        \n",
            "       |                     PREIGNORE     |          ADJ                         ADJ_FLIGHTTYPE        N_FLIGHT             PP_PLACE                       PP_PLACE                  |                      PP_AIRLINE                 \n",
            "       |                         |         |           |                                |                  |           _________|_________            _________|_________             |               ___________|_____________          \n",
            "PREIGNORESYMBOL           PREIGNORESYMBOL DET      ADJ_PRICE                     ADJ_FLIGHTTYPESI     TERM_FLIGHT  P_PLACE            TERM_PLACE  P_PLACE            TERM_PLACE P_AIRLINE_TERM TERM_AIRBRAND            TERM_AIRBRANDTYP\n",
            "       |                         |         |           |                               MPLE                |          |                   |          |                   |            |              |                         E        \n",
            "       |                         |         |    _______|_________           ____________|__________        |          |                   |          |                   |            |              |                         |         \n",
            "      what                       is       the most           expensive    one                     way    flight      from               boston       to               atlanta         on          american                  airlines    \n",
            "\n"
          ]
        }
      ],
      "source": [
        "test_sentence_3 = tokenize(\"what is the most expensive one way flight from boston to atlanta on american airlines\")\n",
        "parses = [p for p in atis_parser_expanded.parse(test_sentence_3)]\n",
        "for parse in parses:\n",
        "  parse.pretty_print()\n"
      ]
    },
    {
      "cell_type": "markdown",
      "id": "1c888424",
      "metadata": {
        "id": "1c888424"
      },
      "source": [
        "Once you're done adding to the grammar, to check your grammar, we'll compute the grammar's coverage of the ATIS training corpus as before.\n",
        "**This grammar should be expected to cover about half of the sentences in the first 50 sentences, and a third of the entire training corpus.**"
      ]
    },
    {
      "cell_type": "code",
      "execution_count": 63,
      "id": "8f42eb4d",
      "metadata": {
        "id": "8f42eb4d",
        "colab": {
          "base_uri": "https://localhost:8080/",
          "height": 0
        },
        "outputId": "f4f9671c-b050-41d7-9089-6e211f67ad75"
      },
      "outputs": [
        {
          "output_type": "stream",
          "name": "stderr",
          "text": [
            "100%|██████████| 50/50 [00:00<00:00, 212.77it/s]\n"
          ]
        },
        {
          "output_type": "execute_result",
          "data": {
            "text/plain": [
              "0.5"
            ]
          },
          "metadata": {},
          "execution_count": 63
        }
      ],
      "source": [
        "coverage(lambda sent: 0 < len(list(atis_parser_expanded.parse(sent))),  # trick for turning parser into recognizer\n",
        "         training_corpus, n=50)"
      ]
    },
    {
      "cell_type": "markdown",
      "id": "9f1edcb4",
      "metadata": {
        "id": "9f1edcb4"
      },
      "source": [
        "# CFG recognition via the CKY algorithm\n",
        "\n",
        "Now we turn to implementing recognizers and parsers using the CKY algorithm. We start with a recognizer, which should return `True` or `False` if a grammar does or does not admit a sentence as grammatical.\n",
        "\n",
        "## Converting the grammar to CNF for use by the CKY algorithm\n",
        "\n",
        "The CKY algorithm requires the grammar to be in Chomsky normal form (CNF). That is, only rules of the forms\n",
        "\\begin{align*}\n",
        "A &\\rightarrow B\\, C\\\\\n",
        "A &\\rightarrow a\n",
        "\\end{align*}\n",
        "are allowed, where $A$, $B$, $C$ are nonterminals and $a$ is a terminal symbol. \n",
        "\n",
        "However, in some downstream applications (such as the next project segment) we want to use grammar rules of more general forms, such as $A \\rightarrow B\\, C\\, D$. Indeed, the ATIS grammar you've been working on makes use of the additional expressivity beyond CNF.\n",
        "\n",
        "To satisfy both of these constraints, we will convert the grammar to CNF, parse using CKY, and then convert the returned parse trees back to the form of the original grammar. We provide some useful functions for performing these transformations in the file `scripts/transform.py`, already loaded above and imported as `xform`.\n",
        "\n",
        "To convert a grammar to CNF:\n",
        "\n",
        "`cnf_grammar, cnf_grammar_wunaries = xform.get_cnf_grammar(grammar)`\n",
        "\n",
        "To convert a tree output from CKY back to the original form of the grammar:\n",
        "\n",
        "`xform.un_cnf(tree, cnf_grammar_wunaries)`\n",
        "\n",
        "> We pass into `un_cnf` a version of the grammar before removing unary nonterminal productions, `cnf_grammar_wunaries`. The `cnf_grammar_wunaries` is returened as the second part of the returned value of `get_cnf_grammar` for just this purpose."
      ]
    },
    {
      "cell_type": "code",
      "execution_count": 64,
      "id": "b92b52f5",
      "metadata": {
        "id": "b92b52f5"
      },
      "outputs": [],
      "source": [
        "atis_grammar_cnf, atis_grammar_wunaries = xform.get_cnf_grammar(atis_grammar_expanded)\n",
        "assert(atis_grammar_cnf.is_chomsky_normal_form())"
      ]
    },
    {
      "cell_type": "markdown",
      "id": "015f9f4d",
      "metadata": {
        "id": "015f9f4d"
      },
      "source": [
        "In the next sections, you'll write your own recognizers and parsers based on the CKY algorithm that can operate on this grammar."
      ]
    },
    {
      "cell_type": "markdown",
      "id": "c4e9884c",
      "metadata": {
        "id": "c4e9884c"
      },
      "source": [
        "## Part 2: Implement a CKY recognizer\n",
        "\n",
        "Implement a _recognizer_ using the CKY algorithm to determine if a sentence `tokens` is parsable. The labs and J&M Chapter 13, both of which provide appropriaste pseudo-code for CKY, should be useful references here.\n",
        "\n",
        "> **Hint:** Recall that you can get the production rules of a grammar using `grammar.productions()`.\n",
        "\n",
        "> Throughtout this project segment, you should use `grammar.start()` to get the special start symbol from the grammar instead of using `S`, since some grammar uses a different start symbol, such as `TOP`."
      ]
    },
    {
      "cell_type": "code",
      "execution_count": 65,
      "id": "342621e4",
      "metadata": {
        "id": "342621e4"
      },
      "outputs": [],
      "source": [
        "## TODO – Implement a CKY recognizer\n",
        "def cky_recognize(grammar, tokens):\n",
        "  \"\"\"Returns True if and only if the list of tokens `tokens` is admitted\n",
        "  by the `grammar`.\n",
        "\n",
        "  Implements the CKY algorithm, and therefore assumes `grammar` is in \n",
        "  Chomsky normal form.\n",
        "  \"\"\"\n",
        "  assert(grammar.is_chomsky_normal_form())\n",
        "  N = len(tokens)\n",
        "  table = [[ [] for _ in range(N+1)] for _ in range(N+1)]\n",
        "  for col in range(1,N+1):\n",
        "    for prod in grammar.productions():\n",
        "      if prod.rhs()[0] == tokens[col-1]:\n",
        "        table[col-1][col].append(prod.lhs())\n",
        "    for row in range(col-2, -1, -1):\n",
        "      for j in range(1,col):\n",
        "        a,b = table[row][j], table[j][col]\n",
        "        if a and b:\n",
        "          couples = set()\n",
        "          for terminal_a in a:\n",
        "            for terminal_b in b:\n",
        "              couples.add((terminal_a,terminal_b))\n",
        "          for prod in grammar.productions():\n",
        "            if prod.rhs() in couples:\n",
        "              table[row][col].append(prod.lhs())\n",
        "  return (grammar.start() in table[0][N])"
      ]
    },
    {
      "cell_type": "markdown",
      "id": "972d2cbe",
      "metadata": {
        "id": "972d2cbe"
      },
      "source": [
        "You can test your recognizer on a few examples, both grammatical and ungrammatical, as below."
      ]
    },
    {
      "cell_type": "code",
      "execution_count": 66,
      "id": "51e2224d",
      "metadata": {
        "id": "51e2224d",
        "colab": {
          "base_uri": "https://localhost:8080/",
          "height": 0
        },
        "outputId": "c987adc4-982f-4d8f-dc4c-4bd89e5adff0"
      },
      "outputs": [
        {
          "output_type": "stream",
          "name": "stdout",
          "text": [
            "+    show me flights from boston\n",
            "+    show me united flights before noon\n",
            "+    are there any twa flights available tomorrow\n",
            "-    show me flights united are there any\n"
          ]
        }
      ],
      "source": [
        "test_sentences = [\"show me flights from boston\",\n",
        "                  \"show me united flights before noon\",\n",
        "                  \"are there any twa flights available tomorrow\",\n",
        "                  \"show me flights united are there any\"]\n",
        "\n",
        "for sentence in test_sentences:\n",
        "  recognized = \"+\" if cky_recognize(atis_grammar_cnf, tokenize(sentence)) else \"-\"\n",
        "  print(f\"{recognized:5}{sentence}\")"
      ]
    },
    {
      "cell_type": "markdown",
      "id": "e2e281f1",
      "metadata": {
        "id": "e2e281f1"
      },
      "source": [
        "You can also verify that the CKY recognizer verifies the same coverage as the NLTK parser."
      ]
    },
    {
      "cell_type": "code",
      "execution_count": 67,
      "id": "f66b428a",
      "metadata": {
        "id": "f66b428a",
        "colab": {
          "base_uri": "https://localhost:8080/",
          "height": 0
        },
        "outputId": "20afa6aa-21f9-41a1-cc2b-44476e9202da"
      },
      "outputs": [
        {
          "output_type": "stream",
          "name": "stderr",
          "text": [
            "100%|██████████| 50/50 [00:01<00:00, 25.89it/s]\n"
          ]
        },
        {
          "output_type": "execute_result",
          "data": {
            "text/plain": [
              "0.5"
            ]
          },
          "metadata": {},
          "execution_count": 67
        }
      ],
      "source": [
        "coverage(lambda sent: cky_recognize(atis_grammar_cnf, sent),\n",
        "         training_corpus, n=50)"
      ]
    },
    {
      "cell_type": "markdown",
      "id": "23c578f9",
      "metadata": {
        "id": "23c578f9"
      },
      "source": [
        "## Part 3: Implement a CKY parser\n",
        "\n",
        "In part 2, you implemented a context-free grammar recognizer. Next, you'll implement a _parser_.\n",
        "\n",
        "Implement the CKY algorithm for parsing with CFGs as a function `cky_parse`, which takes a grammar and a list of tokens and returns a single parse of the tokens as specified by the grammar, or `None` if there are no parses. You should only need to add a few lines of code to your CKY recognizer to achieve this, to implement the necessary back-pointers. The function should return an NLTK tree, which can be constructed using `Tree.fromstring`.\n",
        "\n",
        "A tree string will be like this example:\n",
        "\n",
        "```\n",
        "\"(S (A B) (C (D E) (F G)))\"\n",
        "```\n",
        "\n",
        "which corresponds to the following tree (drawn using tree.pretty_print()):\n",
        "```\n",
        "     S         \n",
        "  ___|___       \n",
        " |       C     \n",
        " |    ___|___   \n",
        " A   D       F \n",
        " |   |       |  \n",
        " B   E       G \n",
        "```\n",
        "\n",
        "> **Hint:** You may want to extract from a `Nonterminal` its corresponding string. The `Nonterminal.__str__` method or f-string `f'{Nonterminal}'` accomplishes this."
      ]
    },
    {
      "cell_type": "code",
      "source": [
        "#Utility recursion function to form the tree-string out of the backpointer matrix\n",
        "\n",
        "def wrapper(row, col, lhs,bp, tokens):\n",
        "  #base condition\n",
        "  if col==row+1:\n",
        "    return lhs.__str__() + ' ' + tokens[col-1]\n",
        "\n",
        "  #recursion\n",
        "  j = bp[row][col][lhs][0]\n",
        "  rhs = bp[row][col][lhs][1]\n",
        "  return   lhs.__str__() +   '(' + wrapper(row,j,rhs[0], bp, tokens) + ')'     +    '(' + wrapper(j,col,rhs[1], bp, tokens) + ')'"
      ],
      "metadata": {
        "id": "kv1DVA6ksk8s"
      },
      "id": "kv1DVA6ksk8s",
      "execution_count": 68,
      "outputs": []
    },
    {
      "cell_type": "code",
      "execution_count": 69,
      "id": "429c6580",
      "metadata": {
        "id": "429c6580"
      },
      "outputs": [],
      "source": [
        "## TODO -- Implement a CKY parser\n",
        "def cky_parse(grammar, tokens):\n",
        "  \"\"\"Returns an NLTK parse tree of the list of tokens `tokens` as \n",
        "  specified by the `grammar`. If there are multiple valid parses,\n",
        "  return any one of them.\n",
        "\n",
        "  Returns None if `tokens` is not parsable.\n",
        "  Implements the CKY algorithm, and therefore assumes `grammar` is in \n",
        "  Chomsky normal form.\n",
        "  \"\"\"\n",
        "  assert(grammar.is_chomsky_normal_form())\n",
        "  N = len(tokens)\n",
        "  table = [[ [] for _ in range(N+1)] for _ in range(N+1)]\n",
        "  bp = [[ {} for _ in range(N+1)] for _ in range(N+1)]\n",
        "  for col in range(1,N+1):\n",
        "    for prod in grammar.productions():\n",
        "      if prod.rhs()[0] == tokens[col-1]:\n",
        "        table[col-1][col].append(prod.lhs())\n",
        "    for row in range(col-2, -1, -1):\n",
        "      for j in range(1,col):\n",
        "        a,b = table[row][j], table[j][col]\n",
        "        if a and b:\n",
        "          couples = set()\n",
        "          for terminal_a in a:\n",
        "            for terminal_b in b:\n",
        "              couples.add((terminal_a,terminal_b))\n",
        "          for prod in grammar.productions():\n",
        "            if prod.rhs() in couples:\n",
        "              table[row][col].append(prod.lhs())\n",
        "              bp[row][col][prod.lhs()] = (j, prod.rhs())\n",
        "  if (grammar.start() in table[0][N]):\n",
        "    string =  '('+ wrapper(0,N,grammar.start(), bp, tokens) + ')'\n",
        "    return Tree.fromstring(string)\n",
        "  else:\n",
        "    return None"
      ]
    },
    {
      "cell_type": "markdown",
      "id": "5a1418a1",
      "metadata": {
        "id": "5a1418a1"
      },
      "source": [
        "You can test your code on the test sentences provided above:"
      ]
    },
    {
      "cell_type": "code",
      "execution_count": 70,
      "id": "468ff465",
      "metadata": {
        "id": "468ff465",
        "colab": {
          "base_uri": "https://localhost:8080/",
          "height": 0
        },
        "outputId": "6048d768-3350-48f1-95bb-e607b3d1299c"
      },
      "outputs": [
        {
          "output_type": "stream",
          "name": "stdout",
          "text": [
            "                                               S                                    \n",
            "                     __________________________|__________                           \n",
            "                    |                                 NP_FLIGHT                     \n",
            "                    |                                     |                          \n",
            "                    |                                 NOM_FLIGHT                    \n",
            "                    |                                     |                          \n",
            "                    |                                  N_FLIGHT                     \n",
            "                    |                           __________|_________                 \n",
            "                PREIGNORE                      |                    PP              \n",
            "        ____________|____________              |                    |                \n",
            "       |                     PREIGNORE      N_FLIGHT             PP_PLACE           \n",
            "       |                         |             |           _________|_________       \n",
            "PREIGNORESYMBOL           PREIGNORESYMBOL TERM_FLIGHT  P_PLACE            TERM_PLACE\n",
            "       |                         |             |          |                   |      \n",
            "      show                       me         flights      from               boston  \n",
            "\n",
            "                                                S                                                          \n",
            "                     ___________________________|_______________________                                    \n",
            "                    |                                               NP_FLIGHT                              \n",
            "                    |                                                   |                                   \n",
            "                    |                                               NOM_FLIGHT                             \n",
            "                    |                            _______________________|__________                         \n",
            "                    |                           |                              NOM_FLIGHT                  \n",
            "                    |                           |                                  |                        \n",
            "                    |                           |                               N_FLIGHT                   \n",
            "                    |                           |             _____________________|_________               \n",
            "                    |                           |            |                               PP            \n",
            "                    |                           |            |                               |              \n",
            "                PREIGNORE                      ADJ           |                            PP_TIME          \n",
            "        ____________|____________               |            |                      _________|________      \n",
            "       |                     PREIGNORE     ADJ_AIRLINE    N_FLIGHT                 |               NP_TIME \n",
            "       |                         |              |            |                     |                  |     \n",
            "PREIGNORESYMBOL           PREIGNORESYMBOL TERM_AIRBRAND TERM_FLIGHT              P_TIME           TERM_TIME\n",
            "       |                         |              |            |                     |                  |     \n",
            "      show                       me           united      flights                before              noon  \n",
            "\n",
            "                                                    S                                                 \n",
            "                     _______________________________|____________                                      \n",
            "                    |                                        NP_FLIGHT                                \n",
            "                    |                       _____________________|__________                           \n",
            "                    |                      |                            NOM_FLIGHT                    \n",
            "                    |                      |         _______________________|__________                \n",
            "                    |                      |        |                              NOM_FLIGHT         \n",
            "                    |                      |        |                                  |               \n",
            "                    |                      |        |                               N_FLIGHT          \n",
            "                    |                      |        |                        __________|_________      \n",
            "                    |                      |        |                    N_FLIGHT                |    \n",
            "                    |                      |        |             __________|__________          |     \n",
            "                PREIGNORE                  |       ADJ           |                     PP        PP   \n",
            "        ____________|____________          |        |            |                     |         |     \n",
            "       |                     PREIGNORE     |   ADJ_AIRLINE    N_FLIGHT              PP_CLASS  PP_DATE \n",
            "       |                         |         |        |            |                     |         |     \n",
            "PREIGNORESYMBOL           PREIGNORESYMBOL DET TERM_AIRBRAND TERM_FLIGHT            ADJ_CLASS  NP_DATE \n",
            "       |                         |         |        |            |                     |         |     \n",
            "      are                      there      any      twa        flights              available  tomorrow\n",
            "\n",
            "failed to parse: show me flights united are there any\n"
          ]
        }
      ],
      "source": [
        "for sentence in test_sentences:\n",
        "  tree = cky_parse(atis_grammar_cnf, tokenize(sentence))\n",
        "  if not tree:\n",
        "    print(f\"failed to parse: {sentence}\")\n",
        "  else:\n",
        "    xform.un_cnf(tree, atis_grammar_wunaries)\n",
        "    tree.pretty_print()"
      ]
    },
    {
      "cell_type": "markdown",
      "id": "dae35e05",
      "metadata": {
        "id": "dae35e05"
      },
      "source": [
        "You can also compare against the built-in NLTK parser that we constructed above:"
      ]
    },
    {
      "cell_type": "code",
      "execution_count": 71,
      "id": "9e493ee6",
      "metadata": {
        "id": "9e493ee6",
        "colab": {
          "base_uri": "https://localhost:8080/",
          "height": 0
        },
        "outputId": "7e1eebd3-b1ad-4096-c95b-e43f23d8ecf1"
      },
      "outputs": [
        {
          "output_type": "stream",
          "name": "stdout",
          "text": [
            "Reference parses:\n",
            "(S\n",
            "  (PREIGNORE (PREIGNORESYMBOL show) (PREIGNORE (PREIGNORESYMBOL me)))\n",
            "  (NP_FLIGHT\n",
            "    (NOM_FLIGHT\n",
            "      (N_FLIGHT\n",
            "        (N_FLIGHT (TERM_FLIGHT flights))\n",
            "        (PP (PP_PLACE (P_PLACE from) (TERM_PLACE boston)))))))\n",
            "\n",
            "Predicted parse:\n",
            "(S\n",
            "  (PREIGNORE (PREIGNORESYMBOL show) (PREIGNORE (PREIGNORESYMBOL me)))\n",
            "  (NP_FLIGHT\n",
            "    (NOM_FLIGHT\n",
            "      (N_FLIGHT\n",
            "        (N_FLIGHT (TERM_FLIGHT flights))\n",
            "        (PP (PP_PLACE (P_PLACE from) (TERM_PLACE boston)))))))\n",
            "\n",
            "SUCCESS!\n",
            "Reference parses:\n",
            "(S\n",
            "  (PREIGNORE (PREIGNORESYMBOL show) (PREIGNORE (PREIGNORESYMBOL me)))\n",
            "  (NP_FLIGHT\n",
            "    (NOM_FLIGHT\n",
            "      (ADJ (ADJ_AIRLINE (TERM_AIRBRAND united)))\n",
            "      (NOM_FLIGHT\n",
            "        (N_FLIGHT\n",
            "          (N_FLIGHT (TERM_FLIGHT flights))\n",
            "          (PP (PP_TIME (P_TIME before) (NP_TIME (TERM_TIME noon)))))))))\n",
            "\n",
            "Predicted parse:\n",
            "(S\n",
            "  (PREIGNORE (PREIGNORESYMBOL show) (PREIGNORE (PREIGNORESYMBOL me)))\n",
            "  (NP_FLIGHT\n",
            "    (NOM_FLIGHT\n",
            "      (ADJ (ADJ_AIRLINE (TERM_AIRBRAND united)))\n",
            "      (NOM_FLIGHT\n",
            "        (N_FLIGHT\n",
            "          (N_FLIGHT (TERM_FLIGHT flights))\n",
            "          (PP (PP_TIME (P_TIME before) (NP_TIME (TERM_TIME noon)))))))))\n",
            "\n",
            "SUCCESS!\n",
            "Reference parses:\n",
            "(S\n",
            "  (PREIGNORE\n",
            "    (PREIGNORESYMBOL are)\n",
            "    (PREIGNORE (PREIGNORESYMBOL there)))\n",
            "  (NP_FLIGHT\n",
            "    (DET any)\n",
            "    (NOM_FLIGHT\n",
            "      (ADJ (ADJ_AIRLINE (TERM_AIRBRAND twa)))\n",
            "      (NOM_FLIGHT\n",
            "        (N_FLIGHT\n",
            "          (N_FLIGHT\n",
            "            (N_FLIGHT (TERM_FLIGHT flights))\n",
            "            (PP (PP_CLASS (ADJ_CLASS available))))\n",
            "          (PP (PP_DATE (NP_DATE tomorrow))))))))\n",
            "\n",
            "Predicted parse:\n",
            "(S\n",
            "  (PREIGNORE\n",
            "    (PREIGNORESYMBOL are)\n",
            "    (PREIGNORE (PREIGNORESYMBOL there)))\n",
            "  (NP_FLIGHT\n",
            "    (DET any)\n",
            "    (NOM_FLIGHT\n",
            "      (ADJ (ADJ_AIRLINE (TERM_AIRBRAND twa)))\n",
            "      (NOM_FLIGHT\n",
            "        (N_FLIGHT\n",
            "          (N_FLIGHT\n",
            "            (N_FLIGHT (TERM_FLIGHT flights))\n",
            "            (PP (PP_CLASS (ADJ_CLASS available))))\n",
            "          (PP (PP_DATE (NP_DATE tomorrow))))))))\n",
            "\n",
            "SUCCESS!\n",
            "Reference parses:\n",
            "\n",
            "Predicted parse:\n",
            "None\n",
            "\n",
            "SUCCESS!\n"
          ]
        }
      ],
      "source": [
        "for sentence in test_sentences:\n",
        "  refparses = [p for p in atis_parser_expanded.parse(tokenize(sentence))]\n",
        "  predparse = cky_parse(atis_grammar_cnf, tokenize(sentence))\n",
        "  if predparse:\n",
        "    xform.un_cnf(predparse, atis_grammar_wunaries)\n",
        "\n",
        "  print('Reference parses:')\n",
        "  for reftree in refparses:\n",
        "    print(reftree)\n",
        "\n",
        "  print('\\nPredicted parse:')\n",
        "  print(predparse)\n",
        "\n",
        "  if (not predparse and len(refparses) == 0) or predparse in refparses:\n",
        "    print(\"\\nSUCCESS!\")\n",
        "  else:\n",
        "    print(\"\\nOops. No match.\")"
      ]
    },
    {
      "cell_type": "markdown",
      "id": "f9699cb6",
      "metadata": {
        "id": "f9699cb6"
      },
      "source": [
        "Again, we test the coverage as a way of verifying that your parser works consistently with the recognizer and the NLTK parser."
      ]
    },
    {
      "cell_type": "code",
      "execution_count": 72,
      "id": "7475e992",
      "metadata": {
        "id": "7475e992",
        "colab": {
          "base_uri": "https://localhost:8080/",
          "height": 0
        },
        "outputId": "5fad26c0-9f8b-4f32-8ce3-ca6b8d56b060"
      },
      "outputs": [
        {
          "output_type": "stream",
          "name": "stderr",
          "text": [
            "100%|██████████| 50/50 [00:01<00:00, 27.38it/s]\n"
          ]
        },
        {
          "output_type": "execute_result",
          "data": {
            "text/plain": [
              "0.5"
            ]
          },
          "metadata": {},
          "execution_count": 72
        }
      ],
      "source": [
        "coverage(lambda sent: cky_parse(atis_grammar_cnf, sent),\n",
        "         training_corpus, n=50)"
      ]
    },
    {
      "cell_type": "markdown",
      "id": "c7aa7370",
      "metadata": {
        "id": "c7aa7370"
      },
      "source": [
        "# Probabilistic CFG parsing via the CKY algorithm\n",
        "\n",
        "In practice, we want to work with grammars that cover nearly all the language we expect to come across for a given application. This leads to an explosion of rules and a large number of possible parses for any one sentence. To remove ambiguity between the different parses, it's desirable to move to probabilistic context-free grammars (PCFG). In this part of the assignment, you will construct a PCFG from training data, parse using a probabilistic version of CKY, and evaluate the quality of the resulting parses against gold trees.\n",
        "\n",
        "## Part 4: PCFG construction\n",
        "\n",
        "Compared to CFGs, PCFGs need to assign probabilities to grammar rules. For this goal, you'll write a function `pcfg_from_trees` that takes a list of strings describing a corpus of trees and returns an NLTK PCFG trained on that set of trees.\n",
        "\n",
        "> We expect you to implement `pcfg_from_trees` directly. You should **not** use the [`induce_pcfg`](https://www.nltk.org/api/nltk.grammar.html#nltk.grammar.induce_pcfg) function in implementing your solution.\n",
        "\n",
        "We want the PCFG to be in CNF format because the probabilistic version of CKY that you'll implement next also requires the grammar to be in CNF. However, the gold trees are not in CNF form, so in this case you will need to convert the gold *trees* to CNF before building the PCFG from them. To accomplish this, you should use the `treetransforms` package from `nltk`, which includes functions for converting to and from CNF. In particular, you'll want to make use of `treetransforms.collapse_unary` followed by `treetransforms.chomsky_normal_form` to convert a tree to its binarized version. You can then get the counts for all of the productions used in the trees, and then normalize them to probabilities so that the probabilities of all rules with the same left-hand side sum to 1.\n",
        "\n",
        "We'll use the `pcfg_from_trees` function that you define later for parsing.\n",
        "\n",
        "> To convert an `nltk.Tree` object `t` to CNF, you can use the below code. Note that it's different from the `xform` functions we used before as we are converting _trees_, not _grammars_.\n",
        ">\n",
        ">    ```\n",
        ">    treetransforms.collapse_unary(t, collapsePOS=True)\n",
        ">    treetransforms.chomsky_normal_form(t) # After this the tree will be in CNF\n",
        ">    ```\n",
        "\n",
        "> To construct a PCFG with a given start state and set of productions, see [`nltk.grammar.PCFG`](https://www.nltk.org/api/nltk.grammar.html#nltk.grammar.PCFG)."
      ]
    },
    {
      "cell_type": "code",
      "source": [
        "#Utility functions for pcfg_from_trees() function\n",
        "\n",
        "def rule_counter(sentence_list):\n",
        "    out = {}\n",
        "    for sentence in sentence_list:\n",
        "        tree = nltk.Tree.fromstring(sentence)\n",
        "        treetransforms.collapse_unary(tree, collapsePOS=True)\n",
        "        treetransforms.chomsky_normal_form(tree) # After this the tree will be in CNF\n",
        "        for production in tree.productions():\n",
        "            key = nltk.grammar.Production(production.lhs(), production.rhs())\n",
        "            if key in out:\n",
        "                out[key] += 1\n",
        "            else:\n",
        "                out[key] = 1\n",
        "    return out\n",
        "\n",
        "#TODO\n",
        "def lhs_counter(sentence_list):\n",
        "    out = {}\n",
        "    for sentence in sentence_list:\n",
        "        tree = nltk.Tree.fromstring(sentence)\n",
        "        treetransforms.collapse_unary(tree, collapsePOS=True)\n",
        "        treetransforms.chomsky_normal_form(tree) # After this the tree will be in CNF\n",
        "        for production in tree.productions():\n",
        "            key = production.lhs()\n",
        "            if key in out:\n",
        "                out[key] += 1\n",
        "            else:\n",
        "                out[key] = 1\n",
        "    return out\n",
        "\n",
        "#TODO\n",
        "def rule_probs(sentence_list):\n",
        "    rule_dict = rule_counter(sentence_list)\n",
        "    lhs_dict = lhs_counter(sentence_list)\n",
        "    out = rule_dict\n",
        "    for key, value in out.items():\n",
        "        out[key] /= lhs_dict[key.lhs()]\n",
        "    return out"
      ],
      "metadata": {
        "id": "bRNbul01H3n7"
      },
      "id": "bRNbul01H3n7",
      "execution_count": 73,
      "outputs": []
    },
    {
      "cell_type": "code",
      "execution_count": 74,
      "id": "edc2537a",
      "metadata": {
        "id": "edc2537a"
      },
      "outputs": [],
      "source": [
        "#TODO - Define a function to convert a set of trees to a PCFG in Chomsky normal form.\n",
        "#You are not allowed to use any library functions except\n",
        "#`treetransforms.collapse_unary` and `treetransforms.chomsky_normal_form`,\n",
        "#write the logic by yourself.\n",
        "def pcfg_from_trees(trees, start=Nonterminal('TOP')):\n",
        "  \"\"\"Returns an NLTK PCFG in CNF with rules and counts extracted from a set of trees.\n",
        "\n",
        "  The `trees` argument is a list of strings in the form interpretable by \n",
        "  `Tree.fromstring`. The trees are converted to CNF using NLTK's \n",
        "  `treetransforms.collapse_unary` and `treetransforms.chomsky_normal_form`.\n",
        "  \n",
        "  The `start` argument is the start nonterminal symbol of the returned\n",
        "  grammar.\"\"\"\n",
        "  prob_rules_dict = rule_probs(trees)\n",
        "  lst = []\n",
        "  for rule,prob in prob_rules_dict.items():\n",
        "    lst.append(nltk.grammar.ProbabilisticProduction(rule.lhs(), rule.rhs(),**{\"prob\":prob}))\n",
        "  return nltk.grammar.PCFG(start, lst)"
      ]
    },
    {
      "cell_type": "markdown",
      "id": "32f34594",
      "metadata": {
        "id": "32f34594"
      },
      "source": [
        "We can now train a PCFG on the *train* split `train.trees` that we downloaded in the setup at the start of the notebook."
      ]
    },
    {
      "cell_type": "code",
      "execution_count": 75,
      "id": "9f96fba0",
      "metadata": {
        "id": "9f96fba0"
      },
      "outputs": [],
      "source": [
        "with open('data/train.trees') as file:\n",
        "  ## Convert the probabilistic productions to an NLTK probabilistic CFG.\n",
        "  pgrammar = pcfg_from_trees(file.readlines())\n",
        "    \n",
        "## Verify that the grammar is in CNF\n",
        "assert(pgrammar.is_chomsky_normal_form())"
      ]
    },
    {
      "cell_type": "markdown",
      "id": "ea02a36e",
      "metadata": {
        "id": "ea02a36e"
      },
      "source": [
        "## Part 5: Probabilistic CKY parsing\n",
        "\n",
        "Finally, we are ready to implement probabilistic CKY parsing under PCFGs. Adapt the CKY parser from Part 3 to return the most likely parse and its **log probability** (base 2) given a PCFG. Note that to avoid underflows we want to work in the log space.\n",
        "> **Hint:** `production.logprob()` will return the log probability of a production rule `production`."
      ]
    },
    {
      "cell_type": "code",
      "execution_count": 76,
      "id": "1b132358",
      "metadata": {
        "id": "1b132358"
      },
      "outputs": [],
      "source": [
        "## TODO – Implement a CKY parser under PCFGs\n",
        "def cky_parse_probabilistic(grammar, tokens):\n",
        "  \"\"\"Returns the NLTK parse tree of `tokens` with the highest probability \n",
        "  as specified by the PCFG `grammar` and its log probability as a tuple.\n",
        "\n",
        "  Returns (None, -float('inf')) if `tokens` is not parsable.\n",
        "  Implements the CKY algorithm, and therefore assumes `grammar` is in \n",
        "  Chomsky normal form.\n",
        "  \"\"\"\n",
        "  assert(grammar.is_chomsky_normal_form())\n",
        "  N = len(tokens)\n",
        "  table = [[ {} for _ in range(N+1)] for _ in range(N+1)]\n",
        "  bp = [[ {} for _ in range(N+1)] for _ in range(N+1)]\n",
        "  for col in range(1,N+1):\n",
        "    for prod in grammar.productions():\n",
        "      if prod.rhs()[0] == tokens[col-1]:\n",
        "        table[col-1][col][prod.lhs()] = prod.logprob()\n",
        "    for row in range(col-2, -1, -1):\n",
        "      for j in range(1,col):\n",
        "        a,b = table[row][j], table[j][col]\n",
        "        if a and b:\n",
        "          couples = set()\n",
        "          for terminal_a in a.keys():\n",
        "            for terminal_b in b.keys():\n",
        "              couples.add((terminal_a,terminal_b))\n",
        "          for prod in grammar.productions():\n",
        "            if prod.rhs() in couples:\n",
        "              new_table_val = a[prod.rhs()[0]]+b[prod.rhs()[1]]+prod.logprob()\n",
        "              old_table_val = table[row][col].get(prod.lhs(),new_table_val)\n",
        "              table[row][col][prod.lhs()] = max(new_table_val, old_table_val)\n",
        "              new_bp_val = (j,prod.rhs())\n",
        "              old_bp_val = bp[row][col].get(prod.lhs(),new_bp_val)\n",
        "              bp[row][col][prod.lhs()] = new_bp_val if new_table_val>=old_table_val else old_bp_val\n",
        "  if (grammar.start() in table[0][N]):\n",
        "    string =  '('+ wrapper(0,N,grammar.start(), bp, tokens) + ')'\n",
        "    return (Tree.fromstring(string), table[0][N][grammar.start()])\n",
        "  else:\n",
        "    return (None, -float('inf'))"
      ]
    },
    {
      "cell_type": "markdown",
      "id": "e04fe681",
      "metadata": {
        "id": "e04fe681"
      },
      "source": [
        "As an aid in debugging, you may want to start by testing your implementation of probabilistic CKY on a much smaller grammar than the one you trained from the ATIS corpus. Here's a little grammar that you can play with.\n",
        "\n",
        "> **Hint:** By \"play with\", we mean that you can change the gramamr to try out the behavior of your parser on different test grammars, including ambiguous cases."
      ]
    },
    {
      "cell_type": "code",
      "execution_count": 77,
      "id": "f1682a02",
      "metadata": {
        "id": "f1682a02"
      },
      "outputs": [],
      "source": [
        "grammar = PCFG.fromstring(\"\"\"\n",
        "  S -> NP VP [1.0]\n",
        "  VP -> V NP [1.0]\n",
        "  PP -> P NP [1.0]\n",
        "  NP -> 'sam' [.3]\n",
        "  NP -> 'ham' [.7]\n",
        "  V -> 'likes' [1.0]\n",
        "  \"\"\")"
      ]
    },
    {
      "cell_type": "code",
      "execution_count": 78,
      "id": "7c8ae8cc",
      "metadata": {
        "id": "7c8ae8cc",
        "colab": {
          "base_uri": "https://localhost:8080/",
          "height": 0
        },
        "outputId": "c9bc055d-e7bc-4e0b-c05a-3ce331b6638d"
      },
      "outputs": [
        {
          "output_type": "stream",
          "name": "stdout",
          "text": [
            "      S          \n",
            "  ____|____       \n",
            " |         VP    \n",
            " |     ____|___   \n",
            " NP   V        NP\n",
            " |    |        |  \n",
            "sam likes     ham\n",
            "\n",
            "logprob: -2.25 | probability: 0.21\n"
          ]
        }
      ],
      "source": [
        "tree, logprob = cky_parse_probabilistic(grammar, tokenize('sam likes ham'))\n",
        "tree.pretty_print()\n",
        "print(f\"logprob: {logprob:4.3g} | probability: {2**logprob:4.3g}\")"
      ]
    },
    {
      "cell_type": "code",
      "execution_count": 79,
      "id": "25e04839",
      "metadata": {
        "id": "25e04839",
        "colab": {
          "base_uri": "https://localhost:8080/",
          "height": 0
        },
        "outputId": "b8c38fd1-8bc8-48e9-f6b3-7d3bcfb81e63"
      },
      "outputs": [
        {
          "output_type": "stream",
          "name": "stdout",
          "text": [
            "                           TOP                     \n",
            "                      ______|___________________    \n",
            "                    FRAG                        |  \n",
            "                     |                          |   \n",
            "                     NP                         |  \n",
            "    _________________|___________               |   \n",
            "   |          PP                 PP             |  \n",
            "   |      ____|______        ____|_____         |   \n",
            "   NP    |           NP     |          NP       |  \n",
            "   |     |           |      |     _____|___     |   \n",
            "  NNS    IN         NNP     TO  NNP       NNP  PUNC\n",
            "   |     |           |      |    |         |    |   \n",
            "Flights from     Cleveland  to Kansas     City  .  \n",
            "\n",
            "logprob:  -27 | probability: 7.42e-09\n"
          ]
        }
      ],
      "source": [
        "# We don't use our tokenizer because the gold trees do not lowercase tokens\n",
        "sent = \"Flights from Cleveland to Kansas City .\".split()\n",
        "tree, logprob = cky_parse_probabilistic(pgrammar, sent)\n",
        "tree.un_chomsky_normal_form()\n",
        "tree.pretty_print()\n",
        "print(f\"logprob: {logprob:4.3g} | probability: {2**logprob:4.3g}\")"
      ]
    },
    {
      "cell_type": "markdown",
      "id": "9920a425",
      "metadata": {
        "id": "9920a425"
      },
      "source": [
        "## Evaluation of the grammar\n",
        "\n",
        "There are a number of ways to evaluate parsing algorithms. In this project segment, you will use the [\"industry-standard\" `evalb` implementation](https://nlp.cs.nyu.edu/evalb/) for computing constituent precision, recall, and F1 scores. We downloaded `evalb` during setup.\n",
        "\n",
        "We read in the test data..."
      ]
    },
    {
      "cell_type": "code",
      "execution_count": 80,
      "id": "0a7745e3",
      "metadata": {
        "id": "0a7745e3"
      },
      "outputs": [],
      "source": [
        "with open('data/test.trees') as file:\n",
        "  test_trees = [Tree.fromstring(line.strip()) for line in file.readlines()]\n",
        "\n",
        "test_sents = [tree.leaves() for tree in test_trees]"
      ]
    },
    {
      "cell_type": "markdown",
      "id": "af32efe3",
      "metadata": {
        "id": "af32efe3"
      },
      "source": [
        "...and parse the test sentences using your probabilistic CKY implementation, writing the output trees to a file."
      ]
    },
    {
      "cell_type": "code",
      "execution_count": 81,
      "id": "0769b9fe",
      "metadata": {
        "id": "0769b9fe",
        "colab": {
          "base_uri": "https://localhost:8080/",
          "height": 0
        },
        "outputId": "d9ceb41b-70b9-4575-955b-6a6f5b425b41"
      },
      "outputs": [
        {
          "output_type": "stream",
          "name": "stderr",
          "text": [
            "100%|██████████| 58/58 [00:01<00:00, 51.81it/s]\n"
          ]
        }
      ],
      "source": [
        "trees_out = []\n",
        "for sent in tqdm(test_sents):\n",
        "  tree, prob = cky_parse_probabilistic(pgrammar, sent)\n",
        "  if tree is not None:\n",
        "    tree.un_chomsky_normal_form()\n",
        "    trees_out.append(tree.pformat(margin=9999999999))\n",
        "  else:\n",
        "    trees_out.append('()')\n",
        "  \n",
        "with open('data/outp.trees', 'w') as file:\n",
        "  for line in trees_out:\n",
        "    file.write(line + '\\n')"
      ]
    },
    {
      "cell_type": "markdown",
      "id": "ffd213db",
      "metadata": {
        "id": "ffd213db"
      },
      "source": [
        "Now we can compare the predicted trees to the ground truth trees, using `evalb`. You should expect to achieve F1 of about 0.83."
      ]
    },
    {
      "cell_type": "code",
      "execution_count": 82,
      "id": "9e17ddef",
      "metadata": {
        "id": "9e17ddef",
        "colab": {
          "base_uri": "https://localhost:8080/",
          "height": 0
        },
        "outputId": "ae2aba36-efe1-471b-fde8-be48ea20d8c5"
      },
      "outputs": [
        {
          "output_type": "stream",
          "name": "stdout",
          "text": [
            "data/outp.trees\t345 brackets\n",
            "data/test.trees\t471 brackets\n",
            "matching\t339 brackets\n",
            "precision\t0.9826086956521739\n",
            "recall\t0.7197452229299363\n",
            "F1\t0.8308823529411764\n"
          ]
        }
      ],
      "source": [
        "shell(\"python scripts/evalb.py data/outp.trees data/test.trees\")"
      ]
    },
    {
      "cell_type": "markdown",
      "id": "63584c69",
      "metadata": {
        "id": "63584c69"
      },
      "source": [
        "## Debrief\n",
        "\n",
        "**Question:** We're interested in any thoughts you have about this project segment so that we can improve it for later years, and to inform later segments for this year. Please list any issues that arose or comments you have to improve the project segment. Useful things to comment on might include the following: \n",
        "\n",
        "* Was the project segment clear or unclear? Which portions?\n",
        "* Were the readings appropriate background for the project segment? \n",
        "* Are there additions or changes you think would make the project segment better?\n",
        "    ```\n",
        "    BEGIN QUESTION\n",
        "    name: open_response_debrief\n",
        "    manual: true\n",
        "    ```\n",
        "    \n",
        "but you should comment on whatever aspects you found especially positive or negative."
      ]
    },
    {
      "cell_type": "markdown",
      "id": "9f13d24e",
      "metadata": {
        "id": "9f13d24e"
      },
      "source": [
        "_In the first part, where we were supposed to expand our grammar, it was really ambiguous what we can and we can not. Is the final grammar supposed not to parse not legal english sentences and how far we should go with expanding the grammar._\n",
        "\n",
        "_The reading was appropriate._"
      ]
    },
    {
      "cell_type": "markdown",
      "id": "5b0af088",
      "metadata": {
        "id": "5b0af088"
      },
      "source": [
        "# Instructions for submission of the project segment\n",
        "\n",
        "This project segment should be submitted to Gradescope at <https://rebrand.ly/project3-submit-code> and <https://rebrand.ly/project3-submit-pdf>, which will be made available some time before the due date.\n",
        "\n",
        "Project segment notebooks are manually graded, not autograded using otter as labs are. (Otter is used within project segment notebooks to synchronize distribution and solution code however.) **We will not run your notebook before grading it.** Instead, we ask that you submit the already freshly run notebook. The best method is to \"restart kernel and run all cells\", allowing time for all cells to be run to completion. You should submit your code to Gradescope at the code submission assignment at <https://rebrand.ly/project3-submit-code>. Make sure that you are also submitting your `data/grammar` file as part of your solution code as well.\n",
        "\n",
        "We also request that you **submit a PDF of the freshly run notebook**. The simplest method is to use \"Export notebook to PDF\", which will render the notebook to PDF via LaTeX. If that doesn't work, the method that seems to be most reliable is to export the notebook as HTML (if you are using Jupyter Notebook, you can do so using `File -> Print Preview`), open the HTML in a browser, and print it to a file. Then make sure to add the file to your git commit. Please name the file the same name as this notebook, but with a `.pdf` extension. (Conveniently, the methods just described will use that name by default.) You can then perform a git commit and push and submit the commit to Gradescope at <https://rebrand.ly/project3-submit-pdf>."
      ]
    },
    {
      "cell_type": "markdown",
      "id": "d276fdab",
      "metadata": {
        "id": "d276fdab"
      },
      "source": [
        "# End of project segment 3"
      ]
    }
  ],
  "metadata": {
    "colab": {
      "collapsed_sections": [],
      "name": "NLP project3_tree.ipynb",
      "provenance": []
    },
    "kernelspec": {
      "display_name": "Python 3",
      "language": "python",
      "name": "python3"
    },
    "language_info": {
      "codemirror_mode": {
        "name": "ipython",
        "version": 3
      },
      "file_extension": ".py",
      "mimetype": "text/x-python",
      "name": "python",
      "nbconvert_exporter": "python",
      "pygments_lexer": "ipython3",
      "version": "3.8.3"
    },
    "title": "CS236299 Project Segment 3: Parsing – The CKY Algorithm"
  },
  "nbformat": 4,
  "nbformat_minor": 5
}