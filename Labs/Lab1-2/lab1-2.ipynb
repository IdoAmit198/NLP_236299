{
  "cells": [
    {
      "cell_type": "code",
      "source": [
        "# Please do not change this cell because some hidden tests might depend on it.\n",
        "import os\n",
        "\n",
        "# Otter grader does not handle ! commands well, so we define and use our\n",
        "# own function to execute shell commands.\n",
        "def shell(commands, warn=True):\n",
        "    \"\"\"Executes the string `commands` as a sequence of shell commands.\n",
        "     \n",
        "       Prints the result to stdout and returns the exit status. \n",
        "       Provides a printed warning on non-zero exit status unless `warn` \n",
        "       flag is unset.\n",
        "    \"\"\"\n",
        "    file = os.popen(commands)\n",
        "    print (file.read().rstrip('\\n'))\n",
        "    exit_status = file.close()\n",
        "    if warn and exit_status != None:\n",
        "        print(f\"Completed with errors. Exit status: {exit_status}\\n\")\n",
        "    return exit_status\n",
        "\n",
        "shell(\"\"\"\n",
        "ls requirements.txt >/dev/null 2>&1\n",
        "if [ ! $? = 0 ]; then\n",
        " rm -rf .tmp\n",
        " git clone https://github.com/cs236299-2022-spring/lab1-2.git .tmp\n",
        " mv .tmp/tests ./\n",
        " mv .tmp/requirements.txt ./\n",
        " rm -rf .tmp\n",
        "fi\n",
        "pip install -q -r requirements.txt\n",
        "\"\"\")"
      ],
      "metadata": {
        "colab": {
          "base_uri": "https://localhost:8080/"
        },
        "id": "S5xpmF265Es-",
        "outputId": "9660359c-4392-4ce0-ff76-e39045e35d2c"
      },
      "id": "S5xpmF265Es-",
      "execution_count": 1,
      "outputs": [
        {
          "output_type": "stream",
          "name": "stdout",
          "text": [
            "\n"
          ]
        }
      ]
    },
    {
      "cell_type": "code",
      "execution_count": 2,
      "id": "578d66e5",
      "metadata": {
        "deletable": false,
        "editable": false,
        "id": "578d66e5"
      },
      "outputs": [],
      "source": [
        "# Initialize Otter\n",
        "import otter\n",
        "grader = otter.Notebook()"
      ]
    },
    {
      "cell_type": "markdown",
      "id": "b010a4f0",
      "metadata": {
        "tags": [
          "remove_for_latex"
        ],
        "id": "b010a4f0"
      },
      "source": [
        "# Course 236299\n",
        "## Lab 1-2 — Text classification and evaluation methodology"
      ]
    },
    {
      "cell_type": "markdown",
      "id": "d7926454",
      "metadata": {
        "id": "d7926454"
      },
      "source": [
        "After this lab, you should be able to\n",
        "\n",
        "* Understand the distinction between training and test corpora, and why both are needed;\n",
        "* Understand the role of gold labels;\n",
        "* Implement a majority class baseline as a benchmark to compare other methods;\n",
        "* Implement nearest neighbor classification, and understand the role of distance metrics in its operation;\n",
        "* Compare multiple methods for acccuracy."
      ]
    },
    {
      "cell_type": "markdown",
      "id": "c91bff31",
      "metadata": {
        "id": "c91bff31"
      },
      "source": [
        "New bits of Python used for the first time in the _solution set_ for this lab, and which you may therefore find useful, include\n",
        "\n",
        "* [`collections.Counter`](https://docs.python.org/3/library/collections.html#collections.Counter)\n",
        "* [`collections.Counter.most_common`](https://docs.python.org/3/library/collections.html#collections.Counter.most_common)\n",
        "* [`torch.float`](https://pytorch.org/docs/stable/tensors.html)\n",
        "* [`torch.Tensor.type`](https://pytorch.org/docs/stable/generated/torch.Tensor.type.html?highlight=torch%20tensor%20type#torch.Tensor.type)"
      ]
    },
    {
      "cell_type": "markdown",
      "id": "8f85e8ec",
      "metadata": {
        "id": "8f85e8ec"
      },
      "source": [
        "# Preparation – Loading packages and data"
      ]
    },
    {
      "cell_type": "code",
      "execution_count": 3,
      "id": "f284f588",
      "metadata": {
        "deletable": false,
        "editable": false,
        "jupyter": {
          "source_hidden": true
        },
        "id": "f284f588"
      },
      "outputs": [],
      "source": [
        "# Please do not change these imports because some hidden tests might depend on them.\n",
        "# You can add a cell below if you need to import anything else.\n",
        "import collections\n",
        "import copy\n",
        "import json\n",
        "import math\n",
        "from pprint import pprint\n",
        "import torch\n",
        "import wget"
      ]
    },
    {
      "cell_type": "markdown",
      "id": "f5b34f07",
      "metadata": {
        "id": "f5b34f07"
      },
      "source": [
        "# The Federalist Papers\n",
        "\n",
        "<img src=\"https://github.com/nlp-course/data/raw/master/Federalist/federalist.jpg\" width=150 align=right />\n",
        "\n",
        "The _Federalist_ papers is a collection of 85 essays written pseudonymously by Alexander Hamilton, John Jay, and James Madison following the Constitutional Convention of 1787, promoting the ratification of the nascent United States Constitution.\n",
        "\n",
        "The authorship of many of the individual papers has been well established and acknowledged by the various authors, but a number of the papers have been contentious, with both Madison and Hamilton as possible authors. Determining the authorship of these disputed papers is a classic text classification problem, and one that has received great attention. The seminal work on the problem is that of [Mosteller and Wallace](http://www.historyofinformation.com/detail.php?entryid=4799), who applied then-novel statistical methods to the problem. In this lab, we'll use the _Federalist_ data to experiment with some of the ideas about distance metrics and classification methods that you've read about. (It's also an excuse to make some points about proper testing methodology.)\n",
        "\n",
        "Mosteller and Wallace used the frequencies of various words in the papers as the raw data for determining authorship. We've provided access to a heavily pre-digested version of this data. (If you're interested, you can find the raw data – all 85 papers – and the notebook used to generate the pre-digested data in the [course `data` github repository](https://github.com/nlp-236299/data/tree/master/Federalist).)\n",
        "\n",
        "Start by evaluating the cells below to load the data and view a sample."
      ]
    },
    {
      "cell_type": "code",
      "execution_count": 4,
      "id": "ca7bcbb8",
      "metadata": {
        "id": "ca7bcbb8"
      },
      "outputs": [],
      "source": [
        "# Retrieve the Federalist data\n",
        "os.makedirs('data', exist_ok=True)\n",
        "wget.download('https://github.com/nlp-236299/data/raw/master/Federalist/federalist_data.json', out='data/')\n",
        "# Read the json data into a data structure\n",
        "with open('data/federalist_data.json', 'r') as fin:\n",
        "    dataset = json.load(fin)\n",
        "# Convert counts to tensors of floats\n",
        "for example in dataset:\n",
        "    example['counts'] = torch.tensor(example['counts']).type(torch.float)"
      ]
    },
    {
      "cell_type": "code",
      "execution_count": 5,
      "id": "5bee1fb7",
      "metadata": {
        "colab": {
          "base_uri": "https://localhost:8080/"
        },
        "id": "5bee1fb7",
        "outputId": "25a4fc59-3a17-4dd8-b28f-4587639a0ebe"
      },
      "outputs": [
        {
          "output_type": "stream",
          "name": "stdout",
          "text": [
            "Number of papers in the dataset: 85\n",
            "Some examples:\n",
            "[{'authors': 'Hamilton',\n",
            "  'counts': tensor([9., 6., 2., 0.]),\n",
            "  'number': '1',\n",
            "  'title': 'General Introduction'},\n",
            " {'authors': 'Jay',\n",
            "  'counts': tensor([8., 1., 0., 0.]),\n",
            "  'number': '2',\n",
            "  'title': 'Concerning Dangers from Foreign Force and Influence'},\n",
            " {'authors': 'Jay',\n",
            "  'counts': tensor([6., 0., 1., 0.]),\n",
            "  'number': '3',\n",
            "  'title': 'The Same Subject Continued: Concerning Dangers from Foreign Force '\n",
            "           'and Influence'}]\n"
          ]
        }
      ],
      "source": [
        "# View a sample of the data\n",
        "print(f\"Number of papers in the dataset: {len(dataset)}\")\n",
        "print(\"Some examples:\")\n",
        "pprint(dataset[:3])"
      ]
    },
    {
      "cell_type": "markdown",
      "id": "58bb530b",
      "metadata": {
        "id": "58bb530b"
      },
      "source": [
        "You'll see above that the dataset is a list of *examples*, one for each paper, each a dictionary providing the paper number, its title and author(s), and the raw counts for a few important words in the papers. From the last lab, you'll recognize the `counts` field as a bag-of-words representation of the document. The `counts` field is the document representation that we will be wanting to classify, and the `authors` field contains the pertinent class label for each example. \n",
        "\n",
        "For your reference, here are the words that were used to derive the counts:"
      ]
    },
    {
      "cell_type": "code",
      "execution_count": 6,
      "id": "693c2f92",
      "metadata": {
        "id": "693c2f92"
      },
      "outputs": [],
      "source": [
        "keywords = ['on', 'upon', 'there', 'whilst']"
      ]
    },
    {
      "cell_type": "markdown",
      "id": "be091109",
      "metadata": {
        "id": "be091109"
      },
      "source": [
        "Thus in the first example paper, *Federalist 1*, there were 9 tokens of \"on\", 6 of \"upon\", 2 of \"there\", and none of \"whilst\". \n",
        "\n",
        "The `authors` field takes on various values. Here's a table of the frequency of each of the values. (This will come in handy later.)"
      ]
    },
    {
      "cell_type": "code",
      "execution_count": 7,
      "id": "86b4e99b",
      "metadata": {
        "colab": {
          "base_uri": "https://localhost:8080/"
        },
        "id": "86b4e99b",
        "outputId": "f859eca9-261c-4fa0-cca0-df8310f6c5e5"
      },
      "outputs": [
        {
          "output_type": "stream",
          "name": "stdout",
          "text": [
            " 51 (60.000%) Hamilton\n",
            "  5 (5.882%) Jay\n",
            " 15 (17.647%) Madison\n",
            "  3 (3.529%) Hamilton and Madison\n",
            " 11 (12.941%) Hamilton or Madison\n"
          ]
        }
      ],
      "source": [
        "# Generate a table of the number of papers by each author label\n",
        "cnt = collections.Counter(map(lambda ex: ex['authors'],\n",
        "                              dataset))\n",
        "for author, count in cnt.items():\n",
        "    print(f\"{count:3d} ({100.0*count/len(dataset):.3f}%) {author}\")"
      ]
    },
    {
      "cell_type": "markdown",
      "id": "1a376da8",
      "metadata": {
        "id": "1a376da8"
      },
      "source": [
        "As you can see, some of the papers are of known authorship by one of Madison or Hamilton. We can use these as training data."
      ]
    },
    {
      "cell_type": "code",
      "execution_count": 8,
      "id": "4a8bcb45",
      "metadata": {
        "id": "4a8bcb45"
      },
      "outputs": [],
      "source": [
        "# Extract the papers by either of Madison and Hamilton\n",
        "training = list(filter(lambda ex: ex['authors'] in ['Madison', 'Hamilton'],\n",
        "                       dataset))"
      ]
    },
    {
      "cell_type": "code",
      "execution_count": 9,
      "id": "3b100e36",
      "metadata": {
        "colab": {
          "base_uri": "https://localhost:8080/"
        },
        "id": "3b100e36",
        "outputId": "442566ea-33aa-41d1-d2f0-6458de345ed1"
      },
      "outputs": [
        {
          "output_type": "stream",
          "name": "stdout",
          "text": [
            "Number of papers in the dataset: 66\n",
            "Some examples:\n",
            "[{'authors': 'Hamilton',\n",
            "  'counts': tensor([9., 6., 2., 0.]),\n",
            "  'number': '1',\n",
            "  'title': 'General Introduction'},\n",
            " {'authors': 'Hamilton',\n",
            "  'counts': tensor([2., 4., 7., 0.]),\n",
            "  'number': '6',\n",
            "  'title': 'Concerning Dangers from Dissensions Between the States'},\n",
            " {'authors': 'Hamilton',\n",
            "  'counts': tensor([13., 11.,  9.,  0.]),\n",
            "  'number': '7',\n",
            "  'title': 'The Same Subject Continued: Concerning Dangers from Dissensions '\n",
            "           'Between the States'}]\n"
          ]
        }
      ],
      "source": [
        "# View a sample of the training data\n",
        "print(f\"Number of papers in the dataset: {len(training)}\")\n",
        "print(\"Some examples:\")\n",
        "pprint(training[:3])"
      ]
    },
    {
      "cell_type": "markdown",
      "id": "83f7d650",
      "metadata": {
        "id": "83f7d650"
      },
      "source": [
        "Others of the papers are of ambiguous authorship. They are shown as having `'Hamilton or Madison'` as author. These will be the elements that we want to test our models on."
      ]
    },
    {
      "cell_type": "code",
      "execution_count": 10,
      "id": "daeb7579",
      "metadata": {
        "id": "daeb7579"
      },
      "outputs": [],
      "source": [
        "# Extract the papers of unknown authorship\n",
        "testing = list(filter(lambda ex: ex['authors'] == 'Hamilton or Madison',\n",
        "                      dataset))"
      ]
    },
    {
      "cell_type": "code",
      "execution_count": 11,
      "id": "4da25c84",
      "metadata": {
        "colab": {
          "base_uri": "https://localhost:8080/"
        },
        "id": "4da25c84",
        "outputId": "098d24e4-48e2-4284-cbdf-f9a7950caba0"
      },
      "outputs": [
        {
          "output_type": "stream",
          "name": "stdout",
          "text": [
            "Number of papers in the dataset: 11\n",
            "Some sample elements:\n",
            "[{'authors': 'Hamilton or Madison',\n",
            "  'counts': tensor([16.,  0.,  2.,  1.]),\n",
            "  'number': '49',\n",
            "  'title': 'Method of Guarding Against the Encroachments of Any One Department '\n",
            "           'of Government by Appealing to the People Through a Convention'},\n",
            " {'authors': 'Hamilton or Madison',\n",
            "  'counts': tensor([11.,  1.,  0.,  0.]),\n",
            "  'number': '50',\n",
            "  'title': 'Periodic Appeals to the People Considered'},\n",
            " {'authors': 'Hamilton or Madison',\n",
            "  'counts': tensor([21.,  0.,  2.,  2.]),\n",
            "  'number': '51',\n",
            "  'title': 'The Structure of the Government Must Furnish the Proper Checks and '\n",
            "           'Balances Between the Different Departments'}]\n"
          ]
        }
      ],
      "source": [
        "# View a sample of the data\n",
        "print(f\"Number of papers in the dataset: {len(testing)}\")\n",
        "print(\"Some sample elements:\")\n",
        "pprint(testing[:3])"
      ]
    },
    {
      "cell_type": "markdown",
      "id": "61514e9f",
      "metadata": {
        "id": "61514e9f"
      },
      "source": [
        "# Models for text classification"
      ]
    },
    {
      "cell_type": "markdown",
      "id": "1012df9b",
      "metadata": {
        "deletable": false,
        "editable": false,
        "id": "1012df9b"
      },
      "source": [
        "We can think of a _model_ for a text classification problem as a function taking a test example and returning a class label for the test example. Generating the model will rely on a corpus of training data.\n",
        "\n",
        "With a model in hand, we can evaluate its _accuracy_ on a test corpus by computing the proportion of test examples that the model correctly classifies, that is, the model assigns to a test example the author that the test example specifies. Define a function `accuracy` that takes a test corpus (like `testing`) and a model (which is a function, remember), and returns the accuracy of the model on that corpus. \n",
        "\n",
        "<!--\n",
        "BEGIN QUESTION\n",
        "name: accuracy\n",
        "-->"
      ]
    },
    {
      "cell_type": "code",
      "execution_count": 12,
      "id": "c54fae0b",
      "metadata": {
        "id": "c54fae0b"
      },
      "outputs": [],
      "source": [
        "#TODO -- Define the `accuracy` function.\n",
        "def accuracy(test_corpus, model):\n",
        "    \"\"\"Computes the accuracy of a model on a corpus.\n",
        "    Arguments:\n",
        "      `test_corpus`: a list of test examples, such as `testing`\n",
        "      `model`: a function whose input is an example from the corpus (such as \n",
        "              `testing[0]`, and whose output is the predicted author\n",
        "    Returns:\n",
        "      accuracy, a float number.\n",
        "    \"\"\"\n",
        "    TP = 0\n",
        "    for example in test_corpus:\n",
        "        TP += (model(example) == example['authors'])\n",
        "    return TP/len(test_corpus)\n"
      ]
    },
    {
      "cell_type": "markdown",
      "id": "46fd0462",
      "metadata": {
        "deletable": false,
        "editable": false,
        "id": "46fd0462"
      },
      "source": [
        "## Majority class classification\n",
        "\n",
        "An especially simple classification model labels each test example with whichever label happens to occur most frequently in the training data. It completely ignores the test example that it classifies!\n",
        "\n",
        "By examination of the table provided above, what is the majority class label for the training dataset?\n",
        "\n",
        "<!--\n",
        "BEGIN QUESTION\n",
        "name: maj_class_label\n",
        "-->"
      ]
    },
    {
      "cell_type": "code",
      "execution_count": 13,
      "id": "8dc40a72",
      "metadata": {
        "id": "8dc40a72"
      },
      "outputs": [],
      "source": [
        "#TODO -- Set this variable to the majority class label for the training set.\n",
        "traincnt= collections.Counter(map(lambda ex: ex['authors'], training))\n",
        "maj_class_label = max(traincnt, key=traincnt.get)\n"
      ]
    },
    {
      "cell_type": "code",
      "execution_count": 14,
      "id": "a3d8b833",
      "metadata": {
        "deletable": false,
        "editable": false,
        "colab": {
          "base_uri": "https://localhost:8080/",
          "height": 46
        },
        "id": "a3d8b833",
        "outputId": "f9630187-82a3-42fa-ce0c-fda561ecaf0e"
      },
      "outputs": [
        {
          "output_type": "execute_result",
          "data": {
            "text/plain": [
              "\n",
              "    All tests passed!\n",
              "    "
            ],
            "text/html": [
              "\n",
              "    \n",
              "    \n",
              "        <p>All tests passed!</p>\n",
              "    \n",
              "    "
            ]
          },
          "metadata": {},
          "execution_count": 14
        }
      ],
      "source": [
        "grader.check(\"maj_class_label\")"
      ]
    },
    {
      "cell_type": "markdown",
      "id": "d72736af",
      "metadata": {
        "deletable": false,
        "editable": false,
        "id": "d72736af"
      },
      "source": [
        "Rather than determining the majority class by inspection, it's better to have a function to compute it for us. Define a function `majority_class_label` that returns the majority class label for a training set.\n",
        "<!--\n",
        "BEGIN QUESTION\n",
        "name: majority_class_label\n",
        "-->"
      ]
    },
    {
      "cell_type": "code",
      "execution_count": 15,
      "id": "5fc1d17c",
      "metadata": {
        "id": "5fc1d17c"
      },
      "outputs": [],
      "source": [
        "#TODO -- Define the `majority_class_label` function.\n",
        "def majority_class_label(training):\n",
        "    \"\"\"Find the majority class label for a training set.\n",
        "    Arguments:\n",
        "      `training`: a list of training examples, such as `training`\n",
        "    Returns:\n",
        "      the majority class label, a string.\n",
        "    \"\"\"\n",
        "    traincnt= collections.Counter(map(lambda ex: ex['authors'], training))\n",
        "    return max(traincnt, key=traincnt.get)"
      ]
    },
    {
      "cell_type": "code",
      "execution_count": 16,
      "id": "a2fc4e64",
      "metadata": {
        "deletable": false,
        "editable": false,
        "colab": {
          "base_uri": "https://localhost:8080/",
          "height": 46
        },
        "id": "a2fc4e64",
        "outputId": "dae98b5a-d22c-4a2d-a1ba-6b13aa6da8e7"
      },
      "outputs": [
        {
          "output_type": "execute_result",
          "data": {
            "text/plain": [
              "\n",
              "    All tests passed!\n",
              "    "
            ],
            "text/html": [
              "\n",
              "    \n",
              "    \n",
              "        <p>All tests passed!</p>\n",
              "    \n",
              "    "
            ]
          },
          "metadata": {},
          "execution_count": 16
        }
      ],
      "source": [
        "grader.check(\"majority_class_label\")"
      ]
    },
    {
      "cell_type": "markdown",
      "id": "61dfd202",
      "metadata": {
        "deletable": false,
        "editable": false,
        "id": "61dfd202"
      },
      "source": [
        "What proportions of the *training* examples do you think would be classified correctly by the majority class model?\n",
        "<!--\n",
        "BEGIN QUESTION\n",
        "name: maj_class_accuracy_guess\n",
        "-->"
      ]
    },
    {
      "cell_type": "code",
      "execution_count": 17,
      "id": "c3d9646e",
      "metadata": {
        "colab": {
          "base_uri": "https://localhost:8080/"
        },
        "id": "c3d9646e",
        "outputId": "45f397b8-8054-4620-e5db-7034bee61745"
      },
      "outputs": [
        {
          "output_type": "execute_result",
          "data": {
            "text/plain": [
              "0.7727272727272727"
            ]
          },
          "metadata": {},
          "execution_count": 17
        }
      ],
      "source": [
        "#TODO -- Define this variable to be what you think the \n",
        "#        accuracy of the majority class model would be\n",
        "#        on the training data.\n",
        "maj_class_accuracy_guess = traincnt[majority_class_label(training)]/len(training)\n",
        "maj_class_accuracy_guess"
      ]
    },
    {
      "cell_type": "code",
      "execution_count": 18,
      "id": "ac3f0d09",
      "metadata": {
        "deletable": false,
        "editable": false,
        "colab": {
          "base_uri": "https://localhost:8080/",
          "height": 46
        },
        "id": "ac3f0d09",
        "outputId": "6970eef3-ff1b-497e-aa68-ecaf24334aab"
      },
      "outputs": [
        {
          "output_type": "execute_result",
          "data": {
            "text/plain": [
              "\n",
              "    All tests passed!\n",
              "    "
            ],
            "text/html": [
              "\n",
              "    \n",
              "    \n",
              "        <p>All tests passed!</p>\n",
              "    \n",
              "    "
            ]
          },
          "metadata": {},
          "execution_count": 18
        }
      ],
      "source": [
        "grader.check(\"maj_class_accuracy_guess\")"
      ]
    },
    {
      "cell_type": "markdown",
      "id": "a3912b3e",
      "metadata": {
        "deletable": false,
        "editable": false,
        "id": "a3912b3e"
      },
      "source": [
        "Now define a function `majority_class` that takes a single argument (a test example) and returns the particular class label that is most frequent in the training data `training` (regardless of what the test example is).\n",
        "<!--\n",
        "BEGIN QUESTION\n",
        "name: majority_class\n",
        "-->"
      ]
    },
    {
      "cell_type": "code",
      "execution_count": 19,
      "id": "775a1f9b",
      "metadata": {
        "id": "775a1f9b"
      },
      "outputs": [],
      "source": [
        "#TODO - Define the `majority_class` model.\n",
        "def majority_class(example):\n",
        "    \"\"\"Defines a majority class model.\n",
        "    Arguments:\n",
        "      `example`: an example, such as `testing[0]`\n",
        "    Returns:\n",
        "      the majority class in the *training* set, a string.\n",
        "    \"\"\"\n",
        "    return majority_class_label(training)"
      ]
    },
    {
      "cell_type": "code",
      "execution_count": 20,
      "id": "3fdabf43",
      "metadata": {
        "deletable": false,
        "editable": false,
        "colab": {
          "base_uri": "https://localhost:8080/",
          "height": 46
        },
        "id": "3fdabf43",
        "outputId": "9f3156d5-83d3-4dbe-f42e-4d8851c1c402"
      },
      "outputs": [
        {
          "output_type": "execute_result",
          "data": {
            "text/plain": [
              "\n",
              "    All tests passed!\n",
              "    "
            ],
            "text/html": [
              "\n",
              "    \n",
              "    \n",
              "        <p>All tests passed!</p>\n",
              "    \n",
              "    "
            ]
          },
          "metadata": {},
          "execution_count": 20
        }
      ],
      "source": [
        "grader.check(\"majority_class\")"
      ]
    },
    {
      "cell_type": "markdown",
      "id": "15f69a83",
      "metadata": {
        "deletable": false,
        "editable": false,
        "id": "15f69a83"
      },
      "source": [
        "Now we can see how well this majority class model works by trying it out on some examples. Use the `accuracy` function to determine the model's accuracy when applied to the task of labeling the _training_ data.\n",
        "<!--\n",
        "BEGIN QUESTION\n",
        "name: accuracy_maj_class_train\n",
        "-->"
      ]
    },
    {
      "cell_type": "code",
      "execution_count": 21,
      "id": "2207d594",
      "metadata": {
        "id": "2207d594"
      },
      "outputs": [],
      "source": [
        "#TODO -- Define `maj_class_on_train` to be the accuracy of the majority \n",
        "#        class model on the training data.\n",
        "accuracy_maj_class_train = maj_class_accuracy_guess"
      ]
    },
    {
      "cell_type": "code",
      "execution_count": 22,
      "id": "fe0b31a9",
      "metadata": {
        "deletable": false,
        "editable": false,
        "colab": {
          "base_uri": "https://localhost:8080/",
          "height": 46
        },
        "id": "fe0b31a9",
        "outputId": "18aa8047-4bcd-4179-9160-0473afde070f"
      },
      "outputs": [
        {
          "output_type": "execute_result",
          "data": {
            "text/plain": [
              "\n",
              "    All tests passed!\n",
              "    "
            ],
            "text/html": [
              "\n",
              "    \n",
              "    \n",
              "        <p>All tests passed!</p>\n",
              "    \n",
              "    "
            ]
          },
          "metadata": {},
          "execution_count": 22
        }
      ],
      "source": [
        "grader.check(\"accuracy_maj_class_train\")"
      ]
    },
    {
      "cell_type": "code",
      "execution_count": 23,
      "id": "eca39753",
      "metadata": {
        "colab": {
          "base_uri": "https://localhost:8080/"
        },
        "id": "eca39753",
        "outputId": "4b79b21d-76b1-406a-af5d-4dd4ed5d7471"
      },
      "outputs": [
        {
          "output_type": "stream",
          "name": "stdout",
          "text": [
            "Accuracy of the majority class model on training data: 0.773\n"
          ]
        }
      ],
      "source": [
        "print(f\"Accuracy of the majority class model on training data: \"\n",
        "      f\"{accuracy_maj_class_train:.3f}\")"
      ]
    },
    {
      "cell_type": "markdown",
      "id": "b415be5c",
      "metadata": {
        "id": "b415be5c"
      },
      "source": [
        "Was your guess from above right?"
      ]
    },
    {
      "cell_type": "markdown",
      "id": "bde79584",
      "metadata": {
        "id": "bde79584"
      },
      "source": [
        "## Nearest neighbor classification\n",
        "\n",
        "Recall that nearest neighbor classification classifies a test example with the label of the nearest training example. To calculate nearest neighbors, we need a distance metric between the representations of the documents. We will use two such metrics, familiar from the previous lab, for Euclidean distance and cosine distance.\n",
        "\n",
        "> Note: In order to allow full use of `torch` operations, these functions assume that the vectors are provided as tensors of type `float`. (That's why we tensorified the `counts` data as we loaded the dataset at the top  of this notebook.) When you call them, you'll want to make sure of this. They also return singleton tensors, not floats."
      ]
    },
    {
      "cell_type": "markdown",
      "id": "c24b07f3",
      "metadata": {
        "deletable": false,
        "editable": false,
        "id": "c24b07f3"
      },
      "source": [
        "Just like in lab1-1, define a function `euclidean_distance` to compute the Euclidean distance between two vectors, and function `cosine_distance` to compute the cosine similarity between two vectors.\n",
        "<!--\n",
        "BEGIN QUESTION\n",
        "name: euclidean_distance\n",
        "-->"
      ]
    },
    {
      "cell_type": "code",
      "execution_count": 24,
      "id": "179e45c2",
      "metadata": {
        "id": "179e45c2"
      },
      "outputs": [],
      "source": [
        "#TODO\n",
        "def euclidean_distance(v1, v2):\n",
        "    euc = 0\n",
        "    return torch.sum((v1-v2)**2)**0.5"
      ]
    },
    {
      "cell_type": "code",
      "execution_count": 25,
      "id": "f339b1fe",
      "metadata": {
        "deletable": false,
        "editable": false,
        "colab": {
          "base_uri": "https://localhost:8080/",
          "height": 46
        },
        "id": "f339b1fe",
        "outputId": "e321e612-5593-4057-c1bd-c71a2b3a50f2"
      },
      "outputs": [
        {
          "output_type": "execute_result",
          "data": {
            "text/plain": [
              "\n",
              "    All tests passed!\n",
              "    "
            ],
            "text/html": [
              "\n",
              "    \n",
              "    \n",
              "        <p>All tests passed!</p>\n",
              "    \n",
              "    "
            ]
          },
          "metadata": {},
          "execution_count": 25
        }
      ],
      "source": [
        "grader.check(\"euclidean_distance\")"
      ]
    },
    {
      "cell_type": "code",
      "execution_count": 26,
      "id": "60f3ede3",
      "metadata": {
        "id": "60f3ede3"
      },
      "outputs": [],
      "source": [
        "def safe_acos(x):\n",
        "    \"\"\"Returns the arc cosine of `x`. Unlike `math.acos`, it \n",
        "       does not raise an exception for values of `x` out of range, \n",
        "       but rather clips `x` at -1..1, thereby avoiding math domain\n",
        "       errors in the case of numerical errors.\"\"\"\n",
        "    return math.acos(math.copysign(min(1.0, abs(x)), x))"
      ]
    },
    {
      "cell_type": "code",
      "execution_count": 27,
      "id": "7dc600e0",
      "metadata": {
        "id": "7dc600e0"
      },
      "outputs": [],
      "source": [
        "#TODO\n",
        "def cosine_distance(v1, v2):\n",
        "    \"\"\"Returns the cosine distance between two vectors\"\"\"\n",
        "    cos = torch.dot(v1,v2)/(torch.norm(v1)*torch.norm(v2))\n",
        "    return safe_acos(cos)/math.pi"
      ]
    },
    {
      "cell_type": "code",
      "execution_count": 28,
      "id": "11878c42",
      "metadata": {
        "deletable": false,
        "editable": false,
        "colab": {
          "base_uri": "https://localhost:8080/",
          "height": 46
        },
        "id": "11878c42",
        "outputId": "c8755039-e50c-46f0-ba46-5f020fefb733"
      },
      "outputs": [
        {
          "output_type": "execute_result",
          "data": {
            "text/plain": [
              "\n",
              "    All tests passed!\n",
              "    "
            ],
            "text/html": [
              "\n",
              "    \n",
              "    \n",
              "        <p>All tests passed!</p>\n",
              "    \n",
              "    "
            ]
          },
          "metadata": {},
          "execution_count": 28
        }
      ],
      "source": [
        "grader.check(\"cosine_distance\")"
      ]
    },
    {
      "cell_type": "markdown",
      "id": "594947f3",
      "metadata": {
        "id": "594947f3"
      },
      "source": [
        "Here's an example of the use of these distance metrics:"
      ]
    },
    {
      "cell_type": "code",
      "execution_count": 29,
      "id": "5f7f5853",
      "metadata": {
        "colab": {
          "base_uri": "https://localhost:8080/"
        },
        "id": "5f7f5853",
        "outputId": "228d8adb-ff49-45b4-f588-832031473654"
      },
      "outputs": [
        {
          "output_type": "stream",
          "name": "stdout",
          "text": [
            "Testing on two different tensors\n",
            "Euclidean: 2.8284270763397217\n",
            "Cosine   : 0.05724914679911019\n",
            "\n",
            "Testing on two identical tensors\n",
            "Euclidean: 0.0\n",
            "Cosine   : 0.0\n"
          ]
        }
      ],
      "source": [
        "t1 = torch.tensor([1., 2.])\n",
        "t2 = torch.tensor([3., 4.])\n",
        "\n",
        "print(\"Testing on two different tensors\\n\"\n",
        "      f\"Euclidean: {euclidean_distance(t1, t2)}\\n\"\n",
        "      f\"Cosine   : {cosine_distance(t1, t2)}\\n\\n\"\n",
        "      \"Testing on two identical tensors\\n\"\n",
        "      f\"Euclidean: {euclidean_distance(t1, t1)}\\n\"\n",
        "      f\"Cosine   : {cosine_distance(t1, t1)}\")"
      ]
    },
    {
      "cell_type": "markdown",
      "id": "46db36f6",
      "metadata": {
        "deletable": false,
        "editable": false,
        "id": "46db36f6"
      },
      "source": [
        "### Generating nearest neighbor models\n",
        "\n",
        "To specify a nearest neighbor model, we need both a training corpus (like `training`) and a distance metric (like `euclidean_distance` or `cosine_distance` defined just above). \n",
        "\n",
        "Define a function called `define_nearest_neighbor` that takes a training corpus and a distance metric and returns a model -- that is, a function that classifies a single test example. The model should return the class _label_ of that training example whose _counts vector_ is closest to that of the test example according to the metric.\n",
        "\n",
        "<!--\n",
        "BEGIN QUESTION\n",
        "name: define_nearest_neighbor\n",
        "-->"
      ]
    },
    {
      "cell_type": "code",
      "execution_count": 30,
      "id": "d8d4a833",
      "metadata": {
        "colab": {
          "base_uri": "https://localhost:8080/",
          "height": 35
        },
        "id": "d8d4a833",
        "outputId": "6929eb7a-6b8e-4377-81a0-710d8aa074b4"
      },
      "outputs": [
        {
          "output_type": "execute_result",
          "data": {
            "text/plain": [
              "'Hamilton'"
            ],
            "application/vnd.google.colaboratory.intrinsic+json": {
              "type": "string"
            }
          },
          "metadata": {},
          "execution_count": 30
        }
      ],
      "source": [
        "#TODO -- Define this function that generates nearest neighbor models.\n",
        "def define_nearest_neighbor(corpus, metric):\n",
        "    \"\"\"Generates a nearest neighbor model from a training corpus and a\n",
        "    distance metric.\n",
        "    Arguments:\n",
        "      `corpus`: a training corpus, such as `training`\n",
        "      `metric`: a metric function which takes two tensors as input and \n",
        "                returns their distance, such as `euclidean_distance`\n",
        "    Returns:\n",
        "      a model, which is a function that takes in a test example (such as \n",
        "      `testing[0]`) and returns the author of the nearest example in the \n",
        "      training set, where distances are measured on the counts vector \n",
        "      using `metric`.\n",
        "    \"\"\"\n",
        "    def res(test_example):\n",
        "      pred = (corpus[0])['authors']\n",
        "      min_dist = metric((corpus[0])['counts'],test_example['counts'])\n",
        "      for ex in corpus:\n",
        "        dist = metric(ex['counts'], test_example['counts'])\n",
        "        if dist<min_dist:\n",
        "          min_dist = dist\n",
        "          pred = ex['authors']\n",
        "      return pred\n",
        "\n",
        "    #def res(test_example):\n",
        "    #    dists = [(example['authors'], metric(test_example['counts'],example['counts'])) for example in corpus]\n",
        "    #    return min(dists, key=dists.get)\n",
        "    \n",
        "    return res\n",
        "tmp = define_nearest_neighbor(training, cosine_distance)\n",
        "tmp({'authors': 'Hamilton',\n",
        "  'counts': torch.tensor([9., 6., 2., 0.]),\n",
        "  'number': '1',\n",
        "  'title': 'General Introduction'})"
      ]
    },
    {
      "cell_type": "markdown",
      "id": "0cec7a3b",
      "metadata": {
        "id": "0cec7a3b"
      },
      "source": [
        "We can use the `define_nearest_neighbor` function to define two new models for nearest neighbor classification, one using Euclidean distance and one using cosine distance."
      ]
    },
    {
      "cell_type": "code",
      "execution_count": 31,
      "id": "ebb58d44",
      "metadata": {
        "id": "ebb58d44"
      },
      "outputs": [],
      "source": [
        "nearest_neighbor_euclidean_model = \\\n",
        "    define_nearest_neighbor(training, euclidean_distance)\n",
        "\n",
        "nearest_neighbor_cosine_model = \\\n",
        "    define_nearest_neighbor(training, cosine_distance)"
      ]
    },
    {
      "cell_type": "markdown",
      "id": "9ffff008",
      "metadata": {
        "id": "9ffff008"
      },
      "source": [
        "### Testing the nearest neighbor models on the training data"
      ]
    },
    {
      "cell_type": "markdown",
      "id": "af0e9dfd",
      "metadata": {
        "deletable": false,
        "editable": false,
        "id": "af0e9dfd"
      },
      "source": [
        "How accurate are these models when used to label the training data (as we did for the majority class model above)? Use the `accuracy` function above to calculate the accuracy of `nearest_neighbor_euclidean_model` in labeling the _training_ data (not the test data), and similarly for `nearest_neighbor_cosine_model`.\n",
        "<!--\n",
        "BEGIN QUESTION\n",
        "name: accuracy_train\n",
        "-->"
      ]
    },
    {
      "cell_type": "code",
      "execution_count": 32,
      "id": "b960a8cf",
      "metadata": {
        "id": "b960a8cf"
      },
      "outputs": [],
      "source": [
        "#TODO - Define the variable to be the calculated accuracy.\n",
        "euc_count = 0\n",
        "cos_count = 0\n",
        "for ex in training:\n",
        "  euc_count += (nearest_neighbor_euclidean_model(ex) == ex['authors'])\n",
        "  cos_count += (nearest_neighbor_cosine_model(ex) == ex['authors'])\n",
        "accuracy_nn_euclidean_train = euc_count/len(training)\n",
        "accuracy_nn_cosine_train = cos_count/len(training)"
      ]
    },
    {
      "cell_type": "code",
      "execution_count": 33,
      "id": "0c0147b5",
      "metadata": {
        "deletable": false,
        "editable": false,
        "colab": {
          "base_uri": "https://localhost:8080/",
          "height": 46
        },
        "id": "0c0147b5",
        "outputId": "981dc3fa-55e4-4f1d-8f80-9e05801a15be"
      },
      "outputs": [
        {
          "output_type": "execute_result",
          "data": {
            "text/plain": [
              "\n",
              "    All tests passed!\n",
              "    "
            ],
            "text/html": [
              "\n",
              "    \n",
              "    \n",
              "        <p>All tests passed!</p>\n",
              "    \n",
              "    "
            ]
          },
          "metadata": {},
          "execution_count": 33
        }
      ],
      "source": [
        "grader.check(\"accuracy_train\")"
      ]
    },
    {
      "cell_type": "code",
      "execution_count": 34,
      "id": "44b8b790",
      "metadata": {
        "colab": {
          "base_uri": "https://localhost:8080/"
        },
        "id": "44b8b790",
        "outputId": "ef3bd7de-0303-4469-a0df-10cb5202fcdd"
      },
      "outputs": [
        {
          "output_type": "stream",
          "name": "stdout",
          "text": [
            "Accuracy of the nearest neighbor euclidean model tested on training data: 1.000\n",
            "Accuracy of the nearest neighbor cosine model tested on training data: 1.000\n"
          ]
        }
      ],
      "source": [
        "print(f\"Accuracy of the nearest neighbor euclidean model tested on training data: \"\n",
        "      f\"{accuracy_nn_euclidean_train:.3f}\")\n",
        "print(f\"Accuracy of the nearest neighbor cosine model tested on training data: \"\n",
        "      f\"{accuracy_nn_cosine_train:.3f}\")"
      ]
    },
    {
      "cell_type": "markdown",
      "id": "fa7af28e",
      "metadata": {
        "deletable": false,
        "editable": false,
        "id": "fa7af28e"
      },
      "source": [
        "<!-- BEGIN QUESTION -->\n",
        "\n",
        "**Question:** Does the performance of these classifiers on the training data seem to you to be representative of how good a classifier each is? Why or why not?\n",
        "<!--\n",
        "BEGIN QUESTION\n",
        "name: open_response_1\n",
        "manual: true\n",
        "-->"
      ]
    },
    {
      "cell_type": "markdown",
      "id": "e41652a3",
      "metadata": {
        "id": "e41652a3"
      },
      "source": [
        "No, it does not. KNN classifier is \"memorizing\" the training dataset, and would have perfect fit for it when k=1, which is our case.\n",
        "It doesn't mean it would be the same for the test set (most probably it won't be generalized)."
      ]
    },
    {
      "cell_type": "markdown",
      "id": "144ec1fe",
      "metadata": {
        "deletable": false,
        "editable": false,
        "id": "144ec1fe"
      },
      "source": [
        "<!-- END QUESTION -->\n",
        "\n",
        "#### Testing the nearest neighbor models on the testing data\n",
        "\n",
        "To get a better sense of how the nearest neighbor models perform, let's try them out on the testing data that we have. (Recall that the testing data in `testing` were the ambiguously-authored Federalist papers, where the `authors` field was `'Hamilton or Madison'`.)\n",
        "\n",
        "We start by looking in detail at the predictions generated by the two nearest neighbor models. Print out a table that lists, for each `testing` example, the paper number and the authors predicted under the nearest neighbor Euclidean model and the nearest neighbor cosine model. It might look something like\n",
        "```\n",
        "49 Madison  Madison \n",
        "50 Hamilton Madison \n",
        "51 Madison  Madison\n",
        "...\n",
        "```\n",
        "\n",
        "<!--\n",
        "BEGIN QUESTION\n",
        "name: print_table\n",
        "-->"
      ]
    },
    {
      "cell_type": "code",
      "execution_count": 35,
      "id": "f0a491ea",
      "metadata": {
        "colab": {
          "base_uri": "https://localhost:8080/"
        },
        "id": "f0a491ea",
        "outputId": "e3ecbfd5-5c7b-4e7f-8a0a-6a51e6586b36"
      },
      "outputs": [
        {
          "output_type": "stream",
          "name": "stdout",
          "text": [
            "49 Madison Madison\n",
            "50 Hamilton Madison\n",
            "51 Madison Madison\n",
            "52 Madison Madison\n",
            "53 Madison Madison\n",
            "54 Madison Madison\n",
            "55 Madison Hamilton\n",
            "56 Madison Madison\n",
            "57 Madison Madison\n",
            "62 Madison Madison\n",
            "63 Madison Madison\n"
          ]
        }
      ],
      "source": [
        "#TODO - Print out the requested table.\n",
        "for ex in testing:\n",
        "  print(f\"{ex['number']} {nearest_neighbor_euclidean_model(ex)} {nearest_neighbor_cosine_model(ex)}\")"
      ]
    },
    {
      "cell_type": "markdown",
      "id": "270e61dc",
      "metadata": {
        "deletable": false,
        "editable": false,
        "id": "270e61dc"
      },
      "source": [
        "<!-- BEGIN QUESTION -->\n",
        "\n",
        "What do you notice about the two models?\n",
        "<!--\n",
        "BEGIN QUESTION\n",
        "name: open_response_2\n",
        "manual: true\n",
        "-->"
      ]
    },
    {
      "cell_type": "markdown",
      "id": "f7b0a9a5",
      "metadata": {
        "id": "f7b0a9a5"
      },
      "source": [
        "Answer: For most of the examples the two models agree on the predicted author."
      ]
    },
    {
      "cell_type": "markdown",
      "id": "899b1e6a",
      "metadata": {
        "deletable": false,
        "editable": false,
        "id": "899b1e6a"
      },
      "source": [
        "<!-- END QUESTION -->\n",
        "\n",
        "### Testing the nearest neighbor models on the testing data\n",
        "\n",
        "Now use the `accuracy` function to calculate the accuracy of the two nearest neighbor models as you did above, but this time calculating accuracy on the *testing* corpus rather than the training corpus. (Expect to find a surprising result. Read ahead for an explanation if you're confused.)\n",
        "<!--\n",
        "BEGIN QUESTION\n",
        "name: accuracy_test\n",
        "-->"
      ]
    },
    {
      "cell_type": "code",
      "execution_count": 36,
      "id": "b650bd53",
      "metadata": {
        "id": "b650bd53"
      },
      "outputs": [],
      "source": [
        "#TODO -- Define the variables to be, respectively, the calculated accuracy of the nearest \n",
        "#        neighbor Euclidean model and cosine model on the testing data.\n",
        "euc_count = 0\n",
        "cos_count = 0\n",
        "for ex in testing:\n",
        "  euc_count += (nearest_neighbor_euclidean_model(ex) == ex['authors'])\n",
        "  cos_count += (nearest_neighbor_cosine_model(ex) == ex['authors'])\n",
        "\n",
        "accuracy_nn_euclidean_test = euc_count/len(testing)\n",
        "accuracy_nn_cosine_test = cos_count/len(testing)"
      ]
    },
    {
      "cell_type": "code",
      "execution_count": 37,
      "id": "ef3c007a",
      "metadata": {
        "deletable": false,
        "editable": false,
        "colab": {
          "base_uri": "https://localhost:8080/",
          "height": 46
        },
        "id": "ef3c007a",
        "outputId": "a033a0fe-8254-40b8-a4dc-48ecbee64f6d"
      },
      "outputs": [
        {
          "output_type": "execute_result",
          "data": {
            "text/plain": [
              "\n",
              "    All tests passed!\n",
              "    "
            ],
            "text/html": [
              "\n",
              "    \n",
              "    \n",
              "        <p>All tests passed!</p>\n",
              "    \n",
              "    "
            ]
          },
          "metadata": {},
          "execution_count": 37
        }
      ],
      "source": [
        "grader.check(\"accuracy_test\")"
      ]
    },
    {
      "cell_type": "code",
      "execution_count": 38,
      "id": "58a8e9af",
      "metadata": {
        "colab": {
          "base_uri": "https://localhost:8080/"
        },
        "id": "58a8e9af",
        "outputId": "10366527-9797-4ddb-9d0b-f09293e73d95"
      },
      "outputs": [
        {
          "output_type": "stream",
          "name": "stdout",
          "text": [
            "Accuracy of the nearest neighbor euclidean model tested on testing data: 0.000\n",
            "Accuracy of the nearest neighbor cosine model tested on testing data: 0.000\n"
          ]
        }
      ],
      "source": [
        "print(f\"Accuracy of the nearest neighbor euclidean model tested on testing data: \"\n",
        "      f\"{accuracy_nn_euclidean_test:.3f}\")\n",
        "print(f\"Accuracy of the nearest neighbor cosine model tested on testing data: \"\n",
        "      f\"{accuracy_nn_cosine_test:.3f}\")"
      ]
    },
    {
      "cell_type": "markdown",
      "id": "477c2f2c",
      "metadata": {
        "deletable": false,
        "editable": false,
        "id": "477c2f2c"
      },
      "source": [
        "<!-- BEGIN QUESTION -->\n",
        "\n",
        "**Question:** Does the performance of these classifiers on the testing data seem to you to be representative of how good a classifier each is? Why or why not?\n",
        "<!--\n",
        "BEGIN QUESTION\n",
        "name: open_response_3\n",
        "manual: true\n",
        "-->"
      ]
    },
    {
      "cell_type": "markdown",
      "id": "05597cac",
      "metadata": {
        "id": "05597cac"
      },
      "source": [
        "Asnwer: No, we do not have the actuall labels, the real authors, and so we verify our prediction against our hypothesis (which is Madison or Hamilton) and so we cannot check our prediction."
      ]
    },
    {
      "cell_type": "markdown",
      "id": "65c33907",
      "metadata": {
        "deletable": false,
        "editable": false,
        "id": "65c33907"
      },
      "source": [
        "<!-- END QUESTION -->\n",
        "\n",
        "### The importance of gold labels\n",
        "\n",
        "In order to evaluate the accuracy of the nearest neighbor model – and any model – we need to have the correct labels for the testing corpus, the so-called _gold_ labels. What shall we use for gold labels? Mosteller and Wallace's much more extensive analysis concluded that all of the papers of ambiguous origin were penned by Madison, so we'll use that. We should use a version of the `testing` corpus with the gold labels. \n",
        "\n",
        "Write some code to generate a version of the testing corpus with the gold labels.\n",
        "\n",
        "> Hint: In defining `testing_gold`, you'll want to be careful not to change `testing`. Otherwise, some unit tests that use `testing` may fail. The `copy.deepcopy` function may be useful.\n",
        "\n",
        "<!--\n",
        "BEGIN QUESTION\n",
        "name: get_gold\n",
        "-->"
      ]
    },
    {
      "cell_type": "code",
      "execution_count": 39,
      "id": "da767141",
      "metadata": {
        "id": "da767141"
      },
      "outputs": [],
      "source": [
        "#TODO - Write code that defines `testing_gold`, which is the same\n",
        "# as `testing` except that it has the correct gold labels.\n",
        "# Note: be careful to not change `testing`.\n",
        "testing_gold = copy.deepcopy(testing)\n",
        "for ex in testing_gold:\n",
        "  ex['authors'] = 'Madison'"
      ]
    },
    {
      "cell_type": "code",
      "execution_count": 40,
      "id": "526f65c8",
      "metadata": {
        "deletable": false,
        "editable": false,
        "colab": {
          "base_uri": "https://localhost:8080/",
          "height": 46
        },
        "id": "526f65c8",
        "outputId": "345e1bbc-b8d2-497b-f7fd-a9129af160e1"
      },
      "outputs": [
        {
          "output_type": "execute_result",
          "data": {
            "text/plain": [
              "\n",
              "    All tests passed!\n",
              "    "
            ],
            "text/html": [
              "\n",
              "    \n",
              "    \n",
              "        <p>All tests passed!</p>\n",
              "    \n",
              "    "
            ]
          },
          "metadata": {},
          "execution_count": 40
        }
      ],
      "source": [
        "grader.check(\"get_gold\")"
      ]
    },
    {
      "cell_type": "markdown",
      "id": "1b52227a",
      "metadata": {
        "id": "1b52227a"
      },
      "source": [
        "Now we can rerun the accuracy calculations."
      ]
    },
    {
      "cell_type": "code",
      "execution_count": 41,
      "id": "ee2b9cf9",
      "metadata": {
        "id": "ee2b9cf9"
      },
      "outputs": [],
      "source": [
        "accuracy_nn_euclidean_test_with_gold = accuracy(testing_gold, nearest_neighbor_euclidean_model)\n",
        "accuracy_nn_cosine_test_with_gold = accuracy(testing_gold, nearest_neighbor_cosine_model)"
      ]
    },
    {
      "cell_type": "code",
      "execution_count": 42,
      "id": "19339cdf",
      "metadata": {
        "colab": {
          "base_uri": "https://localhost:8080/"
        },
        "id": "19339cdf",
        "outputId": "a6fe5653-ebd0-4f98-9094-710ade06ced5"
      },
      "outputs": [
        {
          "output_type": "stream",
          "name": "stdout",
          "text": [
            "Accuracy of the nearest neighbor euclidean model tested on testing data: 0.909\n",
            "Accuracy of the nearest neighbor cosine model tested on testing data: 0.909\n"
          ]
        }
      ],
      "source": [
        "print(f\"Accuracy of the nearest neighbor euclidean model tested on testing data: \"\n",
        "      f\"{accuracy_nn_euclidean_test_with_gold:.3f}\")\n",
        "print(f\"Accuracy of the nearest neighbor cosine model tested on testing data: \"\n",
        "      f\"{accuracy_nn_cosine_test_with_gold:.3f}\")"
      ]
    },
    {
      "cell_type": "markdown",
      "id": "d4d7893f",
      "metadata": {
        "id": "d4d7893f"
      },
      "source": [
        "Do these results make more sense?"
      ]
    },
    {
      "cell_type": "markdown",
      "id": "f276c31d",
      "metadata": {
        "deletable": false,
        "editable": false,
        "id": "f276c31d"
      },
      "source": [
        "<!-- BEGIN QUESTION -->\n",
        "\n",
        "# Lab debrief\n",
        "\n",
        "**Question:** We're interested in any thoughts you have about this lab so that we can improve this lab for later years, and to inform later labs for this year. Please list any issues that arose or comments you have to improve the lab. Useful things to comment on include the following: \n",
        "\n",
        "* Was the lab too long or too short?\n",
        "* Were the readings appropriate for the lab? \n",
        "* Was it clear (at least after you completed the lab) what the points of the exercises were? \n",
        "* Are there additions or changes you think would make the lab better?\n",
        "\n",
        "<!--\n",
        "BEGIN QUESTION\n",
        "name: open_response_debrief\n",
        "manual: true\n",
        "-->"
      ]
    },
    {
      "cell_type": "markdown",
      "id": "5759e228",
      "metadata": {
        "id": "5759e228"
      },
      "source": [
        "This lab was shorter than the first one, and suited better.\n",
        "At some points it isn't clear what's the meaning in the exercise. For instance, there were some methods it wasn't clear what are the types of the input (string? list? tensor?)\n",
        "We suggest to provide more clarity about input-output you expect in the future.\n",
        "Beside that, this lab was better than lab 1-1."
      ]
    },
    {
      "cell_type": "markdown",
      "id": "a207d01d",
      "metadata": {
        "id": "a207d01d"
      },
      "source": [
        "<!-- END QUESTION -->\n",
        "\n",
        "\n",
        "\n",
        "# End of lab 1-2"
      ]
    },
    {
      "cell_type": "markdown",
      "id": "d51a0373",
      "metadata": {
        "deletable": false,
        "editable": false,
        "id": "d51a0373"
      },
      "source": [
        "---\n",
        "\n",
        "To double-check your work, the cell below will rerun all of the autograder tests."
      ]
    },
    {
      "cell_type": "code",
      "execution_count": 43,
      "id": "4759e049",
      "metadata": {
        "deletable": false,
        "editable": false,
        "colab": {
          "base_uri": "https://localhost:8080/",
          "height": 536
        },
        "id": "4759e049",
        "outputId": "f68ca5d3-53ee-429a-a48d-d14483c4ef3e"
      },
      "outputs": [
        {
          "output_type": "execute_result",
          "data": {
            "text/plain": [
              "accuracy_maj_class_train:\n",
              "\n",
              "    All tests passed!\n",
              "    \n",
              "\n",
              "accuracy_test:\n",
              "\n",
              "    All tests passed!\n",
              "    \n",
              "\n",
              "accuracy_test_gold:\n",
              "\n",
              "    All tests passed!\n",
              "    \n",
              "\n",
              "accuracy_train:\n",
              "\n",
              "    All tests passed!\n",
              "    \n",
              "\n",
              "cosine_distance:\n",
              "\n",
              "    All tests passed!\n",
              "    \n",
              "\n",
              "euclidean_distance:\n",
              "\n",
              "    All tests passed!\n",
              "    \n",
              "\n",
              "get_gold:\n",
              "\n",
              "    All tests passed!\n",
              "    \n",
              "\n",
              "maj_class_accuracy_guess:\n",
              "\n",
              "    All tests passed!\n",
              "    \n",
              "\n",
              "maj_class_label:\n",
              "\n",
              "    All tests passed!\n",
              "    \n",
              "\n",
              "majority_class:\n",
              "\n",
              "    All tests passed!\n",
              "    \n",
              "\n",
              "majority_class_label:\n",
              "\n",
              "    All tests passed!\n",
              "    \n"
            ],
            "text/html": [
              "<p><strong>accuracy_maj_class_train:</strong></p>\n",
              "\n",
              "    \n",
              "    \n",
              "        <p>All tests passed!</p>\n",
              "    \n",
              "    \n",
              "\n",
              "<p><strong>accuracy_test:</strong></p>\n",
              "\n",
              "    \n",
              "    \n",
              "        <p>All tests passed!</p>\n",
              "    \n",
              "    \n",
              "\n",
              "<p><strong>accuracy_test_gold:</strong></p>\n",
              "\n",
              "    \n",
              "    \n",
              "        <p>All tests passed!</p>\n",
              "    \n",
              "    \n",
              "\n",
              "<p><strong>accuracy_train:</strong></p>\n",
              "\n",
              "    \n",
              "    \n",
              "        <p>All tests passed!</p>\n",
              "    \n",
              "    \n",
              "\n",
              "<p><strong>cosine_distance:</strong></p>\n",
              "\n",
              "    \n",
              "    \n",
              "        <p>All tests passed!</p>\n",
              "    \n",
              "    \n",
              "\n",
              "<p><strong>euclidean_distance:</strong></p>\n",
              "\n",
              "    \n",
              "    \n",
              "        <p>All tests passed!</p>\n",
              "    \n",
              "    \n",
              "\n",
              "<p><strong>get_gold:</strong></p>\n",
              "\n",
              "    \n",
              "    \n",
              "        <p>All tests passed!</p>\n",
              "    \n",
              "    \n",
              "\n",
              "<p><strong>maj_class_accuracy_guess:</strong></p>\n",
              "\n",
              "    \n",
              "    \n",
              "        <p>All tests passed!</p>\n",
              "    \n",
              "    \n",
              "\n",
              "<p><strong>maj_class_label:</strong></p>\n",
              "\n",
              "    \n",
              "    \n",
              "        <p>All tests passed!</p>\n",
              "    \n",
              "    \n",
              "\n",
              "<p><strong>majority_class:</strong></p>\n",
              "\n",
              "    \n",
              "    \n",
              "        <p>All tests passed!</p>\n",
              "    \n",
              "    \n",
              "\n",
              "<p><strong>majority_class_label:</strong></p>\n",
              "\n",
              "    \n",
              "    \n",
              "        <p>All tests passed!</p>\n",
              "    \n",
              "    \n",
              "\n"
            ]
          },
          "metadata": {},
          "execution_count": 43
        }
      ],
      "source": [
        "grader.check_all()"
      ]
    }
  ],
  "metadata": {
    "kernelspec": {
      "display_name": "Python 3 (ipykernel)",
      "language": "python",
      "name": "python3"
    },
    "language_info": {
      "codemirror_mode": {
        "name": "ipython",
        "version": 3
      },
      "file_extension": ".py",
      "mimetype": "text/x-python",
      "name": "python",
      "nbconvert_exporter": "python",
      "pygments_lexer": "ipython3",
      "version": "3.9.7"
    },
    "title": "CS236299 Lab 1-2: Text classification and evaluation methodology",
    "colab": {
      "name": "lab1-2.ipynb",
      "provenance": [],
      "collapsed_sections": []
    }
  },
  "nbformat": 4,
  "nbformat_minor": 5
}