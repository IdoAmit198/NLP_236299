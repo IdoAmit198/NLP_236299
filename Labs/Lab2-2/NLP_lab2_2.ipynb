{
  "cells": [
    {
      "cell_type": "code",
      "execution_count": null,
      "id": "cbd92f46",
      "metadata": {
        "deletable": false,
        "editable": false,
        "jupyter": {
          "outputs_hidden": true,
          "source_hidden": true
        },
        "id": "cbd92f46",
        "outputId": "ba5a792f-3e6f-4279-88de-aed2636d1ce4",
        "colab": {
          "base_uri": "https://localhost:8080/"
        }
      },
      "outputs": [
        {
          "output_type": "stream",
          "name": "stdout",
          "text": [
            "\n"
          ]
        }
      ],
      "source": [
        "# Please do not change this cell because some hidden tests might depend on it.\n",
        "import os\n",
        "\n",
        "# Otter grader does not handle ! commands well, so we define and use our\n",
        "# own function to execute shell commands.\n",
        "def shell(commands, warn=True):\n",
        "    \"\"\"Executes the string `commands` as a sequence of shell commands.\n",
        "     \n",
        "       Prints the result to stdout and returns the exit status. \n",
        "       Provides a printed warning on non-zero exit status unless `warn` \n",
        "       flag is unset.\n",
        "    \"\"\"\n",
        "    file = os.popen(commands)\n",
        "    print (file.read().rstrip('\\n'))\n",
        "    exit_status = file.close()\n",
        "    if warn and exit_status != None:\n",
        "        print(f\"Completed with errors. Exit status: {exit_status}\\n\")\n",
        "    return exit_status\n",
        "\n",
        "shell(\"\"\"\n",
        "ls requirements.txt >/dev/null 2>&1\n",
        "if [ ! $? = 0 ]; then\n",
        " rm -rf .tmp\n",
        " git clone https://github.com/cs236299-2022-spring/lab2-2.git .tmp\n",
        " mv .tmp/tests ./\n",
        " mv .tmp/requirements.txt ./\n",
        " rm -rf .tmp\n",
        "fi\n",
        "pip install -q -r requirements.txt\n",
        "\"\"\")"
      ]
    },
    {
      "cell_type": "code",
      "execution_count": null,
      "id": "deb23e6a",
      "metadata": {
        "deletable": false,
        "editable": false,
        "id": "deb23e6a"
      },
      "outputs": [],
      "source": [
        "# Initialize Otter\n",
        "import otter\n",
        "grader = otter.Notebook()"
      ]
    },
    {
      "cell_type": "raw",
      "id": "bc170dff",
      "metadata": {
        "jupyter": {
          "source_hidden": true
        },
        "id": "bc170dff"
      },
      "source": [
        "%%latex\n",
        "\\newcommand{\\vect}[1]{\\mathbf{#1}}\n",
        "\\newcommand{\\cnt}[1]{\\sharp(#1)}\n",
        "\\newcommand{\\argmax}[1]{\\underset{#1}{\\operatorname{argmax}}}\n",
        "\\newcommand{\\softmax}{\\operatorname{softmax}}\n",
        "\\newcommand{\\Prob}{\\Pr}\n",
        "\\newcommand{\\given}{\\,|\\,}"
      ]
    },
    {
      "cell_type": "markdown",
      "id": "b62a48d6",
      "metadata": {
        "jupyter": {
          "source_hidden": true
        },
        "tags": [
          "remove_for_latex"
        ],
        "id": "b62a48d6"
      },
      "source": [
        "$$\n",
        "\\renewcommand{\\vect}[1]{\\mathbf{#1}}\n",
        "\\renewcommand{\\cnt}[1]{\\sharp(#1)}\n",
        "\\renewcommand{\\argmax}[1]{\\underset{#1}{\\operatorname{argmax}}}\n",
        "\\renewcommand{\\softmax}{\\operatorname{softmax}}\n",
        "\\renewcommand{\\Prob}{\\Pr}\n",
        "\\renewcommand{\\given}{\\,|\\,}\n",
        "$$"
      ]
    },
    {
      "cell_type": "markdown",
      "id": "39c7846d",
      "metadata": {
        "tags": [
          "remove_for_latex"
        ],
        "id": "39c7846d"
      },
      "source": [
        "# Course  236299\n",
        "## Lab 2-2 – Recurrent neural networks"
      ]
    },
    {
      "cell_type": "markdown",
      "id": "8db96b81",
      "metadata": {
        "id": "8db96b81"
      },
      "source": [
        "You've read about recurrent neural networks, but there's nothing like carrying out the calculations yourself to really understand what's going on in these systems. In this lab, you'll carry out RNN calculations by hand or by programming – both forward (calculating outputs from inputs) and backward (computing gradients) – and use RNNs to simulate bigram language models."
      ]
    },
    {
      "cell_type": "markdown",
      "id": "dc65863d",
      "metadata": {
        "id": "dc65863d"
      },
      "source": [
        "New bits of Python used for the first time in the _solution set_ for this lab, and which you may therefore find useful:\n",
        "\n",
        "* [`torch.clamp`](https://pytorch.org/docs/stable/generated/torch.clamp.html#torch.clamp): restricts all elements of a tensor to a specific range\n",
        "* [`torch.diag`](https://pytorch.org/docs/stable/generated/torch.diag.html#torch-diag): creates a tensor with the given inputs as the diagonal\n",
        "* [`torch.eye`](https://pytorch.org/docs/stable/generated/torch.eye.html#torch-eye): creates an identity matrix\n",
        "* [`torch.mv`](https://pytorch.org/docs/stable/generated/torch.mv.html#torch-mv) (typically invoked via the `@` operator): matrix-vector multiplication\n",
        "* [`torch.prod`](https://pytorch.org/docs/stable/generated/torch.prod.html#torch-prod): takes the product of elements in a vector\n",
        "* [`torch.T`](https://pytorch.org/docs/stable/generated/torch.t.html#torch.t): returns the transpose of a tensor\n",
        "* [`torch.zeros`](https://pytorch.org/docs/stable/generated/torch.zeros.html#torch-zeros): creates a matrix of zeros"
      ]
    },
    {
      "cell_type": "markdown",
      "id": "8e6ece42",
      "metadata": {
        "id": "8e6ece42"
      },
      "source": [
        "# Preparation – Loading packages"
      ]
    },
    {
      "cell_type": "code",
      "execution_count": null,
      "id": "88f5fb75",
      "metadata": {
        "deletable": false,
        "editable": false,
        "id": "88f5fb75"
      },
      "outputs": [],
      "source": [
        "import sys\n",
        "import torch\n",
        "import wget\n",
        "import math\n",
        "\n",
        "# Script for visualizing computation graphs\n",
        "data_dir = \"data/\"\n",
        "sys.path.append(data_dir)\n",
        "os.makedirs(data_dir, exist_ok=True)\n",
        "\n",
        "wget.download('https://raw.githubusercontent.com/nlp-236299/data/master/scripts/makedot.py', out=data_dir)\n",
        "from makedot import make_dot"
      ]
    },
    {
      "cell_type": "markdown",
      "id": "98105c6c",
      "metadata": {
        "id": "98105c6c"
      },
      "source": [
        "# The forward step\n",
        "\n",
        "A recurrent neural network (RNN) works by calculating a sequence of hidden states $\\vect{h} = \\langle h_0, \\ldots, h_N \\rangle$ and outputs $\\vect{o} = \\langle o_1, \\ldots, o_N \\rangle$ from a sequence of inputs $\\vect{x} =  \\langle x_1, \\ldots, x_N \\rangle$. (We're notating the elements, like $x_t$, $h_t$, and $o_t$ as if they are scalars, but you should keep in mind that they might well be vectors themselves.)\n",
        "\n",
        "\n",
        "<img src=\"https://github.com/nlp-236299/data/raw/master/Resources/rnn-unfolded-figure.png\" width=350 align=right />\n",
        "Each hidden state $h_t$ and output $o_t$ of an RNN is calculated from an input $x_{t}$ and the previous hidden state $h_{t - 1}$ using a set of weights $\\vect{U}$, $\\vect{V}$, and $\\vect{W}$ according to the following equations. (We ignore all bias terms for simplicity, and due to the fact that in large neural networks they make no big difference.)\n",
        "\n",
        "\\begin{align}\n",
        "h_t &= \\sigma(\\vect{U}x_t + \\vect{V}h_{t - 1}) && \\mbox{hidden state} \\\\\n",
        "o_t &= \\vect{W}h_t && \\mbox{output score} \\\\\n",
        "\\hat{y}_t &= \\sigma(o_t) && \\mbox{predicted output distribution}\n",
        "\\end{align}\n",
        "\n",
        "The figure at right may be helpful in giving a picture of the RNN computation."
      ]
    },
    {
      "cell_type": "markdown",
      "id": "fec04def",
      "metadata": {
        "deletable": false,
        "editable": false,
        "id": "fec04def"
      },
      "source": [
        "<!-- BEGIN QUESTION -->\n",
        "\n",
        "<!--\n",
        "BEGIN QUESTION\n",
        "name: open_response_numbering\n",
        "manual: true\n",
        "-->\n",
        "\n",
        "**Question:** To check your understanding, notice that we've defined $\\vect{h}$ so that it has one more element than $\\vect{x}$ and $\\vect{o}$. Why is this?"
      ]
    },
    {
      "cell_type": "markdown",
      "id": "76d55596",
      "metadata": {
        "id": "76d55596"
      },
      "source": [
        "_Since every layer rely on h of previous layer, the first layer needs $h_0$, and so h has one more element._"
      ]
    },
    {
      "cell_type": "markdown",
      "id": "45628f98",
      "metadata": {
        "id": "45628f98"
      },
      "source": [
        "<!-- END QUESTION -->\n",
        "\n",
        "\n",
        "\n",
        "## Defining the RNN and its input\n",
        "\n",
        "To better understand this process, we set up an example of some RNN parameters and values for $x_1$ and $x_2$ in the next cell, so that you can carry out the RNN operations yourself to calculate $h_1$, $h_2$, $o_1$, and $o_2$. (In this example, the length of the input $N$ is 2, and the dimensionality of the $x$, $h$, and $o$ vectors are also 2. Thus, $\\vect{U}$, $\\vect{V}$, and $\\vect{W}$ are all $2\\times 2$ matrices.)"
      ]
    },
    {
      "cell_type": "code",
      "execution_count": null,
      "id": "a31c54b2",
      "metadata": {
        "id": "a31c54b2"
      },
      "outputs": [],
      "source": [
        "# RNN parameters\n",
        "U = torch.Tensor([ [-0.3,  0.6],\n",
        "                   [ 0.2,  0.1] ])\n",
        "V = torch.Tensor([ [ 0.4,  0.4],\n",
        "                   [ 0.9, -0.7] ])\n",
        "W = torch.Tensor([ [ 0.2,  0.1],\n",
        "                   [-0.2,  0.5] ])\n",
        "\n",
        "# inputs\n",
        "x1 = torch.Tensor([0.0, 1.0])\n",
        "x2 = torch.Tensor([0.3, 0.4])\n",
        "\n",
        "# initial value for the hidden state, a zero vector\n",
        "h0 = torch.Tensor([0, 0])\n",
        "\n",
        "# Set which nodes to visualize for later\n",
        "visualized_nodes = [U, V, W, x1, x2, h0]\n",
        "for p in visualized_nodes:\n",
        "    p.requires_grad = True"
      ]
    },
    {
      "cell_type": "markdown",
      "id": "24c2eee5",
      "metadata": {
        "deletable": false,
        "editable": false,
        "id": "24c2eee5"
      },
      "source": [
        "## Carrying out the forward step\n",
        "\n",
        "Given these definitions, calculate values for $h_1$, $h_2$, $o_1$, and $o_2$ using `torch` operations.\n",
        "\n",
        "You may assume for this problem that the nonlinearity $\\sigma$ used in calculating $h_t$ is a Rectified Linear Unit (ReLU), defined by \n",
        "\n",
        "$$\\operatorname{ReLU}(x) = \\max(0, x)$$ \n",
        "\n",
        "> ReLU can be implemented as `torch.clamp(x, min=0)`\n",
        "\n",
        "<!--\n",
        "BEGIN QUESTION\n",
        "name: forward\n",
        "-->"
      ]
    },
    {
      "cell_type": "code",
      "execution_count": null,
      "id": "e862db32",
      "metadata": {
        "id": "e862db32"
      },
      "outputs": [],
      "source": [
        "# TODO: calculate h1, h2, o1, and o2 using torch operations\n",
        "h1 = torch.clamp(U@x1+V@h0, min=0)\n",
        "o1 = W@h1\n",
        "h2 = torch.clamp(U@x2+V@h1, min=0)\n",
        "o2 = W@h2"
      ]
    },
    {
      "cell_type": "code",
      "execution_count": null,
      "id": "225f5c9d",
      "metadata": {
        "deletable": false,
        "editable": false,
        "id": "225f5c9d",
        "outputId": "a45784ff-0faa-4ac1-da1e-25a29e2658f1",
        "colab": {
          "base_uri": "https://localhost:8080/",
          "height": 46
        }
      },
      "outputs": [
        {
          "output_type": "execute_result",
          "data": {
            "text/plain": [
              "\n",
              "    All tests passed!\n",
              "    "
            ],
            "text/html": [
              "\n",
              "    \n",
              "    \n",
              "        <p>All tests passed!</p>\n",
              "    \n",
              "    "
            ]
          },
          "metadata": {},
          "execution_count": 30
        }
      ],
      "source": [
        "grader.check(\"forward\")"
      ]
    },
    {
      "cell_type": "markdown",
      "id": "dc849848",
      "metadata": {
        "id": "dc849848"
      },
      "source": [
        "We print out the results for manual verification"
      ]
    },
    {
      "cell_type": "code",
      "execution_count": null,
      "id": "07cc7b1d",
      "metadata": {
        "id": "07cc7b1d",
        "outputId": "9ebc09e1-5f5b-45bf-a59b-ce3ca7a10bca",
        "colab": {
          "base_uri": "https://localhost:8080/"
        }
      },
      "outputs": [
        {
          "output_type": "stream",
          "name": "stdout",
          "text": [
            "o1:\ttensor([ 0.1300, -0.0700], grad_fn=<MvBackward0>) \n",
            "o2:\ttensor([0.1430, 0.1990], grad_fn=<MvBackward0>)\n"
          ]
        }
      ],
      "source": [
        "print (f\"o1:\\t{o1} \\n\"\n",
        "       f\"o2:\\t{o2}\")"
      ]
    },
    {
      "cell_type": "markdown",
      "id": "692cfb25",
      "metadata": {
        "id": "692cfb25"
      },
      "source": [
        "## Visualizing the computation graph\n",
        "\n",
        "Now, we can visualize the computation graph, that is, the graph of how $o_1$ and $o_2$ are computed from other variables and parameters. \n",
        "\n",
        "> Note that to make the below code work, you need to install `graphviz`:\n",
        ">\n",
        "> * MacOS: `brew install graphviz`\n",
        "> * Deepnote: already installed\n",
        "> * Google Colab: already installed\n",
        "> * Ubuntu: `sudo apt-get install graphviz`\n",
        ">\n",
        "> On Deepnote, the below code might not show anything, but you can check the generated PDF in `computation_graph.pdf`."
      ]
    },
    {
      "cell_type": "code",
      "execution_count": null,
      "id": "d1426704",
      "metadata": {
        "id": "d1426704",
        "outputId": "428b29fa-8bca-42d6-db4b-019b3665cae2",
        "colab": {
          "base_uri": "https://localhost:8080/",
          "height": 661
        }
      },
      "outputs": [
        {
          "output_type": "execute_result",
          "data": {
            "text/plain": [
              "<graphviz.dot.Digraph at 0x7fbaad91b690>"
            ],
            "image/svg+xml": "<?xml version=\"1.0\" encoding=\"UTF-8\" standalone=\"no\"?>\n<!DOCTYPE svg PUBLIC \"-//W3C//DTD SVG 1.1//EN\"\n \"http://www.w3.org/Graphics/SVG/1.1/DTD/svg11.dtd\">\n<!-- Generated by graphviz version 2.40.1 (20161225.0304)\n -->\n<!-- Title: %3 Pages: 1 -->\n<svg width=\"350pt\" height=\"480pt\"\n viewBox=\"0.00 0.00 350.00 480.00\" xmlns=\"http://www.w3.org/2000/svg\" xmlns:xlink=\"http://www.w3.org/1999/xlink\">\n<g id=\"graph0\" class=\"graph\" transform=\"scale(1 1) rotate(0) translate(4 476)\">\n<title>%3</title>\n<polygon fill=\"#ffffff\" stroke=\"transparent\" points=\"-4,4 -4,-476 346,-476 346,4 -4,4\"/>\n<!-- 140439752652240 -->\n<g id=\"node1\" class=\"node\">\n<title>140439752652240</title>\n<polygon fill=\"#caff70\" stroke=\"#000000\" points=\"132,-231 78,-231 78,-197 132,-197 132,-231\"/>\n<text text-anchor=\"middle\" x=\"105\" y=\"-217.4\" font-family=\"Times,serif\" font-size=\"12.00\" fill=\"#000000\">Mul</text>\n<text text-anchor=\"middle\" x=\"105\" y=\"-204.4\" font-family=\"Times,serif\" font-size=\"12.00\" fill=\"#000000\">o1</text>\n</g>\n<!-- 140439752652688 -->\n<g id=\"node2\" class=\"node\">\n<title>140439752652688</title>\n<polygon fill=\"#add8e6\" stroke=\"#000000\" points=\"104,-294.5 50,-294.5 50,-273.5 104,-273.5 104,-294.5\"/>\n<text text-anchor=\"middle\" x=\"77\" y=\"-280.9\" font-family=\"Times,serif\" font-size=\"12.00\" fill=\"#000000\">W</text>\n</g>\n<!-- 140439752652688&#45;&gt;140439752652240 -->\n<g id=\"edge1\" class=\"edge\">\n<title>140439752652688&#45;&gt;140439752652240</title>\n<path fill=\"none\" stroke=\"#000000\" d=\"M81.2526,-273.3685C84.7314,-264.6716 89.8042,-251.9895 94.369,-240.5775\"/>\n<polygon fill=\"#000000\" stroke=\"#000000\" points=\"97.7326,-241.5925 98.1969,-231.0079 91.2332,-238.9928 97.7326,-241.5925\"/>\n</g>\n<!-- 140439752652368 -->\n<g id=\"node11\" class=\"node\">\n<title>140439752652368</title>\n<polygon fill=\"#caff70\" stroke=\"#000000\" points=\"132,-34 78,-34 78,0 132,0 132,-34\"/>\n<text text-anchor=\"middle\" x=\"105\" y=\"-20.4\" font-family=\"Times,serif\" font-size=\"12.00\" fill=\"#000000\">Mul</text>\n<text text-anchor=\"middle\" x=\"105\" y=\"-7.4\" font-family=\"Times,serif\" font-size=\"12.00\" fill=\"#000000\">o2</text>\n</g>\n<!-- 140439752652688&#45;&gt;140439752652368 -->\n<g id=\"edge10\" class=\"edge\">\n<title>140439752652688&#45;&gt;140439752652368</title>\n<path fill=\"none\" stroke=\"#000000\" d=\"M74.9388,-273.4941C72.9607,-262.8386 70.1142,-245.8472 69,-231 63.8905,-162.9154 84.056,-83.9834 96.2722,-43.6814\"/>\n<polygon fill=\"#000000\" stroke=\"#000000\" points=\"99.6345,-44.6557 99.2598,-34.0675 92.9498,-42.5783 99.6345,-44.6557\"/>\n</g>\n<!-- 140439752652176 -->\n<g id=\"node3\" class=\"node\">\n<title>140439752652176</title>\n<polygon fill=\"#add8e6\" stroke=\"#000000\" points=\"242,-301 188,-301 188,-267 242,-267 242,-301\"/>\n<text text-anchor=\"middle\" x=\"215\" y=\"-287.4\" font-family=\"Times,serif\" font-size=\"12.00\" fill=\"#000000\">Clamp1</text>\n<text text-anchor=\"middle\" x=\"215\" y=\"-274.4\" font-family=\"Times,serif\" font-size=\"12.00\" fill=\"#000000\">h1</text>\n</g>\n<!-- 140439752652176&#45;&gt;140439752652240 -->\n<g id=\"edge2\" class=\"edge\">\n<title>140439752652176&#45;&gt;140439752652240</title>\n<path fill=\"none\" stroke=\"#000000\" d=\"M188.091,-266.8761C173.8416,-257.8083 156.1537,-246.5523 140.7644,-236.7592\"/>\n<polygon fill=\"#000000\" stroke=\"#000000\" points=\"142.3282,-233.6057 132.0125,-231.1898 138.57,-239.5114 142.3282,-233.6057\"/>\n</g>\n<!-- 140439753660176 -->\n<g id=\"node16\" class=\"node\">\n<title>140439753660176</title>\n<polygon fill=\"#d3d3d3\" stroke=\"#000000\" points=\"242,-224.5 188,-224.5 188,-203.5 242,-203.5 242,-224.5\"/>\n<text text-anchor=\"middle\" x=\"215\" y=\"-210.9\" font-family=\"Times,serif\" font-size=\"12.00\" fill=\"#000000\">Mul</text>\n</g>\n<!-- 140439752652176&#45;&gt;140439753660176 -->\n<g id=\"edge18\" class=\"edge\">\n<title>140439752652176&#45;&gt;140439753660176</title>\n<path fill=\"none\" stroke=\"#000000\" d=\"M215,-266.6966C215,-257.0634 215,-245.003 215,-234.8518\"/>\n<polygon fill=\"#000000\" stroke=\"#000000\" points=\"218.5001,-234.7912 215,-224.7913 211.5001,-234.7913 218.5001,-234.7912\"/>\n</g>\n<!-- 140439752652944 -->\n<g id=\"node4\" class=\"node\">\n<title>140439752652944</title>\n<polygon fill=\"#d3d3d3\" stroke=\"#000000\" points=\"242,-358 188,-358 188,-337 242,-337 242,-358\"/>\n<text text-anchor=\"middle\" x=\"215\" y=\"-344.4\" font-family=\"Times,serif\" font-size=\"12.00\" fill=\"#000000\">Add</text>\n</g>\n<!-- 140439752652944&#45;&gt;140439752652176 -->\n<g id=\"edge3\" class=\"edge\">\n<title>140439752652944&#45;&gt;140439752652176</title>\n<path fill=\"none\" stroke=\"#000000\" d=\"M215,-336.7281C215,-329.7087 215,-320.2132 215,-311.2141\"/>\n<polygon fill=\"#000000\" stroke=\"#000000\" points=\"218.5001,-311.0559 215,-301.056 211.5001,-311.056 218.5001,-311.0559\"/>\n</g>\n<!-- 140439752653008 -->\n<g id=\"node5\" class=\"node\">\n<title>140439752653008</title>\n<polygon fill=\"#d3d3d3\" stroke=\"#000000\" points=\"198,-415 144,-415 144,-394 198,-394 198,-415\"/>\n<text text-anchor=\"middle\" x=\"171\" y=\"-401.4\" font-family=\"Times,serif\" font-size=\"12.00\" fill=\"#000000\">Mul</text>\n</g>\n<!-- 140439752653008&#45;&gt;140439752652944 -->\n<g id=\"edge4\" class=\"edge\">\n<title>140439752653008&#45;&gt;140439752652944</title>\n<path fill=\"none\" stroke=\"#000000\" d=\"M179.2761,-393.7787C185.2374,-386.0561 193.4371,-375.4337 200.4774,-366.3134\"/>\n<polygon fill=\"#000000\" stroke=\"#000000\" points=\"203.4211,-368.2278 206.761,-358.1732 197.8799,-363.9504 203.4211,-368.2278\"/>\n</g>\n<!-- 140439752653264 -->\n<g id=\"node6\" class=\"node\">\n<title>140439752653264</title>\n<polygon fill=\"#add8e6\" stroke=\"#000000\" points=\"126,-472 72,-472 72,-451 126,-451 126,-472\"/>\n<text text-anchor=\"middle\" x=\"99\" y=\"-458.4\" font-family=\"Times,serif\" font-size=\"12.00\" fill=\"#000000\">U</text>\n</g>\n<!-- 140439752653264&#45;&gt;140439752653008 -->\n<g id=\"edge5\" class=\"edge\">\n<title>140439752653264&#45;&gt;140439752653008</title>\n<path fill=\"none\" stroke=\"#000000\" d=\"M112.5426,-450.7787C122.901,-442.5784 137.3893,-431.1085 149.3504,-421.6393\"/>\n<polygon fill=\"#000000\" stroke=\"#000000\" points=\"151.8501,-424.1244 157.5181,-415.1732 147.5051,-418.6361 151.8501,-424.1244\"/>\n</g>\n<!-- 140439753662416 -->\n<g id=\"node14\" class=\"node\">\n<title>140439753662416</title>\n<polygon fill=\"#d3d3d3\" stroke=\"#000000\" points=\"126,-415 72,-415 72,-394 126,-394 126,-415\"/>\n<text text-anchor=\"middle\" x=\"99\" y=\"-401.4\" font-family=\"Times,serif\" font-size=\"12.00\" fill=\"#000000\">Mul</text>\n</g>\n<!-- 140439752653264&#45;&gt;140439753662416 -->\n<g id=\"edge14\" class=\"edge\">\n<title>140439752653264&#45;&gt;140439753662416</title>\n<path fill=\"none\" stroke=\"#000000\" d=\"M99,-450.7787C99,-443.6134 99,-433.9517 99,-425.3097\"/>\n<polygon fill=\"#000000\" stroke=\"#000000\" points=\"102.5001,-425.1732 99,-415.1732 95.5001,-425.1732 102.5001,-425.1732\"/>\n</g>\n<!-- 140439752653392 -->\n<g id=\"node7\" class=\"node\">\n<title>140439752653392</title>\n<polygon fill=\"#add8e6\" stroke=\"#000000\" points=\"198,-472 144,-472 144,-451 198,-451 198,-472\"/>\n<text text-anchor=\"middle\" x=\"171\" y=\"-458.4\" font-family=\"Times,serif\" font-size=\"12.00\" fill=\"#000000\">x1</text>\n</g>\n<!-- 140439752653392&#45;&gt;140439752653008 -->\n<g id=\"edge6\" class=\"edge\">\n<title>140439752653392&#45;&gt;140439752653008</title>\n<path fill=\"none\" stroke=\"#000000\" d=\"M171,-450.7787C171,-443.6134 171,-433.9517 171,-425.3097\"/>\n<polygon fill=\"#000000\" stroke=\"#000000\" points=\"174.5001,-425.1732 171,-415.1732 167.5001,-425.1732 174.5001,-425.1732\"/>\n</g>\n<!-- 140439752653200 -->\n<g id=\"node8\" class=\"node\">\n<title>140439752653200</title>\n<polygon fill=\"#d3d3d3\" stroke=\"#000000\" points=\"270,-415 216,-415 216,-394 270,-394 270,-415\"/>\n<text text-anchor=\"middle\" x=\"243\" y=\"-401.4\" font-family=\"Times,serif\" font-size=\"12.00\" fill=\"#000000\">Mul</text>\n</g>\n<!-- 140439752653200&#45;&gt;140439752652944 -->\n<g id=\"edge7\" class=\"edge\">\n<title>140439752653200&#45;&gt;140439752652944</title>\n<path fill=\"none\" stroke=\"#000000\" d=\"M237.7334,-393.7787C234.0572,-386.2949 229.0432,-376.088 224.6594,-367.1638\"/>\n<polygon fill=\"#000000\" stroke=\"#000000\" points=\"227.7935,-365.6056 220.243,-358.1732 221.5106,-368.6919 227.7935,-365.6056\"/>\n</g>\n<!-- 140439752652752 -->\n<g id=\"node9\" class=\"node\">\n<title>140439752652752</title>\n<polygon fill=\"#add8e6\" stroke=\"#000000\" points=\"342,-472 288,-472 288,-451 342,-451 342,-472\"/>\n<text text-anchor=\"middle\" x=\"315\" y=\"-458.4\" font-family=\"Times,serif\" font-size=\"12.00\" fill=\"#000000\">V</text>\n</g>\n<!-- 140439752652752&#45;&gt;140439752653200 -->\n<g id=\"edge8\" class=\"edge\">\n<title>140439752652752&#45;&gt;140439752653200</title>\n<path fill=\"none\" stroke=\"#000000\" d=\"M301.4574,-450.7787C291.099,-442.5784 276.6107,-431.1085 264.6496,-421.6393\"/>\n<polygon fill=\"#000000\" stroke=\"#000000\" points=\"266.4949,-418.6361 256.4819,-415.1732 262.1499,-424.1244 266.4949,-418.6361\"/>\n</g>\n<!-- 140439752652752&#45;&gt;140439753660176 -->\n<g id=\"edge17\" class=\"edge\">\n<title>140439752652752&#45;&gt;140439753660176</title>\n<path fill=\"none\" stroke=\"#000000\" d=\"M312.6374,-450.9804C305.7018,-421.1158 283.8021,-333.663 251,-267 245.1344,-255.0796 236.9059,-242.7456 229.796,-232.9786\"/>\n<polygon fill=\"#000000\" stroke=\"#000000\" points=\"232.4779,-230.7209 223.681,-224.8162 226.8756,-234.9179 232.4779,-230.7209\"/>\n</g>\n<!-- 140439752653328 -->\n<g id=\"node10\" class=\"node\">\n<title>140439752653328</title>\n<polygon fill=\"#add8e6\" stroke=\"#000000\" points=\"270,-472 216,-472 216,-451 270,-451 270,-472\"/>\n<text text-anchor=\"middle\" x=\"243\" y=\"-458.4\" font-family=\"Times,serif\" font-size=\"12.00\" fill=\"#000000\">h0</text>\n</g>\n<!-- 140439752653328&#45;&gt;140439752653200 -->\n<g id=\"edge9\" class=\"edge\">\n<title>140439752653328&#45;&gt;140439752653200</title>\n<path fill=\"none\" stroke=\"#000000\" d=\"M243,-450.7787C243,-443.6134 243,-433.9517 243,-425.3097\"/>\n<polygon fill=\"#000000\" stroke=\"#000000\" points=\"246.5001,-425.1732 243,-415.1732 239.5001,-425.1732 246.5001,-425.1732\"/>\n</g>\n<!-- 140439752652304 -->\n<g id=\"node12\" class=\"node\">\n<title>140439752652304</title>\n<polygon fill=\"#add8e6\" stroke=\"#000000\" points=\"160,-104 106,-104 106,-70 160,-70 160,-104\"/>\n<text text-anchor=\"middle\" x=\"133\" y=\"-90.4\" font-family=\"Times,serif\" font-size=\"12.00\" fill=\"#000000\">Clamp1</text>\n<text text-anchor=\"middle\" x=\"133\" y=\"-77.4\" font-family=\"Times,serif\" font-size=\"12.00\" fill=\"#000000\">h2</text>\n</g>\n<!-- 140439752652304&#45;&gt;140439752652368 -->\n<g id=\"edge11\" class=\"edge\">\n<title>140439752652304&#45;&gt;140439752652368</title>\n<path fill=\"none\" stroke=\"#000000\" d=\"M126.0786,-69.6966C122.9253,-61.8132 119.1217,-52.3042 115.6186,-43.5464\"/>\n<polygon fill=\"#000000\" stroke=\"#000000\" points=\"118.8054,-42.0892 111.8417,-34.1043 112.306,-44.689 118.8054,-42.0892\"/>\n</g>\n<!-- 140439753659728 -->\n<g id=\"node13\" class=\"node\">\n<title>140439753659728</title>\n<polygon fill=\"#d3d3d3\" stroke=\"#000000\" points=\"187,-161 133,-161 133,-140 187,-140 187,-161\"/>\n<text text-anchor=\"middle\" x=\"160\" y=\"-147.4\" font-family=\"Times,serif\" font-size=\"12.00\" fill=\"#000000\">Add</text>\n</g>\n<!-- 140439753659728&#45;&gt;140439752652304 -->\n<g id=\"edge12\" class=\"edge\">\n<title>140439753659728&#45;&gt;140439752652304</title>\n<path fill=\"none\" stroke=\"#000000\" d=\"M155.4198,-139.7281C152.3379,-132.4798 148.1333,-122.5913 144.1977,-113.3354\"/>\n<polygon fill=\"#000000\" stroke=\"#000000\" points=\"147.3861,-111.8891 140.2521,-104.056 140.9442,-114.6282 147.3861,-111.8891\"/>\n</g>\n<!-- 140439753662416&#45;&gt;140439753659728 -->\n<g id=\"edge13\" class=\"edge\">\n<title>140439753662416&#45;&gt;140439753659728</title>\n<path fill=\"none\" stroke=\"#000000\" d=\"M101.5778,-393.9431C108.1821,-366.8771 126.2288,-292.7917 141,-231 145.8556,-210.6879 151.3264,-187.4733 155.1463,-171.2099\"/>\n<polygon fill=\"#000000\" stroke=\"#000000\" points=\"158.6222,-171.7174 157.4992,-161.1822 151.8073,-170.1183 158.6222,-171.7174\"/>\n</g>\n<!-- 140439753660816 -->\n<g id=\"node15\" class=\"node\">\n<title>140439753660816</title>\n<polygon fill=\"#add8e6\" stroke=\"#000000\" points=\"54,-472 0,-472 0,-451 54,-451 54,-472\"/>\n<text text-anchor=\"middle\" x=\"27\" y=\"-458.4\" font-family=\"Times,serif\" font-size=\"12.00\" fill=\"#000000\">x2</text>\n</g>\n<!-- 140439753660816&#45;&gt;140439753662416 -->\n<g id=\"edge15\" class=\"edge\">\n<title>140439753660816&#45;&gt;140439753662416</title>\n<path fill=\"none\" stroke=\"#000000\" d=\"M40.5426,-450.7787C50.901,-442.5784 65.3893,-431.1085 77.3504,-421.6393\"/>\n<polygon fill=\"#000000\" stroke=\"#000000\" points=\"79.8501,-424.1244 85.5181,-415.1732 75.5051,-418.6361 79.8501,-424.1244\"/>\n</g>\n<!-- 140439753660176&#45;&gt;140439753659728 -->\n<g id=\"edge16\" class=\"edge\">\n<title>140439753660176&#45;&gt;140439753659728</title>\n<path fill=\"none\" stroke=\"#000000\" d=\"M205.67,-203.2281C197.5617,-193.8667 185.6389,-180.1012 176.0086,-168.9826\"/>\n<polygon fill=\"#000000\" stroke=\"#000000\" points=\"178.3849,-166.3802 169.1922,-161.1128 173.0937,-170.9632 178.3849,-166.3802\"/>\n</g>\n</g>\n</svg>\n"
          },
          "metadata": {},
          "execution_count": 32
        }
      ],
      "source": [
        "# Define the mapping from variable name to variable,\n",
        "# so that the nodes in our computation graph can be labeled\n",
        "params = {k: eval(k) for k in ['U', 'V', 'W', \n",
        "                               'x1', 'x2', \n",
        "                               'h0', \n",
        "                               'h1', 'o1', \n",
        "                               'h2', 'o2']}\n",
        "\n",
        "# Visualize the computation graph constructed by PyTorch\n",
        "dot = make_dot((o1, o2), params=params)\n",
        "\n",
        "# Save Graph to `computation_graph.pdf`\n",
        "dot.render(data_dir + 'computation_graph')\n",
        "\n",
        "# Visualize (not working in Deepnote)\n",
        "dot"
      ]
    },
    {
      "cell_type": "markdown",
      "id": "4e7922de",
      "metadata": {
        "id": "4e7922de"
      },
      "source": [
        "Is the generated computation graph what you expected?"
      ]
    },
    {
      "cell_type": "markdown",
      "id": "e277639e",
      "metadata": {
        "id": "e277639e"
      },
      "source": [
        "# Expressing bigram language models via RNNs\n",
        "\n",
        "In this section, as an exercise in understanding how RNNs work, you'll design an RNN to behave like a bigram model, thereby show that RNNs are (not surprisingly) more expressive than bigram language models.\n",
        "\n",
        "## Bigram language models\n",
        "\n",
        "Recall that a bigram language model uses the previous word to predict the next word in a sequence $w_1 \\cdots w_N$. A bigram model over a vocabulary $\\vect{v} = \\{v_1, \\ldots, v_V\\}$ is specified by a set of probabilities $\\Prob(w_{t+1} = v_j \\given w_t = v_i)$, the probability that a word of type $v_j$ follows a word of type $v_i$. \n",
        "(As usual, we'll abbreviate this probability $\\Prob(v_j \\given v_i)$, since the probability is assumed to be the same for all $t$.)\n",
        "\n",
        "We can pack these probabilities into a single table $T$ with $V$ rows and $V$ columns such that  \n",
        "\n",
        "$$T_{ij} = \\Prob(v_j \\given v_i)$$\n",
        "\n",
        "Importantly, the sum $\\sum_{j=1}^{V} T_{ij}$ is $1$ for all $i$. The vector $T_i$ (the $i$-th row of table $T$) thus constitutes the probability distribution for the word following $v_i$.\n",
        "\n",
        "For this activity, we use a vocabulary with only two tokens (we can think of them as $a$ and $b$) encoded as one-hot vectors ($v_1=$ `[1,0]` and $v_2=$  `[0,1]`) and we provide a transition table $T$. We also define two sample sequences representing $aaaaaabbaa$ and $babbbbabbb$."
      ]
    },
    {
      "cell_type": "code",
      "execution_count": null,
      "id": "62e16d4b",
      "metadata": {
        "id": "62e16d4b"
      },
      "outputs": [],
      "source": [
        "# the vocabulary V\n",
        "Vocab = torch.Tensor([ [1, 0], \n",
        "                       [0, 1] ])\n",
        "\n",
        "# the bigram probabilities T_ij\n",
        "T = torch.Tensor([ [0.6, 0.4],\n",
        "                   [0.3, 0.7] ])\n",
        "\n",
        "# two sample sequences\n",
        "seq1 = torch.Tensor(\n",
        "    [ [1,0], [1,0], [1,0], [1,0], [1,0], \n",
        "      [1,0], [0,1], [0,1], [1,0], [1,0] ])\n",
        "seq2 = torch.Tensor(\n",
        "    [ [0,1], [1,0], [0,1], [0,1], [0,1],\n",
        "      [0,1], [1,0], [0,1], [0,1], [0,1] ])"
      ]
    },
    {
      "cell_type": "markdown",
      "id": "43f0c107",
      "metadata": {
        "deletable": false,
        "editable": false,
        "id": "43f0c107"
      },
      "source": [
        "Before proceeding, take a guess as to which of the two sequences would be more likely according to the provided bigram model. (We won't hold you to the guess.)\n",
        "\n",
        "Now write a function `sequence_probability` to find the probability of a sequence according to the bigram model. Below, we'll use that function to check your guess.\n",
        "\n",
        "> As in the previous lab, we'll ignore the contribution of the first $n-1$ tokens (the first token in the case of this example), since it doesn't have sufficient context. In a full $n$-gram model, we'd pad the start of the string with $n-1$ \"start of sequence\" tokens that are not part of the main vocabulary and have probability 1. It's standard also to add an \"end of sequence\" token at the end as well. But we'll pass on these niceties for now, if for no other reason than that it would double the size of the vocabulary you'd have to deal with.\n",
        "\n",
        "<!--\n",
        "BEGIN QUESTION\n",
        "name: bigram\n",
        "-->"
      ]
    },
    {
      "cell_type": "code",
      "execution_count": null,
      "id": "f9b615de",
      "metadata": {
        "id": "f9b615de"
      },
      "outputs": [],
      "source": [
        "import math\n",
        "# TODO -- Write a function to find the probability of a sequence given a bigram table\n",
        "def sequence_probability(seq, T):\n",
        "    \"\"\"Returns the probability of a sequence `seq` under a bigram table `T`.\n",
        "    Arguments:\n",
        "      seq: a sequence of size N x vocab_size, where seq[i] is the one-hot\n",
        "           representation for the i-th word.\n",
        "      T: a bigram table, where T_{ij} = P(v_j | v_i).\n",
        "    Returns: the probability of the sequence, a tensor of a single element.\"\"\"\n",
        "    # mul_res = 1\n",
        "    # for i in range(len(seq)-2):\n",
        "    #   mul_res *= T[int((seq[i][1]).item())][int((seq[i][1]).item())]\n",
        "    # return mul_res\n",
        "\n",
        "    mul_res = 1\n",
        "    for i in range(len(seq)-1):\n",
        "      mul_res *= T[int((seq[i][1]).item())][int((seq[i+1][1]).item())]\n",
        "    return mul_res\n"
      ]
    },
    {
      "cell_type": "code",
      "execution_count": null,
      "id": "7607791e",
      "metadata": {
        "deletable": false,
        "editable": false,
        "id": "7607791e",
        "outputId": "d0296c44-5bd3-47bf-d73d-aba44c9afa49",
        "colab": {
          "base_uri": "https://localhost:8080/",
          "height": 46
        }
      },
      "outputs": [
        {
          "output_type": "execute_result",
          "data": {
            "text/plain": [
              "\n",
              "    All tests passed!\n",
              "    "
            ],
            "text/html": [
              "\n",
              "    \n",
              "    \n",
              "        <p>All tests passed!</p>\n",
              "    \n",
              "    "
            ]
          },
          "metadata": {},
          "execution_count": 35
        }
      ],
      "source": [
        "grader.check(\"bigram\")"
      ]
    },
    {
      "cell_type": "markdown",
      "id": "3a737e4b",
      "metadata": {
        "id": "3a737e4b"
      },
      "source": [
        "We can use the `sequence_probability` function to find the probabilities of the two sequences."
      ]
    },
    {
      "cell_type": "code",
      "execution_count": null,
      "id": "553a9a30",
      "metadata": {
        "id": "553a9a30",
        "outputId": "052dc318-43ee-45fd-d296-0957345a5886",
        "colab": {
          "base_uri": "https://localhost:8080/"
        }
      },
      "outputs": [
        {
          "output_type": "stream",
          "name": "stdout",
          "text": [
            "Probability of A: 0.00392\n",
            "Probability of B: 0.00242\n"
          ]
        }
      ],
      "source": [
        "print(f\"Probability of A: {sequence_probability(seq1, T):.5f}\\n\"\n",
        "      f\"Probability of B: {sequence_probability(seq2, T):.5f}\")"
      ]
    },
    {
      "cell_type": "markdown",
      "id": "4c4a0430",
      "metadata": {
        "id": "4c4a0430"
      },
      "source": [
        "Was your guess correct?"
      ]
    },
    {
      "cell_type": "markdown",
      "id": "94ababe4",
      "metadata": {
        "deletable": false,
        "editable": false,
        "id": "94ababe4"
      },
      "source": [
        "## Tiny bigram RNN\n",
        "\n",
        "In theory, given enough capacity, [an RNN can approximate any function arbitrarily well](https://citeseerx.ist.psu.edu/viewdoc/download?doi=10.1.1.16.7590&rep=rep1&type=pdf). (In practice, we don't have infinite capacity, and even if we did have sufficient capacity, that doesn't mean that a particular optimization method, like stochastic gradient descent as you've been using in project segment 1, can find the global optimum.) \n",
        "\n",
        "In this section, you'll show that an RNN is at least as expressive as a bigram language model. You'll design the activation function $\\sigma$ and the parameters $\\vect{U}$, $\\vect{V}$, and $\\vect{W}$ of an RNN such that it behaves exactly like the particular bigram model above, by taking as input a sequence of one-hot representations of words, and outputting at each step a vector with the probabilities of the next word.\n",
        "\n",
        "For instance, the probabilities for the word following $v_i$ should be $T_i$, the row from the transition matrix. Given a sequence beginning with $v_1$, represented by the one-hot encoding [1, 0], your RNN's first output should be\n",
        "\n",
        "$$ o_1 = \\vect{W}h_1= \\vect{W} \\sigma\\left(\\vect{U} \\begin{bmatrix} 1 \\\\ 0 \\end{bmatrix} \n",
        "                            + \\vect{V} h_0\n",
        "                            \\right) \n",
        "       = T_1 $$\n",
        "\n",
        "etc. Assume that $h_0$, the initial $h$ value, is $\\begin{bmatrix} 0 \\\\ 0 \\end{bmatrix}$. \n",
        "\n",
        "> Hint 1: Use $\\sigma(x) = x$ for simplicity. \n",
        ">\n",
        "> Hint 2: You're going to want to work this out on paper before filling in your solution in the next cell.\n",
        "\n",
        "<!--\n",
        "BEGIN QUESTION\n",
        "name: tiny_bigram_RNN\n",
        "-->"
      ]
    },
    {
      "cell_type": "code",
      "execution_count": null,
      "id": "04e539f3",
      "metadata": {
        "id": "04e539f3"
      },
      "outputs": [],
      "source": [
        "#TODO -- Define the parameters of the model in terms of the bigram probability matrix `T` and other constants\n",
        "h0 = torch.zeros(2)\n",
        "sigma = lambda x: x\n",
        "U = torch.eye(2)\n",
        "V = torch.zeros(2,2)\n",
        "W = T.T"
      ]
    },
    {
      "cell_type": "code",
      "execution_count": null,
      "id": "23a18653",
      "metadata": {
        "deletable": false,
        "editable": false,
        "id": "23a18653",
        "outputId": "aeaac00c-c021-430d-c0bf-f18d78958476",
        "colab": {
          "base_uri": "https://localhost:8080/",
          "height": 46
        }
      },
      "outputs": [
        {
          "output_type": "execute_result",
          "data": {
            "text/plain": [
              "\n",
              "    All tests passed!\n",
              "    "
            ],
            "text/html": [
              "\n",
              "    \n",
              "    \n",
              "        <p>All tests passed!</p>\n",
              "    \n",
              "    "
            ]
          },
          "metadata": {},
          "execution_count": 38
        }
      ],
      "source": [
        "grader.check(\"tiny_bigram_RNN\")"
      ]
    },
    {
      "cell_type": "markdown",
      "id": "502cb980",
      "metadata": {
        "deletable": false,
        "editable": false,
        "id": "502cb980"
      },
      "source": [
        "<!-- BEGIN QUESTION -->\n",
        "\n",
        "## General bigram RNN\n",
        "\n",
        "> **This section is more open-ended in nature.**\n",
        "\n",
        "Above, you worked out the solution for implementing a bigram model for a two-word vocabulary as an RNN. But the construction can be generalized for bigram models over vocabularies of arbitrary size, say, $N$ word types.\n",
        "\n",
        "<!--\n",
        "BEGIN QUESTION\n",
        "name: open_response_bigram\n",
        "manual: true\n",
        "-->\n",
        "\n",
        "---\n",
        "\n",
        "**Question:** \n",
        "In general, given an $N \\times N$ bigram probability matrix $T_{ij}$ what would be the activation function $\\sigma$ and the parameters $\\vect{U}$, $\\vect{V}$, and $\\vect{W}$,  of an RNN that outputs $T_i$ given $v_i$ as an input?"
      ]
    },
    {
      "cell_type": "markdown",
      "id": "d424e9d7",
      "metadata": {
        "id": "d424e9d7"
      },
      "source": [
        "_In the general case, $\\sigma(x) = x$ as well, U is the identity matrix of size NxN, V is a zeros matrix and W is transpose of T._"
      ]
    },
    {
      "cell_type": "markdown",
      "id": "9c4df478",
      "metadata": {
        "id": "9c4df478"
      },
      "source": [
        "<!-- END QUESTION -->\n",
        "\n",
        "\n",
        "\n",
        "# The backward step\n",
        "\n",
        "The remainder of the lab needs you to do math derivations. In these exercises you will both build your intuition and gain a concrete understanding of how back-propagation works in an RNN.\n",
        "\n",
        "Back-propagation is the method used to compute the gradients of an RNN. First, the RNN runs forward on some inputs, and then we calculate the loss as a function of the output (a measure of how far off the RNN's output $o_t$ was from the desired output $y_t$). The loss function we will be using is the squared error:\n",
        "\n",
        "$$ L = \\sum_{t = 1}^{N} (y_{t} - o_{t})^2 $$\n",
        "\n",
        "For the particular case of a language model, the \"desired output\" is just the next word in the sequence, so we have \n",
        "\n",
        "$$ L = \\sum_{t = 1}^{N} (x_{t+1} - o_{t})^2 $$\n",
        "\n",
        "> There's a little issue with the last step, since $x_{N+1}$ doesn't exist. Let's pretend that $x_{N+1}$ exists below for brevity of notations. (See the comment above about end-of-sequence tokens.)\n",
        "\n",
        "> Note that we use squared error loss here mainly for simplicity. In real language modeling tasks people use cross entropy loss, which you've seen in project segment 1.\n",
        "\n",
        "We then find the derivatives of the loss with respect to each parameter and use the derivatives to make small adjustments to the parameters to reduce the loss. This process is repeated until the loss is minimized.\n",
        "\n",
        "To minimize the loss function, we need to calculate the derivative of the loss $L$ with respect to all parameters. In this lab, we only consider how to calculate the derivative of $L$ with respect to $\\vect{U}$, but other parameters work similarly.\n",
        "\n",
        "For simplicity, let's assume for now that $h_0, \\ldots, h_N$, $x_1, \\ldots, x_N$ and $o_1, \\ldots, o_N$ are all scalars. Therefore, the parameters $\\vect{U}$, $\\vect{V}$, $\\vect{W}$ are all scalars as well. Such an assumption avoids taking gradients of vectors and matrices, although the below results can be easily generalized.\n",
        "\n",
        "In the next few subsections, you'll derive the gradient formulas for RNNs operating on sequences first of length 1, then 2, then 3, and finally on arbitrary length sequences."
      ]
    },
    {
      "cell_type": "markdown",
      "id": "924d9ab9",
      "metadata": {
        "id": "924d9ab9"
      },
      "source": [
        "## RNN backprop on very very short sequences\n",
        "\n",
        "Consider an RNN run on an input sequence of length 1. This RNN's output sequence will therefore consist only of a single output $o_1$.\n",
        "\n",
        "As you can see from the loss function given above, $L = (x_2 - o_1)^2$ is a function of $o_1$ and $x_2$, therefore we can find \n",
        "\n",
        "$$\\frac{\\partial L(o_1, x_2)}{\\partial o_1} = 2(o_1 - x_2)$$\n",
        "\n",
        "Furthermore, $o_1$ is a function of $h_1$ and $\\vect{W}$, so we can find $\\frac{\\partial o_1(h_1, \\vect{W})}{\\partial h_1}$. Finally, $h_1$ is a function of $\\vect{U}$, $\\vect{V}$, $h_0$, and $x_1$, so we can find $\\frac{\\partial h_1(\\vect{U}, \\vect{V}, h_0, x_1)}{\\partial \\vect{U}}$."
      ]
    },
    {
      "cell_type": "markdown",
      "id": "ad91435b",
      "metadata": {
        "id": "ad91435b"
      },
      "source": [
        "First, let's visualize the computation graph for more intuition. Note that different from the previous computation graph, we only show the variables that we are interested in."
      ]
    },
    {
      "cell_type": "code",
      "execution_count": null,
      "id": "fb0fbfa4",
      "metadata": {
        "id": "fb0fbfa4",
        "outputId": "535ab68c-5c9d-4481-d191-05af7759d9c3",
        "colab": {
          "base_uri": "https://localhost:8080/",
          "height": 567
        }
      },
      "outputs": [
        {
          "output_type": "execute_result",
          "data": {
            "text/plain": [
              "<graphviz.dot.Digraph at 0x7fbaad956590>"
            ],
            "image/svg+xml": "<?xml version=\"1.0\" encoding=\"UTF-8\" standalone=\"no\"?>\n<!DOCTYPE svg PUBLIC \"-//W3C//DTD SVG 1.1//EN\"\n \"http://www.w3.org/Graphics/SVG/1.1/DTD/svg11.dtd\">\n<!-- Generated by graphviz version 2.40.1 (20161225.0304)\n -->\n<!-- Title: %3 Pages: 1 -->\n<svg width=\"62pt\" height=\"410pt\"\n viewBox=\"0.00 0.00 62.00 410.00\" xmlns=\"http://www.w3.org/2000/svg\" xmlns:xlink=\"http://www.w3.org/1999/xlink\">\n<g id=\"graph0\" class=\"graph\" transform=\"scale(1 1) rotate(0) translate(4 406)\">\n<title>%3</title>\n<polygon fill=\"#ffffff\" stroke=\"transparent\" points=\"-4,4 -4,-406 58,-406 58,4 -4,4\"/>\n<!-- 140439752895824 -->\n<g id=\"node1\" class=\"node\">\n<title>140439752895824</title>\n<polygon fill=\"#caff70\" stroke=\"#000000\" points=\"54,-34 0,-34 0,0 54,0 54,-34\"/>\n<text text-anchor=\"middle\" x=\"27\" y=\"-20.4\" font-family=\"Times,serif\" font-size=\"12.00\" fill=\"#000000\">Pow</text>\n<text text-anchor=\"middle\" x=\"27\" y=\"-7.4\" font-family=\"Times,serif\" font-size=\"12.00\" fill=\"#000000\">L</text>\n</g>\n<!-- 140442977437520 -->\n<g id=\"node2\" class=\"node\">\n<title>140442977437520</title>\n<polygon fill=\"#d3d3d3\" stroke=\"#000000\" points=\"54,-91 0,-91 0,-70 54,-70 54,-91\"/>\n<text text-anchor=\"middle\" x=\"27\" y=\"-77.4\" font-family=\"Times,serif\" font-size=\"12.00\" fill=\"#000000\">Sub</text>\n</g>\n<!-- 140442977437520&#45;&gt;140439752895824 -->\n<g id=\"edge1\" class=\"edge\">\n<title>140442977437520&#45;&gt;140439752895824</title>\n<path fill=\"none\" stroke=\"#000000\" d=\"M27,-69.7281C27,-62.7087 27,-53.2132 27,-44.2141\"/>\n<polygon fill=\"#000000\" stroke=\"#000000\" points=\"30.5001,-44.0559 27,-34.056 23.5001,-44.056 30.5001,-44.0559\"/>\n</g>\n<!-- 140439752894992 -->\n<g id=\"node3\" class=\"node\">\n<title>140439752894992</title>\n<polygon fill=\"#add8e6\" stroke=\"#000000\" points=\"54,-161 0,-161 0,-127 54,-127 54,-161\"/>\n<text text-anchor=\"middle\" x=\"27\" y=\"-147.4\" font-family=\"Times,serif\" font-size=\"12.00\" fill=\"#000000\">Mul</text>\n<text text-anchor=\"middle\" x=\"27\" y=\"-134.4\" font-family=\"Times,serif\" font-size=\"12.00\" fill=\"#000000\">o1</text>\n</g>\n<!-- 140439752894992&#45;&gt;140442977437520 -->\n<g id=\"edge2\" class=\"edge\">\n<title>140439752894992&#45;&gt;140442977437520</title>\n<path fill=\"none\" stroke=\"#000000\" d=\"M27,-126.9832C27,-119.1157 27,-109.6973 27,-101.4019\"/>\n<polygon fill=\"#000000\" stroke=\"#000000\" points=\"30.5001,-101.3686 27,-91.3687 23.5001,-101.3687 30.5001,-101.3686\"/>\n</g>\n<!-- 140439752895632 -->\n<g id=\"node4\" class=\"node\">\n<title>140439752895632</title>\n<polygon fill=\"#add8e6\" stroke=\"#000000\" points=\"54,-231 0,-231 0,-197 54,-197 54,-231\"/>\n<text text-anchor=\"middle\" x=\"27\" y=\"-217.4\" font-family=\"Times,serif\" font-size=\"12.00\" fill=\"#000000\">Clamp1</text>\n<text text-anchor=\"middle\" x=\"27\" y=\"-204.4\" font-family=\"Times,serif\" font-size=\"12.00\" fill=\"#000000\">h1</text>\n</g>\n<!-- 140439752895632&#45;&gt;140439752894992 -->\n<g id=\"edge3\" class=\"edge\">\n<title>140439752895632&#45;&gt;140439752894992</title>\n<path fill=\"none\" stroke=\"#000000\" d=\"M27,-196.6966C27,-188.9827 27,-179.7125 27,-171.1124\"/>\n<polygon fill=\"#000000\" stroke=\"#000000\" points=\"30.5001,-171.1043 27,-161.1043 23.5001,-171.1044 30.5001,-171.1043\"/>\n</g>\n<!-- 140439752893200 -->\n<g id=\"node5\" class=\"node\">\n<title>140439752893200</title>\n<polygon fill=\"#d3d3d3\" stroke=\"#000000\" points=\"54,-288 0,-288 0,-267 54,-267 54,-288\"/>\n<text text-anchor=\"middle\" x=\"27\" y=\"-274.4\" font-family=\"Times,serif\" font-size=\"12.00\" fill=\"#000000\">Add</text>\n</g>\n<!-- 140439752893200&#45;&gt;140439752895632 -->\n<g id=\"edge4\" class=\"edge\">\n<title>140439752893200&#45;&gt;140439752895632</title>\n<path fill=\"none\" stroke=\"#000000\" d=\"M27,-266.7281C27,-259.7087 27,-250.2132 27,-241.2141\"/>\n<polygon fill=\"#000000\" stroke=\"#000000\" points=\"30.5001,-241.0559 27,-231.056 23.5001,-241.056 30.5001,-241.0559\"/>\n</g>\n<!-- 140439753411088 -->\n<g id=\"node6\" class=\"node\">\n<title>140439753411088</title>\n<polygon fill=\"#d3d3d3\" stroke=\"#000000\" points=\"54,-345 0,-345 0,-324 54,-324 54,-345\"/>\n<text text-anchor=\"middle\" x=\"27\" y=\"-331.4\" font-family=\"Times,serif\" font-size=\"12.00\" fill=\"#000000\">Mul</text>\n</g>\n<!-- 140439753411088&#45;&gt;140439752893200 -->\n<g id=\"edge5\" class=\"edge\">\n<title>140439753411088&#45;&gt;140439752893200</title>\n<path fill=\"none\" stroke=\"#000000\" d=\"M27,-323.7787C27,-316.6134 27,-306.9517 27,-298.3097\"/>\n<polygon fill=\"#000000\" stroke=\"#000000\" points=\"30.5001,-298.1732 27,-288.1732 23.5001,-298.1732 30.5001,-298.1732\"/>\n</g>\n<!-- 140439752896272 -->\n<g id=\"node7\" class=\"node\">\n<title>140439752896272</title>\n<polygon fill=\"#add8e6\" stroke=\"#000000\" points=\"54,-402 0,-402 0,-381 54,-381 54,-402\"/>\n<text text-anchor=\"middle\" x=\"27\" y=\"-388.4\" font-family=\"Times,serif\" font-size=\"12.00\" fill=\"#000000\">U</text>\n</g>\n<!-- 140439752896272&#45;&gt;140439753411088 -->\n<g id=\"edge6\" class=\"edge\">\n<title>140439752896272&#45;&gt;140439753411088</title>\n<path fill=\"none\" stroke=\"#000000\" d=\"M27,-380.7787C27,-373.6134 27,-363.9517 27,-355.3097\"/>\n<polygon fill=\"#000000\" stroke=\"#000000\" points=\"30.5001,-355.1732 27,-345.1732 23.5001,-355.1732 30.5001,-355.1732\"/>\n</g>\n</g>\n</svg>\n"
          },
          "metadata": {},
          "execution_count": 39
        }
      ],
      "source": [
        "# RNN parameters\n",
        "U_ = torch.Tensor([0.1]) # we use U_ instead of U (etc.) to avoid autograding issues\n",
        "V_ = torch.Tensor([0.2])\n",
        "W_ = torch.Tensor([0.3])\n",
        "\n",
        "# inputs\n",
        "x1_ = torch.Tensor([0.5])\n",
        "x2_ = torch.Tensor([0.6])\n",
        "x3_ = torch.Tensor([0.7])\n",
        "\n",
        "# initial value for the hidden state, a zero vector\n",
        "h0_ = torch.Tensor([0])\n",
        "\n",
        "# Set which nodes to visualize later\n",
        "visualized_nodes = [U_, ]\n",
        "for p in visualized_nodes:\n",
        "    p.requires_grad = True\n",
        "\n",
        "# Calculate h1, o1\n",
        "h1_ = torch.clamp(U_ * x1_ + V_ * h0_, min=0)\n",
        "o1_ = W_ * h1_\n",
        "\n",
        "L_ = (o1_ - x2_) ** 2\n",
        "\n",
        "params = {k: eval(k+'_') for k in ['L', 'U', 'h1', 'o1']}\n",
        "dot = make_dot(L_, params=params)\n",
        "# Save Graph to `computation_graph_1.pdf`\n",
        "dot.render(data_dir + 'computation_graph_1')\n",
        "dot"
      ]
    },
    {
      "cell_type": "markdown",
      "id": "ed704dda",
      "metadata": {
        "deletable": false,
        "editable": false,
        "id": "ed704dda"
      },
      "source": [
        "<!-- BEGIN QUESTION -->\n",
        "\n",
        "**Question:** Find a formula for $\\frac{\\partial L(\\vect{U}, \\vect{V}, \\vect{W}, x_1, x_2, h_0)}{\\partial \\vect{U}}$ in terms of $\\frac{\\partial L(o_1, x_2)}{\\partial o_1}$, $\\frac{\\partial o_1(\\vect{W}, h_1)}{\\partial h_1}$ ,and $\\frac{\\partial h_1(\\vect{U}, \\vect{V}, h_0, x_1)}{\\partial \\vect{U}}$. You might find the above computation graph useful: how does $L$ depend on $\\vect{U}$? \n",
        "\n",
        ">Note that in your answer you can omit the arguments of the functions for brevity (e.g., you can use $\\frac{\\partial L}{\\partial o_1}$ instead of $\\frac{\\partial L(o_1, x_2)}{\\partial o_1}$), but keep in mind that the arguments are important: e.g., $o_1$ eventually depends on $\\vect{U}$, so $\\frac{\\partial o_1(\\vect{U}, \\vect{V}, \\vect{W}, x_1, x_2, h_0)}{\\partial \\vect{U}}$ is likely not zero, but if instead we assume its arguments are $h_1$ and $\\vect{W}$, i.e., $o_1 = o_1(h_1, \\vect{W})$, then $\\frac{\\partial o_1}{\\partial U}$ is undefined or 0, as when we take partial derivatives, we hold other arguments ($h_1$ and $\\vect{W}$ in this case) as constant.\n",
        "\n",
        ">Hint: Use the chain rule.\n",
        "\n",
        "<!--\n",
        "BEGIN QUESTION\n",
        "name: open_response_backprop1\n",
        "manual: true\n",
        "-->"
      ]
    },
    {
      "cell_type": "markdown",
      "id": "b1d2ba4c",
      "metadata": {
        "id": "b1d2ba4c"
      },
      "source": [
        "_$\\frac{\\partial L(\\vect{U}, \\vect{V}, \\vect{W}, x_1, x_2, h_0)}{\\partial \\vect{U}}$ = $\\frac{\\partial L}{\\partial o_1}$$\\cdot$$\\frac{\\partial o_1}{\\partial h_1}$ $\\cdot$ $\\frac{\\partial h_1}{\\partial U}$_"
      ]
    },
    {
      "cell_type": "markdown",
      "id": "d9dacfcf",
      "metadata": {
        "id": "d9dacfcf"
      },
      "source": [
        "<!-- END QUESTION -->\n",
        "\n",
        "\n",
        "\n",
        "## RNN backprop on very short sequences\n",
        "\n",
        "Consider an RNN run on an input sequence of length 2. This RNN's output sequence $o$ will consist of $o_1$ and $o_2$ and the loss will be\n",
        "\n",
        "$$ L = (x_2 - o_1)^2 + (x_3 - o_2)^2 $$\n",
        "\n",
        "Let's visualize the computation graph."
      ]
    },
    {
      "cell_type": "code",
      "execution_count": null,
      "id": "5624b2ba",
      "metadata": {
        "id": "5624b2ba",
        "outputId": "f4397c16-cfda-4590-c99c-d03196ef206b",
        "colab": {
          "base_uri": "https://localhost:8080/",
          "height": 906
        }
      },
      "outputs": [
        {
          "output_type": "execute_result",
          "data": {
            "text/plain": [
              "<graphviz.dot.Digraph at 0x7fbaada11bd0>"
            ],
            "image/svg+xml": "<?xml version=\"1.0\" encoding=\"UTF-8\" standalone=\"no\"?>\n<!DOCTYPE svg PUBLIC \"-//W3C//DTD SVG 1.1//EN\"\n \"http://www.w3.org/Graphics/SVG/1.1/DTD/svg11.dtd\">\n<!-- Generated by graphviz version 2.40.1 (20161225.0304)\n -->\n<!-- Title: %3 Pages: 1 -->\n<svg width=\"172pt\" height=\"664pt\"\n viewBox=\"0.00 0.00 172.00 664.00\" xmlns=\"http://www.w3.org/2000/svg\" xmlns:xlink=\"http://www.w3.org/1999/xlink\">\n<g id=\"graph0\" class=\"graph\" transform=\"scale(1 1) rotate(0) translate(4 660)\">\n<title>%3</title>\n<polygon fill=\"#ffffff\" stroke=\"transparent\" points=\"-4,4 -4,-660 168,-660 168,4 -4,4\"/>\n<!-- 140439753658448 -->\n<g id=\"node1\" class=\"node\">\n<title>140439753658448</title>\n<polygon fill=\"#caff70\" stroke=\"#000000\" points=\"89,-34 35,-34 35,0 89,0 89,-34\"/>\n<text text-anchor=\"middle\" x=\"62\" y=\"-20.4\" font-family=\"Times,serif\" font-size=\"12.00\" fill=\"#000000\">Add</text>\n<text text-anchor=\"middle\" x=\"62\" y=\"-7.4\" font-family=\"Times,serif\" font-size=\"12.00\" fill=\"#000000\">L</text>\n</g>\n<!-- 140439752893520 -->\n<g id=\"node2\" class=\"node\">\n<title>140439752893520</title>\n<polygon fill=\"#d3d3d3\" stroke=\"#000000\" points=\"54,-211.5 0,-211.5 0,-190.5 54,-190.5 54,-211.5\"/>\n<text text-anchor=\"middle\" x=\"27\" y=\"-197.9\" font-family=\"Times,serif\" font-size=\"12.00\" fill=\"#000000\">Pow</text>\n</g>\n<!-- 140439752893520&#45;&gt;140439753658448 -->\n<g id=\"edge1\" class=\"edge\">\n<title>140439752893520&#45;&gt;140439753658448</title>\n<path fill=\"none\" stroke=\"#000000\" d=\"M29.033,-190.3121C34.3881,-162.1596 49.008,-85.3007 56.8568,-44.0384\"/>\n<polygon fill=\"#000000\" stroke=\"#000000\" points=\"60.3116,-44.6056 58.742,-34.1277 53.4349,-43.2974 60.3116,-44.6056\"/>\n</g>\n<!-- 140439753659792 -->\n<g id=\"node3\" class=\"node\">\n<title>140439753659792</title>\n<polygon fill=\"#d3d3d3\" stroke=\"#000000\" points=\"54,-281.5 0,-281.5 0,-260.5 54,-260.5 54,-281.5\"/>\n<text text-anchor=\"middle\" x=\"27\" y=\"-267.9\" font-family=\"Times,serif\" font-size=\"12.00\" fill=\"#000000\">Sub</text>\n</g>\n<!-- 140439753659792&#45;&gt;140439752893520 -->\n<g id=\"edge2\" class=\"edge\">\n<title>140439753659792&#45;&gt;140439752893520</title>\n<path fill=\"none\" stroke=\"#000000\" d=\"M27,-260.3685C27,-250.1925 27,-234.5606 27,-221.8912\"/>\n<polygon fill=\"#000000\" stroke=\"#000000\" points=\"30.5001,-221.7315 27,-211.7315 23.5001,-221.7316 30.5001,-221.7315\"/>\n</g>\n<!-- 140439753660944 -->\n<g id=\"node4\" class=\"node\">\n<title>140439753660944</title>\n<polygon fill=\"#add8e6\" stroke=\"#000000\" points=\"54,-358 0,-358 0,-324 54,-324 54,-358\"/>\n<text text-anchor=\"middle\" x=\"27\" y=\"-344.4\" font-family=\"Times,serif\" font-size=\"12.00\" fill=\"#000000\">Mul</text>\n<text text-anchor=\"middle\" x=\"27\" y=\"-331.4\" font-family=\"Times,serif\" font-size=\"12.00\" fill=\"#000000\">o1</text>\n</g>\n<!-- 140439753660944&#45;&gt;140439753659792 -->\n<g id=\"edge3\" class=\"edge\">\n<title>140439753660944&#45;&gt;140439753659792</title>\n<path fill=\"none\" stroke=\"#000000\" d=\"M27,-323.6966C27,-314.0634 27,-302.003 27,-291.8518\"/>\n<polygon fill=\"#000000\" stroke=\"#000000\" points=\"30.5001,-291.7912 27,-281.7913 23.5001,-291.7913 30.5001,-291.7912\"/>\n</g>\n<!-- 140439753661584 -->\n<g id=\"node5\" class=\"node\">\n<title>140439753661584</title>\n<polygon fill=\"#add8e6\" stroke=\"#000000\" points=\"92,-485 38,-485 38,-451 92,-451 92,-485\"/>\n<text text-anchor=\"middle\" x=\"65\" y=\"-471.4\" font-family=\"Times,serif\" font-size=\"12.00\" fill=\"#000000\">Clamp1</text>\n<text text-anchor=\"middle\" x=\"65\" y=\"-458.4\" font-family=\"Times,serif\" font-size=\"12.00\" fill=\"#000000\">h1</text>\n</g>\n<!-- 140439753661584&#45;&gt;140439753660944 -->\n<g id=\"edge4\" class=\"edge\">\n<title>140439753661584&#45;&gt;140439753660944</title>\n<path fill=\"none\" stroke=\"#000000\" d=\"M58.4321,-450.9495C54.5695,-440.6255 49.7282,-427.148 46,-415 41.2864,-399.6411 36.7798,-382.2501 33.3395,-368.1883\"/>\n<polygon fill=\"#000000\" stroke=\"#000000\" points=\"36.6721,-367.0772 30.9308,-358.1728 29.8662,-368.7141 36.6721,-367.0772\"/>\n</g>\n<!-- 140439753020304 -->\n<g id=\"node15\" class=\"node\">\n<title>140439753020304</title>\n<polygon fill=\"#d3d3d3\" stroke=\"#000000\" points=\"109,-415 55,-415 55,-394 109,-394 109,-415\"/>\n<text text-anchor=\"middle\" x=\"82\" y=\"-401.4\" font-family=\"Times,serif\" font-size=\"12.00\" fill=\"#000000\">Mul</text>\n</g>\n<!-- 140439753661584&#45;&gt;140439753020304 -->\n<g id=\"edge16\" class=\"edge\">\n<title>140439753661584&#45;&gt;140439753020304</title>\n<path fill=\"none\" stroke=\"#000000\" d=\"M69.5557,-450.9832C71.6856,-443.0273 74.2401,-433.4855 76.4789,-425.1228\"/>\n<polygon fill=\"#000000\" stroke=\"#000000\" points=\"79.885,-425.9337 79.0903,-415.3687 73.1232,-424.1233 79.885,-425.9337\"/>\n</g>\n<!-- 140439753020048 -->\n<g id=\"node6\" class=\"node\">\n<title>140439753020048</title>\n<polygon fill=\"#d3d3d3\" stroke=\"#000000\" points=\"92,-542 38,-542 38,-521 92,-521 92,-542\"/>\n<text text-anchor=\"middle\" x=\"65\" y=\"-528.4\" font-family=\"Times,serif\" font-size=\"12.00\" fill=\"#000000\">Add</text>\n</g>\n<!-- 140439753020048&#45;&gt;140439753661584 -->\n<g id=\"edge5\" class=\"edge\">\n<title>140439753020048&#45;&gt;140439753661584</title>\n<path fill=\"none\" stroke=\"#000000\" d=\"M65,-520.7281C65,-513.7087 65,-504.2132 65,-495.2141\"/>\n<polygon fill=\"#000000\" stroke=\"#000000\" points=\"68.5001,-495.0559 65,-485.056 61.5001,-495.056 68.5001,-495.0559\"/>\n</g>\n<!-- 140439753019984 -->\n<g id=\"node7\" class=\"node\">\n<title>140439753019984</title>\n<polygon fill=\"#d3d3d3\" stroke=\"#000000\" points=\"100,-599 46,-599 46,-578 100,-578 100,-599\"/>\n<text text-anchor=\"middle\" x=\"73\" y=\"-585.4\" font-family=\"Times,serif\" font-size=\"12.00\" fill=\"#000000\">Mul</text>\n</g>\n<!-- 140439753019984&#45;&gt;140439753020048 -->\n<g id=\"edge6\" class=\"edge\">\n<title>140439753019984&#45;&gt;140439753020048</title>\n<path fill=\"none\" stroke=\"#000000\" d=\"M71.4953,-577.7787C70.4896,-570.6134 69.1336,-560.9517 67.9207,-552.3097\"/>\n<polygon fill=\"#000000\" stroke=\"#000000\" points=\"71.354,-551.5896 66.498,-542.1732 64.4219,-552.5626 71.354,-551.5896\"/>\n</g>\n<!-- 140439753020112 -->\n<g id=\"node8\" class=\"node\">\n<title>140439753020112</title>\n<polygon fill=\"#add8e6\" stroke=\"#000000\" points=\"127,-656 73,-656 73,-635 127,-635 127,-656\"/>\n<text text-anchor=\"middle\" x=\"100\" y=\"-642.4\" font-family=\"Times,serif\" font-size=\"12.00\" fill=\"#000000\">U</text>\n</g>\n<!-- 140439753020112&#45;&gt;140439753019984 -->\n<g id=\"edge7\" class=\"edge\">\n<title>140439753020112&#45;&gt;140439753019984</title>\n<path fill=\"none\" stroke=\"#000000\" d=\"M94.9215,-634.7787C91.4143,-627.3746 86.6444,-617.3049 82.4496,-608.4491\"/>\n<polygon fill=\"#000000\" stroke=\"#000000\" points=\"85.4997,-606.7123 78.0557,-599.1732 79.1736,-609.7089 85.4997,-606.7123\"/>\n</g>\n<!-- 140439753019856 -->\n<g id=\"node14\" class=\"node\">\n<title>140439753019856</title>\n<polygon fill=\"#d3d3d3\" stroke=\"#000000\" points=\"164,-542 110,-542 110,-521 164,-521 164,-542\"/>\n<text text-anchor=\"middle\" x=\"137\" y=\"-528.4\" font-family=\"Times,serif\" font-size=\"12.00\" fill=\"#000000\">Mul</text>\n</g>\n<!-- 140439753020112&#45;&gt;140439753019856 -->\n<g id=\"edge14\" class=\"edge\">\n<title>140439753020112&#45;&gt;140439753019856</title>\n<path fill=\"none\" stroke=\"#000000\" d=\"M103.4146,-634.9795C109.5234,-616.1576 122.4226,-576.4141 130.3376,-552.0275\"/>\n<polygon fill=\"#000000\" stroke=\"#000000\" points=\"133.7277,-552.9197 133.4858,-542.3276 127.0696,-550.7587 133.7277,-552.9197\"/>\n</g>\n<!-- 140439752894928 -->\n<g id=\"node9\" class=\"node\">\n<title>140439752894928</title>\n<polygon fill=\"#d3d3d3\" stroke=\"#000000\" points=\"121,-91 67,-91 67,-70 121,-70 121,-91\"/>\n<text text-anchor=\"middle\" x=\"94\" y=\"-77.4\" font-family=\"Times,serif\" font-size=\"12.00\" fill=\"#000000\">Pow</text>\n</g>\n<!-- 140439752894928&#45;&gt;140439753658448 -->\n<g id=\"edge8\" class=\"edge\">\n<title>140439752894928&#45;&gt;140439753658448</title>\n<path fill=\"none\" stroke=\"#000000\" d=\"M88.5716,-69.7281C84.8805,-62.4035 79.8307,-52.3828 75.1242,-43.0433\"/>\n<polygon fill=\"#000000\" stroke=\"#000000\" points=\"78.221,-41.411 70.5951,-34.056 71.9699,-44.5613 78.221,-41.411\"/>\n</g>\n<!-- 140439753660432 -->\n<g id=\"node10\" class=\"node\">\n<title>140439753660432</title>\n<polygon fill=\"#d3d3d3\" stroke=\"#000000\" points=\"123,-148 69,-148 69,-127 123,-127 123,-148\"/>\n<text text-anchor=\"middle\" x=\"96\" y=\"-134.4\" font-family=\"Times,serif\" font-size=\"12.00\" fill=\"#000000\">Sub</text>\n</g>\n<!-- 140439753660432&#45;&gt;140439752894928 -->\n<g id=\"edge9\" class=\"edge\">\n<title>140439753660432&#45;&gt;140439752894928</title>\n<path fill=\"none\" stroke=\"#000000\" d=\"M95.6238,-126.7787C95.3724,-119.6134 95.0334,-109.9517 94.7302,-101.3097\"/>\n<polygon fill=\"#000000\" stroke=\"#000000\" points=\"98.2231,-101.0443 94.3745,-91.1732 91.2274,-101.2898 98.2231,-101.0443\"/>\n</g>\n<!-- 140439753662288 -->\n<g id=\"node11\" class=\"node\">\n<title>140439753662288</title>\n<polygon fill=\"#add8e6\" stroke=\"#000000\" points=\"126,-218 72,-218 72,-184 126,-184 126,-218\"/>\n<text text-anchor=\"middle\" x=\"99\" y=\"-204.4\" font-family=\"Times,serif\" font-size=\"12.00\" fill=\"#000000\">Mul</text>\n<text text-anchor=\"middle\" x=\"99\" y=\"-191.4\" font-family=\"Times,serif\" font-size=\"12.00\" fill=\"#000000\">o2</text>\n</g>\n<!-- 140439753662288&#45;&gt;140439753660432 -->\n<g id=\"edge10\" class=\"edge\">\n<title>140439753662288&#45;&gt;140439753660432</title>\n<path fill=\"none\" stroke=\"#000000\" d=\"M98.1961,-183.9832C97.8244,-176.1157 97.3794,-166.6973 96.9875,-158.4019\"/>\n<polygon fill=\"#000000\" stroke=\"#000000\" points=\"100.4816,-158.1923 96.5135,-148.3687 93.4894,-158.5227 100.4816,-158.1923\"/>\n</g>\n<!-- 140439753659600 -->\n<g id=\"node12\" class=\"node\">\n<title>140439753659600</title>\n<polygon fill=\"#add8e6\" stroke=\"#000000\" points=\"126,-288 72,-288 72,-254 126,-254 126,-288\"/>\n<text text-anchor=\"middle\" x=\"99\" y=\"-274.4\" font-family=\"Times,serif\" font-size=\"12.00\" fill=\"#000000\">Clamp1</text>\n<text text-anchor=\"middle\" x=\"99\" y=\"-261.4\" font-family=\"Times,serif\" font-size=\"12.00\" fill=\"#000000\">h2</text>\n</g>\n<!-- 140439753659600&#45;&gt;140439753662288 -->\n<g id=\"edge11\" class=\"edge\">\n<title>140439753659600&#45;&gt;140439753662288</title>\n<path fill=\"none\" stroke=\"#000000\" d=\"M99,-253.6966C99,-245.9827 99,-236.7125 99,-228.1124\"/>\n<polygon fill=\"#000000\" stroke=\"#000000\" points=\"102.5001,-228.1043 99,-218.1043 95.5001,-228.1044 102.5001,-228.1043\"/>\n</g>\n<!-- 140439753020240 -->\n<g id=\"node13\" class=\"node\">\n<title>140439753020240</title>\n<polygon fill=\"#d3d3d3\" stroke=\"#000000\" points=\"126,-351.5 72,-351.5 72,-330.5 126,-330.5 126,-351.5\"/>\n<text text-anchor=\"middle\" x=\"99\" y=\"-337.9\" font-family=\"Times,serif\" font-size=\"12.00\" fill=\"#000000\">Add</text>\n</g>\n<!-- 140439753020240&#45;&gt;140439753659600 -->\n<g id=\"edge12\" class=\"edge\">\n<title>140439753020240&#45;&gt;140439753659600</title>\n<path fill=\"none\" stroke=\"#000000\" d=\"M99,-330.3685C99,-321.8473 99,-309.5003 99,-298.2707\"/>\n<polygon fill=\"#000000\" stroke=\"#000000\" points=\"102.5001,-298.0078 99,-288.0079 95.5001,-298.0079 102.5001,-298.0078\"/>\n</g>\n<!-- 140439753019856&#45;&gt;140439753020240 -->\n<g id=\"edge13\" class=\"edge\">\n<title>140439753019856&#45;&gt;140439753020240</title>\n<path fill=\"none\" stroke=\"#000000\" d=\"M136.2681,-520.66C134.5213,-497.2504 129.3774,-440.3384 118,-394 115.2956,-382.9853 111.1395,-371.0675 107.4032,-361.3279\"/>\n<polygon fill=\"#000000\" stroke=\"#000000\" points=\"110.5471,-359.7615 103.6023,-351.7602 104.0416,-362.3459 110.5471,-359.7615\"/>\n</g>\n<!-- 140439753020304&#45;&gt;140439753020240 -->\n<g id=\"edge15\" class=\"edge\">\n<title>140439753020304&#45;&gt;140439753020240</title>\n<path fill=\"none\" stroke=\"#000000\" d=\"M84.8838,-393.7281C87.2426,-384.9174 90.6458,-372.2055 93.5196,-361.4708\"/>\n<polygon fill=\"#000000\" stroke=\"#000000\" points=\"96.9535,-362.1778 96.1588,-351.6128 90.1917,-360.3675 96.9535,-362.1778\"/>\n</g>\n</g>\n</svg>\n"
          },
          "metadata": {},
          "execution_count": 40
        }
      ],
      "source": [
        "# RNN parameters\n",
        "U_ = torch.Tensor([0.1])\n",
        "V_ = torch.Tensor([0.2])\n",
        "W_ = torch.Tensor([0.3])\n",
        "\n",
        "# inputs\n",
        "x1_ = torch.Tensor([0.5])\n",
        "x2_ = torch.Tensor([0.6])\n",
        "x3_ = torch.Tensor([0.7])\n",
        "\n",
        "# initial value for the hidden state, a zero vector\n",
        "h0_ = torch.Tensor([0])\n",
        "\n",
        "# Set which nodes to visualize later\n",
        "visualized_nodes = [U_, ]\n",
        "for p in visualized_nodes:\n",
        "    p.requires_grad = True\n",
        "\n",
        "# Calculate h1, o1\n",
        "h1_ = torch.clamp(U_ * x1_ + V_ * h0_, min=0)\n",
        "h2_ = torch.clamp(U_ * x2_ + V_ * h1_, min=0)\n",
        "o2_ = W_ * h2_\n",
        "o1_ = W_ * h1_\n",
        "\n",
        "L_ = (o1_ - x2_)**2 + (o2_ - x3_)**2\n",
        "\n",
        "params = {k: eval(k+'_') for k in ['L', 'U', 'h1', 'o1', 'h2', 'o2']}\n",
        "\n",
        "dot = make_dot(L_, params=params)\n",
        "# Save Graph to `computation_graph_2.pdf`\n",
        "dot.render(data_dir + 'computation_graph_2')\n",
        "dot"
      ]
    },
    {
      "cell_type": "markdown",
      "id": "a1e144b1",
      "metadata": {
        "deletable": false,
        "editable": false,
        "id": "a1e144b1"
      },
      "source": [
        "<!-- BEGIN QUESTION -->\n",
        "\n",
        "**Question:** This time, find the formula for $\\frac{\\partial L(\\vect{U}, \\vect{V}, \\vect{W}, x_1, x_2, x_3, h_0)}{\\partial \\vect{U}}$, the derivative of the loss $L$ with respect to the parameter $\\vect{U}$ in terms of $\\frac{\\partial L(o_1, o_2, x_2, x_3)}{\\partial o_t}$, $\\frac{\\partial o_t( \\vect{W}, h_t)}{\\partial h_t}$, $\\frac{\\partial h_2(\\vect{U}, \\vect{V}, h_1, x_2)}{\\partial h_1}$, and $\\frac{\\partial h_t(\\vect{U}, \\vect{V}, h_{t-1}, x_t)}{\\partial \\vect{U}}$ for $t \\in \\{1,2\\}$. You might find the above computation graph useful.\n",
        "\n",
        "> How many possible paths are there in the computation graph from $\\vect{U}$ to $L$? Each path corresponds to a term in the final answer.\n",
        "\n",
        "> Hint: when we take $\\frac{\\partial h_2(\\vect{U}, \\vect{V}, h_1, x_2)}{\\partial \\vect{U}}$, we are holding other arguments (other than $\\vect{U}$) as constants, such as $h_1$. Therefore, $\\frac{\\partial h_2}{\\partial \\vect{U}}$ does not reflect the path through $h_1$ where $\\vect{U}$ can also exert influence on $h_2$: $\\vect{U} \\to h_1 \\to h_2$.\n",
        "\n",
        "<!--\n",
        "BEGIN QUESTION\n",
        "name: open_response_backprop2\n",
        "manual: true\n",
        "-->"
      ]
    },
    {
      "cell_type": "markdown",
      "id": "dfa3e422",
      "metadata": {
        "id": "dfa3e422"
      },
      "source": [
        "_$\\frac{\\partial L}{\\partial \\vect{U}}=\n",
        "( \\frac{\\partial h_2}{\\partial \\vect{U}}\\cdot\n",
        "\\frac{\\partial o_2}{\\partial h_2}\\cdot\n",
        "\\frac{\\partial L}{\\partial o_2} )+\n",
        "\\frac{\\partial h_1}{\\partial \\vect{U}}\\cdot\n",
        "( \\frac{\\partial o_1}{\\partial h_1}\\cdot\n",
        "\\frac{\\partial L}{\\partial o_1}+\n",
        "\\frac{\\partial h_2}{\\partial h_1}\\cdot\n",
        "\\frac{\\partial o_2}{\\partial h_2}\\cdot\n",
        "\\frac{\\partial L}{\\partial o_2})\n",
        "  $. There are 3 paths from $\\vect{U}$ to $\\vect{L}$_"
      ]
    },
    {
      "cell_type": "markdown",
      "id": "0ca30ece",
      "metadata": {
        "id": "0ca30ece"
      },
      "source": [
        "<!-- END QUESTION -->\n",
        "\n",
        "\n",
        "\n",
        "## RNN backprop on short sequences\n",
        "\n",
        "For the penultimate backprop challenge, consider an RNN run on an input sequence of length 3. This RNN's output sequence $o$ will consist of $o_1$, $o_2$, and $o_3$.\n",
        "\n",
        "Let's look at the computation graph. How many possible paths are there from $\\vect{U}$ to $L$? How many $h$ elements are there in each path?"
      ]
    },
    {
      "cell_type": "code",
      "execution_count": null,
      "id": "a2766aa5",
      "metadata": {
        "id": "a2766aa5",
        "outputId": "23191ecf-27c4-4325-b542-d20bba262239",
        "colab": {
          "base_uri": "https://localhost:8080/",
          "height": 1000
        }
      },
      "outputs": [
        {
          "output_type": "execute_result",
          "data": {
            "text/plain": [
              "<graphviz.dot.Digraph at 0x7fbaad915850>"
            ],
            "image/svg+xml": "<?xml version=\"1.0\" encoding=\"UTF-8\" standalone=\"no\"?>\n<!DOCTYPE svg PUBLIC \"-//W3C//DTD SVG 1.1//EN\"\n \"http://www.w3.org/Graphics/SVG/1.1/DTD/svg11.dtd\">\n<!-- Generated by graphviz version 2.40.1 (20161225.0304)\n -->\n<!-- Title: %3 Pages: 1 -->\n<svg width=\"244pt\" height=\"861pt\"\n viewBox=\"0.00 0.00 244.00 861.00\" xmlns=\"http://www.w3.org/2000/svg\" xmlns:xlink=\"http://www.w3.org/1999/xlink\">\n<g id=\"graph0\" class=\"graph\" transform=\"scale(1 1) rotate(0) translate(4 857)\">\n<title>%3</title>\n<polygon fill=\"#ffffff\" stroke=\"transparent\" points=\"-4,4 -4,-857 240,-857 240,4 -4,4\"/>\n<!-- 140439752627856 -->\n<g id=\"node1\" class=\"node\">\n<title>140439752627856</title>\n<polygon fill=\"#caff70\" stroke=\"#000000\" points=\"144,-34 90,-34 90,0 144,0 144,-34\"/>\n<text text-anchor=\"middle\" x=\"117\" y=\"-20.4\" font-family=\"Times,serif\" font-size=\"12.00\" fill=\"#000000\">Add</text>\n<text text-anchor=\"middle\" x=\"117\" y=\"-7.4\" font-family=\"Times,serif\" font-size=\"12.00\" fill=\"#000000\">L</text>\n</g>\n<!-- 140439753019920 -->\n<g id=\"node2\" class=\"node\">\n<title>140439753019920</title>\n<polygon fill=\"#d3d3d3\" stroke=\"#000000\" points=\"109,-211.5 55,-211.5 55,-190.5 109,-190.5 109,-211.5\"/>\n<text text-anchor=\"middle\" x=\"82\" y=\"-197.9\" font-family=\"Times,serif\" font-size=\"12.00\" fill=\"#000000\">Add</text>\n</g>\n<!-- 140439753019920&#45;&gt;140439752627856 -->\n<g id=\"edge1\" class=\"edge\">\n<title>140439753019920&#45;&gt;140439752627856</title>\n<path fill=\"none\" stroke=\"#000000\" d=\"M84.033,-190.3121C89.3881,-162.1596 104.008,-85.3007 111.8568,-44.0384\"/>\n<polygon fill=\"#000000\" stroke=\"#000000\" points=\"115.3116,-44.6056 113.742,-34.1277 108.4349,-43.2974 115.3116,-44.6056\"/>\n</g>\n<!-- 140439752628496 -->\n<g id=\"node3\" class=\"node\">\n<title>140439752628496</title>\n<polygon fill=\"#d3d3d3\" stroke=\"#000000\" points=\"54,-478.5 0,-478.5 0,-457.5 54,-457.5 54,-478.5\"/>\n<text text-anchor=\"middle\" x=\"27\" y=\"-464.9\" font-family=\"Times,serif\" font-size=\"12.00\" fill=\"#000000\">Pow</text>\n</g>\n<!-- 140439752628496&#45;&gt;140439753019920 -->\n<g id=\"edge2\" class=\"edge\">\n<title>140439752628496&#45;&gt;140439753019920</title>\n<path fill=\"none\" stroke=\"#000000\" d=\"M26.104,-457.3588C23.7976,-425.4382 19.561,-328.1268 46,-254 50.4059,-241.6471 58.3899,-229.4304 65.7214,-219.8447\"/>\n<polygon fill=\"#000000\" stroke=\"#000000\" points=\"68.6093,-221.8386 72.1497,-211.8527 63.1548,-217.4513 68.6093,-221.8386\"/>\n</g>\n<!-- 140439752628752 -->\n<g id=\"node4\" class=\"node\">\n<title>140439752628752</title>\n<polygon fill=\"#d3d3d3\" stroke=\"#000000\" points=\"54,-542 0,-542 0,-521 54,-521 54,-542\"/>\n<text text-anchor=\"middle\" x=\"27\" y=\"-528.4\" font-family=\"Times,serif\" font-size=\"12.00\" fill=\"#000000\">Sub</text>\n</g>\n<!-- 140439752628752&#45;&gt;140439752628496 -->\n<g id=\"edge3\" class=\"edge\">\n<title>140439752628752&#45;&gt;140439752628496</title>\n<path fill=\"none\" stroke=\"#000000\" d=\"M27,-520.7281C27,-512.0091 27,-499.4699 27,-488.8068\"/>\n<polygon fill=\"#000000\" stroke=\"#000000\" points=\"30.5001,-488.6128 27,-478.6128 23.5001,-488.6129 30.5001,-488.6128\"/>\n</g>\n<!-- 140439752627984 -->\n<g id=\"node5\" class=\"node\">\n<title>140439752627984</title>\n<polygon fill=\"#add8e6\" stroke=\"#000000\" points=\"54,-612 0,-612 0,-578 54,-578 54,-612\"/>\n<text text-anchor=\"middle\" x=\"27\" y=\"-598.4\" font-family=\"Times,serif\" font-size=\"12.00\" fill=\"#000000\">Mul</text>\n<text text-anchor=\"middle\" x=\"27\" y=\"-585.4\" font-family=\"Times,serif\" font-size=\"12.00\" fill=\"#000000\">o1</text>\n</g>\n<!-- 140439752627984&#45;&gt;140439752628752 -->\n<g id=\"edge4\" class=\"edge\">\n<title>140439752627984&#45;&gt;140439752628752</title>\n<path fill=\"none\" stroke=\"#000000\" d=\"M27,-577.9832C27,-570.1157 27,-560.6973 27,-552.4019\"/>\n<polygon fill=\"#000000\" stroke=\"#000000\" points=\"30.5001,-552.3686 27,-542.3687 23.5001,-552.3687 30.5001,-552.3686\"/>\n</g>\n<!-- 140439752627920 -->\n<g id=\"node6\" class=\"node\">\n<title>140439752627920</title>\n<polygon fill=\"#add8e6\" stroke=\"#000000\" points=\"109,-682 55,-682 55,-648 109,-648 109,-682\"/>\n<text text-anchor=\"middle\" x=\"82\" y=\"-668.4\" font-family=\"Times,serif\" font-size=\"12.00\" fill=\"#000000\">Clamp1</text>\n<text text-anchor=\"middle\" x=\"82\" y=\"-655.4\" font-family=\"Times,serif\" font-size=\"12.00\" fill=\"#000000\">h1</text>\n</g>\n<!-- 140439752627920&#45;&gt;140439752627984 -->\n<g id=\"edge5\" class=\"edge\">\n<title>140439752627920&#45;&gt;140439752627984</title>\n<path fill=\"none\" stroke=\"#000000\" d=\"M68.4045,-647.6966C61.8773,-639.3893 53.932,-629.2771 46.7534,-620.1407\"/>\n<polygon fill=\"#000000\" stroke=\"#000000\" points=\"49.3695,-617.8051 40.4391,-612.1043 43.8653,-622.1299 49.3695,-617.8051\"/>\n</g>\n<!-- 140439752629712 -->\n<g id=\"node16\" class=\"node\">\n<title>140439752629712</title>\n<polygon fill=\"#d3d3d3\" stroke=\"#000000\" points=\"126,-605.5 72,-605.5 72,-584.5 126,-584.5 126,-605.5\"/>\n<text text-anchor=\"middle\" x=\"99\" y=\"-591.9\" font-family=\"Times,serif\" font-size=\"12.00\" fill=\"#000000\">Mul</text>\n</g>\n<!-- 140439752627920&#45;&gt;140439752629712 -->\n<g id=\"edge17\" class=\"edge\">\n<title>140439752627920&#45;&gt;140439752629712</title>\n<path fill=\"none\" stroke=\"#000000\" d=\"M86.2022,-647.6966C88.5666,-637.9609 91.5331,-625.7461 94.0145,-615.5285\"/>\n<polygon fill=\"#000000\" stroke=\"#000000\" points=\"97.4204,-616.3348 96.3793,-605.7913 90.6181,-614.6828 97.4204,-616.3348\"/>\n</g>\n<!-- 140439752629392 -->\n<g id=\"node7\" class=\"node\">\n<title>140439752629392</title>\n<polygon fill=\"#d3d3d3\" stroke=\"#000000\" points=\"114,-739 60,-739 60,-718 114,-718 114,-739\"/>\n<text text-anchor=\"middle\" x=\"87\" y=\"-725.4\" font-family=\"Times,serif\" font-size=\"12.00\" fill=\"#000000\">Add</text>\n</g>\n<!-- 140439752629392&#45;&gt;140439752627920 -->\n<g id=\"edge6\" class=\"edge\">\n<title>140439752629392&#45;&gt;140439752627920</title>\n<path fill=\"none\" stroke=\"#000000\" d=\"M86.1518,-717.7281C85.5991,-710.7087 84.8514,-701.2132 84.1428,-692.2141\"/>\n<polygon fill=\"#000000\" stroke=\"#000000\" points=\"87.6173,-691.7503 83.343,-682.056 80.6389,-692.2999 87.6173,-691.7503\"/>\n</g>\n<!-- 140439752628880 -->\n<g id=\"node8\" class=\"node\">\n<title>140439752628880</title>\n<polygon fill=\"#d3d3d3\" stroke=\"#000000\" points=\"122,-796 68,-796 68,-775 122,-775 122,-796\"/>\n<text text-anchor=\"middle\" x=\"95\" y=\"-782.4\" font-family=\"Times,serif\" font-size=\"12.00\" fill=\"#000000\">Mul</text>\n</g>\n<!-- 140439752628880&#45;&gt;140439752629392 -->\n<g id=\"edge7\" class=\"edge\">\n<title>140439752628880&#45;&gt;140439752629392</title>\n<path fill=\"none\" stroke=\"#000000\" d=\"M93.4953,-774.7787C92.4896,-767.6134 91.1336,-757.9517 89.9207,-749.3097\"/>\n<polygon fill=\"#000000\" stroke=\"#000000\" points=\"93.354,-748.5896 88.498,-739.1732 86.4219,-749.5626 93.354,-748.5896\"/>\n</g>\n<!-- 140439752629520 -->\n<g id=\"node9\" class=\"node\">\n<title>140439752629520</title>\n<polygon fill=\"#add8e6\" stroke=\"#000000\" points=\"181,-853 127,-853 127,-832 181,-832 181,-853\"/>\n<text text-anchor=\"middle\" x=\"154\" y=\"-839.4\" font-family=\"Times,serif\" font-size=\"12.00\" fill=\"#000000\">U</text>\n</g>\n<!-- 140439752629520&#45;&gt;140439752628880 -->\n<g id=\"edge8\" class=\"edge\">\n<title>140439752629520&#45;&gt;140439752628880</title>\n<path fill=\"none\" stroke=\"#000000\" d=\"M142.9026,-831.7787C134.5793,-823.7376 123.0019,-812.5527 113.3139,-803.1931\"/>\n<polygon fill=\"#000000\" stroke=\"#000000\" points=\"115.6715,-800.6042 106.0477,-796.1732 110.8078,-805.6385 115.6715,-800.6042\"/>\n</g>\n<!-- 140439752629200 -->\n<g id=\"node15\" class=\"node\">\n<title>140439752629200</title>\n<polygon fill=\"#d3d3d3\" stroke=\"#000000\" points=\"181,-675.5 127,-675.5 127,-654.5 181,-654.5 181,-675.5\"/>\n<text text-anchor=\"middle\" x=\"154\" y=\"-661.9\" font-family=\"Times,serif\" font-size=\"12.00\" fill=\"#000000\">Mul</text>\n</g>\n<!-- 140439752629520&#45;&gt;140439752629200 -->\n<g id=\"edge15\" class=\"edge\">\n<title>140439752629520&#45;&gt;140439752629200</title>\n<path fill=\"none\" stroke=\"#000000\" d=\"M154,-831.9281C154,-803.3854 154,-724.3481 154,-686.1747\"/>\n<polygon fill=\"#000000\" stroke=\"#000000\" points=\"157.5001,-685.7409 154,-675.7409 150.5001,-685.7409 157.5001,-685.7409\"/>\n</g>\n<!-- 140439752629328 -->\n<g id=\"node22\" class=\"node\">\n<title>140439752629328</title>\n<polygon fill=\"#d3d3d3\" stroke=\"#000000\" points=\"236,-739 182,-739 182,-718 236,-718 236,-739\"/>\n<text text-anchor=\"middle\" x=\"209\" y=\"-725.4\" font-family=\"Times,serif\" font-size=\"12.00\" fill=\"#000000\">Mul</text>\n</g>\n<!-- 140439752629520&#45;&gt;140439752629328 -->\n<g id=\"edge24\" class=\"edge\">\n<title>140439752629520&#45;&gt;140439752629328</title>\n<path fill=\"none\" stroke=\"#000000\" d=\"M159.0757,-831.9795C168.2379,-812.9888 187.6757,-772.6995 199.4111,-748.3751\"/>\n<polygon fill=\"#000000\" stroke=\"#000000\" points=\"202.5831,-749.8551 203.7761,-739.3276 196.2785,-746.8133 202.5831,-749.8551\"/>\n</g>\n<!-- 140439752628688 -->\n<g id=\"node10\" class=\"node\">\n<title>140439752628688</title>\n<polygon fill=\"#d3d3d3\" stroke=\"#000000\" points=\"109,-281.5 55,-281.5 55,-260.5 109,-260.5 109,-281.5\"/>\n<text text-anchor=\"middle\" x=\"82\" y=\"-267.9\" font-family=\"Times,serif\" font-size=\"12.00\" fill=\"#000000\">Pow</text>\n</g>\n<!-- 140439752628688&#45;&gt;140439753019920 -->\n<g id=\"edge9\" class=\"edge\">\n<title>140439752628688&#45;&gt;140439753019920</title>\n<path fill=\"none\" stroke=\"#000000\" d=\"M82,-260.3685C82,-250.1925 82,-234.5606 82,-221.8912\"/>\n<polygon fill=\"#000000\" stroke=\"#000000\" points=\"85.5001,-221.7315 82,-211.7315 78.5001,-221.7316 85.5001,-221.7315\"/>\n</g>\n<!-- 140439752628816 -->\n<g id=\"node11\" class=\"node\">\n<title>140439752628816</title>\n<polygon fill=\"#d3d3d3\" stroke=\"#000000\" points=\"109,-345 55,-345 55,-324 109,-324 109,-345\"/>\n<text text-anchor=\"middle\" x=\"82\" y=\"-331.4\" font-family=\"Times,serif\" font-size=\"12.00\" fill=\"#000000\">Sub</text>\n</g>\n<!-- 140439752628816&#45;&gt;140439752628688 -->\n<g id=\"edge10\" class=\"edge\">\n<title>140439752628816&#45;&gt;140439752628688</title>\n<path fill=\"none\" stroke=\"#000000\" d=\"M82,-323.7281C82,-315.0091 82,-302.4699 82,-291.8068\"/>\n<polygon fill=\"#000000\" stroke=\"#000000\" points=\"85.5001,-291.6128 82,-281.6128 78.5001,-291.6129 85.5001,-291.6128\"/>\n</g>\n<!-- 140439752628112 -->\n<g id=\"node12\" class=\"node\">\n<title>140439752628112</title>\n<polygon fill=\"#add8e6\" stroke=\"#000000\" points=\"109,-415 55,-415 55,-381 109,-381 109,-415\"/>\n<text text-anchor=\"middle\" x=\"82\" y=\"-401.4\" font-family=\"Times,serif\" font-size=\"12.00\" fill=\"#000000\">Mul</text>\n<text text-anchor=\"middle\" x=\"82\" y=\"-388.4\" font-family=\"Times,serif\" font-size=\"12.00\" fill=\"#000000\">o2</text>\n</g>\n<!-- 140439752628112&#45;&gt;140439752628816 -->\n<g id=\"edge11\" class=\"edge\">\n<title>140439752628112&#45;&gt;140439752628816</title>\n<path fill=\"none\" stroke=\"#000000\" d=\"M82,-380.9832C82,-373.1157 82,-363.6973 82,-355.4019\"/>\n<polygon fill=\"#000000\" stroke=\"#000000\" points=\"85.5001,-355.3686 82,-345.3687 78.5001,-355.3687 85.5001,-355.3686\"/>\n</g>\n<!-- 140439752628048 -->\n<g id=\"node13\" class=\"node\">\n<title>140439752628048</title>\n<polygon fill=\"#add8e6\" stroke=\"#000000\" points=\"154,-485 100,-485 100,-451 154,-451 154,-485\"/>\n<text text-anchor=\"middle\" x=\"127\" y=\"-471.4\" font-family=\"Times,serif\" font-size=\"12.00\" fill=\"#000000\">Clamp1</text>\n<text text-anchor=\"middle\" x=\"127\" y=\"-458.4\" font-family=\"Times,serif\" font-size=\"12.00\" fill=\"#000000\">h2</text>\n</g>\n<!-- 140439752628048&#45;&gt;140439752628112 -->\n<g id=\"edge12\" class=\"edge\">\n<title>140439752628048&#45;&gt;140439752628112</title>\n<path fill=\"none\" stroke=\"#000000\" d=\"M115.8764,-450.6966C110.645,-442.5589 104.3001,-432.689 98.5222,-423.7013\"/>\n<polygon fill=\"#000000\" stroke=\"#000000\" points=\"101.3474,-421.6235 92.9956,-415.1043 95.4591,-425.4088 101.3474,-421.6235\"/>\n</g>\n<!-- 140439752629968 -->\n<g id=\"node23\" class=\"node\">\n<title>140439752629968</title>\n<polygon fill=\"#d3d3d3\" stroke=\"#000000\" points=\"181,-408.5 127,-408.5 127,-387.5 181,-387.5 181,-408.5\"/>\n<text text-anchor=\"middle\" x=\"154\" y=\"-394.9\" font-family=\"Times,serif\" font-size=\"12.00\" fill=\"#000000\">Mul</text>\n</g>\n<!-- 140439752628048&#45;&gt;140439752629968 -->\n<g id=\"edge26\" class=\"edge\">\n<title>140439752628048&#45;&gt;140439752629968</title>\n<path fill=\"none\" stroke=\"#000000\" d=\"M133.6742,-450.6966C137.4689,-440.8584 142.2401,-428.4887 146.2061,-418.2065\"/>\n<polygon fill=\"#000000\" stroke=\"#000000\" points=\"149.5044,-419.3809 149.8377,-408.7913 142.9734,-416.8617 149.5044,-419.3809\"/>\n</g>\n<!-- 140439752629648 -->\n<g id=\"node14\" class=\"node\">\n<title>140439752629648</title>\n<polygon fill=\"#d3d3d3\" stroke=\"#000000\" points=\"154,-542 100,-542 100,-521 154,-521 154,-542\"/>\n<text text-anchor=\"middle\" x=\"127\" y=\"-528.4\" font-family=\"Times,serif\" font-size=\"12.00\" fill=\"#000000\">Add</text>\n</g>\n<!-- 140439752629648&#45;&gt;140439752628048 -->\n<g id=\"edge13\" class=\"edge\">\n<title>140439752629648&#45;&gt;140439752628048</title>\n<path fill=\"none\" stroke=\"#000000\" d=\"M127,-520.7281C127,-513.7087 127,-504.2132 127,-495.2141\"/>\n<polygon fill=\"#000000\" stroke=\"#000000\" points=\"130.5001,-495.0559 127,-485.056 123.5001,-495.056 130.5001,-495.0559\"/>\n</g>\n<!-- 140439752629200&#45;&gt;140439752629648 -->\n<g id=\"edge14\" class=\"edge\">\n<title>140439752629200&#45;&gt;140439752629648</title>\n<path fill=\"none\" stroke=\"#000000\" d=\"M151.7905,-654.0751C147.2986,-631.8651 137.0353,-581.1191 131.221,-552.3703\"/>\n<polygon fill=\"#000000\" stroke=\"#000000\" points=\"134.5775,-551.3104 129.1646,-542.2027 127.7165,-552.6981 134.5775,-551.3104\"/>\n</g>\n<!-- 140439752629712&#45;&gt;140439752629648 -->\n<g id=\"edge16\" class=\"edge\">\n<title>140439752629712&#45;&gt;140439752629648</title>\n<path fill=\"none\" stroke=\"#000000\" d=\"M103.7498,-584.2281C107.7158,-575.2338 113.4744,-562.1741 118.2682,-551.3025\"/>\n<polygon fill=\"#000000\" stroke=\"#000000\" points=\"121.4881,-552.6749 122.3203,-542.1128 115.0832,-549.8507 121.4881,-552.6749\"/>\n</g>\n<!-- 140439753661328 -->\n<g id=\"node17\" class=\"node\">\n<title>140439753661328</title>\n<polygon fill=\"#d3d3d3\" stroke=\"#000000\" points=\"176,-91 122,-91 122,-70 176,-70 176,-91\"/>\n<text text-anchor=\"middle\" x=\"149\" y=\"-77.4\" font-family=\"Times,serif\" font-size=\"12.00\" fill=\"#000000\">Pow</text>\n</g>\n<!-- 140439753661328&#45;&gt;140439752627856 -->\n<g id=\"edge18\" class=\"edge\">\n<title>140439753661328&#45;&gt;140439752627856</title>\n<path fill=\"none\" stroke=\"#000000\" d=\"M143.5716,-69.7281C139.8805,-62.4035 134.8307,-52.3828 130.1242,-43.0433\"/>\n<polygon fill=\"#000000\" stroke=\"#000000\" points=\"133.221,-41.411 125.5951,-34.056 126.9699,-44.5613 133.221,-41.411\"/>\n</g>\n<!-- 140439752628560 -->\n<g id=\"node18\" class=\"node\">\n<title>140439752628560</title>\n<polygon fill=\"#d3d3d3\" stroke=\"#000000\" points=\"178,-148 124,-148 124,-127 178,-127 178,-148\"/>\n<text text-anchor=\"middle\" x=\"151\" y=\"-134.4\" font-family=\"Times,serif\" font-size=\"12.00\" fill=\"#000000\">Sub</text>\n</g>\n<!-- 140439752628560&#45;&gt;140439753661328 -->\n<g id=\"edge19\" class=\"edge\">\n<title>140439752628560&#45;&gt;140439753661328</title>\n<path fill=\"none\" stroke=\"#000000\" d=\"M150.6238,-126.7787C150.3724,-119.6134 150.0334,-109.9517 149.7302,-101.3097\"/>\n<polygon fill=\"#000000\" stroke=\"#000000\" points=\"153.2231,-101.0443 149.3745,-91.1732 146.2274,-101.2898 153.2231,-101.0443\"/>\n</g>\n<!-- 140439752628240 -->\n<g id=\"node19\" class=\"node\">\n<title>140439752628240</title>\n<polygon fill=\"#add8e6\" stroke=\"#000000\" points=\"181,-218 127,-218 127,-184 181,-184 181,-218\"/>\n<text text-anchor=\"middle\" x=\"154\" y=\"-204.4\" font-family=\"Times,serif\" font-size=\"12.00\" fill=\"#000000\">Mul</text>\n<text text-anchor=\"middle\" x=\"154\" y=\"-191.4\" font-family=\"Times,serif\" font-size=\"12.00\" fill=\"#000000\">o3</text>\n</g>\n<!-- 140439752628240&#45;&gt;140439752628560 -->\n<g id=\"edge20\" class=\"edge\">\n<title>140439752628240&#45;&gt;140439752628560</title>\n<path fill=\"none\" stroke=\"#000000\" d=\"M153.1961,-183.9832C152.8244,-176.1157 152.3794,-166.6973 151.9875,-158.4019\"/>\n<polygon fill=\"#000000\" stroke=\"#000000\" points=\"155.4816,-158.1923 151.5135,-148.3687 148.4894,-158.5227 155.4816,-158.1923\"/>\n</g>\n<!-- 140439752628176 -->\n<g id=\"node20\" class=\"node\">\n<title>140439752628176</title>\n<polygon fill=\"#add8e6\" stroke=\"#000000\" points=\"181,-288 127,-288 127,-254 181,-254 181,-288\"/>\n<text text-anchor=\"middle\" x=\"154\" y=\"-274.4\" font-family=\"Times,serif\" font-size=\"12.00\" fill=\"#000000\">Clamp1</text>\n<text text-anchor=\"middle\" x=\"154\" y=\"-261.4\" font-family=\"Times,serif\" font-size=\"12.00\" fill=\"#000000\">h3</text>\n</g>\n<!-- 140439752628176&#45;&gt;140439752628240 -->\n<g id=\"edge21\" class=\"edge\">\n<title>140439752628176&#45;&gt;140439752628240</title>\n<path fill=\"none\" stroke=\"#000000\" d=\"M154,-253.6966C154,-245.9827 154,-236.7125 154,-228.1124\"/>\n<polygon fill=\"#000000\" stroke=\"#000000\" points=\"157.5001,-228.1043 154,-218.1043 150.5001,-228.1044 157.5001,-228.1043\"/>\n</g>\n<!-- 140439752629776 -->\n<g id=\"node21\" class=\"node\">\n<title>140439752629776</title>\n<polygon fill=\"#d3d3d3\" stroke=\"#000000\" points=\"181,-345 127,-345 127,-324 181,-324 181,-345\"/>\n<text text-anchor=\"middle\" x=\"154\" y=\"-331.4\" font-family=\"Times,serif\" font-size=\"12.00\" fill=\"#000000\">Add</text>\n</g>\n<!-- 140439752629776&#45;&gt;140439752628176 -->\n<g id=\"edge22\" class=\"edge\">\n<title>140439752629776&#45;&gt;140439752628176</title>\n<path fill=\"none\" stroke=\"#000000\" d=\"M154,-323.7281C154,-316.7087 154,-307.2132 154,-298.2141\"/>\n<polygon fill=\"#000000\" stroke=\"#000000\" points=\"157.5001,-298.0559 154,-288.056 150.5001,-298.056 157.5001,-298.0559\"/>\n</g>\n<!-- 140439752629328&#45;&gt;140439752629776 -->\n<g id=\"edge23\" class=\"edge\">\n<title>140439752629328&#45;&gt;140439752629776</title>\n<path fill=\"none\" stroke=\"#000000\" d=\"M209,-717.7712C209,-695.1017 209,-640.6589 209,-595 209,-595 209,-595 209,-468 209,-428.422 206.7471,-416.8602 190,-381 185.2547,-370.8389 177.9537,-360.8366 171.1639,-352.7276\"/>\n<polygon fill=\"#000000\" stroke=\"#000000\" points=\"173.6328,-350.235 164.4017,-345.0352 168.3754,-354.8566 173.6328,-350.235\"/>\n</g>\n<!-- 140439752629968&#45;&gt;140439752629776 -->\n<g id=\"edge25\" class=\"edge\">\n<title>140439752629968&#45;&gt;140439752629776</title>\n<path fill=\"none\" stroke=\"#000000\" d=\"M154,-387.2281C154,-378.5091 154,-365.9699 154,-355.3068\"/>\n<polygon fill=\"#000000\" stroke=\"#000000\" points=\"157.5001,-355.1128 154,-345.1128 150.5001,-355.1129 157.5001,-355.1128\"/>\n</g>\n</g>\n</svg>\n"
          },
          "metadata": {},
          "execution_count": 41
        }
      ],
      "source": [
        "# RNN parameters\n",
        "U_ = torch.Tensor([0.1])\n",
        "V_ = torch.Tensor([0.2])\n",
        "W_ = torch.Tensor([0.3])\n",
        "\n",
        "# inputs\n",
        "x1_ = torch.Tensor([0.5])\n",
        "x2_ = torch.Tensor([0.6])\n",
        "x3_ = torch.Tensor([0.7])\n",
        "x4_ = torch.Tensor([0.8])\n",
        "\n",
        "# initial value for the hidden state, a zero vector\n",
        "h0_ = torch.Tensor([0])\n",
        "\n",
        "# Set which nodes to visualize later\n",
        "visualized_nodes = [U_, ]\n",
        "for p in visualized_nodes:\n",
        "    p.requires_grad = True\n",
        "\n",
        "# Calculate h1, o1\n",
        "h1_ = torch.clamp(U_ * x1_ + V_ * h0_, min=0)\n",
        "h2_ = torch.clamp(U_ * x2_ + V_ * h1_, min=0)\n",
        "h3_ = torch.clamp(U_ * x3_ + V_ * h2_, min=0)\n",
        "o3_ = W_ * h3_\n",
        "o2_ = W_ * h2_\n",
        "o1_ = W_ * h1_\n",
        "\n",
        "L_ = (o1_ - x2_)**2 + (o2_ - x3_)**2 + (o3_ - x4_)**2\n",
        "\n",
        "params = {k: eval(k+'_') for k in ['L', 'U', 'h1', 'o1', 'h2', 'o2', 'h3', 'o3']}\n",
        "\n",
        "dot = make_dot(L_, params=params)\n",
        "# Save Graph to `computation_graph_3.pdf`\n",
        "dot.render(data_dir + 'computation_graph_3')\n",
        "dot"
      ]
    },
    {
      "cell_type": "markdown",
      "id": "3fecaeae",
      "metadata": {
        "deletable": false,
        "editable": false,
        "id": "3fecaeae"
      },
      "source": [
        "<!-- BEGIN QUESTION -->\n",
        "\n",
        "**Question:** This time, find the formula for $\\frac{\\partial L(\\vect{U}, \\vect{V}, \\vect{W}, x_1, x_2, x_3, x_4, h_0)}{\\partial \\vect{U}}$ in terms of $\\frac{\\partial L(o_1,o_2,o_3,x_2,x_3,x_{4})}{\\partial o_t}$, $\\frac{\\partial o_t(\\vect{W}, h_t)}{\\partial h_t}$, $\\frac{\\partial h_t(\\vect{U}, \\vect{V}, h_{t-1}, x_t)}{\\partial h_{t-1}}$, and $\\frac{\\partial h_t(\\vect{U}, \\vect{V}, h_{t-1}, x_t)}{\\partial \\vect{U}}$ for $t \\in \\{1, 2, 3\\}$.\n",
        "\n",
        "> You should start to see a pattern emerging from this solution.\n",
        "\n",
        "<!--\n",
        "BEGIN QUESTION\n",
        "name: open_response_backprop3\n",
        "manual: true\n",
        "-->"
      ]
    },
    {
      "cell_type": "markdown",
      "id": "07e65cd1",
      "metadata": {
        "id": "07e65cd1"
      },
      "source": [
        "_$\\frac{\\partial L}{\\partial \\vect{U}}=\n",
        "\\frac{\\partial h_3}{\\partial \\vect{U}}\n",
        "\\frac{\\partial o_3}{\\partial h_3}\n",
        "\\frac{\\partial L}{\\partial o_3}+\n",
        "\\frac{\\partial h_2}{\\partial \\vect{U}}\n",
        "(\\frac{\\partial o_2}{\\partial h_2}\n",
        "\\frac{\\partial L}{\\partial o_2} +\n",
        "\\frac{\\partial h_3}{\\partial h_2}\n",
        "\\frac{\\partial o_3}{\\partial h_3}\n",
        "\\frac{\\partial L}{\\partial o_3})+\n",
        "\\frac{\\partial h_1}{\\partial \\vect{U}}\n",
        "( \\frac{\\partial o_1}{\\partial h_1}\n",
        "\\frac{\\partial L}{\\partial o_1}+\n",
        "\\frac{\\partial h_2}{\\partial h_1}\n",
        "\\frac{\\partial o_2}{\\partial h_2}\n",
        "\\frac{\\partial L}{\\partial o_2}+\n",
        "\\frac{\\partial h_2}{\\partial h_1}\n",
        "\\frac{\\partial h_3}{\\partial h_2}\n",
        "\\frac{\\partial o_3}{\\partial h_3}\n",
        "\\frac{\\partial L}{\\partial o_3}).\n",
        "$ There are 6 paths from $\\vect{U}$ to $\\vect{L}$_"
      ]
    },
    {
      "cell_type": "markdown",
      "id": "2d7ab301",
      "metadata": {
        "deletable": false,
        "editable": false,
        "id": "2d7ab301"
      },
      "source": [
        "<!-- END QUESTION -->\n",
        "\n",
        "<!-- BEGIN QUESTION -->\n",
        "\n",
        "## Looking back\n",
        "\n",
        "In the last few problems your answers were in terms of partial derivatives that we gave you. In this exercise you will calculate part of a partial derivative.\n",
        "\n",
        "**Question:** Referring back to the first problem in this lab, recall that \n",
        "\n",
        "$$ \\vect{U} = \\begin{bmatrix} -0.3 & 0.6 \\\\ 0.2 & 0.1 \\end{bmatrix}, \\vect{V} = \\begin{bmatrix} 0.4 & 0.4 \\\\ 0.9 & -0.7 \\end{bmatrix}, x_1 = \\begin{bmatrix} 0 \\\\ 1 \\end{bmatrix},   h_0 = \\begin{bmatrix} 0 \\\\ 0 \\end{bmatrix}$$\n",
        "               \n",
        "Find the partial derivative $\\frac{\\partial h_{1}}{\\partial U_{1,1}}$, where $U_{1,1}$ is the element in the first row and first column of the matrix $\\vect{U}$.\n",
        "\n",
        "> **Hint:** We didn't tell you what the function $\\sigma$ is. Turns out you will not need it! If you set it up right, you will see that you will not have to do much math at all.\n",
        "\n",
        "<!--\n",
        "BEGIN QUESTION\n",
        "name: open_response_looking_back\n",
        "manual: true\n",
        "-->"
      ]
    },
    {
      "cell_type": "markdown",
      "id": "525ef44a",
      "metadata": {
        "id": "525ef44a"
      },
      "source": [
        "_$\\frac{\\partial h_{1}}{\\partial U_{1,1}} = \\frac{\\partial \\sigma(\\vect{U}_{11}\\cdot x_{11} + {U}_{12}\\cdot x_{12})}{\\partial U_{1,1}} =\n",
        "\\frac{\\partial \\sigma(\\vect{U}_{11}\\cdot x_{11})}{\\partial U_{1,1}}\\cdot x_{11}= \\frac{\\partial \\sigma(\\vect{U}_{11}\\cdot x_{11})}{\\partial U_{1,1}}\\cdot 0 = 0$_"
      ]
    },
    {
      "cell_type": "markdown",
      "id": "4e142feb",
      "metadata": {
        "deletable": false,
        "editable": false,
        "id": "4e142feb"
      },
      "source": [
        "<!-- END QUESTION -->\n",
        "\n",
        "Now, let's verify your solution above using PyTorch, which can calculate gradients automatically. We show an example below of how to calculate gradients. Adapt it to find the gradients of $\\frac{\\partial h_{1,1}}{\\partial \\vect{U}}$ (where $h_{1,1}$ denotes the first element of vector $h_1$, and here we are taking the derivative with respect to the entire matrix $\\vect{U}$). Use ReLU as $\\sigma$.\n",
        "\n",
        "\n",
        "<!--\n",
        "BEGIN QUESTION\n",
        "name: automatic_diff\n",
        "-->"
      ]
    },
    {
      "cell_type": "code",
      "execution_count": null,
      "id": "11aaea31",
      "metadata": {
        "id": "11aaea31",
        "outputId": "50acc405-ef0f-4465-8593-116d17ac25e3",
        "colab": {
          "base_uri": "https://localhost:8080/"
        }
      },
      "outputs": [
        {
          "output_type": "stream",
          "name": "stdout",
          "text": [
            "Gradient of W: tensor([[0., 1.],\n",
            "        [0., 0.]])\n"
          ]
        }
      ],
      "source": [
        "# TODO: modify the code below to find the gradients of \n",
        "# $\\frac{\\partial h_{1,1}}{\\partial \\vect{U}}$\n",
        "\n",
        "# RNN parameters\n",
        "U_ = torch.Tensor([ [-0.3,  0.6],\n",
        "               [ 0.2,  0.1] ])\n",
        "V_ = torch.Tensor([ [ 0.4,  0.4],\n",
        "               [ 0.9, -0.7] ])\n",
        "U_.requires_grad = True\n",
        "\n",
        "# inputs\n",
        "x1_ = torch.Tensor([0.0, 1.0])\n",
        "# initial value for the hidden state, a zero vector\n",
        "h0_ = torch.Tensor([0, 0])\n",
        "h1_ = torch.clamp(U_@x1_,min=0)\n",
        "h11 = h1_@torch.Tensor([1,0])\n",
        "# The magic gradient computation\n",
        "h11.backward()\n",
        "U_grad = U_.grad\n",
        "print (f'Gradient of W: {U_grad}')"
      ]
    },
    {
      "cell_type": "code",
      "execution_count": null,
      "id": "b2d9f72c",
      "metadata": {
        "deletable": false,
        "editable": false,
        "id": "b2d9f72c",
        "colab": {
          "base_uri": "https://localhost:8080/",
          "height": 46
        },
        "outputId": "c20e7e05-1341-426a-b6e3-d994265359dc"
      },
      "outputs": [
        {
          "output_type": "execute_result",
          "data": {
            "text/plain": [
              "\n",
              "    All tests passed!\n",
              "    "
            ],
            "text/html": [
              "\n",
              "    \n",
              "    \n",
              "        <p>All tests passed!</p>\n",
              "    \n",
              "    "
            ]
          },
          "metadata": {},
          "execution_count": 43
        }
      ],
      "source": [
        "grader.check(\"automatic_diff\")"
      ]
    },
    {
      "cell_type": "markdown",
      "id": "469c2615",
      "metadata": {
        "id": "469c2615"
      },
      "source": [
        "Does the computed gradient agree with your calculation of $\\frac{\\partial h_{1}}{\\partial U_{1,1}}$? (Note that here you only calculated $\\frac{\\partial h_{1,1}}{\\partial \\vect{U}}$ through PyTorch, so let's just focus on $\\frac{\\partial h_{1,1}}{\\partial U_{1,1}}$.)"
      ]
    },
    {
      "cell_type": "markdown",
      "id": "52f5f597",
      "metadata": {
        "id": "52f5f597"
      },
      "source": [
        "By now, hopefully you have got some idea of how PyTorch computes gradients with respect to $\\vect{U}$ by calling a `backward` function on `h11`: the reason is that PyTorch maintains an underlying computation graph, and it can find all ancestors of `h11` (including $\\vect{U}$). The gradient computation process is essentially applying chain rules on this computation graph. (Think of how you would implement it yourself.)"
      ]
    },
    {
      "cell_type": "markdown",
      "id": "2dc2dac0",
      "metadata": {
        "deletable": false,
        "editable": false,
        "id": "2dc2dac0"
      },
      "source": [
        "<!-- BEGIN QUESTION -->\n",
        "\n",
        "## Bonus section: RNN backprop on arbitrary sequences\n",
        "\n",
        "> **This section is more challenging in nature and is therefore a bonus.**\n",
        "\n",
        "The final challenge! Consider an RNN run on an input sequence of arbitrary length $N$. \n",
        "\n",
        "**Question:** Find a general formula for $\\frac{\\partial L(\\vect{U}, \\vect{V}, \\vect{W}, x_1,\\cdots, x_{N+1}, h_0)}{\\partial \\vect{U}}$ in terms of $\\frac{\\partial L(o_1,\\cdots,o_N, x_2, \\cdots, x_{N+1})}{\\partial o_t}$, $\\frac{\\partial o_t(\\vect{W}, h_t)}{\\partial h_t}$, $\\frac{\\partial h_t(\\vect{U}, \\vect{V}, h_{t-1}, x_t)}{\\partial h_{t-1}}$, and $\\frac{\\partial h_t(\\vect{U}, \\vect{V}, h_{t-1}, x_t)}{\\partial \\vect{U}}$ for $t \\in \\{1, \\ldots, N\\}$.\n",
        "\n",
        "> Hint: How many terms are there when $N$ is 1, 2, or 3? How many possible paths are there from $\\vect{U}$ to $L$ in the computation graph?\n",
        "\n",
        "> Hint: Your solution might look a little like\n",
        "$$ \\sum + \\sum\\left(\\sum\\left(\\prod\\right)\\right) $$\n",
        "\n",
        "<!--\n",
        "BEGIN QUESTION\n",
        "name: open_response_backprop4\n",
        "manual: true\n",
        "-->"
      ]
    },
    {
      "cell_type": "markdown",
      "id": "09ad891c",
      "metadata": {
        "id": "09ad891c"
      },
      "source": [
        "_We didn't manage to find a general formula ☹_\n",
        "\n",
        "_But! If T[i] is the number of terms when N=i, then T[i]=T[i-1]+i is a recursive formula for the number of terms._"
      ]
    },
    {
      "cell_type": "markdown",
      "id": "e65aa547",
      "metadata": {
        "deletable": false,
        "editable": false,
        "id": "e65aa547"
      },
      "source": [
        "<!-- END QUESTION -->\n",
        "\n",
        "<!-- BEGIN QUESTION -->\n",
        "\n",
        "# Lab debrief\n",
        "\n",
        "**Question:** We're interested in any thoughts your group has about this lab so that we can improve this lab for later years, and to inform later labs for this year. Please list any issues that arose or comments you have to improve the lab. Useful things to comment on include the following: \n",
        "\n",
        "* Was the lab too long or too short?\n",
        "* Were the readings appropriate for the lab? \n",
        "* Was it clear (at least after you completed the lab) what the points of the exercises were? \n",
        "* Are there additions or changes you think would make the lab better?\n",
        "\n",
        "<!--\n",
        "BEGIN QUESTION\n",
        "name: open_response_debrief\n",
        "manual: true\n",
        "-->"
      ]
    },
    {
      "cell_type": "markdown",
      "id": "8f793011",
      "metadata": {
        "id": "8f793011"
      },
      "source": [
        "_We think this lab was too long, and even harder than previous labs. the reading was appropiate and it was clear._"
      ]
    },
    {
      "cell_type": "markdown",
      "id": "b11048b1",
      "metadata": {
        "id": "b11048b1"
      },
      "source": [
        "<!-- END QUESTION -->\n",
        "\n",
        "\n",
        "\n",
        "# End of lab 2-2"
      ]
    },
    {
      "cell_type": "markdown",
      "id": "f00a0a66",
      "metadata": {
        "deletable": false,
        "editable": false,
        "id": "f00a0a66"
      },
      "source": [
        "---\n",
        "\n",
        "To double-check your work, the cell below will rerun all of the autograder tests."
      ]
    },
    {
      "cell_type": "code",
      "execution_count": null,
      "id": "9859d43b",
      "metadata": {
        "deletable": false,
        "editable": false,
        "id": "9859d43b",
        "colab": {
          "base_uri": "https://localhost:8080/",
          "height": 210
        },
        "outputId": "85a36d6a-c01c-4c8f-9429-c892bc0cce90"
      },
      "outputs": [
        {
          "output_type": "execute_result",
          "data": {
            "text/plain": [
              "automatic_diff:\n",
              "\n",
              "    All tests passed!\n",
              "    \n",
              "\n",
              "bigram:\n",
              "\n",
              "    All tests passed!\n",
              "    \n",
              "\n",
              "forward:\n",
              "\n",
              "    All tests passed!\n",
              "    \n",
              "\n",
              "tiny_bigram_RNN:\n",
              "\n",
              "    All tests passed!\n",
              "    \n"
            ],
            "text/html": [
              "<p><strong>automatic_diff:</strong></p>\n",
              "\n",
              "    \n",
              "    \n",
              "        <p>All tests passed!</p>\n",
              "    \n",
              "    \n",
              "\n",
              "<p><strong>bigram:</strong></p>\n",
              "\n",
              "    \n",
              "    \n",
              "        <p>All tests passed!</p>\n",
              "    \n",
              "    \n",
              "\n",
              "<p><strong>forward:</strong></p>\n",
              "\n",
              "    \n",
              "    \n",
              "        <p>All tests passed!</p>\n",
              "    \n",
              "    \n",
              "\n",
              "<p><strong>tiny_bigram_RNN:</strong></p>\n",
              "\n",
              "    \n",
              "    \n",
              "        <p>All tests passed!</p>\n",
              "    \n",
              "    \n",
              "\n"
            ]
          },
          "metadata": {},
          "execution_count": 44
        }
      ],
      "source": [
        "grader.check_all()"
      ]
    }
  ],
  "metadata": {
    "kernelspec": {
      "display_name": "Python 3 (ipykernel)",
      "language": "python",
      "name": "python3"
    },
    "language_info": {
      "codemirror_mode": {
        "name": "ipython",
        "version": 3
      },
      "file_extension": ".py",
      "mimetype": "text/x-python",
      "name": "python",
      "nbconvert_exporter": "python",
      "pygments_lexer": "ipython3",
      "version": "3.8.10"
    },
    "title": "CS236299 Lab 2-2 – Recurrent neural networks",
    "colab": {
      "name": "NLP lab2-2.ipynb",
      "provenance": [],
      "collapsed_sections": []
    }
  },
  "nbformat": 4,
  "nbformat_minor": 5
}