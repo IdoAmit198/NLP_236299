{
  "cells": [
    {
      "cell_type": "code",
      "execution_count": 1,
      "id": "327c09b5",
      "metadata": {
        "deletable": false,
        "editable": false,
        "jupyter": {
          "outputs_hidden": true,
          "source_hidden": true
        },
        "colab": {
          "base_uri": "https://localhost:8080/"
        },
        "id": "327c09b5",
        "outputId": "6bf37a34-29ee-4b2d-c509-b952b8500ef7"
      },
      "outputs": [
        {
          "output_type": "stream",
          "name": "stdout",
          "text": [
            "\n"
          ]
        }
      ],
      "source": [
        "# Please do not change this cell because some hidden tests might depend on it.\n",
        "import os\n",
        "\n",
        "# Otter grader does not handle ! commands well, so we define and use our\n",
        "# own function to execute shell commands.\n",
        "def shell(commands, warn=True):\n",
        "    \"\"\"Executes the string `commands` as a sequence of shell commands.\n",
        "     \n",
        "       Prints the result to stdout and returns the exit status. \n",
        "       Provides a printed warning on non-zero exit status unless `warn` \n",
        "       flag is unset.\n",
        "    \"\"\"\n",
        "    file = os.popen(commands)\n",
        "    print (file.read().rstrip('\\n'))\n",
        "    exit_status = file.close()\n",
        "    if warn and exit_status != None:\n",
        "        print(f\"Completed with errors. Exit status: {exit_status}\\n\")\n",
        "    return exit_status\n",
        "\n",
        "shell(\"\"\"\n",
        "ls requirements.txt >/dev/null 2>&1\n",
        "if [ ! $? = 0 ]; then\n",
        " rm -rf .tmp\n",
        " git clone https://github.com/cs236299-2022-spring/lab1-5.git .tmp\n",
        " mv .tmp/tests ./\n",
        " mv .tmp/requirements.txt ./\n",
        " rm -rf .tmp\n",
        "fi\n",
        "pip install -q -r requirements.txt\n",
        "\"\"\")"
      ]
    },
    {
      "cell_type": "code",
      "execution_count": 2,
      "id": "a67d96c3",
      "metadata": {
        "deletable": false,
        "editable": false,
        "id": "a67d96c3"
      },
      "outputs": [],
      "source": [
        "# Initialize Otter\n",
        "import otter\n",
        "grader = otter.Notebook()"
      ]
    },
    {
      "cell_type": "raw",
      "id": "7b4d9fc8",
      "metadata": {
        "id": "7b4d9fc8"
      },
      "source": [
        "%%latex\n",
        "\\newcommand{\\vect}[1]{\\mathbf{#1}}\n",
        "\\newcommand{\\cnt}[1]{\\sharp(#1)}\n",
        "\\newcommand{\\argmax}[1]{\\underset{#1}{\\operatorname{argmax}}}\n",
        "\\newcommand{\\softmax}{\\operatorname{softmax}}\n",
        "\\newcommand{\\Prob}{\\Pr}\n",
        "\\newcommand{\\given}{\\,|\\,}\n"
      ]
    },
    {
      "cell_type": "markdown",
      "id": "f6d42c4a",
      "metadata": {
        "id": "f6d42c4a"
      },
      "source": [
        "$$\n",
        "\\renewcommand{\\vect}[1]{\\mathbf{#1}}\n",
        "\\renewcommand{\\cnt}[1]{\\sharp(#1)}\n",
        "\\renewcommand{\\argmax}[1]{\\underset{#1}{\\operatorname{argmax}}}\n",
        "\\renewcommand{\\softmax}{\\operatorname{softmax}}\n",
        "\\renewcommand{\\Prob}{\\Pr}\n",
        "\\renewcommand{\\given}{\\,|\\,}\n",
        "$$"
      ]
    },
    {
      "cell_type": "markdown",
      "id": "c6fab167",
      "metadata": {
        "tags": [
          "remove_for_latex"
        ],
        "id": "c6fab167"
      },
      "source": [
        "# Course 236299\n",
        "## Lab 1-5 – Scaling up: Torchtext and PyTorch"
      ]
    },
    {
      "cell_type": "markdown",
      "id": "cc667b00",
      "metadata": {
        "id": "cc667b00"
      },
      "source": [
        "As you've seen, a typical pipeline for NLP applications based on supervised machine learning involves several standard components:\n",
        "\n",
        "1. Loading of annotated textual corpora.\n",
        "2. Tokenization and normalization of the text.\n",
        "3. Distributing instances into subcorpora, for instance, training, development, and test corpora.\n",
        "4. Training of models on training data, using development data for model selection.\n",
        "5. Evaluation of the models on test data.\n",
        "\n",
        "Rather than recapitulate all of these component tasks for each application, standard packages have been developed to facilitate them. In order to facilitate your own experimentation, it's time to make use of some of these packages to scale up your ability to build and test models. That is the subject of this lab.\n",
        "\n",
        "Torchtext datasets provide a uniform system for establishing dataset objects that contain multiple examples, each of which may have multiple named fields. These fields themselves have specifications that tell whether the data in that field is sequential (like text sequences) or simple (like class labels); whether and how to preprocess, tokenize, or postprocess the data; and many other properties. Dataset objects can be easily split into parts (training and test, for instance), or turned into a sequence of small batches for processing by models.\n",
        "\n",
        "This lab provides an introduction to using `torchtext` and PyTorch in preparation for its appearance in later labs and homework problem sets.\n",
        "\n",
        "After this lab, you should be able to\n",
        "\n",
        "* Read `torchtext` code and understand what it is intending to accomplish.\n",
        "* Run experiments training and testing simple feed-forward neural networks using PyTorch."
      ]
    },
    {
      "cell_type": "markdown",
      "id": "4e68534a",
      "metadata": {
        "id": "4e68534a"
      },
      "source": [
        "New bits of Python used for the first time in the *distribution version* of this lab include:\n",
        "\n",
        "* TorchText\n",
        "    * [`torchtext.data.TabularDataset`](https://pytorch.org/text/0.8.1/data.html#tabulardataset)\n",
        "    * `torchtext.data.TabularDataset.split`\n",
        "    * [`torchtext.data.Field`](https://pytorch.org/text/0.8.1/data.html#field)\n",
        "    * `torchtext.data.Field.build_vocab`\n",
        "    * `torchtext.data.Field.lower`\n",
        "    * `torchtext.data.Field.sequential`\n",
        "    * `torchtext.data.Field.tokenize`\n",
        "    * `torchtext.data.Field.vocab`\n",
        "    * `torchtext.data.Field.vocab.itos`\n",
        "    * `torchtext.data.Field.vocab.stoi`\n",
        "\n",
        "    > You'll notice that for `torchtext` we link to version 0.8.1 of the PyTorch documentation, because the `torchtext.data.Field` class is now deprecated. We therefore import it as `torchtext.legacy` at the top of this notebook. Sadly, `torchtext` has no convenient replacement for `Field` at the moment, so we resort to the legacy system.\n",
        "\n",
        "* Torch\n",
        "\n",
        "    * [`torch.nn.Module.eval`](https://pytorch.org/docs/stable/generated/torch.nn.Module.html#torch.nn.Module.eval)\n",
        "    * `torch.nn.Linear`\n",
        "    * `torch.nn.Sigmoid`\n",
        "    * `torch.distributions.normal.Normal`\n",
        "    * `torch.distributions.uniform.Uniform`\n",
        "\n",
        "\n",
        "* `tqdm.tqdm` (for generating progress bars)\n",
        "\n",
        "New bits of Python used for the first time in the *solution set* for this lab, and which you may therefore find useful:\n",
        "\n",
        "* [`torch.Tensor.backward`](https://pytorch.org/docs/stable/autograd.html#torch.Tensor.backward)\n",
        "* [`torch.optim.Optimizer.step`](https://pytorch.org/docs/stable/generated/torch.optim.Optimizer.step.html#torch.optim.Optimizer.step)"
      ]
    },
    {
      "cell_type": "markdown",
      "id": "be76c1ef",
      "metadata": {
        "id": "be76c1ef"
      },
      "source": [
        "# Preparation – Loading packages and data"
      ]
    },
    {
      "cell_type": "code",
      "execution_count": 3,
      "id": "11b29892",
      "metadata": {
        "deletable": false,
        "editable": false,
        "id": "11b29892"
      },
      "outputs": [],
      "source": [
        "import copy\n",
        "import math\n",
        "import random\n",
        "import matplotlib.pyplot as plt\n",
        "import os\n",
        "import re\n",
        "import sys\n",
        "import torch\n",
        "import torch.distributions as ds\n",
        "import torch.nn as nn\n",
        "import torch.nn.functional as F\n",
        "import torchtext.legacy as tt\n",
        "import warnings\n",
        "import wget\n",
        "\n",
        "from torch import optim\n",
        "from tqdm import tqdm"
      ]
    },
    {
      "cell_type": "code",
      "execution_count": 4,
      "id": "e3884923",
      "metadata": {
        "colab": {
          "base_uri": "https://localhost:8080/"
        },
        "id": "e3884923",
        "outputId": "ad6a1dfe-fb42-4974-a9fd-94629e0492ba"
      },
      "outputs": [
        {
          "output_type": "stream",
          "name": "stdout",
          "text": [
            "cpu\n"
          ]
        }
      ],
      "source": [
        "# Set up plotting\n",
        "plt.style.use('tableau-colorblind10')\n",
        "\n",
        "# Fix random seed for replicability\n",
        "random_seed = 1234\n",
        "random.seed(random_seed)\n",
        "torch.manual_seed(random_seed)\n",
        "\n",
        "## GPU check\n",
        "device = torch.device(\"cuda\" if torch.cuda.is_available() else \"cpu\")\n",
        "print(device)"
      ]
    },
    {
      "cell_type": "markdown",
      "id": "3ed4efa9",
      "metadata": {
        "id": "3ed4efa9"
      },
      "source": [
        "# Manipulating text corpora with `torchtext`"
      ]
    },
    {
      "cell_type": "markdown",
      "id": "60875c93",
      "metadata": {
        "id": "60875c93"
      },
      "source": [
        "You'll use `torchtext` to load the _Green Eggs and Ham_ (GEaH) dataset.\n",
        "\n",
        "We start with reading in the data and performing some ad hoc cleaning (removing comment lines and blank lines)."
      ]
    },
    {
      "cell_type": "code",
      "execution_count": 5,
      "id": "ef47c42a",
      "metadata": {
        "id": "ef47c42a"
      },
      "outputs": [],
      "source": [
        "def strip_file(text):\n",
        "    \"\"\"strip #comments and empty lines from `text` string\"\"\"\n",
        "    result = \"\"\n",
        "    for line in text.split(\"\\n\"):\n",
        "        line = line.strip()              # trim whitespace\n",
        "        line = re.sub('#.*$', '', line)  # trim comments\n",
        "        if line != '':                   # drop blank lines\n",
        "            result += line + '\\n'\n",
        "    return result\n",
        "\n",
        "# Read the GEaH data and write out a corresponding TSV file\n",
        "os.makedirs('data', exist_ok=True)\n",
        "wget.download(\"https://github.com/nlp-236299/data/raw/master/Seuss/seuss - 1960 - green eggs and ham.txt\", out=\"data/\")\n",
        "with open('data/seuss - 1960 - green eggs and ham.txt', 'r') as fin:\n",
        "    with open('data/geah.tsv', 'w') as fout:\n",
        "        fout.write(strip_file(fin.read()))"
      ]
    },
    {
      "cell_type": "markdown",
      "id": "370a3f63",
      "metadata": {
        "id": "370a3f63"
      },
      "source": [
        "## Constructing training and test datasets\n",
        "\n",
        "Take a look at the file `geah.tsv`, which we've just processed and placed into the sibling `data` folder. "
      ]
    },
    {
      "cell_type": "code",
      "execution_count": 6,
      "id": "87f8f207",
      "metadata": {
        "colab": {
          "base_uri": "https://localhost:8080/"
        },
        "id": "87f8f207",
        "outputId": "bb00dfa3-742f-43ac-f792-0fa280f8ccf2"
      },
      "outputs": [
        {
          "output_type": "stream",
          "name": "stdout",
          "text": [
            "SAM\tI am Sam.\n",
            "SAM\tI am Sam.\n",
            "SAM\tSam I am.\n",
            "GUY\tThat Sam-I-am!\n",
            "GUY\tThat Sam-I-am!\n",
            "GUY\tI do not like that Sam-I-am!\n",
            "SAM\tDo you like green eggs and ham?\n",
            "GUY\tI do not like them, Sam-I-am.\n",
            "GUY\tI do not like green eggs and ham.\n",
            "SAM\tWould you like them here or there?\n"
          ]
        }
      ],
      "source": [
        "shell('head \"data/geah.tsv\"')"
      ]
    },
    {
      "cell_type": "markdown",
      "id": "a61cdd37",
      "metadata": {
        "deletable": false,
        "editable": false,
        "id": "a61cdd37"
      },
      "source": [
        "Notice the structure of this corpus. Each line contains a sentence from the book, preceded by a label that provides the speaker of that sentence. The speaker and sentence are separated by a tab character. The data is thus set up properly for a [`torchtext.data.TabularDataset`](https://pytorch.org/text/0.8.1/data.html#tabulardataset) using its `\"TSV\"` (tab-separated values) format.\n",
        "\n",
        "In order to establish a `torchtext.data.TabularDataset` object for dealing with the GEaH dataset, you'll first need to establish the two fields (via [`torchtext.data.Field`](https://pytorch.org/text/0.8.1/data.html#field)), one for the label (the speaker) and one for the text, which you should call `LABEL` and `TEXT`, respectively. These fields are used for mapping from strings to ids or vice versa.\n",
        "\n",
        "When setting up a field with `torchtext.data.Field`, you'll want to consider whether you want to further specify the values for the various keyword arguments listed [here](https://pytorch.org/text/0.8.1/data.html#field), or to leave the default values.\n",
        "\n",
        "With respect to the tokenization of the text field, you should use the `torchtext` \"basic_english\" tokenizer introduced in lab 1-1 for the text field and lowercase all tokens.\n",
        "<!--\n",
        "BEGIN QUESTION\n",
        "name: fields_setup\n",
        "-->"
      ]
    },
    {
      "cell_type": "code",
      "execution_count": 7,
      "id": "831766bc",
      "metadata": {
        "id": "831766bc"
      },
      "outputs": [],
      "source": [
        "#TODO: Define one `tt.data.Field` for processing the label\n",
        "#      and another for processing the text using the \"basic_english\"\n",
        "#      tokenizer and **lowercase** all tokens\n",
        "\n",
        "LABEL = (\n",
        "    tt.data.Field(sequential = False)\n",
        ")\n",
        "    \n",
        "TEXT = (\n",
        "    tt.data.Field(sequential = True, tokenize = \"basic_english\", lower = True)\n",
        ")\n",
        "\n",
        "fields = [(\"label\", LABEL), (\"text\", TEXT)]"
      ]
    },
    {
      "cell_type": "code",
      "execution_count": 8,
      "id": "b82fa5eb",
      "metadata": {
        "deletable": false,
        "editable": false,
        "colab": {
          "base_uri": "https://localhost:8080/",
          "height": 46
        },
        "id": "b82fa5eb",
        "outputId": "e9747fe2-9845-4d8c-e165-cae94e76ae8d"
      },
      "outputs": [
        {
          "output_type": "execute_result",
          "data": {
            "text/plain": [
              "\n",
              "    All tests passed!\n",
              "    "
            ],
            "text/html": [
              "\n",
              "    \n",
              "    \n",
              "        <p>All tests passed!</p>\n",
              "    \n",
              "    "
            ]
          },
          "metadata": {},
          "execution_count": 8
        }
      ],
      "source": [
        "grader.check(\"fields_setup\")"
      ]
    },
    {
      "cell_type": "markdown",
      "id": "561d31ef",
      "metadata": {
        "deletable": false,
        "editable": false,
        "id": "561d31ef"
      },
      "source": [
        "Now, you can set up the dataset using [`torchtext.data.TabularDataset`](https://pytorch.org/text/0.8.1/data.html#tabulardataset). It should look for the TSV data in the file `data/geah.tsv`, and should use the `fields` defined above.\n",
        "<!--\n",
        "BEGIN QUESTION\n",
        "name: dataset_setup\n",
        "-->"
      ]
    },
    {
      "cell_type": "code",
      "execution_count": 9,
      "id": "e46e849d",
      "metadata": {
        "id": "e46e849d"
      },
      "outputs": [],
      "source": [
        "#TODO: Set up the dataset using `tt.data.TabularDataset`\n",
        "# Note that you need to use `fields` for fields.\n",
        "geah = tt.data.TabularDataset('data/geah.tsv', 'TSV', fields)"
      ]
    },
    {
      "cell_type": "code",
      "execution_count": 10,
      "id": "242e3a72",
      "metadata": {
        "deletable": false,
        "editable": false,
        "colab": {
          "base_uri": "https://localhost:8080/",
          "height": 46
        },
        "id": "242e3a72",
        "outputId": "5f852242-c107-47ce-baca-be5668b91efc"
      },
      "outputs": [
        {
          "output_type": "execute_result",
          "data": {
            "text/plain": [
              "\n",
              "    All tests passed!\n",
              "    "
            ],
            "text/html": [
              "\n",
              "    \n",
              "    \n",
              "        <p>All tests passed!</p>\n",
              "    \n",
              "    "
            ]
          },
          "metadata": {},
          "execution_count": 10
        }
      ],
      "source": [
        "grader.check(\"dataset_setup\")"
      ]
    },
    {
      "cell_type": "markdown",
      "id": "2efa7c3e",
      "metadata": {
        "deletable": false,
        "editable": false,
        "id": "2efa7c3e"
      },
      "source": [
        "All [`torchtext.data.Dataset`](https://pytorch.org/text/0.8.1/data.html#dataset) objects have a [`split`](https://pytorch.org/text/0.8.1/data.html#torchtext.data.Dataset.split) method that splits the dataset into two or three pieces, for instance, to have a separate training and test set. Use the `split` method to generate a 70%/30% split of the GEaH corpus into two subsets called `train` and `test`.\n",
        "<!--\n",
        "BEGIN QUESTION\n",
        "name: dataset_split\n",
        "-->"
      ]
    },
    {
      "cell_type": "code",
      "execution_count": 11,
      "id": "a28b4374",
      "metadata": {
        "id": "a28b4374"
      },
      "outputs": [],
      "source": [
        "#TODO: Split geah into 70% training data and 30% test data\n",
        "train, test = geah.split(split_ratio=0.7)"
      ]
    },
    {
      "cell_type": "code",
      "execution_count": 12,
      "id": "e397ce00",
      "metadata": {
        "deletable": false,
        "editable": false,
        "colab": {
          "base_uri": "https://localhost:8080/",
          "height": 46
        },
        "id": "e397ce00",
        "outputId": "a5e54b89-7f2b-4899-961e-7c9a0e8dad17"
      },
      "outputs": [
        {
          "output_type": "execute_result",
          "data": {
            "text/plain": [
              "\n",
              "    All tests passed!\n",
              "    "
            ],
            "text/html": [
              "\n",
              "    \n",
              "    \n",
              "        <p>All tests passed!</p>\n",
              "    \n",
              "    "
            ]
          },
          "metadata": {},
          "execution_count": 12
        }
      ],
      "source": [
        "grader.check(\"dataset_split\")"
      ]
    },
    {
      "cell_type": "markdown",
      "id": "a4a64b48",
      "metadata": {
        "id": "a4a64b48"
      },
      "source": [
        "Fields can have associated with them a _vocabulary_ consisiting of all of the possible values that are used in that field in a particular dataset. The vocabulary establishes the kind of indexing scheme between types and indices that we explored in lab 1-1. We will use the training corpus to establish vocabularies for the two fields `LABEL` and `TEXT` using the [`build_vocab`](https://pytorch.org/text/data.html#torchtext.data.Field.build_vocab) method."
      ]
    },
    {
      "cell_type": "code",
      "execution_count": 13,
      "id": "76a0e491",
      "metadata": {
        "id": "76a0e491"
      },
      "outputs": [],
      "source": [
        "LABEL.build_vocab(train.label)\n",
        "TEXT.build_vocab(train.text)"
      ]
    },
    {
      "cell_type": "markdown",
      "id": "9d2cc6e5",
      "metadata": {
        "deletable": false,
        "editable": false,
        "id": "9d2cc6e5"
      },
      "source": [
        "The `TEXT` and `LABEL` fields, objects of class [`torchtext.data.Field`](https://pytorch.org/text/0.8.1/data.html#field), now have vocabularies associated with them, accessible in their respective `vocab` fields. How many elements are there in these vocabularies? You can use the `len` function to find out.\n",
        "<!--\n",
        "BEGIN QUESTION\n",
        "name: vocab_sizes\n",
        "-->"
      ]
    },
    {
      "cell_type": "code",
      "execution_count": 14,
      "id": "3fc484c8",
      "metadata": {
        "id": "3fc484c8"
      },
      "outputs": [],
      "source": [
        "#TODO: Calculate the sizes of LABEL.vocab and TEXT.vocab\n",
        "label_vocab_size = len(LABEL.vocab)\n",
        "text_vocab_size = len(TEXT.vocab)\n"
      ]
    },
    {
      "cell_type": "code",
      "execution_count": 15,
      "id": "62478235",
      "metadata": {
        "deletable": false,
        "editable": false,
        "colab": {
          "base_uri": "https://localhost:8080/",
          "height": 46
        },
        "id": "62478235",
        "outputId": "caad1ea9-eb7f-43dd-e695-59745ae8bf20"
      },
      "outputs": [
        {
          "output_type": "execute_result",
          "data": {
            "text/plain": [
              "\n",
              "    All tests passed!\n",
              "    "
            ],
            "text/html": [
              "\n",
              "    \n",
              "    \n",
              "        <p>All tests passed!</p>\n",
              "    \n",
              "    "
            ]
          },
          "metadata": {},
          "execution_count": 15
        }
      ],
      "source": [
        "grader.check(\"vocab_sizes\")"
      ]
    },
    {
      "cell_type": "code",
      "execution_count": 16,
      "id": "8c98a829",
      "metadata": {
        "colab": {
          "base_uri": "https://localhost:8080/"
        },
        "id": "8c98a829",
        "outputId": "80b8d043-e5c9-42fd-861f-762be297a170"
      },
      "outputs": [
        {
          "output_type": "stream",
          "name": "stdout",
          "text": [
            "label vocabulary size is 3\n",
            "text vocabulary size is 56\n"
          ]
        }
      ],
      "source": [
        "print(f\"label vocabulary size is {label_vocab_size}\\n\"\n",
        "      f\"text vocabulary size is {text_vocab_size}\")"
      ]
    },
    {
      "cell_type": "markdown",
      "id": "22890574",
      "metadata": {
        "id": "22890574"
      },
      "source": [
        "Why are there three elements in the `LABEL` vocabulary, given that there are only two speakers, Guy and Sam? We can find out by examining the `LABEL` vocabulary more closely. `Field` vocabulary objects have an especially useful `stoi` data field, whose value is a dictionary that maps the elements of the vocabulary to integer index representations of the elements. Let's take a look."
      ]
    },
    {
      "cell_type": "code",
      "execution_count": 17,
      "id": "cb6f9d3d",
      "metadata": {
        "colab": {
          "base_uri": "https://localhost:8080/"
        },
        "id": "cb6f9d3d",
        "outputId": "5ce09854-c793-4f8f-c3da-8ac63fe7c8dd"
      },
      "outputs": [
        {
          "output_type": "execute_result",
          "data": {
            "text/plain": [
              "defaultdict(<bound method Vocab._default_unk_index of <torchtext.legacy.vocab.Vocab object at 0x7fc60400c850>>,\n",
              "            {'<unk>': 0, 'GUY': 1, 'SAM': 2})"
            ]
          },
          "metadata": {},
          "execution_count": 17
        }
      ],
      "source": [
        "LABEL.vocab.stoi"
      ]
    },
    {
      "cell_type": "markdown",
      "id": "7eda6d94",
      "metadata": {
        "deletable": false,
        "editable": false,
        "id": "7eda6d94"
      },
      "source": [
        "<!-- BEGIN QUESTION -->\n",
        "\n",
        "**Question:** What is the unexpected third element in the label vocabulary? Why do you think it's there?\n",
        "<!--\n",
        "BEGIN QUESTION\n",
        "name: open_response_third_element\n",
        "manual: true\n",
        "-->"
      ]
    },
    {
      "cell_type": "markdown",
      "id": "fe821549",
      "metadata": {
        "id": "fe821549"
      },
      "source": [
        "_'< unk>' is the unexpected third element. its probably there so that we can access labels in a 1-indexed way._"
      ]
    },
    {
      "cell_type": "markdown",
      "id": "fc981b27",
      "metadata": {
        "id": "fc981b27"
      },
      "source": [
        "<!-- END QUESTION -->\n",
        "\n",
        "\n",
        "\n",
        "> As described in more detail in [the `torchtext` documentation](https://torchtext.readthedocs.io/en/latest/vocab.html#torchtext.vocab.Vocab), there's also an `itos` data field for conversion of vocabulary items from the index representation to the original values and a `freqs` data field that keeps a frequency distribution for the items in the vocabulary as a `collections.Counter` object."
      ]
    },
    {
      "cell_type": "markdown",
      "id": "a218db75",
      "metadata": {
        "id": "a218db75"
      },
      "source": [
        "## Operations over datasets\n",
        "\n",
        "We now have training and test datasets. You can experiment with the kinds of operations you'll need to do to implement models like Naive Bayes or logistic regression.\n",
        "\n",
        "For instance, you can inspect an example from the dataset."
      ]
    },
    {
      "cell_type": "code",
      "execution_count": 18,
      "id": "97112e07",
      "metadata": {
        "colab": {
          "base_uri": "https://localhost:8080/"
        },
        "id": "97112e07",
        "outputId": "612e7e3a-5eb1-4824-9b8a-059174481c95"
      },
      "outputs": [
        {
          "output_type": "stream",
          "name": "stdout",
          "text": [
            "text: ['i', 'would', 'not', 'eat', 'them', 'anywhere', '.']\n",
            "label: GUY\n"
          ]
        }
      ],
      "source": [
        "example = train[1] # the second instance\n",
        "print (f\"text: {example.text}\\n\"\n",
        "       f\"label: {example.label}\")"
      ]
    },
    {
      "cell_type": "markdown",
      "id": "05ebb485",
      "metadata": {
        "deletable": false,
        "editable": false,
        "id": "05ebb485"
      },
      "source": [
        "You might also need to iterate over the different class labels (the vocabulary of the `LABEL` field) or the word types (the vocabulary of the `TEXT` field). Define a function that iterates over the vocabulary of a field and prints each one out like this:\n",
        "\n",
        "```\n",
        ">>> print_vocab(LABEL)\n",
        "<unk>\n",
        "GUY\n",
        "SAM\n",
        "```\n",
        "\n",
        "<!--\n",
        "BEGIN QUESTION\n",
        "name: print_vocab\n",
        "-->"
      ]
    },
    {
      "cell_type": "code",
      "execution_count": 19,
      "id": "a247f4e9",
      "metadata": {
        "id": "a247f4e9"
      },
      "outputs": [],
      "source": [
        "#TODO\n",
        "def print_vocab(field):\n",
        "    for label in field.vocab.stoi:\n",
        "        print(label)"
      ]
    },
    {
      "cell_type": "code",
      "execution_count": 20,
      "id": "d0ee5b9b",
      "metadata": {
        "deletable": false,
        "editable": false,
        "colab": {
          "base_uri": "https://localhost:8080/",
          "height": 46
        },
        "id": "d0ee5b9b",
        "outputId": "af492c79-1593-4006-ec16-1d7e4176c9ae"
      },
      "outputs": [
        {
          "output_type": "execute_result",
          "data": {
            "text/plain": [
              "\n",
              "    All tests passed!\n",
              "    "
            ],
            "text/html": [
              "\n",
              "    \n",
              "    \n",
              "        <p>All tests passed!</p>\n",
              "    \n",
              "    "
            ]
          },
          "metadata": {},
          "execution_count": 20
        }
      ],
      "source": [
        "grader.check(\"print_vocab\")"
      ]
    },
    {
      "cell_type": "markdown",
      "id": "2d57f2c4",
      "metadata": {
        "id": "2d57f2c4"
      },
      "source": [
        " We can use the `print_vocab` function to print out the different class labels in the `LABEL` field."
      ]
    },
    {
      "cell_type": "code",
      "execution_count": 21,
      "id": "f5f36f9d",
      "metadata": {
        "colab": {
          "base_uri": "https://localhost:8080/"
        },
        "id": "f5f36f9d",
        "outputId": "edd7110c-faa0-435d-c10f-1a94afd7189f"
      },
      "outputs": [
        {
          "output_type": "stream",
          "name": "stdout",
          "text": [
            "<unk>\n",
            "GUY\n",
            "SAM\n"
          ]
        }
      ],
      "source": [
        "print_vocab(LABEL)"
      ]
    },
    {
      "cell_type": "markdown",
      "id": "7103e19d",
      "metadata": {
        "deletable": false,
        "editable": false,
        "id": "7103e19d"
      },
      "source": [
        "Other simple calculations that will be useful in implementing the various models:\n",
        "\n",
        "1. Counting how many instances there are in a dataset.\n",
        "2. Counting how many instances of a certain class there are in a dataset.\n",
        "3. Counting how many tokens of a certain type there are in the text of an instance.\n",
        "\n",
        "Let's write functions for these. They'll come in handy in the first problem set.\n",
        "\n",
        "<!--\n",
        "BEGIN QUESTION\n",
        "name: count_instances\n",
        "-->"
      ]
    },
    {
      "cell_type": "code",
      "execution_count": 22,
      "id": "383fdae3",
      "metadata": {
        "id": "383fdae3"
      },
      "outputs": [],
      "source": [
        "#TODO - 1. Counting how many instances there are in a dataset.\n",
        "def count_instances(dataset):\n",
        "    return len(dataset)"
      ]
    },
    {
      "cell_type": "code",
      "execution_count": 23,
      "id": "9b9111d5",
      "metadata": {
        "deletable": false,
        "editable": false,
        "colab": {
          "base_uri": "https://localhost:8080/",
          "height": 46
        },
        "id": "9b9111d5",
        "outputId": "55fb9312-29e1-4d5b-fdcf-655460ab265d"
      },
      "outputs": [
        {
          "output_type": "execute_result",
          "data": {
            "text/plain": [
              "\n",
              "    All tests passed!\n",
              "    "
            ],
            "text/html": [
              "\n",
              "    \n",
              "    \n",
              "        <p>All tests passed!</p>\n",
              "    \n",
              "    "
            ]
          },
          "metadata": {},
          "execution_count": 23
        }
      ],
      "source": [
        "grader.check(\"count_instances\")"
      ]
    },
    {
      "cell_type": "code",
      "execution_count": 24,
      "id": "9389c043",
      "metadata": {
        "id": "9389c043"
      },
      "outputs": [],
      "source": [
        "#TODO - 2. Counting how many instances of a certain class there are in a dataset.\n",
        "# Note: recall that you can access the label of an instance using `instance.label`\n",
        "def count_instances_class(dataset, label):\n",
        "    res = 0\n",
        "    for instance in dataset:\n",
        "        res += (instance.label == label)\n",
        "    return res"
      ]
    },
    {
      "cell_type": "code",
      "execution_count": 25,
      "id": "7bd2d465",
      "metadata": {
        "deletable": false,
        "editable": false,
        "colab": {
          "base_uri": "https://localhost:8080/",
          "height": 46
        },
        "id": "7bd2d465",
        "outputId": "b44a553d-464c-4c62-de79-7403fbd5371d"
      },
      "outputs": [
        {
          "output_type": "execute_result",
          "data": {
            "text/plain": [
              "\n",
              "    All tests passed!\n",
              "    "
            ],
            "text/html": [
              "\n",
              "    \n",
              "    \n",
              "        <p>All tests passed!</p>\n",
              "    \n",
              "    "
            ]
          },
          "metadata": {},
          "execution_count": 25
        }
      ],
      "source": [
        "grader.check(\"count_instances_class\")"
      ]
    },
    {
      "cell_type": "code",
      "execution_count": 26,
      "id": "0ebcf275",
      "metadata": {
        "id": "0ebcf275"
      },
      "outputs": [],
      "source": [
        "#TODO - 3. Counting how many tokens of a certain type there are in the text of an instance.\n",
        "# Note: recall that you can access the list of tokens using `instance.text`\n",
        "def count_tokens_instance(instance, tokentype):\n",
        "    res = 0\n",
        "    for tok in instance.text:\n",
        "        res += (tok == tokentype)\n",
        "    return res"
      ]
    },
    {
      "cell_type": "code",
      "execution_count": 27,
      "id": "aaa76a50",
      "metadata": {
        "deletable": false,
        "editable": false,
        "colab": {
          "base_uri": "https://localhost:8080/",
          "height": 46
        },
        "id": "aaa76a50",
        "outputId": "7fdefb5b-f427-4d28-c697-818612f57f82"
      },
      "outputs": [
        {
          "output_type": "execute_result",
          "data": {
            "text/plain": [
              "\n",
              "    All tests passed!\n",
              "    "
            ],
            "text/html": [
              "\n",
              "    \n",
              "    \n",
              "        <p>All tests passed!</p>\n",
              "    \n",
              "    "
            ]
          },
          "metadata": {},
          "execution_count": 27
        }
      ],
      "source": [
        "grader.check(\"count_tokens_instances\")"
      ]
    },
    {
      "cell_type": "markdown",
      "id": "4124a176",
      "metadata": {
        "id": "4124a176"
      },
      "source": [
        "Recall that the purpose of fields is to map back and forth between strings and word ids. Below provides an example of how to do that."
      ]
    },
    {
      "cell_type": "code",
      "execution_count": 28,
      "id": "e908ccaa",
      "metadata": {
        "colab": {
          "base_uri": "https://localhost:8080/"
        },
        "id": "e908ccaa",
        "outputId": "87ea16d9-3d80-458c-8724-cc45aec4166b"
      },
      "outputs": [
        {
          "output_type": "stream",
          "name": "stdout",
          "text": [
            "Mapped to word ids: [4, 14, 3, 15, 5, 26, 2]\n",
            "Mapped back: ['i', 'would', 'not', 'eat', 'them', 'anywhere', '.']\n",
            "Label id: 1\n",
            "label: GUY\n"
          ]
        }
      ],
      "source": [
        "example = train[1]\n",
        "text = example.text\n",
        "word_ids = [TEXT.vocab.stoi[word] for word in text]\n",
        "print (f\"Mapped to word ids: {word_ids}\\n\"\n",
        "       f\"Mapped back: {[TEXT.vocab.itos[id] for id in word_ids]}\")\n",
        "label = example.label\n",
        "label_id = LABEL.vocab.stoi[label]\n",
        "print (f\"Label id: {label_id}\\n\"\n",
        "       f\"label: {LABEL.vocab.itos[label_id]}\")"
      ]
    },
    {
      "cell_type": "markdown",
      "id": "9c00338e",
      "metadata": {
        "id": "9c00338e"
      },
      "source": [
        "# Training and testing with PyTorch\n",
        "\n",
        "Past labs have shown that all of the detail about \n",
        "\n",
        "* establishing models and their parameters,\n",
        "* using them to calculate the outputs for some inputs, \n",
        "* training them to optimize the parameters via stochastic gradient descent, and \n",
        "* evaluating them by testing on held-out data\n",
        "\n",
        "is tedious to manage. Fortunately, it is also so formulaic, at least for a certain class of models, that general tools can be deployed to manage the process. In the remainder of this lab, you'll use one such tool, PyTorch. For simplicity, rather than a natural-language task, you'll be training a model to fit a curve; it has an especially simple structure: one scalar input and one scalar output."
      ]
    },
    {
      "cell_type": "markdown",
      "id": "0625c004",
      "metadata": {
        "id": "0625c004"
      },
      "source": [
        "## Generating training and test data\n",
        "\n",
        "We start by generating some training and test data. The data is generated as a noisy sine function, calculated by the function `sinusoid`. (Here we make use of the PyTorch [distributions](https://pytorch.org/docs/stable/distributions.html) package, which was imported above as `ds`.) "
      ]
    },
    {
      "cell_type": "code",
      "execution_count": 29,
      "id": "48e6aac3",
      "metadata": {
        "id": "48e6aac3"
      },
      "outputs": [],
      "source": [
        "def sinusoid(x, amplitude=1., phase=0., frequency=1., noise=1e-5):\n",
        "    \"\"\"Returns the values on input(s) `x` of a sinusoid determined by `amplitude`, \n",
        "       `phase`, and angular `frequency`, with some added normal noise with variance \n",
        "       given by `noise`.\"\"\"\n",
        "    normal_noise = ds.normal.Normal(torch.tensor([0.0]), torch.tensor([noise]))\n",
        "    noise_sample = normal_noise.sample(x.size()).view(-1)\n",
        "    y = amplitude * torch.sin(x * frequency + phase) + noise_sample\n",
        "    return y"
      ]
    },
    {
      "cell_type": "markdown",
      "id": "7030b0ce",
      "metadata": {
        "id": "7030b0ce"
      },
      "source": [
        "We can generate data for training and testing by sampling this function."
      ]
    },
    {
      "cell_type": "code",
      "execution_count": 30,
      "id": "17d3c5b4",
      "metadata": {
        "id": "17d3c5b4"
      },
      "outputs": [],
      "source": [
        "def sample_input(func, count, bound, **kwargs):\n",
        "    \"\"\"Returns `count` samples of x-y pairs of function `func`, with the x \n",
        "       values sampled uniformly between +/-`bound`. The `kwargs` are passed\n",
        "       on to `func`.\"\"\"\n",
        "    input_unif = ds.uniform.Uniform(-bound, +bound)\n",
        "    x = input_unif.sample(torch.Size([count]))\n",
        "    y = func(x, **kwargs)\n",
        "    return x, y"
      ]
    },
    {
      "cell_type": "markdown",
      "id": "8bf2be27",
      "metadata": {
        "id": "8bf2be27"
      },
      "source": [
        "To give a sense of what a data sample looks like, we plot a sample of 100 points."
      ]
    },
    {
      "cell_type": "code",
      "execution_count": 31,
      "id": "af233dac",
      "metadata": {
        "id": "af233dac"
      },
      "outputs": [],
      "source": [
        "def plot_sample(data):\n",
        "    \"\"\"Plots `data` given as a single pair of inputs and outputs.\"\"\"\n",
        "    X, Y = data\n",
        "    plt.plot(X.tolist(), Y.tolist(), '.')\n",
        "    plt.xlabel('Input')\n",
        "    plt.ylabel('Output')\n",
        "    # we cannot use plt.show() because otter-grader does not support it"
      ]
    },
    {
      "cell_type": "code",
      "execution_count": 32,
      "id": "8c02eda8",
      "metadata": {
        "colab": {
          "base_uri": "https://localhost:8080/",
          "height": 279
        },
        "id": "8c02eda8",
        "outputId": "1967f130-9551-44ee-c032-ec51aa77e0bd"
      },
      "outputs": [
        {
          "output_type": "display_data",
          "data": {
            "text/plain": [
              "<Figure size 432x288 with 1 Axes>"
            ],
            "image/png": "[encoded data removed]"
          },
          "metadata": {
            "needs_background": "light"
          }
        }
      ],
      "source": [
        "plot_sample(sample_input(sinusoid, 100, 5, noise=0.1))"
      ]
    },
    {
      "cell_type": "markdown",
      "id": "65d532b4",
      "metadata": {
        "id": "65d532b4"
      },
      "source": [
        "## Specifying a feed-forward neural network\n",
        "\n",
        "\n",
        "<img src=\"https://github.com/nlp-course/data/raw/master/Resources/ffnn-example.png\" width=33% align=right />\n",
        "\n",
        "The model that we will train to predict the output of this function based on a sample will consist of a series of sublayers as depicted in the figure at right. At the bottom of the figure, we start with $\\vect{x}$, the scalar input (of dimensionality $1$ as shown in the \"shape\" designation). The first layer is a perceptron layer, composed of a linear sublayer (with weights $\\vect{U}$) followed by a sigmoid sublayer. Since $\\vect{U}$ is of dimensionality $1 \\times D$, the output is a vector of dimensionality $D$. (We refer to $D$ as the *hidden dimension*.) Then comes another perceptron layer with input and output each of dimensionality $D$. Finally, a single linear layer reduces the dimensionality back to the predicted scalar output $\\tilde{y}$ of dimensionality $1$. The loss is calculated as the mean square error of $\\tilde{y}$ relative to $y$. (In this case, taking the mean for a single example is irrelevant, since $y$ is a scalar, though when training in \"batches\", the mean would be taken over the batch.)\n",
        "\n",
        "We define a class `FFNN` (**f**eed-**f**orward **n**eural **n**etwork), which inherits from the `nn.Module` class, PyTorch's class for neural network models. It takes an argument `hidden_dim` which is the size of the hidden layers, $D$ in the figure.\n",
        "\n",
        "The parameters of this model – the values that will be adjusted to minimize the loss – are the elements of the tensors $\\vect{U}$, $\\vect{V}$, and $\\vect{W}$. They don't appear explicitly in the code, but are PyTorch *parameters* created and tracked when the corresponding sublayers are created using `nn.Linear`. That's the wonder of using PyTorch – so much happens under the hood. But we can get access to the parameters because the `nn.Module` class provides a `parameters` method that returns an iterator over the parameters. (We use it to initialize the parameters to random values.)"
      ]
    },
    {
      "cell_type": "code",
      "execution_count": 33,
      "id": "12ecac5b",
      "metadata": {
        "id": "12ecac5b"
      },
      "outputs": [],
      "source": [
        "class FFNN(nn.Module):\n",
        "    def __init__(self, hidden_dim, init_low=-2, init_high=2):\n",
        "        super().__init__()\n",
        "        # dimensionality of hidden layers\n",
        "        self.hidden_dim = hidden_dim\n",
        "        #TODO: establish the sublayers -- two perceptrons (each has a linear layer and a sigmoid). and a final\n",
        "        # linear layer. Follow the dimensions from the description above.\n",
        "        self.sublayer1 = nn.Linear(1,hidden_dim)\n",
        "        self.sublayer2 = nn.Sigmoid()\n",
        "        self.sublayer3 = nn.Linear(hidden_dim,hidden_dim)\n",
        "        self.sublayer4 = nn.Sigmoid()\n",
        "        self.sublayer5 = nn.Linear(hidden_dim,1)\n",
        "        \n",
        "        # initialize parameters randomly\n",
        "        torch.manual_seed(random_seed)\n",
        "        for p in self.parameters():\n",
        "            p.data.uniform_(init_low, init_high)\n",
        "        # save a copy of the parameters to allow resetting\n",
        "        self.init_state = copy.deepcopy(self.state_dict())\n",
        "\n",
        "    # Resetting state: If you want to rerun a model, say, with a different\n",
        "    # training regime, you can reset the model's parameter state using\n",
        "    #    model.reset_state()\n",
        "    # before retraining, e.g., \n",
        "    #    train_model(model, criterion, optim, train_data, n_epochs=50)\n",
        "    def reset_state(self):\n",
        "        self.load_state_dict(self.init_state)\n",
        "        \n",
        "    def forward(self, x):\n",
        "        # first perceptron layer\n",
        "        z = self.sublayer2(self.sublayer1(x))\n",
        "        # second perceptron layer\n",
        "        z_prime = self.sublayer4(self.sublayer3(z))\n",
        "        # final linear layer\n",
        "        return self.sublayer5(z_prime)"
      ]
    },
    {
      "cell_type": "code",
      "execution_count": 34,
      "id": "8e162e8b",
      "metadata": {
        "deletable": false,
        "editable": false,
        "colab": {
          "base_uri": "https://localhost:8080/",
          "height": 46
        },
        "id": "8e162e8b",
        "outputId": "084d7d53-712b-489b-80a1-d46cafae8266"
      },
      "outputs": [
        {
          "output_type": "execute_result",
          "data": {
            "text/plain": [
              "\n",
              "    All tests passed!\n",
              "    "
            ],
            "text/html": [
              "\n",
              "    \n",
              "    \n",
              "        <p>All tests passed!</p>\n",
              "    \n",
              "    "
            ]
          },
          "metadata": {},
          "execution_count": 34
        }
      ],
      "source": [
        "grader.check(\"FFNN\")"
      ]
    },
    {
      "cell_type": "markdown",
      "id": "57626694",
      "metadata": {
        "id": "57626694"
      },
      "source": [
        "We can build a model by instantiating the `FFNN` class. We'll do so with a hidden dimension of 4, being careful to move the model with its parameters to the device we're using for calculations (a GPU if one is available, as on Google Colab)."
      ]
    },
    {
      "cell_type": "code",
      "execution_count": 35,
      "id": "e729df75",
      "metadata": {
        "id": "e729df75"
      },
      "outputs": [],
      "source": [
        "HIDDEN_DIMENSION = 4\n",
        "model = FFNN(HIDDEN_DIMENSION).to(device)"
      ]
    },
    {
      "cell_type": "markdown",
      "id": "b6bf765b",
      "metadata": {
        "id": "b6bf765b"
      },
      "source": [
        "We specify the criterion to be optimized as the mean square error loss function provided by PyTorch."
      ]
    },
    {
      "cell_type": "code",
      "execution_count": 36,
      "id": "60487c1b",
      "metadata": {
        "id": "60487c1b"
      },
      "outputs": [],
      "source": [
        "criterion = nn.MSELoss(reduction='mean') "
      ]
    },
    {
      "cell_type": "markdown",
      "id": "9bcdeaa4",
      "metadata": {
        "id": "9bcdeaa4"
      },
      "source": [
        "## Evaluating data according to a model\n",
        "\n",
        "To evaluate how well the model performs on some test data, we run the model forward on the $x$ values and compute the loss relative to the $y$ values. We define a function `eval_model` to carry out this calculation."
      ]
    },
    {
      "cell_type": "code",
      "execution_count": 37,
      "id": "540e8d35",
      "metadata": {
        "id": "540e8d35"
      },
      "outputs": [],
      "source": [
        "def eval_model(model, criterion, data):\n",
        "    \"\"\"Applies the `model` to the x values in the `data` and returns the\n",
        "       loss relative to the y values in the `data` along with the predicted \n",
        "       y values.\"\"\"\n",
        "    model.eval()                          # turn on evaluation mode\n",
        "    with torch.no_grad():                 # turn off propagating gradients\n",
        "        X, Y = data                       # extract x and y values\n",
        "        X = X.view(-1, 1).to(device)      # convert x and y to column vectors\n",
        "        Y = Y.view(-1, 1).to(device)      # ...and move them to the device\n",
        "        predictions = model(X)            # calculate the predicted y values\n",
        "        loss = criterion(predictions, Y)  # see how far off they are\n",
        "    return loss.item(), predictions"
      ]
    },
    {
      "cell_type": "markdown",
      "id": "247293c0",
      "metadata": {
        "id": "247293c0"
      },
      "source": [
        "All that remains is training the model. We'll use one of PyTorch's built in optimizers, the `Adam` optimizer. We set a few parameters for the training process: the learning rate, the number of \"epochs\" (passes through the training data) to perform, and the number of examples to train on at a time (the \"batch size\")."
      ]
    },
    {
      "cell_type": "code",
      "execution_count": 38,
      "id": "255c08c6",
      "metadata": {
        "id": "255c08c6"
      },
      "outputs": [],
      "source": [
        "## Parameters of the training regimen\n",
        "LEARNING_RATE = 0.003\n",
        "NUMBER_EPOCHS = 25\n",
        "BATCH_SIZE = 20\n",
        "\n",
        "## Choices for optimizers:\n",
        "\n",
        "# Stochastic Gradient Descent (SGD) optimizer\n",
        "# optim = torch.optim.SGD(model.parameters(), lr = learning_rate)\n",
        "\n",
        "# The Adam optimizer, as described in the paper:\n",
        "# Kingma and Ba. 2014. Adam: A Method for Stochastic Optimization.\n",
        "# [https://arxiv.org/abs/1412.6980]\n",
        "optim = torch.optim.Adam(model.parameters(), lr=LEARNING_RATE)"
      ]
    },
    {
      "cell_type": "markdown",
      "id": "52bccf47",
      "metadata": {
        "id": "52bccf47"
      },
      "source": [
        "## Training the parameters of a model\n",
        "\n",
        "Finally, we get to the function to train the parameters of the model so as to best fit the predictions to the actual values. We've provided the code, except for a few lines that you'll need to provide (marked `#TODO`), making use of some of the tools defined above. Those lines, which form the heart of the computation, calculate \"forwards\" to get the output predictions for the inputs, calculate the loss for those predictions, and calculate \"backwards\" the gradients of the loss for each of the parameters of the model. This sets up the optimizer to take a step of updating the parameters, making use of the calculated gradients to determine the direction to step. The saved gradients can then be zeroed and the process repeated.\n",
        "\n",
        "> Note: The code we're asking you to write is *tiny*. If you find yourself writing more than a short line of code per `#TODO`, you're missing something."
      ]
    },
    {
      "cell_type": "code",
      "execution_count": 47,
      "id": "54339ec6",
      "metadata": {
        "id": "54339ec6"
      },
      "outputs": [],
      "source": [
        "def train_model(model, criterion, optimizer, data,\n",
        "                n_epochs=NUMBER_EPOCHS, batch_size=BATCH_SIZE):\n",
        "    \"\"\"Optimizes the parameters of the `model` by minimizing the `criterion`\n",
        "       on the training `data`, using the `optimizer` algorithm for updates.\"\"\"    \n",
        "    model.train()                     # Turn on training mode\n",
        "\n",
        "    X, Y = data\n",
        "    trainX_len = len(X)\n",
        "    \n",
        "    loss_per_epoch = math.inf\n",
        "    with tqdm(range(n_epochs)) as pbar:\n",
        "        for epoch in pbar:\n",
        "            pbar.set_postfix(epoch=epoch+1, loss=loss_per_epoch)\n",
        "            loss_per_epoch = 0.\n",
        "            for batch_i in range(int(trainX_len/batch_size)):\n",
        "                optimizer.zero_grad()     # new batch; zero the gradients of the parameters\n",
        "\n",
        "                # Input tensors and their corresponding output values for this batch\n",
        "                batch_X = (X[batch_i * batch_size\n",
        "                             : (batch_i+1) * batch_size] # extract examples in batch\n",
        "                           .view(-1, 1)                  # reshape to column vector\n",
        "                           .to(device)                   # move to device\n",
        "                          )\n",
        "                batch_Y = (Y[batch_i * batch_size \n",
        "                             : (batch_i+1) * batch_size]\n",
        "                           .view(-1, 1)\n",
        "                           .to(device)\n",
        "                          )\n",
        "\n",
        "                #TODO: Calculate predictions for the x values in this batch\n",
        "                predictions = model.forward(batch_X)\n",
        "\n",
        "                #TODO: Calculate the loss for the predictions\n",
        "                loss = criterion(predictions, batch_Y)\n",
        "\n",
        "                #TODO: Perform backpropagation to calculate gradients\n",
        "                loss.backward()\n",
        "\n",
        "                # Update all parameters\n",
        "                optimizer.step()\n",
        "\n",
        "                loss_per_epoch += loss.item()"
      ]
    },
    {
      "cell_type": "markdown",
      "id": "f2acd9d3",
      "metadata": {
        "id": "f2acd9d3"
      },
      "source": [
        "## Putting it all together\n",
        "\n",
        "Let's try it out. We start by generating some training and test data. The training data will be 10,000 samples of a noisy sinusoid. The test data, 100 samples from the same sinusoid, will be noise-free, so we can see how close the predictions are to noise-free outputs."
      ]
    },
    {
      "cell_type": "code",
      "execution_count": 48,
      "id": "42c455cf",
      "metadata": {
        "colab": {
          "base_uri": "https://localhost:8080/",
          "height": 279
        },
        "id": "42c455cf",
        "outputId": "b3ef1c04-844d-451d-8704-8884c482f4fd"
      },
      "outputs": [
        {
          "output_type": "display_data",
          "data": {
            "text/plain": [
              "<Figure size 432x288 with 1 Axes>"
            ],
            "image/png": "[encoded data removed]"
          },
          "metadata": {
            "needs_background": "light"
          }
        }
      ],
      "source": [
        "train_data = sample_input(sinusoid, 10000, 5., frequency=1.5, noise=0.05)\n",
        "test_data = sample_input(sinusoid, 100, 5., frequency=1.5)\n",
        "\n",
        "plot_sample(train_data)"
      ]
    },
    {
      "cell_type": "markdown",
      "id": "4a2ca4df",
      "metadata": {
        "id": "4a2ca4df"
      },
      "source": [
        "We train the model."
      ]
    },
    {
      "cell_type": "code",
      "execution_count": 49,
      "id": "40e2ea9c",
      "metadata": {
        "colab": {
          "base_uri": "https://localhost:8080/"
        },
        "id": "40e2ea9c",
        "outputId": "5629a70c-cebe-4014-b63c-8f9b20edd19c"
      },
      "outputs": [
        {
          "output_type": "stream",
          "name": "stderr",
          "text": [
            "100%|██████████| 25/25 [00:09<00:00,  2.74it/s, epoch=25, loss=11.2]\n"
          ]
        }
      ],
      "source": [
        "model.reset_state()\n",
        "train_model(model, criterion, optim, train_data)"
      ]
    },
    {
      "cell_type": "markdown",
      "id": "ae76aa5b",
      "metadata": {
        "id": "ae76aa5b"
      },
      "source": [
        "...and test the trained model by evaluating it on the the test data."
      ]
    },
    {
      "cell_type": "code",
      "execution_count": 50,
      "id": "f201a038",
      "metadata": {
        "id": "f201a038"
      },
      "outputs": [],
      "source": [
        "loss, predictions = eval_model(model, criterion, test_data)"
      ]
    },
    {
      "cell_type": "code",
      "execution_count": 51,
      "id": "e77cf991",
      "metadata": {
        "deletable": false,
        "editable": false,
        "colab": {
          "base_uri": "https://localhost:8080/",
          "height": 46
        },
        "id": "e77cf991",
        "outputId": "3d68ba89-3952-4d8c-df2e-2096dfdbe2af"
      },
      "outputs": [
        {
          "output_type": "execute_result",
          "data": {
            "text/plain": [
              "\n",
              "    All tests passed!\n",
              "    "
            ],
            "text/html": [
              "\n",
              "    \n",
              "    \n",
              "        <p>All tests passed!</p>\n",
              "    \n",
              "    "
            ]
          },
          "metadata": {},
          "execution_count": 51
        }
      ],
      "source": [
        "grader.check(\"model_reduces_loss\")"
      ]
    },
    {
      "cell_type": "markdown",
      "id": "e7eb5555",
      "metadata": {
        "id": "e7eb5555"
      },
      "source": [
        "We can see how well the model works by plotting the test data (circles) along with the predicted values (crosses)."
      ]
    },
    {
      "cell_type": "code",
      "execution_count": 52,
      "id": "26525aac",
      "metadata": {
        "id": "26525aac"
      },
      "outputs": [],
      "source": [
        "def visualize_predictions(data, predictions):\n",
        "    X, Y = data\n",
        "    \n",
        "    # Plot the actual output values\n",
        "    plt.plot(X.tolist(), Y.tolist(), '.', label = 'Target Values')\n",
        "    \n",
        "    # Plot the predicted output values\n",
        "    predictions = predictions.view(-1, 1)\n",
        "    plt.plot(X.tolist(), predictions.tolist(), 'x', label = 'Predictions')\n",
        "    \n",
        "    plt.xlabel('Input')\n",
        "    plt.ylabel('Output')\n",
        "    plt.legend()\n",
        "    # we cannot use plt.show() because otter-grader does not support it"
      ]
    },
    {
      "cell_type": "code",
      "execution_count": 53,
      "id": "d61344d8",
      "metadata": {
        "colab": {
          "base_uri": "https://localhost:8080/",
          "height": 279
        },
        "id": "d61344d8",
        "outputId": "8c343eab-b59a-4112-9e48-aaa0db8f9009"
      },
      "outputs": [
        {
          "output_type": "display_data",
          "data": {
            "text/plain": [
              "<Figure size 432x288 with 1 Axes>"
            ],
            "image/png": "[encoded data removed]"
          },
          "metadata": {
            "needs_background": "light"
          }
        }
      ],
      "source": [
        "# Visualize the predictions\n",
        "visualize_predictions(test_data, predictions)"
      ]
    },
    {
      "cell_type": "markdown",
      "id": "a2986698",
      "metadata": {
        "id": "a2986698"
      },
      "source": [
        "## Trying different models\n",
        "\n",
        "Now that we have the infrastructure, try experimenting with different models. Here are a few things you might play with. (No need to try them all.) What happens if you change the hidden dimension, increasing it to 8 or decreasing it to 2? What happens if you drop the middle layer? What about no middle layer but a much higher hidden dimension size? Does running for more epochs improve performance? Does the SGD optimizer work better or worse than the Adam optimizer?\n",
        "\n",
        "**Perform any experimentation in cells below this point, so you don't modify the cells above that are being unit tested.**"
      ]
    },
    {
      "cell_type": "code",
      "source": [
        "model = FFNN(8).to(device)\n",
        "model.reset_state()\n",
        "optim = torch.optim.Adam(model.parameters(), lr=LEARNING_RATE)\n",
        "\n",
        "train_model(model, criterion, optim, train_data)\n",
        "\n",
        "loss, predictions = eval_model(model, criterion, test_data)\n",
        "\n",
        "visualize_predictions(test_data, predictions)"
      ],
      "metadata": {
        "colab": {
          "base_uri": "https://localhost:8080/",
          "height": 297
        },
        "id": "1uvrTNwBvOJa",
        "outputId": "0357dd81-f9c9-4121-93c6-c660ee578e50"
      },
      "id": "1uvrTNwBvOJa",
      "execution_count": 56,
      "outputs": [
        {
          "output_type": "stream",
          "name": "stderr",
          "text": [
            "100%|██████████| 25/25 [00:09<00:00,  2.60it/s, epoch=25, loss=1.85]\n"
          ]
        },
        {
          "output_type": "display_data",
          "data": {
            "text/plain": [
              "<Figure size 432x288 with 1 Axes>"
            ],
            "image/png": "[encoded data removed]"
          },
          "metadata": {
            "needs_background": "light"
          }
        }
      ]
    },
    {
      "cell_type": "code",
      "source": [
        "model = FFNN(HIDDEN_DIMENSION).to(device)\n",
        "model.reset_state()\n",
        "optim = torch.optim.SGD(model.parameters(), lr = LEARNING_RATE*7)\n",
        "\n",
        "train_model(model, criterion, optim, train_data, n_epochs=100)\n",
        "\n",
        "loss, predictions = eval_model(model, criterion, test_data)\n",
        "\n",
        "visualize_predictions(test_data, predictions)"
      ],
      "metadata": {
        "colab": {
          "base_uri": "https://localhost:8080/",
          "height": 297
        },
        "id": "PzBYBuYlwFu7",
        "outputId": "33ffafc1-27c2-42a2-b708-fdd25b4d352a"
      },
      "id": "PzBYBuYlwFu7",
      "execution_count": 70,
      "outputs": [
        {
          "output_type": "stream",
          "name": "stderr",
          "text": [
            "100%|██████████| 100/100 [00:23<00:00,  4.24it/s, epoch=100, loss=7.25]\n"
          ]
        },
        {
          "output_type": "display_data",
          "data": {
            "text/plain": [
              "<Figure size 432x288 with 1 Axes>"
            ],
            "image/png": "[encoded data removed]"
          },
          "metadata": {
            "needs_background": "light"
          }
        }
      ]
    },
    {
      "cell_type": "markdown",
      "id": "3f23f875",
      "metadata": {
        "deletable": false,
        "editable": false,
        "id": "3f23f875"
      },
      "source": [
        "<!-- BEGIN QUESTION -->\n",
        "\n",
        "**Question:** What conclusions have you drawn from your experimentation?\n",
        "<!--\n",
        "BEGIN QUESTION\n",
        "name: open_response_testing_models\n",
        "manual: true\n",
        "-->"
      ]
    },
    {
      "cell_type": "markdown",
      "id": "fc936caf",
      "metadata": {
        "id": "fc936caf"
      },
      "source": [
        "_When using higher hidden dimensions we can achieve better results (for the same number of layers). As for smaller hidden dimensions we get the opposite. We also tried to learn with SGD instead of Adam, and it seems to learn slower, since for the same results we needed more epochs and faster learning rate._"
      ]
    },
    {
      "cell_type": "markdown",
      "id": "e12f3278",
      "metadata": {
        "deletable": false,
        "editable": false,
        "id": "e12f3278"
      },
      "source": [
        "<!-- END QUESTION -->\n",
        "\n",
        "<!-- BEGIN QUESTION -->\n",
        "\n",
        "# Lab debrief\n",
        "\n",
        "**Question:** We're interested in any thoughts you have about this lab so that we can improve this lab for later years, and to inform later labs for this year. Please list any issues that arose or comments you have to improve the lab. Useful things to comment on include the following: \n",
        "\n",
        "* Was the lab too long or too short?\n",
        "* Were the readings appropriate for the lab? \n",
        "* Was it clear (at least after you completed the lab) what the points of the exercises were? \n",
        "* Are there additions or changes you think would make the lab better?\n",
        "\n",
        "<!--\n",
        "BEGIN QUESTION\n",
        "name: open_response_debrief\n",
        "manual: true\n",
        "-->"
      ]
    },
    {
      "cell_type": "markdown",
      "id": "70a0db00",
      "metadata": {
        "id": "70a0db00"
      },
      "source": [
        "_Type your answer here, replacing this text._"
      ]
    },
    {
      "cell_type": "markdown",
      "id": "7f3741ce",
      "metadata": {
        "id": "7f3741ce"
      },
      "source": [
        "<!-- END QUESTION -->\n",
        "\n",
        "\n",
        "\n",
        "# End of lab 1-5"
      ]
    },
    {
      "cell_type": "markdown",
      "id": "020070a6",
      "metadata": {
        "deletable": false,
        "editable": false,
        "id": "020070a6"
      },
      "source": [
        "the labs length was right length. \n",
        "The readings was appropriate for the lab, but should've provided more in order to understand the interface. \n",
        " it was clear after completing the labs, yes.\n",
        "Are there additions or changes you think would make the lab better? We think this lab was really confusing, it was diffuclt to understand what we should do, or how to use different modules, since there was little explanation and little documentation of pytorch.\n",
        "\n",
        "To double-check your work, the cell below will rerun all of the autograder tests."
      ]
    },
    {
      "cell_type": "code",
      "execution_count": 71,
      "id": "3e0d583a",
      "metadata": {
        "deletable": false,
        "editable": false,
        "colab": {
          "base_uri": "https://localhost:8080/",
          "height": 490
        },
        "id": "3e0d583a",
        "outputId": "82db5342-06bb-4e9b-b85c-1d4f3c310b07"
      },
      "outputs": [
        {
          "output_type": "execute_result",
          "data": {
            "text/plain": [
              "FFNN:\n",
              "\n",
              "    All tests passed!\n",
              "    \n",
              "\n",
              "count_instances:\n",
              "\n",
              "    All tests passed!\n",
              "    \n",
              "\n",
              "count_instances_class:\n",
              "\n",
              "    All tests passed!\n",
              "    \n",
              "\n",
              "count_tokens_instances:\n",
              "\n",
              "    All tests passed!\n",
              "    \n",
              "\n",
              "dataset_setup:\n",
              "\n",
              "    All tests passed!\n",
              "    \n",
              "\n",
              "dataset_split:\n",
              "\n",
              "    All tests passed!\n",
              "    \n",
              "\n",
              "fields_setup:\n",
              "\n",
              "    All tests passed!\n",
              "    \n",
              "\n",
              "model_reduces_loss:\n",
              "\n",
              "    All tests passed!\n",
              "    \n",
              "\n",
              "print_vocab:\n",
              "\n",
              "    All tests passed!\n",
              "    \n",
              "\n",
              "vocab_sizes:\n",
              "\n",
              "    All tests passed!\n",
              "    \n"
            ],
            "text/html": [
              "<p><strong>FFNN:</strong></p>\n",
              "\n",
              "    \n",
              "    \n",
              "        <p>All tests passed!</p>\n",
              "    \n",
              "    \n",
              "\n",
              "<p><strong>count_instances:</strong></p>\n",
              "\n",
              "    \n",
              "    \n",
              "        <p>All tests passed!</p>\n",
              "    \n",
              "    \n",
              "\n",
              "<p><strong>count_instances_class:</strong></p>\n",
              "\n",
              "    \n",
              "    \n",
              "        <p>All tests passed!</p>\n",
              "    \n",
              "    \n",
              "\n",
              "<p><strong>count_tokens_instances:</strong></p>\n",
              "\n",
              "    \n",
              "    \n",
              "        <p>All tests passed!</p>\n",
              "    \n",
              "    \n",
              "\n",
              "<p><strong>dataset_setup:</strong></p>\n",
              "\n",
              "    \n",
              "    \n",
              "        <p>All tests passed!</p>\n",
              "    \n",
              "    \n",
              "\n",
              "<p><strong>dataset_split:</strong></p>\n",
              "\n",
              "    \n",
              "    \n",
              "        <p>All tests passed!</p>\n",
              "    \n",
              "    \n",
              "\n",
              "<p><strong>fields_setup:</strong></p>\n",
              "\n",
              "    \n",
              "    \n",
              "        <p>All tests passed!</p>\n",
              "    \n",
              "    \n",
              "\n",
              "<p><strong>model_reduces_loss:</strong></p>\n",
              "\n",
              "    \n",
              "    \n",
              "        <p>All tests passed!</p>\n",
              "    \n",
              "    \n",
              "\n",
              "<p><strong>print_vocab:</strong></p>\n",
              "\n",
              "    \n",
              "    \n",
              "        <p>All tests passed!</p>\n",
              "    \n",
              "    \n",
              "\n",
              "<p><strong>vocab_sizes:</strong></p>\n",
              "\n",
              "    \n",
              "    \n",
              "        <p>All tests passed!</p>\n",
              "    \n",
              "    \n",
              "\n"
            ]
          },
          "metadata": {},
          "execution_count": 71
        }
      ],
      "source": [
        "grader.check_all()"
      ]
    }
  ],
  "metadata": {
    "kernelspec": {
      "display_name": "Python 3 (ipykernel)",
      "language": "python",
      "name": "python3"
    },
    "language_info": {
      "codemirror_mode": {
        "name": "ipython",
        "version": 3
      },
      "file_extension": ".py",
      "mimetype": "text/x-python",
      "name": "python",
      "nbconvert_exporter": "python",
      "pygments_lexer": "ipython3",
      "version": "3.9.12"
    },
    "title": "CS236299 Lab 1-5: Scaling up: Torchtext and PyTorch",
    "colab": {
      "name": "lab1-5.ipynb",
      "provenance": [],
      "collapsed_sections": []
    }
  },
  "nbformat": 4,
  "nbformat_minor": 5
}