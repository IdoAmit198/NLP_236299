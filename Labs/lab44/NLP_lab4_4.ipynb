{
  "cells": [
    {
      "cell_type": "code",
      "source": [
        "# from google.colab import drive\n",
        "# drive.mount('/content/drive')\n",
        "# # my files are in 'labs/lab0-0'\n",
        "# !cp -r /content/drive/MyDrive/lab4-4/* .\n",
        "# !pip install -r requirements.txt\n",
        "# # restart the runtime\n",
        "# import os\n",
        "# os._exit(00)"
      ],
      "metadata": {
        "id": "ZiGebIvTh1bL"
      },
      "id": "ZiGebIvTh1bL",
      "execution_count": null,
      "outputs": []
    },
    {
      "cell_type": "code",
      "execution_count": null,
      "id": "c089a074",
      "metadata": {
        "deletable": false,
        "editable": false,
        "jupyter": {
          "outputs_hidden": true,
          "source_hidden": true
        },
        "colab": {
          "base_uri": "https://localhost:8080/"
        },
        "id": "c089a074",
        "outputId": "a6d97127-9716-4b7f-8e7b-d5f6dd0e175d"
      },
      "outputs": [
        {
          "output_type": "stream",
          "name": "stdout",
          "text": [
            "\n"
          ]
        }
      ],
      "source": [
        "# Please do not change this cell because some hidden tests might depend on it.\n",
        "import os\n",
        "\n",
        "# Otter grader does not handle ! commands well, so we define and use our\n",
        "# own function to execute shell commands.\n",
        "def shell(commands, warn=True):\n",
        "    \"\"\"Executes the string `commands` as a sequence of shell commands.\n",
        "     \n",
        "       Prints the result to stdout and returns the exit status. \n",
        "       Provides a printed warning on non-zero exit status unless `warn` \n",
        "       flag is unset.\n",
        "    \"\"\"\n",
        "    file = os.popen(commands)\n",
        "    print (file.read().rstrip('\\n'))\n",
        "    exit_status = file.close()\n",
        "    if warn and exit_status != None:\n",
        "        print(f\"Completed with errors. Exit status: {exit_status}\\n\")\n",
        "    return exit_status\n",
        "\n",
        "shell(\"\"\"\n",
        "ls requirements.txt >/dev/null 2>&1\n",
        "if [ ! $? = 0 ]; then\n",
        " rm -rf .tmp\n",
        " git clone https://github.com/cs236299-2022-spring/lab4-4.git .tmp\n",
        " mv .tmp/tests ./\n",
        " mv .tmp/requirements.txt ./\n",
        " rm -rf .tmp\n",
        "fi\n",
        "pip install -q -r requirements.txt\n",
        "\"\"\")"
      ]
    },
    {
      "cell_type": "code",
      "execution_count": null,
      "id": "ff388d82",
      "metadata": {
        "deletable": false,
        "editable": false,
        "id": "ff388d82"
      },
      "outputs": [],
      "source": [
        "# Initialize Otter\n",
        "import otter\n",
        "grader = otter.Notebook()"
      ]
    },
    {
      "cell_type": "raw",
      "id": "39bbb02c",
      "metadata": {
        "jupyter": {
          "source_hidden": true
        },
        "id": "39bbb02c"
      },
      "source": [
        "%%latex\n",
        "\\newcommand{\\vect}[1]{\\mathbf{#1}}\n",
        "\\newcommand{\\cnt}[1]{\\sharp(#1)}\n",
        "\\newcommand{\\argmax}[1]{\\underset{#1}{\\operatorname{argmax}}}\n",
        "\\newcommand{\\softmax}{\\operatorname{softmax}}\n",
        "\\newcommand{\\Prob}{\\Pr}\n",
        "\\newcommand{\\given}{\\,|\\,}"
      ]
    },
    {
      "cell_type": "markdown",
      "id": "c8dd3185",
      "metadata": {
        "jupyter": {
          "source_hidden": true
        },
        "id": "c8dd3185"
      },
      "source": [
        "$$\n",
        "\\renewcommand{\\vect}[1]{\\mathbf{#1}}\n",
        "\\renewcommand{\\cnt}[1]{\\sharp(#1)}\n",
        "\\renewcommand{\\argmax}[1]{\\underset{#1}{\\operatorname{argmax}}}\n",
        "\\renewcommand{\\softmax}{\\operatorname{softmax}}\n",
        "\\renewcommand{\\Prob}{\\Pr}\n",
        "\\renewcommand{\\given}{\\,|\\,}\n",
        "$$"
      ]
    },
    {
      "cell_type": "markdown",
      "id": "2636e77e",
      "metadata": {
        "tags": [
          "remove_for_latex"
        ],
        "id": "2636e77e"
      },
      "source": [
        "# Course 236299\n",
        "## Lab 4-4 - Sequence-to-sequence models"
      ]
    },
    {
      "cell_type": "markdown",
      "id": "01b395a0",
      "metadata": {
        "id": "01b395a0"
      },
      "source": [
        "In lab 4-2, we used a syntactic-semantic grammar for semantic parsing to convert natural language to meaning representations in SQL. In this lab, we consider an alternative approach, sequence-to-sequence models, which can solve this task by directly learning the mapping from a sequence of inputs to a sequence of outputs. Since sequence-to-sequence models make few assumptions about the data, they can be applied to a variety of tasks, including machine translation, document summarization, and speech recognition. \n",
        "\n",
        "In this lab, we will implement a sequence-to-sequence model in its most basic form (as in [this seminal paper](https://arxiv.org/pdf/1409.3215.pdf)), and apply it to the task of converting English number phrases to numbers, as exemplified in the table below.\n",
        "\n",
        "|                 Input                                            |       Output         |\n",
        "|:-----------------------------------------------------------------|---------------------:|\n",
        "| seven thousand nine hundred and twenty nine                      |       7929           |\n",
        "| eight hundred and forty two thousand two hundred and fifty nine  |       842259         |\n",
        "| five hundred and eight thousand two hundred and seventeen        |       508217         |\n",
        "\n",
        "For this simple task, it is possible to write a rule-based program to do the conversion. However, here we take a learning-based approach and learn the mapping from demonstrations, with the benefit that the system we implement here can be applied to other sequence-to-sequence tasks as well (including the ATIS-to-SQL problem in project segment 4)."
      ]
    },
    {
      "cell_type": "markdown",
      "id": "baf76190",
      "metadata": {
        "id": "baf76190"
      },
      "source": [
        "New bits of Pytorch used in this lab, and which you may find useful include:\n",
        "\n",
        "* [torch.transpose](https://pytorch.org/docs/stable/generated/torch.transpose.html): Swaps two dimensions of a tensor.\n",
        "* [torch.reshape](https://pytorch.org/docs/stable/generated/torch.reshape.html): Redistributes the elements of a tensor to form a tensor of a different shape, e.g., from 3 x 4 to 6 x 2.\n",
        "* [torch.nn.utils.rnn.pack_padded_sequence](https://pytorch.org/docs/stable/generated/torch.nn.utils.rnn.pack_padded_sequence.html) (imported as `pack`): Handles paddings. A more detailed explanation can be found [here](https://stackoverflow.com/a/56211056)."
      ]
    },
    {
      "cell_type": "markdown",
      "id": "0d898eb5",
      "metadata": {
        "id": "0d898eb5"
      },
      "source": [
        "## Preparation - Loading data"
      ]
    },
    {
      "cell_type": "code",
      "execution_count": null,
      "id": "0f1dda1e",
      "metadata": {
        "deletable": false,
        "id": "0f1dda1e"
      },
      "outputs": [],
      "source": [
        "import copy\n",
        "import math\n",
        "import os\n",
        "import wget\n",
        "\n",
        "import torch\n",
        "import torch.nn as nn\n",
        "import torchtext.legacy as tt\n",
        "\n",
        "from tqdm import tqdm\n",
        "\n",
        "from torch.nn.utils.rnn import pack_padded_sequence as pack"
      ]
    },
    {
      "cell_type": "code",
      "execution_count": null,
      "id": "0b74c57a",
      "metadata": {
        "colab": {
          "base_uri": "https://localhost:8080/"
        },
        "id": "0b74c57a",
        "outputId": "e36cd041-c090-4036-cf1b-2b2ec9a6656a"
      },
      "outputs": [
        {
          "output_type": "stream",
          "name": "stdout",
          "text": [
            "cuda\n"
          ]
        }
      ],
      "source": [
        "# GPU check, make sure to use GPU where available\n",
        "device = torch.device(\"cuda\" if torch.cuda.is_available() else \"cpu\")\n",
        "print (device)"
      ]
    },
    {
      "cell_type": "code",
      "execution_count": null,
      "id": "1c103a14",
      "metadata": {
        "id": "1c103a14"
      },
      "outputs": [],
      "source": [
        "# Download data\n",
        "local_dir = \"data/\"\n",
        "remote_dir = \"https://github.com/nlp-236299/data/raw/master/Words2Num/\"\n",
        "os.makedirs(local_dir, exist_ok=True)\n",
        "\n",
        "for filename in [\n",
        "    \"train.src\",\n",
        "    \"train.tgt\",\n",
        "    \"dev.src\",\n",
        "    \"dev.tgt\",\n",
        "    \"test.src\",\n",
        "    \"test.tgt\",\n",
        "]:\n",
        "    wget.download(remote_dir + filename, out=local_dir)"
      ]
    },
    {
      "cell_type": "markdown",
      "id": "f8926fdd",
      "metadata": {
        "id": "f8926fdd"
      },
      "source": [
        "# The dataset\n",
        "\n",
        "Let's take a first look at the dataset of English number phrases and their translations into digit-sequence form."
      ]
    },
    {
      "cell_type": "code",
      "execution_count": null,
      "id": "c4c8d447",
      "metadata": {
        "colab": {
          "base_uri": "https://localhost:8080/"
        },
        "id": "c4c8d447",
        "outputId": "d512fea3-2cc3-4a33-be8b-e8a9533cb17a"
      },
      "outputs": [
        {
          "output_type": "stream",
          "name": "stdout",
          "text": [
            "Source                                                                       Target\n",
            "seven thousand nine hundred and twenty nine                                 7 9 2 9\n",
            "eight hundred and forty two thousand two hundred and fifty nine         8 4 2 2 5 9\n",
            "five hundred and eight thousand two hundred and seventeen               5 0 8 2 1 7\n"
          ]
        }
      ],
      "source": [
        "with open(local_dir + \"dev.src\") as fsrc:\n",
        "    with open(local_dir + \"dev.tgt\") as ftgt:\n",
        "        print (f'{\"Source\":70s} {\"Target\":>12s}')\n",
        "        for src, tgt, _ in zip(fsrc, ftgt, range(3)):\n",
        "            print (f'{src.strip():70s} {tgt.strip():>12s}')"
      ]
    },
    {
      "cell_type": "markdown",
      "id": "7ed594bf",
      "metadata": {
        "id": "7ed594bf"
      },
      "source": [
        "As before, we use `torchtext` to load data. We use two fields: `SRC` for processing the source side (the English number phrases) and `TGT` for processing the target side (the digit sequences)."
      ]
    },
    {
      "cell_type": "code",
      "execution_count": null,
      "id": "a5aa0f2d",
      "metadata": {
        "id": "a5aa0f2d"
      },
      "outputs": [],
      "source": [
        "SRC = tt.data.Field(include_lengths=True,         # include lengths\n",
        "                    batch_first=False,            # batches will be max_len x batch_size\n",
        "                    tokenize=lambda x: x.split(), # use split to tokenize\n",
        "                   ) \n",
        "TGT = tt.data.Field(include_lengths=False,\n",
        "                    batch_first=False,            # batches will be max_len x batch_size\n",
        "                    tokenize=lambda x: x.split(), # use split to tokenize\n",
        "                    init_token=\"<bos>\",           # prepend <bos>\n",
        "                    eos_token=\"<eos>\")            # append <eos>\n",
        "fields = [('src', SRC), ('tgt', TGT)]"
      ]
    },
    {
      "cell_type": "markdown",
      "id": "a5524b9a",
      "metadata": {
        "id": "a5524b9a"
      },
      "source": [
        "Note that we prepended `<bos>` and appended `<eos>` to target sentences. The purpose for introducing them will become clear in later parts of this lab."
      ]
    },
    {
      "cell_type": "code",
      "execution_count": null,
      "id": "b17b0bde",
      "metadata": {
        "colab": {
          "base_uri": "https://localhost:8080/"
        },
        "id": "b17b0bde",
        "outputId": "7078c14d-a9b0-41b5-da8a-c833bb103bc5"
      },
      "outputs": [
        {
          "output_type": "stream",
          "name": "stdout",
          "text": [
            "Size of src vocab: 34\n",
            "Size of tgt vocab: 14\n",
            "Index for src padding: 1\n",
            "Index for tgt padding: 1\n",
            "Index for start of sequence token: 2\n",
            "Index for end of sequence token: 3\n"
          ]
        }
      ],
      "source": [
        "# Make splits for data\n",
        "train_data, val_data, test_data = tt.datasets.TranslationDataset.splits(\n",
        "    (\".src\", \".tgt\"),\n",
        "    fields,\n",
        "    path=local_dir,\n",
        "    train=\"train\",\n",
        "    validation=\"dev\",\n",
        "    test=\"test\",\n",
        ")\n",
        "\n",
        "# Build vocabulary\n",
        "SRC.build_vocab(train_data.src)\n",
        "TGT.build_vocab(train_data.tgt)\n",
        "\n",
        "print(f\"Size of src vocab: {len(SRC.vocab)}\")\n",
        "print(f\"Size of tgt vocab: {len(TGT.vocab)}\")\n",
        "print(f\"Index for src padding: {SRC.vocab.stoi[SRC.pad_token]}\")\n",
        "print(f\"Index for tgt padding: {TGT.vocab.stoi[TGT.pad_token]}\")\n",
        "print(f\"Index for start of sequence token: {TGT.vocab.stoi[TGT.init_token]}\")\n",
        "print(f\"Index for end of sequence token: {TGT.vocab.stoi[TGT.eos_token]}\")"
      ]
    },
    {
      "cell_type": "markdown",
      "id": "ec5223ba",
      "metadata": {
        "id": "ec5223ba"
      },
      "source": [
        "We batch training and validation data into minibatches, but for the test set, we use a batch size of 1, to make the decoding implementation easier."
      ]
    },
    {
      "cell_type": "code",
      "execution_count": null,
      "id": "96dbc80e",
      "metadata": {
        "id": "96dbc80e"
      },
      "outputs": [],
      "source": [
        "BATCH_SIZE = 32     # batch size for training and validation\n",
        "TEST_BATCH_SIZE = 1 # batch size for test; we use 1 to make implementation easier\n",
        "\n",
        "train_iter, val_iter = tt.data.BucketIterator.splits((train_data, val_data),\n",
        "                                                     batch_size=BATCH_SIZE, \n",
        "                                                     device=device,\n",
        "                                                     repeat=False, \n",
        "                                                     sort_key=lambda x: len(x.src), # sort by length to minimize padding\n",
        "                                                     sort_within_batch=True)\n",
        "test_iter = tt.data.BucketIterator(test_data, \n",
        "                                   batch_size=TEST_BATCH_SIZE, \n",
        "                                   device=device,\n",
        "                                   repeat=False, \n",
        "                                   sort=False, \n",
        "                                   train=False)"
      ]
    },
    {
      "cell_type": "markdown",
      "id": "440caa3a",
      "metadata": {
        "id": "440caa3a"
      },
      "source": [
        "Let's take a look at a batch from these iterators."
      ]
    },
    {
      "cell_type": "code",
      "execution_count": null,
      "id": "1426eccd",
      "metadata": {
        "colab": {
          "base_uri": "https://localhost:8080/"
        },
        "id": "1426eccd",
        "outputId": "963c0054-3fef-4943-b1b5-b59caddad3b9"
      },
      "outputs": [
        {
          "output_type": "stream",
          "name": "stdout",
          "text": [
            "Size of src batch: torch.Size([17, 32])\n",
            "Third src sentence in batch: tensor([11,  3,  2, 19, 13,  5, 11,  3,  2, 20,  6,  4, 14,  3,  2, 21, 12],\n",
            "       device='cuda:0')\n",
            "Length of the third src sentence in batch: 17\n",
            "Converted back to string: six hundred and eighty eight million six hundred and seventy two thousand four hundred and twenty one\n",
            "Size of tgt batch: torch.Size([12, 32])\n",
            "Third tgt sentence in batch: tensor([ 2,  8, 11, 11,  8,  6,  7, 10,  7, 12,  3,  1], device='cuda:0')\n",
            "Converted back to string: <bos> 6 8 8 6 7 2 4 2 1 <eos> <pad>\n"
          ]
        }
      ],
      "source": [
        "batch = next(iter(train_iter))\n",
        "src, src_lengths = batch.src\n",
        "print (f\"Size of src batch: {src.shape}\")\n",
        "print (f\"Third src sentence in batch: {src[:, 2]}\")\n",
        "print (f\"Length of the third src sentence in batch: {src_lengths[2]}\")\n",
        "print (f\"Converted back to string: {' '.join([SRC.vocab.itos[i] for i in src[:, 2]])}\")\n",
        "\n",
        "tgt = batch.tgt\n",
        "print (f\"Size of tgt batch: {tgt.shape}\")\n",
        "print (f\"Third tgt sentence in batch: {tgt[:, 2]}\")\n",
        "print (f\"Converted back to string: {' '.join([TGT.vocab.itos[i] for i in tgt[:, 2]])}\")"
      ]
    },
    {
      "cell_type": "markdown",
      "id": "5ac2618b",
      "metadata": {
        "id": "5ac2618b"
      },
      "source": [
        "# Neural Encoder-Decoder Models"
      ]
    },
    {
      "cell_type": "markdown",
      "id": "d0cb74b0",
      "metadata": {
        "id": "d0cb74b0"
      },
      "source": [
        "Sequence-to-sequence models are sometimes called neural encoder-decoder models, as they consist of an encoder, which maps a sequence of source tokens into some vector representations, and a decoder, which generates a sequence of output words from those encoded vectors.\n",
        "\n",
        "Formally, given a sequence of source tokens $\\vect{x} = x_1, \\ldots, x_S$, the goal is to map it to a sequence of target tokens $\\vect{y} = y_1, \\ldots, y_T$. \n",
        "\n",
        "In practice, we prepend a special beginning-of-sequence symbol $y_0$=`<bos>` to the target sequence. Further, in order to provide a way of knowing when to stop generating $\\vect{y}$, we append a special end-of-sequence symbol $y_{T+1}$=`<eos>` to the target sequence, such that when it is produced by the model, the generation process stops.\n",
        "\n",
        "The generation process is structured as a generative model:\n",
        "\n",
        "$$\n",
        "\\Pr(y_0, \\ldots, y_{T+1} \\mid x_1, \\ldots, x_S) = \\prod_{t=1}^{T+1} \\Pr(y_t \\mid y_{<t}, x_1, \\ldots, x_S),\n",
        "$$\n",
        "\n",
        "where $y_{<t}$ denotes the tokens before $y_t$ (that is, $y_0, \\ldots, y_{t-1}$).\n",
        "\n",
        "We use a recurrent neural network with parameters $\\theta$ to parameterize $\\Pr(y_t \\mid y_{<t}, x_1, \\ldots, x_S)$:\n",
        "\n",
        "$$\n",
        "\\Pr(y_t \\mid y_{<t}, x_1, \\ldots, x_S) \\approx {\\Pr}_\\theta(y_t \\mid y_{<t}, x_1, \\ldots, x_S),\n",
        "$$\n",
        "\n",
        "or equivalently,\n",
        "\n",
        "$$\n",
        "{\\Pr}_\\theta(y_1, \\ldots, y_T \\mid x_1, \\ldots, x_S) = \\prod_{t=1}^{T+1} {\\Pr}_\\theta(y_t \\mid y_{<t}, x_1, \\ldots, x_S)\n",
        "$$\n",
        "\n",
        "In neural encoder-decoder models, we first use an encoder to encode $\\vect{x}$ into some vectors (either of fixed length as we'll see in this lab, or of varying length as we'll see in the next lab). Based on the encoded vectors, we use a decoder to generate $\\vect{y}$:\n",
        "\n",
        "$$\n",
        "{\\Pr}_\\theta(y_t \\mid y_{<t}, x_1, \\ldots, x_S) = \\text{decode}(\\text{encode}(x_1, \\ldots, x_S), y_{<t})\n",
        "$$"
      ]
    },
    {
      "cell_type": "markdown",
      "id": "2e0fce1e",
      "metadata": {
        "id": "2e0fce1e"
      },
      "source": [
        "### RNN Encoder-Decoders"
      ]
    },
    {
      "cell_type": "markdown",
      "id": "003b8045",
      "metadata": {
        "deletable": false,
        "editable": false,
        "id": "003b8045"
      },
      "source": [
        "We can use any recurrent neural networks such as LSTMs as encoders and decoders. In this lab, we will use a bidirectional LSTM as the encoder, and a unidirectional LSTM as the decoder, as shown in the illustration below.\n",
        "\n",
        "<img src=\"https://github.com/nlp-course/data/raw/master/img/encoder_decoder.png\" alt=\"encoder-decoder illustration\" />\n",
        "\n",
        "In the above illustration, $S=4$, $T=3$, and there are two encoder/decoder layers. Since we are using a bidirectional encoder, for each layer there are two final states, one for the cell running from left to right (such as $h_{0,4}$), and the other for the cell running from right to left (such as $h_{0,4}'$). We concatenate these two states and use the result to initialize the corresponding layer of the decoder. (In the example, we concatenate $h_{0,4}$ and $h_{0,4}'$ to initialize layer 0, and we concatenate $h_{1,4}$ and $h_{1,4}'$ to initialize layer 1.) Therefore, to make the sizes match, we set the hidden state size of the encoder to be half of that of the decoder.\n",
        "\n",
        "Note that in PyTorch's LSTM implementation, the final hidden state is represented as a tuple `(h, c)` ([documentation here](https://pytorch.org/docs/stable/generated/torch.nn.LSTM.html)), so we want to apply the same operations to `c` to initialize the decoder.\n",
        "\n",
        "You'll implement `forward_encoder` and `forward_decoder` in the code below. The `forward_encoder` function will be reminiscent of a sequence model from labs 2-* and project segment 2. It operates on a batch of source examples and proceeds as follows:\n",
        "\n",
        "1. Map the input words to some word embeddings. You'll notice that the embedding size is an argument to the model.\n",
        "\n",
        "2. Optionally \"pack\" the sequences to save some computation using `torch.nn.utils.rnn.pack_padded_sequence`, imported above as `pack`.\n",
        "\n",
        "3. Run the encoder RNN (a bidirectional LSTM) over the batch, generating a batch of output states.\n",
        "\n",
        "4. Reshape the final state information (which will have `h` and `c` components each of half the size needed to initialize the decoder) so that it is appropriate to initialize the decoder with.\n",
        "\n",
        "The `forward_decoder` function takes the reshaped encoder final state information and the ground truth target sequences and returns logits (unnormalized log probs) for each target word. (These are ready to be converted to probability distributions via a softmax.)\n",
        "\n",
        "The steps in decoding are:\n",
        "\n",
        "1. Map the target words to word embeddings.\n",
        "\n",
        "2. Run the decoder RNN (a unidirectional LSTM) over the batch, initializing the hidden units from the encoder final states, generating a batch of output states.\n",
        "\n",
        "3. Map the RNN outputs to vectors of vocabulary size (so that they could be softmaxed into a distribution over the vocabulary).\n",
        "\n",
        "The components that you'll be plugging together to do all this are already established in the `__init__` method. \n",
        "\n",
        "> The major exception is the reshaping of the encoder output `h` and `c` to form the decoder input `h` and `c`. **This is the trickiest part.** As usual, your best strategy is to keep careful track of the shapes of each input and output of a layer or operation. We recommend that you try out just the reshaping code on small sample data to test it out before running any encodings or decodings.\n",
        "\n",
        "**Hint #1:** The total number of `for` loops in our solution code for the parts you are to write is...zero.\n",
        "\n",
        "**Hint #2:** According to the documentation of [torch.nn.LSTM](https://pytorch.org/docs/stable/generated/torch.nn.LSTM.html), its outputs are: `outputs, (h, c)`. `outputs` contains all the intermediate states, which you don't need in this lab. You will need `h` and `c`, both of them have the shape: `(num_layers * num_directions, batch_size, hidden_size)`.\n",
        "<!--\n",
        "BEGIN QUESTION\n",
        "name: encoder_decoder\n",
        "-->"
      ]
    },
    {
      "cell_type": "code",
      "execution_count": null,
      "id": "abeb1a6e",
      "metadata": {
        "id": "abeb1a6e"
      },
      "outputs": [],
      "source": [
        "# TODO - finish implementing the `forward_encoder` and `forward_decoder` methods\n",
        "class EncoderDecoder(nn.Module):\n",
        "    def __init__(self, src_field, tgt_field, embedding_size=64, hidden_size=64, layers=3):\n",
        "        \"\"\"\n",
        "        Initializer. Creates network modules and loss function.\n",
        "        Arguments:\n",
        "            src_field: src field\n",
        "            tgt_field: tgt field\n",
        "            embedding_size: word embedding size\n",
        "            hidden_size: hidden layer size of both encoder and decoder\n",
        "            layers: number of layers of both encoder and decoder\n",
        "        \"\"\"\n",
        "        super(EncoderDecoder, self).__init__()\n",
        "        self.src_field = src_field\n",
        "        self.tgt_field = tgt_field\n",
        "\n",
        "        # Keep the vocabulary sizes available\n",
        "        self.V_src = len(src_field.vocab.itos)\n",
        "        self.V_tgt = len(tgt_field.vocab.itos)\n",
        "\n",
        "        # Get special word ids or tokens\n",
        "        self.padding_id_src = src_field.vocab.stoi[src_field.pad_token]\n",
        "        self.padding_id_tgt = tgt_field.vocab.stoi[tgt_field.pad_token]\n",
        "        self.bos_id = tgt_field.vocab.stoi[tgt_field.init_token]\n",
        "        self.eos_id = tgt_field.vocab.stoi[tgt_field.eos_token]\n",
        "\n",
        "        # Keep hyper-parameters available\n",
        "        self.embedding_size = embedding_size\n",
        "        self.hidden_size = hidden_size\n",
        "        self.layers = layers\n",
        "\n",
        "        # Create essential modules\n",
        "        self.word_embeddings_src = nn.Embedding(self.V_src, embedding_size)\n",
        "        self.word_embeddings_tgt = nn.Embedding(self.V_tgt, embedding_size)\n",
        "\n",
        "        # RNN cells\n",
        "        self.encoder_rnn = nn.LSTM(\n",
        "            input_size=embedding_size,\n",
        "            hidden_size=hidden_size // 2,  # to match decoder hidden size\n",
        "            num_layers=layers,\n",
        "            bidirectional=True,  # bidirectional encoder\n",
        "        )\n",
        "        self.decoder_rnn = nn.LSTM(\n",
        "            input_size=embedding_size,\n",
        "            hidden_size=hidden_size,\n",
        "            num_layers=layers,\n",
        "            bidirectional=False,  # unidirectional decoder\n",
        "        )\n",
        "\n",
        "        # Final projection layer\n",
        "        self.hidden2output = nn.Linear(hidden_size, self.V_tgt)\n",
        "\n",
        "        # Create loss function\n",
        "        self.loss_function = nn.CrossEntropyLoss(\n",
        "            reduction=\"sum\", ignore_index=self.padding_id_tgt\n",
        "        )\n",
        "\n",
        "    def forward_encoder(self, src, src_lengths):\n",
        "        \"\"\"\n",
        "        Encodes source words `src`.\n",
        "        Arguments:\n",
        "            src: src batch of size (max_src_len, batch_size)\n",
        "            src_lengths: src lengths of size (batch_size)\n",
        "        Returns:\n",
        "            a tuple (h, c) where h/c is of size (layers, bsz, hidden_size)\n",
        "        \"\"\"\n",
        "        # TODO - implement this function\n",
        "        # Optional: use `pack` to deal with paddings (https://discuss.pytorch.org/t/simple-working-example-how-to-use-packing-for-variable-length-sequence-inputs-for-rnn/2120)\n",
        "        emb_src = self.word_embeddings_src(src)\n",
        "        output_rnn, (h, c) = self.encoder_rnn(emb_src)\n",
        "        # print('h c shape', h.shape, c.shape)\n",
        "        swap_h = h.transpose(0, 1)\n",
        "        swap_c = c.transpose(0, 1)\n",
        "        join_h = swap_h.reshape(-1, int(swap_h.shape[1]/2), swap_h.shape[2]*2)\n",
        "        join_c = swap_c.reshape(-1, int(swap_c.shape[1]/2), swap_c.shape[2]*2)\n",
        "        h = join_h.transpose(0,1)\n",
        "        c = join_c.transpose(0,1)\n",
        "        h = h.contiguous()\n",
        "        c = c.contiguous()\n",
        "        # print('shape h c', h.shape, c.shape)\n",
        "        # print(h)\n",
        "        return h, c\n",
        "        \n",
        "    def forward_decoder(self, encoder_final_state, tgt_in):\n",
        "        \"\"\"\n",
        "        Decodes based on encoder final state and ground truth target words.\n",
        "        Arguments:\n",
        "            encoder_final_state: a tuple (h, c) where h/c is of size (layers, bsz, hidden_size)\n",
        "            tgt_in: a tensor of size (tgt_len, bsz)\n",
        "        Returns:\n",
        "            Logits of size (tgt_len, bsz, V_tgt) (before the softmax operation)\n",
        "        \"\"\"\n",
        "        # TODO - implement this function\n",
        "        # (h, c) = encoder_final_state\n",
        "        \n",
        "        # print('!!')\n",
        "        # print('h', h.shape)\n",
        "        tgt_in = self.word_embeddings_tgt(tgt_in)\n",
        "        # print(\"**\")\n",
        "        # print('c', c.shape)\n",
        "        logits,_ = self.decoder_rnn( tgt_in,encoder_final_state)\n",
        "        # print('!!')\n",
        "        logits = self.hidden2output(logits)\n",
        "        return logits\n",
        "\n",
        "    def forward(self, src, src_lengths, tgt_in):\n",
        "        \"\"\"\n",
        "        Performs forward computation, returns logits.\n",
        "        Arguments:\n",
        "            src: src batch of size (max_src_len, batch_size)\n",
        "            src_lengths: src lengths of size (batch_size)\n",
        "            tgt_in:  a tensor of size (tgt_len, bsz)\n",
        "        \"\"\"\n",
        "        # Forward encoder\n",
        "        encoder_final_state = self.forward_encoder(src, src_lengths)  # tuple (h, c)\n",
        "        # Forward decoder\n",
        "        logits = self.forward_decoder(encoder_final_state, tgt_in)\n",
        "        return logits\n",
        "\n",
        "    def forward_decoder_incrementally(self, decoder_state, tgt_in_token):\n",
        "        \"\"\"\n",
        "        Forward the decoder at `decoder_state` for a single step with token `tgt_in_token`.\n",
        "        This function will only be used in the beam search section.\n",
        "        Arguments:\n",
        "            encoder_final_state: a tuple (h, c) where h/c is of size (layers, 1, hidden_size)\n",
        "            tgt_in_token: a tensor of size (1), a single token\n",
        "        Returns:\n",
        "            `logits`: Log probabilities for `tgt_in_token` of size (V_tgt)\n",
        "            `decoder_state`: updated decoder state, ready for next incremental update\n",
        "        \"\"\"\n",
        "        bsz = decoder_state[0].size(1)\n",
        "        assert bsz == 1, \"forward_decoder_incrementally only supports batch size 1!\"\n",
        "        # Compute word embeddings\n",
        "        tgt_embeddings = self.word_embeddings_tgt(\n",
        "            tgt_in_token.view(1, 1)\n",
        "        )  # tgt_len, bsz, hidden\n",
        "        # Forward decoder RNN and return all hidden states\n",
        "        decoder_outs, decoder_state = self.decoder_rnn(tgt_embeddings, decoder_state)\n",
        "        # Project to get logits\n",
        "        logits = self.hidden2output(decoder_outs)  # tgt_len, bsz, V_tgt\n",
        "        # Get log probabilities\n",
        "        logits = torch.log_softmax(logits, -1)\n",
        "        return logits.view(-1), decoder_state\n",
        "\n",
        "    def evaluate_ppl(self, iterator):\n",
        "        \"\"\"Returns the model's perplexity on a given dataset `iterator`.\"\"\"\n",
        "        # Switch to eval mode\n",
        "        self.eval()\n",
        "        total_loss = 0\n",
        "        total_words = 0\n",
        "        for batch in iterator:\n",
        "            # Input and target\n",
        "            src, src_lengths = batch.src\n",
        "            tgt = batch.tgt  # max_length_sql, bsz\n",
        "            tgt_in = tgt[:-1]  # remove <eos> for decode input (y_0=<bos>, y_1, y_2)\n",
        "            tgt_out = tgt[1:]  # remove <bos> as target        (y_1, y_2, y_3=<eos>)\n",
        "            # Forward to get logits\n",
        "            logits = self.forward(src, src_lengths, tgt_in)\n",
        "            # Compute cross entropy loss\n",
        "            loss = self.loss_function(logits.view(-1, self.V_tgt), tgt_out.view(-1))\n",
        "            total_loss += loss.item()\n",
        "            total_words += tgt_out.ne(self.padding_id_tgt).float().sum().item()\n",
        "        return math.exp(total_loss / total_words)\n",
        "\n",
        "    def train_all(self, train_iter, val_iter, epochs=10, learning_rate=0.001):\n",
        "        \"\"\"Train the model.\"\"\"\n",
        "        # Switch the module to training mode\n",
        "        self.train()\n",
        "        # Use Adam to optimize the parameters\n",
        "        optim = torch.optim.Adam(self.parameters(), lr=learning_rate)\n",
        "        best_validation_ppl = float(\"inf\")\n",
        "        best_model = None\n",
        "        # Run the optimization for multiple epochs\n",
        "        for epoch in range(epochs):\n",
        "            total_words = 0\n",
        "            total_loss = 0.0\n",
        "            for batch in tqdm(train_iter):\n",
        "                # Zero the parameter gradients\n",
        "                self.zero_grad()\n",
        "                # Input and target\n",
        "                src, src_lengths = batch.src  # text: max_src_length, bsz\n",
        "                tgt = batch.tgt  # max_tgt_length, bsz\n",
        "                tgt_in = tgt[:-1]  # Remove <eos> for decode input (y_0=<bos>, y_1, y_2)\n",
        "                tgt_out = tgt[1:]  # Remove <bos> as target        (y_1, y_2, y_3=<eos>)\n",
        "                batch_size = tgt.size(1)\n",
        "                # Run forward pass and compute loss along the way.\n",
        "                logits = self.forward(src, src_lengths, tgt_in)\n",
        "                loss = self.loss_function(logits.view(-1, self.V_tgt), tgt_out.view(-1))\n",
        "                # Training stats\n",
        "                num_tgt_words = tgt_out.ne(self.padding_id_tgt).float().sum().item()\n",
        "                total_words += num_tgt_words\n",
        "                total_loss += loss.item()\n",
        "                # Perform backpropagation\n",
        "                loss.div(batch_size).backward()\n",
        "                optim.step()\n",
        "\n",
        "            # Evaluate and track improvements on the validation dataset\n",
        "            validation_ppl = self.evaluate_ppl(val_iter)\n",
        "            self.train()\n",
        "            if validation_ppl < best_validation_ppl:\n",
        "                best_validation_ppl = validation_ppl\n",
        "                self.best_model = copy.deepcopy(self.state_dict())\n",
        "            epoch_loss = total_loss / total_words\n",
        "            print(f\"Epoch: {epoch} Training Perplexity: {math.exp(epoch_loss):.4f} \"\n",
        "                  f\"Validation Perplexity: {validation_ppl:.4f}\")"
      ]
    },
    {
      "cell_type": "code",
      "execution_count": null,
      "id": "34556a5f",
      "metadata": {
        "colab": {
          "base_uri": "https://localhost:8080/"
        },
        "id": "34556a5f",
        "outputId": "0f35b4a9-45d7-43b9-b4fe-48b3333b37d0"
      },
      "outputs": [
        {
          "output_type": "stream",
          "name": "stderr",
          "text": [
            "100%|██████████| 2032/2032 [00:19<00:00, 102.50it/s]\n"
          ]
        },
        {
          "output_type": "stream",
          "name": "stdout",
          "text": [
            "Epoch: 0 Training Perplexity: 1.7859 Validation Perplexity: 1.0601\n"
          ]
        },
        {
          "output_type": "stream",
          "name": "stderr",
          "text": [
            "100%|██████████| 2032/2032 [00:19<00:00, 103.61it/s]\n"
          ]
        },
        {
          "output_type": "stream",
          "name": "stdout",
          "text": [
            "Epoch: 1 Training Perplexity: 1.0382 Validation Perplexity: 1.0210\n"
          ]
        },
        {
          "output_type": "execute_result",
          "data": {
            "text/plain": [
              "<All keys matched successfully>"
            ]
          },
          "metadata": {},
          "execution_count": 42
        }
      ],
      "source": [
        "EPOCHS = 2  # epochs, we highly recommend starting with a smaller number like 1\n",
        "LEARNING_RATE = 2e-3  # learning rate\n",
        "\n",
        "# Instantiate and train classifier\n",
        "model = EncoderDecoder(\n",
        "    SRC,\n",
        "    TGT,\n",
        "    embedding_size=64,\n",
        "    hidden_size=64,\n",
        "    layers=3,\n",
        ").to(device)\n",
        "\n",
        "model.train_all(train_iter, val_iter, epochs=EPOCHS, learning_rate=LEARNING_RATE)\n",
        "model.load_state_dict(model.best_model)"
      ]
    },
    {
      "cell_type": "markdown",
      "id": "e119d5f9",
      "metadata": {
        "id": "e119d5f9"
      },
      "source": [
        "Since the task we consider here is very simple, we should expect a perplexity very close to 1."
      ]
    },
    {
      "cell_type": "code",
      "execution_count": null,
      "id": "69bde15f",
      "metadata": {
        "colab": {
          "base_uri": "https://localhost:8080/"
        },
        "id": "69bde15f",
        "outputId": "851cdb2c-8dab-4fd5-a172-689733f8e66c"
      },
      "outputs": [
        {
          "output_type": "stream",
          "name": "stdout",
          "text": [
            "Test perplexity: 1.020\n"
          ]
        }
      ],
      "source": [
        "# Evaluate model performance\n",
        "print (f'Test perplexity: {model.evaluate_ppl(test_iter):.3f}')"
      ]
    },
    {
      "cell_type": "code",
      "execution_count": null,
      "id": "e79446eb",
      "metadata": {
        "deletable": false,
        "editable": false,
        "colab": {
          "base_uri": "https://localhost:8080/",
          "height": 46
        },
        "id": "e79446eb",
        "outputId": "afe4980c-aa00-4c92-e55e-ad99c2281243"
      },
      "outputs": [
        {
          "output_type": "execute_result",
          "data": {
            "text/plain": [
              "\n",
              "    All tests passed!\n",
              "    "
            ],
            "text/html": [
              "\n",
              "    \n",
              "    \n",
              "        <p>All tests passed!</p>\n",
              "    \n",
              "    "
            ]
          },
          "metadata": {},
          "execution_count": 44
        }
      ],
      "source": [
        "grader.check(\"encoder_decoder_ppl\")"
      ]
    },
    {
      "cell_type": "markdown",
      "id": "85138f2c",
      "metadata": {
        "deletable": false,
        "editable": false,
        "id": "85138f2c"
      },
      "source": [
        "<!-- BEGIN QUESTION -->\n",
        "\n",
        "#  Decoding\n",
        "\n",
        "\n",
        "Now that we have a well-trained model, we need to consider how to use it to do the actual conversion. At decoding time, given a source sequence $x_1, \\ldots, x_S$, we want to find the target sequence $y_1^*, \\ldots, y_T^*, y_{T+1}^*$ (recall that $y _{T+1} = \\langle\\text{eos}\\rangle$) such that the conditional likelihood is maximized:\n",
        "\n",
        "\\begin{align*}\n",
        "y_1^*, \\ldots, y_T^*, y_{T+1}^* &= \\argmax{y_1, \\ldots, y_T, y_{T+1}} {\\Pr}_\\theta(y_1, \\ldots, y_T \\mid x_1, \\ldots, x_S)\\\\\n",
        "&= \\argmax{y_1, \\ldots, y_T, y_{T+1}} \\prod_{t=1}^{T+1} {\\Pr}_\\theta(y_t \\mid y_{<t}, x_1, \\ldots, x_S)\\\\\n",
        "\\end{align*}\n",
        "\n",
        "In previous labs and project segments, we used _greedy decoding_, i.e., taking $\\hat{y}_1= \\argmax{y_1} {\\Pr}_\\theta(y_1 \\mid y_{0}, x_1, \\ldots, x_S)$, $\\hat{y}_2= \\argmax{y_2} {\\Pr}_\\theta(y_2 \\mid y_{0}, \\hat{y}_1, x_1, \\ldots, x_S)$, ..., $\\hat{y}_{T+1}= \\argmax{y_{T+1}} {\\Pr}_\\theta(y_{T+1} \\mid y_{0}, \\hat{y}_1, \\ldots, \\hat{y}_{T}, x_1, \\ldots, x_S)$, until $\\hat{y}_{T+1}=\\langle\\text{eos}\\rangle$. \n",
        "\n",
        "**Question:**  Does greedy decoding guarantee finding the optimal sequence (the sequence with the highest conditional likelihood)? Why or why not?\n",
        "\n",
        "<!--\n",
        "BEGIN QUESTION\n",
        "name: open_response_decoding\n",
        "manual: true\n",
        "-->"
      ]
    },
    {
      "cell_type": "markdown",
      "id": "4ca305f1",
      "metadata": {
        "id": "4ca305f1"
      },
      "source": [
        "_No. the reason is that greedy decoding only maximaize the next following word (prediction) across a whole sentece (sequence) but it might resulting in returning no the most probable sentence (across a sequence of words), for example, lets say that given some context our model suggest to choose the word \"A\" with probability of 0.4 and the word \"B\" with probability of 0.6, so we greedy will choose \"B\" this time. now lets say that each of the following word after \"B\" the the model predicts gets the probability of 0.333 so our two lenght sentence probability is 0.2. Now lets go back to \"A\": the following words after it get probabilitis of 0.2 and 0.8 and then greedy will choose 0.8 which will result in a two lenght sentence probability of 0.32 which is higher then 0.2 (so greeady actually missed a sentence prediction with higher probabilty). \n",
        "we can think about this like that greedy sees a smaller context of prediction (short prediction)._"
      ]
    },
    {
      "cell_type": "markdown",
      "id": "640977c7",
      "metadata": {
        "deletable": false,
        "editable": false,
        "id": "640977c7"
      },
      "source": [
        "<!-- END QUESTION -->\n",
        "\n",
        "<!-- BEGIN QUESTION -->\n",
        "\n",
        "## Beam search decoding\n",
        "\n",
        "Beam search decoding is the most commonly used decoding method in sequence-to-sequence approaches. Like greedy decoding, it uses a left-to-right search process. But instead of only keeping the single argmax at each position, beam search maintains the $K$ best partial hypotheses $H_t = \\{(y_1^{(k)}, \\ldots, y_t^{(k)}): k\\in\\{1, \\ldots, K\\}\\}$ at every step $t$. To proceed to $t+1$, we compute the scores of sequences  $y_1^{(k)}, \\ldots, y_t^{(k)}, y_{t+1}$ for every possible extension $y_{t+1}\\in \\mathcal{V}$ and every possible prefix $(y_1^{(k)}, \\ldots, y_t^{(k)}) \\in H_t$, where $\\mathcal{V}$ is the vocabulary. Among these $K\\times |\\mathcal{V}|$ sequences, we only keep the top $K$ sequences with the best partial scores, and that becomes $H_{t+1} = \\{(y_1^{(k)}, \\ldots, y_{t+1}^{(k)}): k\\in\\{1, \\ldots, K\\}\\}$. To start at $t=1$, $H_1 = \\{(y): y \\in \\text{K-argmax}_{y_1\\in\\mathcal{V}} \\log P(y_1|y_0=bos) \\}$. Here $K$ is called the beam size.\n",
        "\n",
        "To summarize,\n",
        "\n",
        "\\begin{align*}\n",
        "H_1 &= \\{(y): y \\in \\operatorname*{K-argmax}_{y_1\\in\\mathcal{V}} \\log P(y_1|y_0=bos) \\}\\\\\n",
        "H_{t+1} &= \\operatorname*{K-argmax}\\limits_{\\{(y_1, y_2, \\ldots, y_{t+1})\\in \\mathcal{V}^{t+1}: (y_1, \\ldots, y_t) \\in H_t \\}} \\log P(y_1, \\ldots, y_{t+1} | x)\n",
        "\\end{align*}\n",
        "\n",
        "until we reach a pre-specified maximum search length, and we collect the completed hypotheses along the way. (By completed we mean ending with `<eos>`.) The finished hypothesis with the best score will then be returned.\n",
        "\n",
        "**Question:** Is beam search better than greedy search when $K=1$? Is it better when $K>1$? Why? How big a $K$ value do we need to get a guarantee that we can find the globally best sequence (assuming a maximum sequence length $T$ and vocabulary size $|\\mathcal{V}|$).\n",
        "\n",
        "<!--\n",
        "BEGIN QUESTION\n",
        "name: open_response_beam_search_greedy\n",
        "manual: true\n",
        "-->"
      ]
    },
    {
      "cell_type": "markdown",
      "id": "da7e6b9c",
      "metadata": {
        "id": "da7e6b9c"
      },
      "source": [
        "*for K=1 the beam search and the greedy one are equal (max each step output). for K>1 we belive the results of beam search will be better since it eximane more possiblities across a \"longer road\", so we not just maximaziting each step but we maximazing across multiple steps. for that reason, we belive that by choosing $K=|V|^T$ we can capture all the possiblities in a given input, then we will get the globally best predicted sequnce.*"
      ]
    },
    {
      "cell_type": "markdown",
      "id": "95c1b35d",
      "metadata": {
        "id": "95c1b35d"
      },
      "source": [
        "<!-- END QUESTION -->\n",
        "\n",
        "\n",
        "\n",
        "Under the probabilistic formulation of sequence-to-sequence models, the partial scores are decomposable over time steps: $\\log {\\Pr}_\\theta(y_1, \\ldots, y_T \\mid x) = \\sum_{t=1}^T \\log {\\Pr}_\\theta(y_t \\mid y_{<t}, x)$. Therefore, we can save computation in the above process by maintaining the partial sums $\\sum_{t'=1}^t \\log {\\Pr}_\\theta(y_{t'}^{(k)} \\mid y_{<t'}^{(k)}, x)$, such that we only need to compute $\\log {\\Pr}_\\theta(y_{t+1} \\mid y_{<t+1}^{(k)})$ when we want to go from $t$ to $t+1$. \n",
        "\n",
        "Here is pseudo-code for the beam search algorithm to decode a single example `x` of maximum length `max_T` using a beam size of `K`.\n",
        "\n",
        "```\n",
        " 1.  def beam_search(x, K, max_T):\n",
        " 2.      finished = []        # for storing completed hypotheses\n",
        "         # Initialize the beam\n",
        " 3.      beams = [Beam(hyp=(bos), score=0)] # initial hypothesis: bos, initial score: 0\n",
        " \n",
        " 4.      for t in [1..max_T]  # main body of search over time steps           \n",
        " 5.          hypotheses = []\n",
        " \n",
        "             # Expand each beam by all possible tokens y_{t+1}\n",
        " 6.          for beam in beams:\n",
        " 7.              y_{1:t}, score = beam.hyp, beam.score\n",
        " 8.              for y_{t+1} in V:\n",
        " 9.                  y_{1:t+1} = y_{1:t} + [y_{t+1}]\n",
        " 10.                 new_score = score + log P(y_{t+1} | y_{1:t}, x)\n",
        " 11.                 hypotheses.append(Beam(hyp=y_{1:t+1}, score=new_score))\n",
        " \n",
        "             # Find K best next beams\n",
        " 12.         beams = sorted(hypotheses, key=lambda beam: -beam.score)[:K]\n",
        " \n",
        "             # Set aside finished beams (those that end in <eos>)\n",
        " 13.         for beam in beams:\n",
        " 14.             y_{t+1} = beam.hyp[-1]\n",
        " 15.             if y_{t+1} == eos:\n",
        " 16.                 finished.append(beam)\n",
        " 17.                 beams.remove(beam)\n",
        "\n",
        "             # Break the loop if everything is finished\n",
        " 18.         if len(beams) == 0:\n",
        " 19.             break              \n",
        " 20.     return sorted(finished, key=lambda beam: -beam.score)[0] # return the best finished hypothesis\n",
        "```\n"
      ]
    },
    {
      "cell_type": "markdown",
      "id": "7603cb01",
      "metadata": {
        "deletable": false,
        "editable": false,
        "id": "7603cb01"
      },
      "source": [
        "Implement function `beam_search` in the below code. Note that there are some differences from the pseudo-code: first, we maintained a `decoder_state` in addition to $y_{1:t}$ and score such that we can compute $P(y_{t+1} \\mid y_{<t+1},x)$ efficiently; second, instead of creating a list of actual hypotheses as in lines 8-11, we use tensors to get pointers to the beam id and $y_{t+1}$ that are among the best K next beams.\n",
        "\n",
        "<!--\n",
        "BEGIN QUESTION\n",
        "name: beam_search\n",
        "-->"
      ]
    },
    {
      "cell_type": "code",
      "execution_count": null,
      "id": "ce5d7aeb",
      "metadata": {
        "id": "ce5d7aeb"
      },
      "outputs": [],
      "source": [
        "MAX_T = 15     # max target length\n",
        "\n",
        "class Beam():\n",
        "  \"\"\"Helper class for storing a hypothesis, its score and its decoder hidden state.\"\"\"\n",
        "  def __init__(self, decoder_state, tokens, score):\n",
        "    self.decoder_state = decoder_state\n",
        "    self.tokens = tokens\n",
        "    self.score = score\n",
        "        \n",
        "class BeamSearcher():\n",
        "  \"\"\"Main class for beam search.\"\"\"\n",
        "  def __init__(self, model):\n",
        "    self.model = model\n",
        "    self.bos_id = model.bos_id\n",
        "    self.eos_id = model.eos_id\n",
        "    self.V = model.V_tgt\n",
        "\n",
        "\n",
        "  def beam_search(self, src, src_lengths, K, max_T=MAX_T):\n",
        "    \"\"\"Performs beam search decoding.\n",
        "    \n",
        "    Arguments:\n",
        "        src: src batch of size (max_src_len, 1)\n",
        "        src_lengths: src lengths of size (1)\n",
        "        K: beam size\n",
        "        max_T: max possible target length considered\n",
        "    Returns:\n",
        "        a list of token ids\n",
        "    \"\"\"\n",
        "    finished = []\n",
        "    # Initialize the beam\n",
        "    self.model.eval()\n",
        "    #TODO - fill in encoder_final_state and init_beam below\n",
        "    encoder_final_state = self.model.forward_encoder(src=src, src_lengths=src_lengths)\n",
        "    init_beam = Beam(decoder_state=encoder_final_state, tokens=[self.bos_id], score=0)\n",
        "    beams = [init_beam]\n",
        "    \n",
        "    for t in range(max_T): # main body of search over time steps\n",
        "        \n",
        "        # Expand each beam by all possible tokens y_{t+1}\n",
        "        all_total_scores = []\n",
        "        for beam in beams:\n",
        "            y_1_to_t, score, decoder_state = beam.tokens, beam.score, beam.decoder_state\n",
        "            y_t = y_1_to_t[-1]\n",
        "            #TODO - finish the code below\n",
        "            # Hint: you might want to use `model.forward_decoder_incrementally`\n",
        "            \n",
        "            y_t_tensor = torch.ones(1, dtype=torch.long, device=device) * y_t\n",
        "            decoder_state = self.model.forward_decoder_incrementally(decoder_state, y_t_tensor)\n",
        "            total_scores = score + decoder_state[0]\n",
        "            decoder_state = decoder_state[1]\n",
        "            \n",
        "            all_total_scores.append(total_scores)\n",
        "            beam.decoder_state = decoder_state # update decoder state in the beam\n",
        "        all_total_scores = torch.stack(all_total_scores) # (K, V) when t>0, (1, V) when t=0\n",
        "\n",
        "        # Find K best next beams\n",
        "        # The below code has the same functionality as line 6-12, but is more efficient\n",
        "        all_scores_flattened = all_total_scores.view(-1) # K*V when t>0, 1*V when t=0\n",
        "        topk_scores, topk_ids = all_scores_flattened.topk(K, 0)\n",
        "        beam_ids = topk_ids.div(self.V, rounding_mode='floor')\n",
        "        next_tokens = topk_ids - beam_ids * self.V\n",
        "        new_beams = []\n",
        "        for k in range(K):\n",
        "            beam_id = beam_ids[k]       # which beam it comes from\n",
        "            y_t_plus_1 = next_tokens[k] # which y_{t+1}\n",
        "            score = topk_scores[k]\n",
        "            beam = beams[beam_id]\n",
        "            decoder_state = beam.decoder_state\n",
        "            y_1_to_t = beam.tokens\n",
        "\n",
        "            #TODO\n",
        "            new_beam = Beam(decoder_state=decoder_state, tokens=y_1_to_t + [y_t_plus_1], score=score) # ours\n",
        "            \n",
        "            new_beams.append(new_beam)\n",
        "        beams = new_beams\n",
        "\n",
        "        # Set aside completed beams\n",
        "        # TODO - move completed beams to `finished` (and remove them from `beams`)\n",
        "        \n",
        "        tmp = []\n",
        "        for beam in beams:\n",
        "          y_t_1 = beam.tokens[-1]\n",
        "          if y_t_1 == self.eos_id:\n",
        "            finished.append(beam)\n",
        "            tmp.append(beam)\n",
        "        for beam in tmp:\n",
        "          beams.remove(beam)\n",
        "        \n",
        "        # Break the loop if everything is completed\n",
        "        if len(beams) == 0:\n",
        "            break\n",
        "            \n",
        "    # Return the best hypothesis\n",
        "    if len(finished) > 0:\n",
        "        finished = sorted(finished, key=lambda beam: -beam.score)\n",
        "        return finished[0].tokens\n",
        "    else: # when nothing is finished, return an unfinished hypothesis\n",
        "        return beams[0].tokens"
      ]
    },
    {
      "cell_type": "code",
      "execution_count": null,
      "id": "e4289a34",
      "metadata": {
        "deletable": false,
        "editable": false,
        "id": "e4289a34",
        "colab": {
          "base_uri": "https://localhost:8080/",
          "height": 46
        },
        "outputId": "a0b61a76-9b1c-4daa-afb0-1743f137e01a"
      },
      "outputs": [
        {
          "output_type": "execute_result",
          "data": {
            "text/plain": [
              "\n",
              "    All tests passed!\n",
              "    "
            ],
            "text/html": [
              "\n",
              "    \n",
              "    \n",
              "        <p>All tests passed!</p>\n",
              "    \n",
              "    "
            ]
          },
          "metadata": {},
          "execution_count": 46
        }
      ],
      "source": [
        "grader.check(\"beam_search\")"
      ]
    },
    {
      "cell_type": "markdown",
      "id": "6b2bf4e0",
      "metadata": {
        "id": "6b2bf4e0"
      },
      "source": [
        "Now we can use beam search decoding to predict the outputs for the test set inputs using the trained model."
      ]
    },
    {
      "cell_type": "code",
      "execution_count": null,
      "id": "b221d614",
      "metadata": {
        "id": "b221d614",
        "colab": {
          "base_uri": "https://localhost:8080/"
        },
        "outputId": "247f5ea9-fca1-4026-8aa8-ba11a14f5a17"
      },
      "outputs": [
        {
          "output_type": "stream",
          "name": "stdout",
          "text": [
            "Source:       1. sixteen thousand eight hundred and thirty two\n",
            "Prediction:   1 6 8 3 2\n",
            "Ground truth: 1 6 8 3 2\n",
            "\n",
            "Source:       2. sixty seven million six hundred and eighty five thousand two hundred and thirty\n",
            "Prediction:   6 7 6 8 5 2 3 0\n",
            "Ground truth: 6 7 6 8 5 2 3 0\n",
            "\n",
            "Source:       3. six thousand two hundred and twelve\n",
            "Prediction:   6 2 1 2\n",
            "Ground truth: 6 2 1 2\n",
            "\n",
            "Source:       4. seven hundred and ninety eight million three hundred and thirty one thousand eight hundred and eighteen\n",
            "Prediction:   7 9 8 3 3 1 8 1 8\n",
            "Ground truth: 7 9 8 3 3 1 8 1 8\n",
            "\n",
            "Source:       5. eighty eight million four hundred and thirteen thousand nine hundred and eighteen\n",
            "Prediction:   8 8 4 1 3 9 1 8\n",
            "Ground truth: 8 8 4 1 3 9 1 8\n",
            "\n",
            "Source:       6. three hundred and seventy four thousand two hundred and seventy\n",
            "Prediction:   3 7 4 2 7 0\n",
            "Ground truth: 3 7 4 2 7 0\n",
            "\n",
            "Source:       7. ninety eight million three hundred and seventy thousand five hundred and forty five\n",
            "Prediction:   9 8 3 7 0 5 4 5\n",
            "Ground truth: 9 8 3 7 0 5 4 5\n",
            "\n",
            "Source:       8. ninety seven thousand seven hundred and sixty two\n",
            "Prediction:   9 7 7 6 2\n",
            "Ground truth: 9 7 7 6 2\n",
            "\n",
            "Source:       9. four hundred and ten thousand two hundred and three\n",
            "Prediction:   4 1 0 2 0 3\n",
            "Ground truth: 4 1 0 2 0 3\n",
            "\n",
            "Source:       10. five hundred and ninety eight thousand three hundred and ninety seven\n",
            "Prediction:   5 9 8 3 9 7\n",
            "Ground truth: 5 9 8 3 9 7\n",
            "\n",
            "Accuracy: 0.96\n"
          ]
        }
      ],
      "source": [
        "DEBUG_FIRST = 10  # set to 0 to disable printing predictions\n",
        "K = 5             # beam size 5\n",
        "\n",
        "correct = 0\n",
        "total = 0\n",
        "\n",
        "# create beam searcher\n",
        "beam_searcher = BeamSearcher(model)\n",
        "\n",
        "for index, batch in enumerate(test_iter, start=1):\n",
        "  # Input and output\n",
        "  src, src_lengths = batch.src\n",
        "  # Predict\n",
        "  prediction = beam_searcher.beam_search(src, src_lengths, K)\n",
        "  # Convert to string\n",
        "  prediction = ' '.join([TGT.vocab.itos[token] for token in prediction])\n",
        "  prediction = prediction.lstrip('<bos>').rstrip('<eos>').strip()\n",
        "  ground_truth = ' '.join([TGT.vocab.itos[token] for token in batch.tgt.view(-1)])\n",
        "  ground_truth = ground_truth.lstrip('<bos>').rstrip('<eos>').strip()\n",
        "  # Print out the first few examples\n",
        "  if DEBUG_FIRST >= index :\n",
        "    src = ' '.join([SRC.vocab.itos[item] for item in src.view(-1)])\n",
        "    print (f'Source:       {index}. {src}\\n'\n",
        "           f'Prediction:   {prediction}\\n'\n",
        "           f'Ground truth: {ground_truth}\\n')\n",
        "  if ground_truth == prediction:\n",
        "    correct += 1\n",
        "  total += 1\n",
        "\n",
        "print (f'Accuracy: {correct/total:.2f}')"
      ]
    },
    {
      "cell_type": "markdown",
      "id": "293f8141",
      "metadata": {
        "id": "293f8141"
      },
      "source": [
        "You might have noticed that using a larger $K$ might lead to very similar performance as using $K=1$ (greedy decoding). This is largely due to the fact that there are no dependencies among target tokens in our dataset (e.g., knowing that $y_1$ is 1 does not affect our prediction on $y_2$ conditioned on the source). In real world applications, people usually find using a fixed value of $K>1$ (such as $K=5$) performs better than greedy decoding."
      ]
    },
    {
      "cell_type": "markdown",
      "id": "f55044a8",
      "metadata": {
        "deletable": false,
        "editable": false,
        "id": "f55044a8"
      },
      "source": [
        "<!-- BEGIN QUESTION -->\n",
        "\n",
        "**Question:** Can we use beam search decoding to decode an HMM? For state space $Q$, sequence length $T$, what is the complexity of beam search with beam size $K$? What is the complexity of Viterbi decoding? What are their pros and cons?\n",
        "\n",
        "<!--\n",
        "BEGIN QUESTION\n",
        "name: open_response_decoding_hmm\n",
        "manual: true\n",
        "-->"
      ]
    },
    {
      "cell_type": "markdown",
      "id": "b7a566c4",
      "metadata": {
        "id": "b7a566c4"
      },
      "source": [
        "**Answer**:\n",
        "_We can use beam search to decode HMM. We'll use beam-search with $K=|Q|^T$, meaning we maintain all the possible paths, in order to find the best one (highest probability)._\n",
        "\n",
        "_For state space Q and sequence length T, assuming the one step of decoding is done in $O(1)$ the time complexity of beam-search with size k is $O(K\\cdot Q \\cdot T)$, while the time complexity of the viterbi is $O(Q^2\\cdot T)$. About space complexity, beam-search at each step expand each of the K's beams to the whole state space $Q$, and taking the top-k, meaning at each step we use $O(K\\cdot Q)$ space (which we can free at the end of the step). In addition, we keep the paths of the top-k beams which cost $O(K\\cdot T)$. Total space complexity for beam-search is $O(K\\cdot Q+K\\cdot T)$. As for viterbi, we already saw the space complexity is just keeping the whole table, $O(Q\\cdot T)$._\n",
        "\n",
        "_The pros of beam search are it is faster to compute, much more scalable for huge state space (like in machine translation) and is flexible since we can tune our K hyper-parameter. Its' con is that it is not guarantee to find the best path (as we already mentioned before). On the other hand, viterbi algorithm is guarantee to find the best solution, but require more compute time and hard to scale in case our state space, $Q$ is large._"
      ]
    },
    {
      "cell_type": "markdown",
      "id": "bf9c0d1b",
      "metadata": {
        "deletable": false,
        "editable": false,
        "id": "bf9c0d1b"
      },
      "source": [
        "<!-- END QUESTION -->\n",
        "\n",
        "<!-- BEGIN QUESTION -->\n",
        "\n",
        "# Lab debrief\n",
        "\n",
        "**Question:** We're interested in any thoughts your group has about this lab so that we can improve this lab for later years, and to inform later labs for this year. Please list any issues that arose or comments you have to improve the lab. Useful things to comment on might include the following: \n",
        "\n",
        "* Was the lab too long or too short?\n",
        "* Were the readings appropriate for the lab? \n",
        "* Was it clear (at least after you completed the lab) what the points of the exercises were? \n",
        "* Are there additions or changes you think would make the lab better?\n",
        "\n",
        "but you should comment on whatever aspects you found especially positive or negative.\n",
        "\n",
        "<!--\n",
        "BEGIN QUESTION\n",
        "name: open_response_debrief\n",
        "manual: true\n",
        "-->"
      ]
    },
    {
      "cell_type": "markdown",
      "id": "959017d6",
      "metadata": {
        "id": "959017d6"
      },
      "source": [
        ":D"
      ]
    },
    {
      "cell_type": "markdown",
      "id": "5fb96e0c",
      "metadata": {
        "id": "5fb96e0c"
      },
      "source": [
        "<!-- END QUESTION -->\n",
        "\n",
        "\n",
        "\n",
        "# End of Lab 4-4"
      ]
    },
    {
      "cell_type": "markdown",
      "id": "c3ee2eff",
      "metadata": {
        "deletable": false,
        "editable": false,
        "id": "c3ee2eff"
      },
      "source": [
        "---\n",
        "\n",
        "To double-check your work, the cell below will rerun all of the autograder tests."
      ]
    },
    {
      "cell_type": "code",
      "execution_count": null,
      "id": "9d9cbfb9",
      "metadata": {
        "deletable": false,
        "editable": false,
        "id": "9d9cbfb9",
        "colab": {
          "base_uri": "https://localhost:8080/",
          "height": 116
        },
        "outputId": "59b0db51-3656-4336-8dcc-15bd5102d710"
      },
      "outputs": [
        {
          "output_type": "execute_result",
          "data": {
            "text/plain": [
              "beam_search:\n",
              "\n",
              "    All tests passed!\n",
              "    \n",
              "\n",
              "encoder_decoder_ppl:\n",
              "\n",
              "    All tests passed!\n",
              "    \n"
            ],
            "text/html": [
              "<p><strong>beam_search:</strong></p>\n",
              "\n",
              "    \n",
              "    \n",
              "        <p>All tests passed!</p>\n",
              "    \n",
              "    \n",
              "\n",
              "<p><strong>encoder_decoder_ppl:</strong></p>\n",
              "\n",
              "    \n",
              "    \n",
              "        <p>All tests passed!</p>\n",
              "    \n",
              "    \n",
              "\n"
            ]
          },
          "metadata": {},
          "execution_count": 48
        }
      ],
      "source": [
        "grader.check_all()"
      ]
    }
  ],
  "metadata": {
    "accelerator": "GPU",
    "colab": {
      "name": "lab4-4.ipynb",
      "provenance": [],
      "collapsed_sections": []
    },
    "kernelspec": {
      "display_name": "Python 3 (ipykernel)",
      "language": "python",
      "name": "python3"
    },
    "language_info": {
      "codemirror_mode": {
        "name": "ipython",
        "version": 3
      },
      "file_extension": ".py",
      "mimetype": "text/x-python",
      "name": "python",
      "nbconvert_exporter": "python",
      "pygments_lexer": "ipython3",
      "version": "3.8.3"
    },
    "title": "CS236299 Lab 4-4: Sequence-to-sequence models",
    "gpuClass": "standard"
  },
  "nbformat": 4,
  "nbformat_minor": 5
}