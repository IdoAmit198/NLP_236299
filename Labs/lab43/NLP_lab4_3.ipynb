{
  "cells": [
    {
      "cell_type": "code",
      "execution_count": 1,
      "id": "5b2d480b",
      "metadata": {
        "deletable": false,
        "editable": false,
        "jupyter": {
          "outputs_hidden": true,
          "source_hidden": true
        },
        "id": "5b2d480b",
        "outputId": "17a5ddea-316f-403e-86a2-66710f52fe61",
        "colab": {
          "base_uri": "https://localhost:8080/"
        }
      },
      "outputs": [
        {
          "output_type": "stream",
          "name": "stdout",
          "text": [
            "\n"
          ]
        }
      ],
      "source": [
        "# Please do not change this cell because some hidden tests might depend on it.\n",
        "import os\n",
        "\n",
        "# Otter grader does not handle ! commands well, so we define and use our\n",
        "# own function to execute shell commands.\n",
        "def shell(commands, warn=True):\n",
        "    \"\"\"Executes the string `commands` as a sequence of shell commands.\n",
        "     \n",
        "       Prints the result to stdout and returns the exit status. \n",
        "       Provides a printed warning on non-zero exit status unless `warn` \n",
        "       flag is unset.\n",
        "    \"\"\"\n",
        "    file = os.popen(commands)\n",
        "    print (file.read().rstrip('\\n'))\n",
        "    exit_status = file.close()\n",
        "    if warn and exit_status != None:\n",
        "        print(f\"Completed with errors. Exit status: {exit_status}\\n\")\n",
        "    return exit_status\n",
        "\n",
        "shell(\"\"\"\n",
        "ls requirements.txt >/dev/null 2>&1\n",
        "if [ ! $? = 0 ]; then\n",
        " rm -rf .tmp\n",
        " git clone https://github.com/cs236299-2022-spring/lab4-3.git .tmp\n",
        " mv .tmp/tests ./\n",
        " mv .tmp/requirements.txt ./\n",
        " rm -rf .tmp\n",
        "fi\n",
        "pip install -q -r requirements.txt\n",
        "\"\"\")"
      ]
    },
    {
      "cell_type": "code",
      "execution_count": 2,
      "id": "9f2bbd29",
      "metadata": {
        "deletable": false,
        "editable": false,
        "id": "9f2bbd29"
      },
      "outputs": [],
      "source": [
        "# Initialize Otter\n",
        "import otter\n",
        "grader = otter.Notebook()"
      ]
    },
    {
      "cell_type": "markdown",
      "id": "882a56b1",
      "metadata": {
        "id": "882a56b1",
        "tags": [
          "remove_for_latex"
        ]
      },
      "source": [
        "# Course 236299\n",
        "## Lab 4-3 – Semantic ambiguity and quantifier scope"
      ]
    },
    {
      "cell_type": "markdown",
      "id": "a1b8ed90",
      "metadata": {
        "id": "a1b8ed90"
      },
      "source": [
        "When discussing syntactic representations, we encountered a central issue in natural language — ambiguity. In lab 3-3, we introduced PP attachment ambiguity to show how a single sentence (\"Twain bought a book for Howells\") can have multiple distinct syntactic structures, each bearing a different meaning. \n",
        "\n",
        "Semantic ambiguity can arise even for a *single* parse of a sentence giving rise to different meanings. In this lab, we'll introduce one example of this phenomenon, quantifier scope ambiguity. We'll take a look at a sentence that elicits this type of ambiguity and propose two possible FOL representations of the sentence, confirming that they produce different truth values in a model. Then, we will use a syntactic-semantic grammar similar to those of lab 4-1 to parse and interpret the sentence, pointing out a weakness of this method."
      ]
    },
    {
      "cell_type": "markdown",
      "id": "f4df5ee0",
      "metadata": {
        "id": "f4df5ee0"
      },
      "source": [
        "# Preparation"
      ]
    },
    {
      "cell_type": "code",
      "execution_count": 3,
      "id": "f3209fa1",
      "metadata": {
        "deletable": false,
        "editable": false,
        "id": "f3209fa1"
      },
      "outputs": [],
      "source": [
        "import os\n",
        "import sys\n",
        "import wget\n",
        "\n",
        "import nltk"
      ]
    },
    {
      "cell_type": "code",
      "execution_count": 4,
      "id": "da965483",
      "metadata": {
        "id": "da965483"
      },
      "outputs": [],
      "source": [
        "# Download code for augmented grammars\n",
        "remote_script_dir = \"https://raw.githubusercontent.com/nlp-236299/data/master/scripts/\"\n",
        "local_script_dir = \"./scripts/\"\n",
        "\n",
        "# Create and search the local script directory\n",
        "os.makedirs(local_script_dir, exist_ok=True)\n",
        "sys.path.insert(1, local_script_dir)\n",
        "\n",
        "# Download files to script directory\n",
        "wget.download(remote_script_dir + \"trees/transform.py\", out=local_script_dir)\n",
        "\n",
        "# Import functions for transforming augmented grammars\n",
        "import transform as xform"
      ]
    },
    {
      "cell_type": "markdown",
      "id": "4f8cf046",
      "metadata": {
        "id": "4f8cf046"
      },
      "source": [
        "# The flight world model\n",
        "\n",
        "We'll be using the flight world as the domain for the lab as we did for lab 4-1, so we provide a simple model for it here."
      ]
    },
    {
      "cell_type": "code",
      "execution_count": 5,
      "id": "938349c4",
      "metadata": {
        "id": "938349c4"
      },
      "outputs": [],
      "source": [
        "# Constants\n",
        "\n",
        "London = \"London\"\n",
        "NewYork = \"New York\"\n",
        "Paris = \"Paris\"\n",
        "Boston = \"Boston\"\n",
        "TelAviv = \"Tel Aviv\"\n",
        "\n",
        "DL10 = \"DL10\"\n",
        "DL11 = \"DL11\"\n",
        "DL13 = \"DL13\"\n",
        "LY01 = \"LY01\"\n",
        "LY12 = \"LY12\"\n",
        "\n",
        "# Properties\n",
        "\n",
        "Object = {London, NewYork, Paris, Boston, TelAviv, DL10, DL11, DL13, LY01, LY12}\n",
        "Flight = {DL10, DL11, DL13, LY01, LY12}\n",
        "City = {London, Paris, NewYork, Boston, TelAviv}\n",
        "Capital = {London, Paris}\n",
        "\n",
        "# Relations\n",
        "\n",
        "Origin = {\n",
        "    (DL10, London), \n",
        "    (DL11, London), \n",
        "    (DL13, Paris), \n",
        "    (LY01, Paris), \n",
        "    (LY12, London)\n",
        "}\n",
        "Destination = {\n",
        "    (DL10, NewYork),\n",
        "    (DL11, TelAviv),\n",
        "    (DL13, Boston),\n",
        "    (LY01, NewYork),\n",
        "    (LY12, TelAviv),\n",
        "}"
      ]
    },
    {
      "cell_type": "markdown",
      "id": "44da65ea",
      "metadata": {
        "id": "44da65ea"
      },
      "source": [
        "# Quantifier meanings\n",
        "\n",
        "Before discussing quantifier scope ambiguity, we need to establish an appropriate notion of quantifier meanings in natural language. In FOL, there are only two quantifiers, the universal quantifier $\\forall$ (\"for all\") and the existential quantifier $\\exists$ (\"there exists\"). In natural language, we find many more quantifiers. A few examples:\n",
        "\n",
        "* Universal: \"every\", \"each\"\n",
        "* Existential: \"some\", \"a(n)\"\n",
        "* Exact counts: \"one\", \"two\", \"three\", \"infinitely many\"\n",
        "* Approximate counts: \"few\", \"many\", \"most\", \"several\"\n",
        "* Count bounds: \"more than three\", \"fewer than 100\""
      ]
    },
    {
      "cell_type": "markdown",
      "id": "55b8e874",
      "metadata": {
        "id": "55b8e874"
      },
      "source": [
        "Natural language quantifiers can be thought of as expressing a _relationship between two properties_. \n",
        "\n",
        "> Recall that a _property_ can be thought of as a set of objects (those bearing the property) or a function from objects to truth values (which takes those objects that bear the property to _true_ and objects not bearing the property to _false_). In our flight world, $Flight$ is a property, as is $\\lambda x. Origin(x, Boston)$ (\"objects originating in Boston\").\n",
        "\n",
        "Natural language quantifiers like \"every\" express a relationship between two properties, the _restriction_ of the quantifier and the _scope_ of the quantifier. For instance, in the sentence \"every flight leaves from Boston\", the restriction property is expressed by  \"flight\" and the scope property is expressed by \"leaves from Boston\". The relationship that \"every\" expresses is simply that _everything bearing the first property also bears the second property_. Similarly, \"some\" expresses the relationship that _there is something bearing the first property that also bears the second property_. And \"most\" expresses that _most (at least half, say) of the objects bearing the first property bear the second property_.\n",
        "\n",
        "This way of thinking about quantifiers as expressing relationships between two properties is referred to as [_generalized quantifiers_](https://en.wikipedia.org/wiki/Generalized_quantifier), because it generalizes the FOL notion of quantifier by adding an explicit and separate restriction.\n",
        "\n",
        "> In FOL, quantifiers $\\forall$ and $\\exists$ have only a scope and not a restriction. When we write $\\forall x. \\ldots$, the $\\ldots$ is the scope of the quantifier; we can think of this as expressing that $\\forall$ holds of the single property $\\lambda x. \\ldots$. How then can restriction properties be expressed in FOL? By folding them into the scope.\n",
        ">    * \"every flight leaves from Boston\": $\\forall x. Flight(x) \\Longrightarrow Origin(x, Boston)$\n",
        ">    * \"some flight leaves from Boston\": $\\exists x. Flight(x) \\land Origin(x, Boston)$\n",
        ">\n",
        "> Notice though that in incorporating the restriction ($Flight(x)$) into the scope of the FOL quantifier, we use different ways of combining them depending on the quantifier. That's somewhat inelegant. More importantly, for most NL quantifiers, _there is no way of encoding the relationship between restriction and scope with just a single property_, as we happen to be able to for the universal and existential quantifiers. Hence, semanticists have moved to the generalized quantifier approach to quantifier meanings, as we do here.\n",
        "\n",
        "To allow for meanings for the first order quantifiers, we'll define some Python functions that capture this generalized quantifier approach. Each quantifier function takes the two properties, restriction and scope, and returns a truth value."
      ]
    },
    {
      "cell_type": "code",
      "execution_count": 6,
      "id": "2761b67e",
      "metadata": {
        "id": "2761b67e"
      },
      "outputs": [],
      "source": [
        "def for_all(R_property, S_property):\n",
        "    \"\"\"Returns `true` just in case all objects bearing `R_property`\n",
        "    also have `S_property`.\"\"\"\n",
        "    restriction_objects = [x for x in Object if R_property(x)]\n",
        "    scope_objects = [x for x in Object if S_property(x)]\n",
        "    return all([x in scope_objects for x in restriction_objects])\n",
        "\n",
        "def there_exists(R_property, S_property):\n",
        "    \"\"\"Returns `true` just in case at least one object bearing `R_property`\n",
        "    also has `S_property`.\"\"\"\n",
        "    restriction_objects = [x for x in Object if R_property(x)]\n",
        "    scope_objects = [x for x in Object if S_property(x)]\n",
        "    return any([x in scope_objects for x in restriction_objects])"
      ]
    },
    {
      "cell_type": "markdown",
      "id": "09a020fc",
      "metadata": {
        "id": "09a020fc"
      },
      "source": [
        "We can see how these work by verifying that it's not the case that all flights originate in London, but some flight does."
      ]
    },
    {
      "cell_type": "code",
      "execution_count": 7,
      "id": "82812365",
      "metadata": {
        "id": "82812365",
        "outputId": "84ad5e66-7049-4b56-8308-ac9ca8854316",
        "colab": {
          "base_uri": "https://localhost:8080/"
        }
      },
      "outputs": [
        {
          "output_type": "execute_result",
          "data": {
            "text/plain": [
              "False"
            ]
          },
          "metadata": {},
          "execution_count": 7
        }
      ],
      "source": [
        "## expressing \"every flight leaves from London\" -- should be false\n",
        "for_all(lambda x: x in Flight, lambda y: (y, London) in Origin)"
      ]
    },
    {
      "cell_type": "code",
      "execution_count": 8,
      "id": "a421b06e",
      "metadata": {
        "id": "a421b06e",
        "outputId": "1a88307f-748e-4bf7-b2cc-6e008eddf615",
        "colab": {
          "base_uri": "https://localhost:8080/"
        }
      },
      "outputs": [
        {
          "output_type": "execute_result",
          "data": {
            "text/plain": [
              "True"
            ]
          },
          "metadata": {},
          "execution_count": 8
        }
      ],
      "source": [
        "## expressing \"some flight leaves from London\" -- should be true\n",
        "there_exists(lambda x: x in Flight, lambda y: (y, London) in Origin)"
      ]
    },
    {
      "cell_type": "markdown",
      "id": "e9a35d8e",
      "metadata": {
        "deletable": false,
        "editable": false,
        "id": "e9a35d8e"
      },
      "source": [
        "Now it's your turn. Implement a generalized quantifier for the English determiner \"two\", which holds if exactly two of the objects in the restriction are in the scope as well.\n",
        "\n",
        "> **Hint:** we used `Object` to store all objects.\n",
        "\n",
        "<!--\n",
        "BEGIN QUESTION\n",
        "name: two_quantifier\n",
        "-->"
      ]
    },
    {
      "cell_type": "code",
      "execution_count": 9,
      "id": "588978df",
      "metadata": {
        "id": "588978df"
      },
      "outputs": [],
      "source": [
        "#TODO - Implement the `two` function\n",
        "def two(R_property, S_property):\n",
        "    \"\"\"Returns `true` just in case exactly two objects bearing `R_property`\n",
        "    also have `S_property`.\"\"\"\n",
        "    restriction_objects = [x for x in Object if R_property(x)]\n",
        "    scope_objects = [x for x in Object if S_property(x)]\n",
        "    # print(restriction_objects)\n",
        "    # print(scope_objects)\n",
        "    # print([x in scope_objects for x in restriction_objects])\n",
        "    # print([x in scope_objects for x in restriction_objects].count(True))\n",
        "    return [x in scope_objects for x in restriction_objects].count(True) ==2\n",
        "    # return len(set([x in scope_objects for x in restriction_objects])) ==2"
      ]
    },
    {
      "cell_type": "code",
      "execution_count": 10,
      "id": "64b7ec2b",
      "metadata": {
        "deletable": false,
        "editable": false,
        "id": "64b7ec2b",
        "outputId": "03c0c99f-8ec4-4cc8-9b9a-8946b85acd95",
        "colab": {
          "base_uri": "https://localhost:8080/",
          "height": 46
        }
      },
      "outputs": [
        {
          "output_type": "execute_result",
          "data": {
            "text/plain": [
              "\n",
              "    All tests passed!\n",
              "    "
            ],
            "text/html": [
              "\n",
              "    \n",
              "    \n",
              "        <p>All tests passed!</p>\n",
              "    \n",
              "    "
            ]
          },
          "metadata": {},
          "execution_count": 10
        }
      ],
      "source": [
        "grader.check(\"two_quantifier\")"
      ]
    },
    {
      "cell_type": "markdown",
      "id": "09cfafe1",
      "metadata": {
        "id": "09cfafe1"
      },
      "source": [
        "We can use this implementation of the quantifier to demonstrate that two flights have New York as destination:"
      ]
    },
    {
      "cell_type": "code",
      "execution_count": 11,
      "id": "ecde0b2f",
      "metadata": {
        "id": "ecde0b2f",
        "outputId": "c96d884c-ba91-4342-e2e9-59b8f5523fca",
        "colab": {
          "base_uri": "https://localhost:8080/"
        }
      },
      "outputs": [
        {
          "output_type": "execute_result",
          "data": {
            "text/plain": [
              "True"
            ]
          },
          "metadata": {},
          "execution_count": 11
        }
      ],
      "source": [
        "## expressing \"two flights go to New York\" -- should be true\n",
        "two(lambda x: x in Flight, lambda y: (y, NewYork) in Destination)"
      ]
    },
    {
      "cell_type": "markdown",
      "id": "747a0dc6",
      "metadata": {
        "deletable": false,
        "editable": false,
        "id": "747a0dc6"
      },
      "source": [
        "Express and test the proposition that two flights originating in London have a capital as destination. You'll end up using two quantifiers.\n",
        "<!--\n",
        "BEGIN QUESTION\n",
        "name: two_london_capital\n",
        "-->"
      ]
    },
    {
      "cell_type": "code",
      "execution_count": 12,
      "id": "097e0d88",
      "metadata": {
        "id": "097e0d88",
        "outputId": "d39cac0e-bbe8-4d62-c0d9-cd0ea7622cab",
        "colab": {
          "base_uri": "https://localhost:8080/"
        }
      },
      "outputs": [
        {
          "output_type": "execute_result",
          "data": {
            "text/plain": [
              "False"
            ]
          },
          "metadata": {},
          "execution_count": 12
        }
      ],
      "source": [
        "#TODO - express \"there are two flights that leave from London and go to a capital\" -- should be false\n",
        "Capital\n",
        "two_london_capital = two(lambda x: x in Flight and (x, London) in Origin, lambda y: there_exists(lambda z: (y,z) in Destination, lambda z: z in Capital))\n",
        "two_london_capital"
      ]
    },
    {
      "cell_type": "code",
      "execution_count": 13,
      "id": "24feee69",
      "metadata": {
        "deletable": false,
        "editable": false,
        "id": "24feee69",
        "outputId": "8a67ec87-94df-4521-dcd9-a2218154b485",
        "colab": {
          "base_uri": "https://localhost:8080/",
          "height": 46
        }
      },
      "outputs": [
        {
          "output_type": "execute_result",
          "data": {
            "text/plain": [
              "\n",
              "    All tests passed!\n",
              "    "
            ],
            "text/html": [
              "\n",
              "    \n",
              "    \n",
              "        <p>All tests passed!</p>\n",
              "    \n",
              "    "
            ]
          },
          "metadata": {},
          "execution_count": 13
        }
      ],
      "source": [
        "grader.check(\"two_london_capital\")"
      ]
    },
    {
      "cell_type": "markdown",
      "id": "af342cd3",
      "metadata": {
        "deletable": false,
        "editable": false,
        "id": "af342cd3"
      },
      "source": [
        "Express and test the proposition that two flights originating in a capital have New York as a destination.\n",
        "<!--\n",
        "BEGIN QUESTION\n",
        "name: two_capital_newyork\n",
        "-->"
      ]
    },
    {
      "cell_type": "code",
      "execution_count": 14,
      "id": "a7a8e1cf",
      "metadata": {
        "id": "a7a8e1cf",
        "outputId": "7184dac7-ab21-4f99-c210-83db3d6d2091",
        "colab": {
          "base_uri": "https://localhost:8080/"
        }
      },
      "outputs": [
        {
          "output_type": "execute_result",
          "data": {
            "text/plain": [
              "True"
            ]
          },
          "metadata": {},
          "execution_count": 14
        }
      ],
      "source": [
        "#TODO - express \"there are two flights that leave from a capital and go to New York\"\n",
        "# two_capital_newyork =  two(lambda x: x in Flight and (x, NewYork) in Destination, lambda y: y in Capital)\n",
        "\n",
        "two_capital_newyork =  two(lambda x: x in Flight and (x, NewYork) in Destination, lambda y: there_exists(lambda z: ( y,z) in Origin,lambda z: z in Capital))\n",
        "\n",
        "# two_capital_newyork =  two(lambda x: x in Flight, lambda y: x in Flight and (x, y) in Origin and y in Capital, lambda x: x in Flight and (x, NewYork) in Destination)\n",
        "two_capital_newyork"
      ]
    },
    {
      "cell_type": "code",
      "execution_count": 15,
      "id": "d6e1ab0c",
      "metadata": {
        "deletable": false,
        "editable": false,
        "id": "d6e1ab0c",
        "colab": {
          "base_uri": "https://localhost:8080/",
          "height": 46
        },
        "outputId": "d26315df-1577-4c67-dfbd-ca19a4eedc72"
      },
      "outputs": [
        {
          "output_type": "execute_result",
          "data": {
            "text/plain": [
              "\n",
              "    All tests passed!\n",
              "    "
            ],
            "text/html": [
              "\n",
              "    \n",
              "    \n",
              "        <p>All tests passed!</p>\n",
              "    \n",
              "    "
            ]
          },
          "metadata": {},
          "execution_count": 15
        }
      ],
      "source": [
        "grader.check(\"two_capital_newyork\")"
      ]
    },
    {
      "cell_type": "markdown",
      "id": "a5a4f595",
      "metadata": {
        "id": "a5a4f595"
      },
      "source": [
        "# Quantifier scope ambiguity\n",
        "\n",
        "Consider the sentence\n",
        "\n",
        "* every flight leaves from a capital\n",
        "\n",
        "Under one reading of this sentence, it is true just in case each flight leaves from a (possibly different) city that is a capital. This interpretation can be represented with the following FOL formula:\n",
        "\n",
        "$$ \\forall x. (Flight(x) \\implies \\exists y. (Capital(y) \\land Origin(x, y))) \\tag{1}$$\n",
        "\n",
        "However, there is another possible reading of this sentence. A less intuitive yet possible interpretation could be that we are asking if there is a single capital from which all flights leave. This interpretation gives rise to a different FOL representation: \n",
        "\n",
        "$$ \\exists y. (Capital(y) \\land \\forall x. (Flight(x) \\implies Origin(x, y))) \\tag{2} $$"
      ]
    },
    {
      "cell_type": "markdown",
      "id": "d4ef68b3",
      "metadata": {
        "id": "d4ef68b3"
      },
      "source": [
        "This type of ambiguity is referred to as _quantifier scope ambiguity_, and appears almost inevitably when a sentence has multiple quantified noun phrases. \n",
        "\n",
        "> Other scope-taking elements can also give rise to scope ambiguities. For instance, modals (like \"may\", \"must\", \"can\"), and negation (\"not\") also have scope and can engender ambiguities. For instance, the sentence \"you may not go\" arguably has two readings, paraphrasable as \"you have permission to not go\" (that is, you may stay) and \"you do not have permission to go\" (that is, you must stay). Examining these further kinds of ambiguity is beyond the scope (so to speak) of this lab.\n",
        "\n",
        "It is easy to see that both representations have the same components, just structured differently. The different ordering possibilities of the quantifiers is what generates the ambiguity. In representation (1), $\\forall x$ has the outer scope, while in representation (2), $\\exists y$ has the outer scope. Reflecting this ordering, the two readings are sometimes referred to as the *AE reading* and the *EA reading*, respectively.\n",
        "\n",
        "> As another example of the phenomenon, consider the old joke: In my town, a person is mugged every 15 minutes...and boy is he getting tired of it."
      ]
    },
    {
      "cell_type": "markdown",
      "id": "8c3f98d9",
      "metadata": {
        "deletable": false,
        "editable": false,
        "id": "8c3f98d9"
      },
      "source": [
        "Express the two readings of the sentence \n",
        "\n",
        "* every flight leaves from a capital\n",
        "\n",
        "using the Python implementation of generalized quantifiers. Start with the AE reading.\n",
        "<!--\n",
        "BEGIN QUESTION\n",
        "name: ambiguity_AE\n",
        "-->"
      ]
    },
    {
      "cell_type": "code",
      "execution_count": 16,
      "id": "7f4858e1",
      "metadata": {
        "id": "7f4858e1",
        "outputId": "ddb4fe2e-02ac-436e-b222-284e26557104",
        "colab": {
          "base_uri": "https://localhost:8080/"
        }
      },
      "outputs": [
        {
          "output_type": "execute_result",
          "data": {
            "text/plain": [
              "True"
            ]
          },
          "metadata": {},
          "execution_count": 16
        }
      ],
      "source": [
        "AE_reading = for_all(lambda x: x in Flight, lambda z: there_exists(lambda y: (z, y) in Origin,lambda w: w in Capital ))\n",
        "AE_reading"
      ]
    },
    {
      "cell_type": "code",
      "execution_count": 17,
      "id": "26780c24",
      "metadata": {
        "deletable": false,
        "editable": false,
        "id": "26780c24",
        "outputId": "65c68f66-d686-4c6b-f19b-039d7732ed77",
        "colab": {
          "base_uri": "https://localhost:8080/",
          "height": 46
        }
      },
      "outputs": [
        {
          "output_type": "execute_result",
          "data": {
            "text/plain": [
              "\n",
              "    All tests passed!\n",
              "    "
            ],
            "text/html": [
              "\n",
              "    \n",
              "    \n",
              "        <p>All tests passed!</p>\n",
              "    \n",
              "    "
            ]
          },
          "metadata": {},
          "execution_count": 17
        }
      ],
      "source": [
        "grader.check(\"ambiguity_AE\")"
      ]
    },
    {
      "cell_type": "markdown",
      "id": "cf52df80",
      "metadata": {
        "deletable": false,
        "editable": false,
        "id": "cf52df80"
      },
      "source": [
        "Now do the same for the EA reading.\n",
        "<!--\n",
        "BEGIN QUESTION\n",
        "name: ambiguity_EA\n",
        "-->"
      ]
    },
    {
      "cell_type": "code",
      "execution_count": 18,
      "id": "5a9b24b2",
      "metadata": {
        "id": "5a9b24b2",
        "outputId": "566b17b8-3c1b-413b-912e-6fbea658632f",
        "colab": {
          "base_uri": "https://localhost:8080/"
        }
      },
      "outputs": [
        {
          "output_type": "execute_result",
          "data": {
            "text/plain": [
              "False"
            ]
          },
          "metadata": {},
          "execution_count": 18
        }
      ],
      "source": [
        "EA_reading = there_exists(lambda y: y in Capital, lambda z: for_all(lambda w: w in Flight,lambda x: (x,z) in Origin))\n",
        "EA_reading"
      ]
    },
    {
      "cell_type": "code",
      "execution_count": 19,
      "id": "955534c2",
      "metadata": {
        "deletable": false,
        "editable": false,
        "id": "955534c2",
        "outputId": "ec15e9ba-d0c5-4e14-df6f-d001c3f27d31",
        "colab": {
          "base_uri": "https://localhost:8080/",
          "height": 46
        }
      },
      "outputs": [
        {
          "output_type": "execute_result",
          "data": {
            "text/plain": [
              "\n",
              "    All tests passed!\n",
              "    "
            ],
            "text/html": [
              "\n",
              "    \n",
              "    \n",
              "        <p>All tests passed!</p>\n",
              "    \n",
              "    "
            ]
          },
          "metadata": {},
          "execution_count": 19
        }
      ],
      "source": [
        "grader.check(\"ambiguity_EA\")"
      ]
    },
    {
      "cell_type": "markdown",
      "id": "602c7d6d",
      "metadata": {
        "id": "602c7d6d"
      },
      "source": [
        "If you've implemented the two readings correctly, you have confirmed that the two readings of the ambiguous sentence are indeed different; they generate different answers."
      ]
    },
    {
      "cell_type": "markdown",
      "id": "db34ceb4",
      "metadata": {
        "deletable": false,
        "editable": false,
        "id": "db34ceb4"
      },
      "source": [
        "# A compositional semantics for quantifiers\n",
        "\n",
        "Instead of manually constructing a meaning representation as we did, let's use a syntactic-semantic grammar to perform this interpretation process. We will use the following augmented grammar: \n",
        "<!--\n",
        "BEGIN QUESTION\n",
        "name: complete_grammar\n",
        "-->"
      ]
    },
    {
      "cell_type": "code",
      "execution_count": 20,
      "id": "3d4eca06",
      "metadata": {
        "id": "3d4eca06"
      },
      "outputs": [],
      "source": [
        "grammar_spec = \"\"\" \n",
        "  S -> NP VP                  :  lambda NP, VP: NP(VP)\n",
        "  \n",
        "  VP -> V NP                  :  lambda V, NP: lambda x: NP(V(x))\n",
        "\n",
        "  V -> 'leaves' 'from'        :  lambda: lambda Subj: lambda Obj: (Subj, Obj) in Origin\n",
        "     | 'leave' 'from'\n",
        "     | 'goes' 'to'            :  lambda: lambda Subj: lambda Obj: (Subj, Obj) in Destination\n",
        "     | 'go' 'to'\n",
        "\n",
        "  S_COMP -> 'that' VP         :  lambda VP: VP\n",
        "\n",
        "  NP -> DET NOM               :  lambda DET, NOM: DET(NOM)\n",
        "  NOM -> NOM S_COMP           :  lambda N, S: N and S \n",
        "  NOM -> N                    :  lambda X: X\n",
        "  \n",
        "  NP -> 'New' 'York'          :  lambda: lambda P: P(NewYork)\n",
        "      | 'Paris'               :  lambda: lambda P: P(Paris)\n",
        "      | 'Tel' 'Aviv'          :  lambda: lambda P: P(TelAviv)\n",
        "      | 'London'              :  lambda: lambda P: P(London)\n",
        "      | 'Boston'              :  lambda: lambda P: P(Boston)\n",
        "\n",
        "  N -> 'flight' | 'flights'   :  lambda: lambda x: x in Flight\n",
        "     | 'capital' | 'capitals' :  lambda: lambda x: x in Capital\n",
        "     | 'city' | 'cities'      :  lambda: lambda x: x in City\n",
        "\n",
        "  DET -> 'every'              :  lambda: lambda R: lambda S: for_all(R, S)\n",
        "       | 'a'                  :  lambda: lambda R: lambda S: there_exists(R, S)\n",
        "       | 'two'                :  lambda: lambda R: lambda S: two(R, S)\n",
        "\"\"\""
      ]
    },
    {
      "cell_type": "markdown",
      "id": "96496617",
      "metadata": {
        "id": "96496617"
      },
      "source": [
        "Some things to note about the grammar:\n",
        "\n",
        "* Some of the nonterminals may be unfamiliar. In particular, the nonterminal `S_COMP` is for complementized relative clauses, phrases like \"that leaves from Boston\" in the sentence \"every flight _that leaves from Boston_ goes to New York\".\n",
        "\n",
        "* Some of the productions have no augmentation. You may recall that in this format, productions with no explicit augmentation just use the one for the preceding production. Thus the \"goes to\" and \"go to\" rules have the same augmentation.\n",
        "\n",
        "* Some of the augmentations (those involving `S_COMP` and the determiner `two`) raise `NotImplementedError`. We'll have you fill those in in a bit. Hold off for now.\n",
        "\n",
        "* As described in the introductory lecture, this grammar makes use of Richard Montague's idea that noun phrase meanings should apply to verb phrase meanings, rather than the other way around. By so doing, we allow for quantifiers within noun phrases to scope over their verb phrases. But this approach necessitates changing the types of even simple noun phrases like \"Boston\". Instead of denoting an object, it too must denote a function from properties to truth values, for example, $\\lambda P. P(Boston)$. \n",
        "\n",
        "We parse the grammar specification to extract an NLTK grammar and the augmentation dictionary, and construct a parser for the grammar."
      ]
    },
    {
      "cell_type": "code",
      "execution_count": 21,
      "id": "ec8f0d6e",
      "metadata": {
        "id": "ec8f0d6e"
      },
      "outputs": [],
      "source": [
        "grammar, augmentations = xform.parse_augmented_grammar(grammar_spec, globals=globals())\n",
        "parser = nltk.parse.BottomUpChartParser(grammar)"
      ]
    },
    {
      "cell_type": "markdown",
      "id": "7a62f231",
      "metadata": {
        "id": "7a62f231"
      },
      "source": [
        "Let's create a syntactic parse tree of the sentence we've been working with: "
      ]
    },
    {
      "cell_type": "code",
      "execution_count": 22,
      "id": "bb0d61b8",
      "metadata": {
        "colab": {
          "base_uri": "https://localhost:8080/"
        },
        "id": "bb0d61b8",
        "outputId": "7468d05f-5f5c-443d-9277-4d1b7e788eba"
      },
      "outputs": [
        {
          "output_type": "stream",
          "name": "stdout",
          "text": [
            "                   S                                \n",
            "        ___________|______________                   \n",
            "       |                          VP                \n",
            "       |                  ________|_______           \n",
            "       NP                |                NP        \n",
            "   ____|____             |             ___|_____     \n",
            "  |        NOM           |            |        NOM  \n",
            "  |         |            |            |         |    \n",
            " DET        N            V           DET        N   \n",
            "  |         |       _____|___         |         |    \n",
            "every     flight leaves     from      a      capital\n",
            "\n"
          ]
        }
      ],
      "source": [
        "sentence = \"every flight leaves from a capital\".split()\n",
        "parses = [p for p in parser.parse(sentence)]\n",
        "for tree in parses:\n",
        "    tree.pretty_print()"
      ]
    },
    {
      "cell_type": "markdown",
      "id": "2e70fe25",
      "metadata": {
        "id": "2e70fe25"
      },
      "source": [
        "To carry out the semantic interpretation process, we will use the same notation as in lab 4-1, where the variable `A__some_words` will be given the meaning for the constituent with nonterminal `A` with the span \"some words\". We start building the semantic representation by applying the semantic composition rules from the syntactic-semantic grammar to the meanings of the subconstituents bottom up. Here are the first few steps:"
      ]
    },
    {
      "cell_type": "code",
      "execution_count": 23,
      "id": "fb42bb27",
      "metadata": {
        "id": "fb42bb27"
      },
      "outputs": [],
      "source": [
        "DET__every = (lambda: lambda R: lambda S: for_all(R, S)) () # lambda R: lambda S: for_all(R, S)\n",
        "N__flight = (lambda: lambda x: x in Flight) () # lambda x: x in Flight\n",
        "NOM__flight = (lambda X: X) (N__flight) # lambda x: x in Flight\n",
        "NP__every_flight = (lambda DET, NN: DET(NN)) (DET__every, NOM__flight) # lambda S: for_all(lambda x: x in Flight, S)"
      ]
    },
    {
      "cell_type": "markdown",
      "id": "92a96db5",
      "metadata": {
        "deletable": false,
        "editable": false,
        "id": "92a96db5"
      },
      "source": [
        "Now you complete the derivation, computing the meanings for each of the remaining constituents.\n",
        "<!--\n",
        "BEGIN QUESTION\n",
        "name: complete_derivation\n",
        "-->"
      ]
    },
    {
      "cell_type": "code",
      "execution_count": 24,
      "id": "3abdc8d7",
      "metadata": {
        "id": "3abdc8d7"
      },
      "outputs": [],
      "source": [
        "DET__a = (lambda: lambda R: lambda S: there_exists(R, S))()\n",
        "N__capital = (lambda: lambda x: x in Capital)()\n",
        "NOM__capital = (lambda X: X) (N__capital)\n",
        "NP__a_capital = (lambda DET, NN: DET(NN)) (DET__a, NOM__capital)\n",
        "V__leaves_from = (lambda: lambda Subj: lambda Obj: (Subj, Obj) in Origin)()\n",
        "VP__leaves_from_a_capital = (lambda V, NP: lambda x: NP(V(x)))(V__leaves_from,NP__a_capital)\n",
        "S__every_flight_leaves_from_a_capital = (lambda NP, VP: NP(VP))(NP__every_flight, VP__leaves_from_a_capital)"
      ]
    },
    {
      "cell_type": "code",
      "execution_count": 25,
      "id": "92b60f24",
      "metadata": {
        "deletable": false,
        "editable": false,
        "id": "92b60f24",
        "outputId": "7af4fff4-33e0-4281-baa0-eaee491e5e79",
        "colab": {
          "base_uri": "https://localhost:8080/",
          "height": 46
        }
      },
      "outputs": [
        {
          "output_type": "execute_result",
          "data": {
            "text/plain": [
              "\n",
              "    All tests passed!\n",
              "    "
            ],
            "text/html": [
              "\n",
              "    \n",
              "    \n",
              "        <p>All tests passed!</p>\n",
              "    \n",
              "    "
            ]
          },
          "metadata": {},
          "execution_count": 25
        }
      ],
      "source": [
        "grader.check(\"complete_derivation\")"
      ]
    },
    {
      "cell_type": "markdown",
      "id": "81e91112",
      "metadata": {
        "id": "81e91112"
      },
      "source": [
        "Now that you've completed the semantic derivation, let's see what truth value the model provides for this sentence."
      ]
    },
    {
      "cell_type": "code",
      "execution_count": 26,
      "id": "5a037a6e",
      "metadata": {
        "id": "5a037a6e",
        "outputId": "2f2ac8fc-2d61-4b1c-ba8e-3fdc44c8ec11",
        "colab": {
          "base_uri": "https://localhost:8080/"
        }
      },
      "outputs": [
        {
          "output_type": "execute_result",
          "data": {
            "text/plain": [
              "True"
            ]
          },
          "metadata": {},
          "execution_count": 26
        }
      ],
      "source": [
        "S__every_flight_leaves_from_a_capital"
      ]
    },
    {
      "cell_type": "markdown",
      "id": "fc6f8033",
      "metadata": {
        "deletable": false,
        "editable": false,
        "id": "fc6f8033"
      },
      "source": [
        "<!-- BEGIN QUESTION -->\n",
        "\n",
        "According to the result, which of the two readings for the sentence (AE or EA) did the augmented grammar produce? Can we get the other reading with the same augmented grammar? What problems do you see resulting from this behavior?\n",
        "\n",
        "<!--\n",
        "BEGIN QUESTION\n",
        "name: ambiguity_open_question\n",
        "manual: true\n",
        "-->"
      ]
    },
    {
      "cell_type": "markdown",
      "id": "9327a4ed",
      "metadata": {
        "id": "9327a4ed"
      },
      "source": [
        "_The augmented grammar produced the AE reading. We can not get the other reading (EA) with this grammar, since the grammar parses each sentence in a single way only, generate the semantic in that parse. meaning each sentence could have only one semantic meaning, according to the way it is parsed._\n",
        "\n",
        "_The problem in that is similar to that of preposition attachment, where could be an ambiguity in the sentence, yet we always parse in the same way (in the last segment we always picked the most probable parse, without context). Without further changing, we could only choose the more likely one overall and always parse the same way the sentence (which is a problem as we mentioned)._"
      ]
    },
    {
      "cell_type": "markdown",
      "id": "70f288d3",
      "metadata": {
        "id": "70f288d3"
      },
      "source": [
        "<!-- END QUESTION -->\n",
        "\n",
        "\n",
        "\n",
        "# Extending the grammar\n",
        "\n",
        "To make the language more interesting, we'll extend the grammar to allow for relative clauses like \"that leaves from Boston\" or \"that goes to a capital\", as well as allowing for the determiner \"two\". Fill in the augmentations that raise `NotImplementedError` in the grammar above to allow for these. "
      ]
    },
    {
      "cell_type": "code",
      "execution_count": 27,
      "id": "2dcf3706",
      "metadata": {
        "id": "2dcf3706",
        "outputId": "e3181008-43a4-4fd0-8115-2b211a035991",
        "colab": {
          "base_uri": "https://localhost:8080/"
        }
      },
      "outputs": [
        {
          "output_type": "stream",
          "name": "stdout",
          "text": [
            "                                       S                                           \n",
            "         ______________________________|_________________________                   \n",
            "        NP                                                       |                 \n",
            "   _____|__________                                              |                  \n",
            "  |               NOM                                            VP                \n",
            "  |      __________|_________                             _______|_______           \n",
            "  |     |                  S_COMP                        |               NP        \n",
            "  |     |      ______________|_____                      |            ___|_____     \n",
            "  |    NOM    |                    VP                    |           |        NOM  \n",
            "  |     |     |          __________|_______              |           |         |    \n",
            " DET    N     |         V                  NP            V          DET        N   \n",
            "  |     |     |     ____|____           ___|___      ____|___        |         |    \n",
            "every flight that goes       to       Tel     Aviv goes      to      a      capital\n",
            "\n"
          ]
        }
      ],
      "source": [
        "sentence = \"every flight that goes to Tel Aviv goes to a capital\"\n",
        "parse = list(parser.parse(sentence.split()))[0]\n",
        "parse.pretty_print()"
      ]
    },
    {
      "cell_type": "markdown",
      "id": "22711971",
      "metadata": {
        "deletable": false,
        "editable": false,
        "id": "22711971"
      },
      "source": [
        "To test the extended grammar, we'll make use of the `interpret` function you implemented in lab 4-2. The skeleton is provided here for your convenience. Copy in your solution from that lab.\n",
        "\n",
        "<!--\n",
        "BEGIN QUESTION\n",
        "name: grammar_extension\n",
        "-->"
      ]
    },
    {
      "cell_type": "code",
      "execution_count": 28,
      "id": "47fd1824",
      "metadata": {
        "id": "47fd1824"
      },
      "outputs": [],
      "source": [
        "def interpret(tree, augmentations):\n",
        "    \"\"\"Returns a string containing an SQL query for the parse `tree`\n",
        "    as interpreted by the grammar `augmentations`.\n",
        "    \"\"\"\n",
        "    curr_root = tree.productions()[0]\n",
        "    mid = [interpret(child, augmentations) for child in tree if isinstance(child, nltk.Tree)]\n",
        "    \n",
        "    q = augmentations[curr_root](*mid)\n",
        "    if curr_root.lhs().__str__()=='LOC' or curr_root.lhs().__str__()=='TIME':\n",
        "      q = \"\\'\"+q+\"\\'\"\n",
        "    return q"
      ]
    },
    {
      "cell_type": "code",
      "execution_count": 29,
      "id": "d35f48d1",
      "metadata": {
        "deletable": false,
        "editable": false,
        "id": "d35f48d1",
        "outputId": "eb01309c-3e06-460a-f08a-18a147e9dce4",
        "colab": {
          "base_uri": "https://localhost:8080/",
          "height": 46
        }
      },
      "outputs": [
        {
          "output_type": "execute_result",
          "data": {
            "text/plain": [
              "\n",
              "    All tests passed!\n",
              "    "
            ],
            "text/html": [
              "\n",
              "    \n",
              "    \n",
              "        <p>All tests passed!</p>\n",
              "    \n",
              "    "
            ]
          },
          "metadata": {},
          "execution_count": 29
        }
      ],
      "source": [
        "grader.check(\"grammar_extension\")"
      ]
    },
    {
      "cell_type": "markdown",
      "id": "8b9c4df8",
      "metadata": {
        "id": "8b9c4df8"
      },
      "source": [
        "Now we can demonstrate the full range of this grammar fragment by testing out a bunch of different sentences to determine which are true and which are false."
      ]
    },
    {
      "cell_type": "code",
      "execution_count": 30,
      "id": "c41dffc9",
      "metadata": {
        "id": "c41dffc9"
      },
      "outputs": [],
      "source": [
        "def test(sentence):\n",
        "  print(sentence)\n",
        "  parses = parser.parse(sentence.split())\n",
        "  for parse in parses:\n",
        "    print(parse, \"\\n==>\", interpret(parse, augmentations))"
      ]
    },
    {
      "cell_type": "code",
      "execution_count": 31,
      "id": "dfba1dfe",
      "metadata": {
        "id": "dfba1dfe",
        "outputId": "9ff6bf6d-4cd0-4fc2-bd0e-df0bec405591",
        "colab": {
          "base_uri": "https://localhost:8080/"
        }
      },
      "outputs": [
        {
          "output_type": "stream",
          "name": "stdout",
          "text": [
            "every flight goes to a capital\n",
            "(S\n",
            "  (NP (DET every) (NOM (N flight)))\n",
            "  (VP (V goes to) (NP (DET a) (NOM (N capital))))) \n",
            "==> False\n"
          ]
        }
      ],
      "source": [
        "test(\"every flight goes to a capital\")"
      ]
    },
    {
      "cell_type": "code",
      "execution_count": 32,
      "id": "7884657b",
      "metadata": {
        "id": "7884657b",
        "outputId": "97485c90-59dc-4e23-d64f-bb8ced921db0",
        "colab": {
          "base_uri": "https://localhost:8080/"
        }
      },
      "outputs": [
        {
          "output_type": "stream",
          "name": "stdout",
          "text": [
            "two flights leave from Paris\n",
            "(S (NP (DET two) (NOM (N flights))) (VP (V leave from) (NP Paris))) \n",
            "==> True\n"
          ]
        }
      ],
      "source": [
        "test(\"two flights leave from Paris\")"
      ]
    },
    {
      "cell_type": "code",
      "execution_count": 33,
      "id": "7fec3cf6",
      "metadata": {
        "id": "7fec3cf6",
        "outputId": "aceccabf-e07d-4935-94d4-95eae8d9e2ee",
        "colab": {
          "base_uri": "https://localhost:8080/"
        }
      },
      "outputs": [
        {
          "output_type": "stream",
          "name": "stdout",
          "text": [
            "two flights leave from London\n",
            "(S (NP (DET two) (NOM (N flights))) (VP (V leave from) (NP London))) \n",
            "==> False\n"
          ]
        }
      ],
      "source": [
        "test(\"two flights leave from London\")"
      ]
    },
    {
      "cell_type": "code",
      "execution_count": 34,
      "id": "5a78af96",
      "metadata": {
        "id": "5a78af96",
        "outputId": "876bab2b-8ef5-46f6-ab81-0a4392c86f31",
        "colab": {
          "base_uri": "https://localhost:8080/"
        }
      },
      "outputs": [
        {
          "output_type": "stream",
          "name": "stdout",
          "text": [
            "every flight that goes to Tel Aviv goes to a capital\n",
            "(S\n",
            "  (NP\n",
            "    (DET every)\n",
            "    (NOM\n",
            "      (NOM (N flight))\n",
            "      (S_COMP that (VP (V goes to) (NP Tel Aviv)))))\n",
            "  (VP (V goes to) (NP (DET a) (NOM (N capital))))) \n",
            "==> False\n"
          ]
        }
      ],
      "source": [
        "test(\"every flight that goes to Tel Aviv goes to a capital\")"
      ]
    },
    {
      "cell_type": "code",
      "execution_count": 35,
      "id": "05bc437d",
      "metadata": {
        "id": "05bc437d",
        "outputId": "6d513bea-ffde-4733-d155-be160fda0b68",
        "colab": {
          "base_uri": "https://localhost:8080/"
        }
      },
      "outputs": [
        {
          "output_type": "stream",
          "name": "stdout",
          "text": [
            "every flight that leaves from a capital goes to a capital\n",
            "(S\n",
            "  (NP\n",
            "    (DET every)\n",
            "    (NOM\n",
            "      (NOM (N flight))\n",
            "      (S_COMP\n",
            "        that\n",
            "        (VP (V leaves from) (NP (DET a) (NOM (N capital)))))))\n",
            "  (VP (V goes to) (NP (DET a) (NOM (N capital))))) \n",
            "==> False\n"
          ]
        }
      ],
      "source": [
        "test(\"every flight that leaves from a capital goes to a capital\")"
      ]
    },
    {
      "cell_type": "code",
      "execution_count": 36,
      "id": "212220db",
      "metadata": {
        "id": "212220db",
        "outputId": "4a9243eb-1129-4780-f08a-78c9daec4254",
        "colab": {
          "base_uri": "https://localhost:8080/"
        }
      },
      "outputs": [
        {
          "output_type": "stream",
          "name": "stdout",
          "text": [
            "every flight that goes to a capital leaves from a capital\n",
            "(S\n",
            "  (NP\n",
            "    (DET every)\n",
            "    (NOM\n",
            "      (NOM (N flight))\n",
            "      (S_COMP that (VP (V goes to) (NP (DET a) (NOM (N capital)))))))\n",
            "  (VP (V leaves from) (NP (DET a) (NOM (N capital))))) \n",
            "==> True\n"
          ]
        }
      ],
      "source": [
        "test(\"every flight that goes to a capital leaves from a capital\")"
      ]
    },
    {
      "cell_type": "code",
      "execution_count": 37,
      "id": "b5500f28",
      "metadata": {
        "id": "b5500f28",
        "outputId": "4d484bf3-a909-4bd5-881c-f9b8db72aab9",
        "colab": {
          "base_uri": "https://localhost:8080/"
        }
      },
      "outputs": [
        {
          "output_type": "stream",
          "name": "stdout",
          "text": [
            "every flight that goes to a city leaves from a capital\n",
            "(S\n",
            "  (NP\n",
            "    (DET every)\n",
            "    (NOM\n",
            "      (NOM (N flight))\n",
            "      (S_COMP that (VP (V goes to) (NP (DET a) (NOM (N city)))))))\n",
            "  (VP (V leaves from) (NP (DET a) (NOM (N capital))))) \n",
            "==> True\n"
          ]
        }
      ],
      "source": [
        "test(\"every flight that goes to a city leaves from a capital\")"
      ]
    },
    {
      "cell_type": "markdown",
      "id": "cb11cc58",
      "metadata": {
        "deletable": false,
        "editable": false,
        "id": "cb11cc58"
      },
      "source": [
        "<!-- BEGIN QUESTION -->\n",
        "\n",
        "# Lab debrief\n",
        "**Question:** We're interested in any thoughts your group has about this lab so that we can improve this lab for later years, and to inform later labs for this year. Please list any issues that arose or comments you have to improve the lab. Useful things to comment on might include the following: \n",
        "\n",
        "* Was the lab too long or too short?\n",
        "* Were the readings appropriate for the lab? \n",
        "* Was it clear (at least after you completed the lab) what the points of the exercises were? \n",
        "* Are there additions or changes you think would make the lab better?\n",
        "\n",
        "but you should comment on whatever aspects you found especially positive or negative.\n",
        "\n",
        "<!--\n",
        "BEGIN QUESTION\n",
        "name: open_response_debrief\n",
        "manual: true\n",
        "-->"
      ]
    },
    {
      "cell_type": "markdown",
      "id": "0cb8fa03",
      "metadata": {
        "id": "0cb8fa03"
      },
      "source": [
        ":)"
      ]
    },
    {
      "cell_type": "markdown",
      "id": "8324496b",
      "metadata": {
        "id": "8324496b"
      },
      "source": [
        "<!-- END QUESTION -->\n",
        "\n",
        "\n",
        "\n",
        "# End of Lab 4-3"
      ]
    },
    {
      "cell_type": "markdown",
      "id": "e098e70b",
      "metadata": {
        "deletable": false,
        "editable": false,
        "id": "e098e70b"
      },
      "source": [
        "---\n",
        "\n",
        "To double-check your work, the cell below will rerun all of the autograder tests."
      ]
    },
    {
      "cell_type": "code",
      "execution_count": 38,
      "id": "b0d85ad6",
      "metadata": {
        "deletable": false,
        "editable": false,
        "id": "b0d85ad6",
        "outputId": "c1c4eea8-883e-4fbc-8ab7-fa713a122dd5",
        "colab": {
          "base_uri": "https://localhost:8080/",
          "height": 350
        }
      },
      "outputs": [
        {
          "output_type": "execute_result",
          "data": {
            "text/plain": [
              "ambiguity_AE:\n",
              "\n",
              "    All tests passed!\n",
              "    \n",
              "\n",
              "ambiguity_EA:\n",
              "\n",
              "    All tests passed!\n",
              "    \n",
              "\n",
              "complete_derivation:\n",
              "\n",
              "    All tests passed!\n",
              "    \n",
              "\n",
              "grammar_extension:\n",
              "\n",
              "    All tests passed!\n",
              "    \n",
              "\n",
              "two_capital_newyork:\n",
              "\n",
              "    All tests passed!\n",
              "    \n",
              "\n",
              "two_london_capital:\n",
              "\n",
              "    All tests passed!\n",
              "    \n",
              "\n",
              "two_quantifier:\n",
              "\n",
              "    All tests passed!\n",
              "    \n"
            ],
            "text/html": [
              "<p><strong>ambiguity_AE:</strong></p>\n",
              "\n",
              "    \n",
              "    \n",
              "        <p>All tests passed!</p>\n",
              "    \n",
              "    \n",
              "\n",
              "<p><strong>ambiguity_EA:</strong></p>\n",
              "\n",
              "    \n",
              "    \n",
              "        <p>All tests passed!</p>\n",
              "    \n",
              "    \n",
              "\n",
              "<p><strong>complete_derivation:</strong></p>\n",
              "\n",
              "    \n",
              "    \n",
              "        <p>All tests passed!</p>\n",
              "    \n",
              "    \n",
              "\n",
              "<p><strong>grammar_extension:</strong></p>\n",
              "\n",
              "    \n",
              "    \n",
              "        <p>All tests passed!</p>\n",
              "    \n",
              "    \n",
              "\n",
              "<p><strong>two_capital_newyork:</strong></p>\n",
              "\n",
              "    \n",
              "    \n",
              "        <p>All tests passed!</p>\n",
              "    \n",
              "    \n",
              "\n",
              "<p><strong>two_london_capital:</strong></p>\n",
              "\n",
              "    \n",
              "    \n",
              "        <p>All tests passed!</p>\n",
              "    \n",
              "    \n",
              "\n",
              "<p><strong>two_quantifier:</strong></p>\n",
              "\n",
              "    \n",
              "    \n",
              "        <p>All tests passed!</p>\n",
              "    \n",
              "    \n",
              "\n"
            ]
          },
          "metadata": {},
          "execution_count": 38
        }
      ],
      "source": [
        "grader.check_all()"
      ]
    }
  ],
  "metadata": {
    "colab": {
      "collapsed_sections": [],
      "name": "NLP lab4-3.ipynb",
      "provenance": []
    },
    "kernelspec": {
      "display_name": "Python 3 (ipykernel)",
      "language": "python",
      "name": "python3"
    },
    "language_info": {
      "codemirror_mode": {
        "name": "ipython",
        "version": 3
      },
      "file_extension": ".py",
      "mimetype": "text/x-python",
      "name": "python",
      "nbconvert_exporter": "python",
      "pygments_lexer": "ipython3",
      "version": "3.8.3"
    },
    "title": "CS236299 Lab 4-3: Semantic ambiguity and quantifier scope"
  },
  "nbformat": 4,
  "nbformat_minor": 5
}