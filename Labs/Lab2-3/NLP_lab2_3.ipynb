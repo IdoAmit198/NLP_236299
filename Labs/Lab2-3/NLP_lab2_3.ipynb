{
  "cells": [
    {
      "cell_type": "code",
      "execution_count": 73,
      "id": "139a634e",
      "metadata": {
        "deletable": false,
        "editable": false,
        "jupyter": {
          "outputs_hidden": true,
          "source_hidden": true
        },
        "id": "139a634e",
        "colab": {
          "base_uri": "https://localhost:8080/"
        },
        "outputId": "8374a13c-1a59-497d-d32a-82cf3e3ec378"
      },
      "outputs": [
        {
          "output_type": "stream",
          "name": "stdout",
          "text": [
            "\n"
          ]
        }
      ],
      "source": [
        "# Please do not change this cell because some hidden tests might depend on it.\n",
        "import os\n",
        "\n",
        "# Otter grader does not handle ! commands well, so we define and use our\n",
        "# own function to execute shell commands.\n",
        "def shell(commands, warn=True):\n",
        "    \"\"\"Executes the string `commands` as a sequence of shell commands.\n",
        "     \n",
        "       Prints the result to stdout and returns the exit status. \n",
        "       Provides a printed warning on non-zero exit status unless `warn` \n",
        "       flag is unset.\n",
        "    \"\"\"\n",
        "    file = os.popen(commands)\n",
        "    print (file.read().rstrip('\\n'))\n",
        "    exit_status = file.close()\n",
        "    if warn and exit_status != None:\n",
        "        print(f\"Completed with errors. Exit status: {exit_status}\\n\")\n",
        "    return exit_status\n",
        "\n",
        "shell(\"\"\"\n",
        "ls requirements.txt >/dev/null 2>&1\n",
        "if [ ! $? = 0 ]; then\n",
        " rm -rf .tmp\n",
        " git clone https://github.com/cs236299-2022-spring/lab2-3.git .tmp\n",
        " mv .tmp/tests ./\n",
        " mv .tmp/requirements.txt ./\n",
        " rm -rf .tmp\n",
        "fi\n",
        "pip install -q -r requirements.txt\n",
        "\"\"\")"
      ]
    },
    {
      "cell_type": "code",
      "execution_count": 74,
      "id": "0ba07d7b",
      "metadata": {
        "deletable": false,
        "editable": false,
        "id": "0ba07d7b"
      },
      "outputs": [],
      "source": [
        "# Initialize Otter\n",
        "import otter\n",
        "grader = otter.Notebook()"
      ]
    },
    {
      "cell_type": "markdown",
      "id": "336e8c2d",
      "metadata": {
        "id": "336e8c2d",
        "tags": [
          "remove_for_latex"
        ]
      },
      "source": [
        "# Course 236299\n",
        "## Lab 2-3 – Language modeling with neural networks"
      ]
    },
    {
      "cell_type": "markdown",
      "id": "852d842b",
      "metadata": {
        "id": "852d842b"
      },
      "source": [
        "In lab 2-1, you built and tested $n$-gram language models. Recall that some problems with $n$-gram language models are:\n",
        "\n",
        "1. They are profligate with memory.\n",
        "2. They are sensitive to very limited context.\n",
        "3. They don't generalize well across similar words.\n",
        "\n",
        "As promised, in this lab, you'll explore neural models to address these failings. You will:\n",
        "\n",
        "1. Build and test a neural $n$-gram language model.\n",
        "2. Build and test a neural RNN language model.\n",
        "3. Use language models for classification (*Federalist* author identification)."
      ]
    },
    {
      "cell_type": "markdown",
      "id": "752a3b61",
      "metadata": {
        "id": "752a3b61"
      },
      "source": [
        "# Preparation – Loading packages and data"
      ]
    },
    {
      "cell_type": "raw",
      "id": "d931cbbb",
      "metadata": {
        "jupyter": {
          "source_hidden": true
        },
        "id": "d931cbbb"
      },
      "source": [
        "%%latex\n",
        "\\newcommand{\\vect}[1]{\\mathbf{#1}}\n",
        "\\newcommand{\\cnt}[1]{\\sharp(#1)}\n",
        "\\newcommand{\\argmax}[1]{\\underset{#1}{\\operatorname{argmax}}}\n",
        "\\newcommand{\\softmax}{\\operatorname{softmax}}\n",
        "\\newcommand{\\Prob}{\\Pr}\n",
        "\\newcommand{\\given}{\\,|\\,}"
      ]
    },
    {
      "cell_type": "markdown",
      "id": "14c564d5",
      "metadata": {
        "jupyter": {
          "source_hidden": true
        },
        "tags": [
          "remove_for_latex"
        ],
        "id": "14c564d5"
      },
      "source": [
        "$$\n",
        "\\renewcommand{\\vect}[1]{\\mathbf{#1}}\n",
        "\\renewcommand{\\cnt}[1]{\\sharp(#1)}\n",
        "\\renewcommand{\\argmax}[1]{\\underset{#1}{\\operatorname{argmax}}}\n",
        "\\renewcommand{\\softmax}{\\operatorname{softmax}}\n",
        "\\renewcommand{\\Prob}{\\Pr}\n",
        "\\renewcommand{\\given}{\\,|\\,}\n",
        "$$"
      ]
    },
    {
      "cell_type": "code",
      "execution_count": 75,
      "id": "4a90ded8",
      "metadata": {
        "deletable": false,
        "id": "4a90ded8"
      },
      "outputs": [],
      "source": [
        "import json\n",
        "import math\n",
        "import random\n",
        "import wget\n",
        "\n",
        "import torch\n",
        "import torchtext.legacy as tt\n",
        "\n",
        "from tqdm.auto import tqdm"
      ]
    },
    {
      "cell_type": "code",
      "execution_count": 76,
      "id": "5a773bea",
      "metadata": {
        "id": "5a773bea",
        "colab": {
          "base_uri": "https://localhost:8080/"
        },
        "outputId": "34ae94f1-7767-4a43-f62d-fa55140dec60"
      },
      "outputs": [
        {
          "output_type": "stream",
          "name": "stdout",
          "text": [
            "cpu\n"
          ]
        }
      ],
      "source": [
        "# Set random seeds\n",
        "SEED = 1234\n",
        "torch.manual_seed(SEED)\n",
        "random.seed(SEED)\n",
        "\n",
        "# GPU check, sets runtime type to \"GPU\" where available\n",
        "device = torch.device(\"cuda\" if torch.cuda.is_available() else \"cpu\")\n",
        "print (device)"
      ]
    },
    {
      "cell_type": "markdown",
      "id": "11807d3e",
      "metadata": {
        "id": "11807d3e"
      },
      "source": [
        "The corpus used throughout this lab is the *Federalist* papers. We've trained and provided neural language models on papers authored by Hamilton and Madison, respectively, which we download here."
      ]
    },
    {
      "cell_type": "code",
      "execution_count": 77,
      "id": "09876dbd",
      "metadata": {
        "id": "09876dbd"
      },
      "outputs": [],
      "source": [
        "# Prepare to download needed data\n",
        "def download_if_needed(source, dest, filename):\n",
        "    os.path.exists(f\"./{dest}{filename}\") or wget.download(source + filename, out=dest)\n",
        "\n",
        "source_path = \"https://raw.githubusercontent.com/nlp-236299/data/master/Federalist/\"\n",
        "data_path = \"data/\"\n",
        "\n",
        "os.makedirs(data_path, exist_ok=True)\n",
        "# Download files, including pretrained language models\n",
        "for filename in [\"federalist_data_raw2.json\",\n",
        "                 \"text_field.pt\",\n",
        "                 # language models:\n",
        "                 # Hamilton        Madison\n",
        "                 \"ffnn_lm_h.pt\",   \"ffnn_lm_m.pt\", # feedforward NN\n",
        "                 \"rnn_lm_h.pt\",    \"rnn_lm_m.pt\"   # RNN\n",
        "                ]:\n",
        "    download_if_needed(source_path, data_path, filename)\n",
        "\n",
        "# Read in the raw data\n",
        "dataset = json.load(open(data_path + \"federalist_data_raw2.json\"))\n",
        "\n",
        "# Read in the pretrained TEXT field\n",
        "TEXT = torch.load(data_path + \"text_field.pt\")"
      ]
    },
    {
      "cell_type": "markdown",
      "id": "8ecc150b",
      "metadata": {
        "id": "8ecc150b"
      },
      "source": [
        "First, let's split the dataset into training, validation, and test sets. Since we have provided pretrained models, you won't be using the training set in this lab. In the problem sets you will have opportunities to train models yourself.\n",
        "\n",
        "For this lab, we use a test set `testing`, which is the same as we used in lab 1-2. But for the validation set, we have separate ones for papers authored by Hamilton (`validation_hamilton`) and papers authored by Madison (`validation_madison`)."
      ]
    },
    {
      "cell_type": "code",
      "execution_count": 78,
      "id": "d0c4b5d3",
      "metadata": {
        "id": "d0c4b5d3",
        "colab": {
          "base_uri": "https://localhost:8080/"
        },
        "outputId": "848dcb94-c993-40e0-d2c1-a1113297f33a"
      },
      "outputs": [
        {
          "output_type": "stream",
          "name": "stdout",
          "text": [
            "Madison validation size:  3 documents\n",
            "Hamilton validation size: 6 documents\n"
          ]
        }
      ],
      "source": [
        "# Split training, validation, and test sets\n",
        "TRAIN_RATIO = 0.9\n",
        "# Extract the papers of unknown authorship\n",
        "testing = list(filter(lambda ex: ex['authors'] == 'Hamilton or Madison',\n",
        "                      dataset))\n",
        "# Change gold labels in-place\n",
        "for ex in testing:\n",
        "  ex['authors'] = 'Madison'\n",
        "\n",
        "# Extract the papers by Madison\n",
        "dataset_madison = list(filter(lambda ex: ex['authors']=='Madison', dataset))\n",
        "random.seed(SEED)\n",
        "random.shuffle(dataset_madison)\n",
        "training_size_madison = int(math.floor(TRAIN_RATIO * len(dataset_madison)))\n",
        "validation_madison = dataset_madison[training_size_madison:]\n",
        "\n",
        "# Extract the papers by Hamilton\n",
        "dataset_hamilton = list(filter(lambda ex: ex['authors']=='Hamilton', dataset))\n",
        "random.seed(SEED)\n",
        "random.shuffle(dataset_hamilton)\n",
        "training_size_hamilton = int(math.floor(TRAIN_RATIO * len(dataset_hamilton)))\n",
        "validation_hamilton = dataset_hamilton[training_size_hamilton:]\n",
        "\n",
        "# We only consider the first 200 tokens of each document for speed\n",
        "def truncate(s, k=200):\n",
        "  for document in s:\n",
        "    document['tokens'] = document['tokens'][:k]\n",
        "truncate(validation_madison)\n",
        "truncate(validation_hamilton)\n",
        "truncate(testing)\n",
        "\n",
        "print (f\"Madison validation size:  {len(validation_madison)} documents\\n\"\n",
        "       f\"Hamilton validation size: {len(validation_hamilton)} documents\")"
      ]
    },
    {
      "cell_type": "markdown",
      "id": "4caa5767",
      "metadata": {
        "id": "4caa5767"
      },
      "source": [
        "Note that, unlike in labs 1-2 and 1-3, here we consider _all_ word types in the data. Let's look at an example:"
      ]
    },
    {
      "cell_type": "code",
      "execution_count": 79,
      "id": "0005a0cc",
      "metadata": {
        "id": "0005a0cc",
        "colab": {
          "base_uri": "https://localhost:8080/"
        },
        "outputId": "122ddf0e-7088-4f3e-8a52-06ae2d9f270c"
      },
      "outputs": [
        {
          "output_type": "stream",
          "name": "stdout",
          "text": [
            "Example (Madison): ['it', 'is', 'not', 'a', 'little', 'remarkable', 'that', 'in', 'every', 'case', 'reported', 'by', 'ancient', 'history', ',', 'in', 'which', 'government', 'has', 'been', 'established', 'with', 'deliberation', 'and', 'consent', ',', 'the', 'task', 'of', 'framing', 'it', 'has', 'not', 'been', 'committed', 'to', 'an', 'assembly', 'of', 'men', ',', 'but', 'has', 'been', 'performed', 'by', 'some', 'individual', 'citizen', 'of', 'preeminent', 'wisdom', 'and', 'approved', 'integrity', '.', 'minos', ',', 'we', 'learn', ',', 'was', 'the', 'primitive', 'founder', 'of', 'the', 'government', 'of', 'crete', ',', 'as', 'zaleucus', 'was', 'of', 'that', 'of', 'the', 'locrians', '.', 'theseus', 'first', ',', 'and', 'after', 'him', 'draco', 'and', 'solon', ',', 'instituted', 'the', 'government', 'of', 'athens', '.', 'lycurgus', 'was', 'the', 'lawgiver', 'of', 'sparta', '.', 'the', 'foundation', 'of', 'the', 'original', 'government', 'of', 'rome', 'was', 'laid', 'by', 'romulus', ',', 'and', 'the', 'work', 'completed', 'by', 'two', 'of', 'his', 'elective', 'successors', ',', 'numa', 'and', 'tullius', 'hostilius', '.', 'on', 'the', 'abolition', 'of', 'royalty', 'the', 'consular', 'administration', 'was', 'substituted', 'by', 'brutus', ',', 'who', 'stepped', 'forward', 'with', 'a', 'project', 'for', 'such', 'a', 'reform', ',', 'which', ',', 'he', 'alleged', ',', 'had', 'been', 'prepared', 'by', 'tullius', 'hostilius', ',', 'and', 'to', 'which', 'his', 'address', 'obtained', 'the', 'assent', 'and', 'ratification', 'of', 'the', 'senate', 'and', 'people', '.', 'this', 'remark', 'is', 'applicable', 'to', 'confederate', 'governments', 'also', '.', 'amphictyon', ',', 'we', 'are', 'told', ',', 'was']\n",
            "\n",
            "Example (Hamilton): ['the', 'administration', 'of', 'government', ',', 'in', 'its', 'largest', 'sense', ',', 'comprehends', 'all', 'the', 'operations', 'of', 'the', 'body', 'politic', ',', 'whether', 'legislative', ',', 'executive', ',', 'or', 'judiciary', 'but', 'in', 'its', 'most', 'usual', ',', 'and', 'perhaps', 'its', 'most', 'precise', 'signification', '.', 'it', 'is', 'limited', 'to', 'executive', 'details', ',', 'and', 'falls', 'peculiarly', 'within', 'the', 'province', 'of', 'the', 'executive', 'department', '.', 'the', 'actual', 'conduct', 'of', 'foreign', 'negotiations', ',', 'the', 'preparatory', 'plans', 'of', 'finance', ',', 'the', 'application', 'and', 'disbursement', 'of', 'the', 'public', 'moneys', 'in', 'conformity', 'to', 'the', 'general', 'appropriations', 'of', 'the', 'legislature', ',', 'the', 'arrangement', 'of', 'the', 'army', 'and', 'navy', ',', 'the', 'directions', 'of', 'the', 'operations', 'of', 'war', ',', 'these', ',', 'and', 'other', 'matters', 'of', 'a', 'like', 'nature', ',', 'constitute', 'what', 'seems', 'to', 'be', 'most', 'properly', 'understood', 'by', 'the', 'administration', 'of', 'government', '.', 'the', 'persons', ',', 'therefore', ',', 'to', 'whose', 'immediate', 'management', 'these', 'different', 'matters', 'are', 'committed', ',', 'ought', 'to', 'be', 'considered', 'as', 'the', 'assistants', 'or', 'deputies', 'of', 'the', 'chief', 'magistrate', ',', 'and', 'on', 'this', 'account', ',', 'they', 'ought', 'to', 'derive', 'their', 'offices', 'from', 'his', 'appointment', ',', 'at', 'least', 'from', 'his', 'nomination', ',', 'and', 'ought', 'to', 'be', 'subject', 'to', 'his', 'superintendence', '.', 'this', 'view', 'of', 'the', 'subject', 'will', 'at', 'once', 'suggest', 'to', 'us', 'the', 'intimate']\n"
          ]
        }
      ],
      "source": [
        "print (f\"Example (Madison): {validation_madison[0]['tokens']}\\n\\n\"\n",
        "       f\"Example (Hamilton): {validation_hamilton[0]['tokens']}\")"
      ]
    },
    {
      "cell_type": "markdown",
      "id": "5e71c0b0",
      "metadata": {
        "id": "5e71c0b0"
      },
      "source": [
        "# The $n$-gram feedforward network\n",
        "\n",
        "In lab 2-1, you built an $n$-gram language model using a lookup table. However, that model assigns zero probability to any $n$-gram that doesn't appear in the training text (without smoothing). In this lab, we consider a neural-network-based approach, which can address this issue.\n",
        "\n",
        "Recall that in $n$-gram language modeling, we made the assumption that the probability of a word only depends on its previous $n-1$ words:\n",
        "\n",
        "\\begin{align*}\n",
        "\\Prob(w_1, w_2, \\ldots, w_M) & = \\Prob(w_1) \\cdot \\Prob(w_2, \\ldots, w_M\\given w_1) \\\\\n",
        "& = \\Prob(w_1) \\cdot \\Prob(w_2 \\given w_1) \\cdot \\Prob(w_3 \\ldots, w_M \\given w_1, w_2) \\\\\n",
        "& \\cdots \\\\\n",
        "& = \\prod_{i=1}^M \\Prob (w_i \\given w_1, \\cdots, w_{i-1}) \\\\\n",
        "& \\approx \\prod_{i=1}^M \\Prob (w_i \\given w_{i-n+1}, \\cdots, w_{i-1}),\n",
        "\\end{align*}\n",
        "\n",
        "and we used the empirical frequencies to estimate these conditional probabilities:\n",
        "\n",
        "$$\n",
        "\\Pr (w_i \\given w_{i-n+1}, \\cdots, w_{i-1})= \\frac{\\cnt{w_{i-n+1}, \\cdots, w_{i-1}, w_i}}{\\sum_{x'} \\cnt{w_{i-n+1}, \\cdots, w_{i-1}, x'}}\n",
        "$$\n",
        "\n",
        "We can immediately see the problem with using a large $n$: the numerator would be 0 for any $n$-grams unseen in the training data.\n",
        "\n",
        "One way of solving this issue is to use a \"smoother\" function. We parameterize the conditional probabilities using a neural network that computes a function $f$, which we use to estimate the probabilities\n",
        "\n",
        "$$\n",
        "\\Pr (w_i \\given w_{i-n+1}, \\cdots, w_{i-1}) \\approx f_i(w_{i-n+1}, \\cdots, w_{i-1}),\n",
        "$$\n",
        "\n",
        "where $f$ is a function returning a vector of size $V$ ($V$ being the vocabulary size). The $j$-th element of the returned vector $f_j$ stores the probability of generating the $j$-th word in the vocabulary. (We're being a little fast and loose with notation here. Strictly speaking, we should define these probability estiamets in terms of word ids, that is, indices into the vocabulary.)\n",
        "\n",
        "To specify $f$, we can use a feedforward neural network. We'll represent words not by their ids or a one-hot representation but isntead we map each word type in the vocabulary to a trainable vector called an _embedding_ of size `embedding_size`. \n",
        "\n",
        "Why do we represent words with such embeddings? To answer this question, let's consider two alternative representations: (1) word indices and (2) one-hot vectors (which we used in lab 1-1). (We cannot directly use the strings themselves because they are of varying lengths.) A desirable word representation system should be such that *the similarity of words can be reflected in the closeness of word representations*. Ideally, if two words have similar meaning and syntactic function, they should have similar representations, in order to alleviate the burden of learning such similarities by the rest of the model. For option (1), closeness in terms of word indices is meaningless: the 365-th word in the vocabulary is probably not more similar to the 366-th word than it is to other words, since the assignment of index in the vocabulary is arbitrary. For option (2), two different word types always have orthogonal vector representations, but we would hope that similar words can be placed near each other (at least we don't want to eliminate that possibility from the beginning).\n",
        "\n",
        "Therefore, we use an embedding, a vector representation for each word type in the vocabulary, which has been separately learned in a manner that has been shown to cluster similar words together. There are many such embeddings; the particular embedding we'll use is _word2vec_, a mapping from words to vectors of embedding size 128 trained under a task called \"masked language modeling\". If you are interested in more details, you should read the original [word2vec paper](https://papers.nips.cc/paper/5021-distributed-representations-of-words-and-phrases-and-their-compositionality.pdf). For our purposes, we can treat the embedding as just given to us.\n",
        "\n",
        "Now let's get back to the parameterization of $f(w_{i-n+1}, \\cdots, w_{i-1})$. We first map each word in $\\langle w_{i-n+1}, \\cdots, w_{i-1}\\rangle$ to its embedding $\\langle x_{i-n+1}, \\cdots, x_{i-1}\\rangle$ ($n-1$ vectors each of size `embedding_size`), and we concatenate these embeddings to a vector (of size `(n-1) * embedding_size`). Then, we apply a linear projection to project it down to size `hidden_size`, followed by a nonlinear function, and another linear projection to project to size $V$, followed by a softmax to normalize to probabilities. In this case, the nonlinear function we use is not a sigmoid. Instead, we use a Rectified Linear Unit (ReLU), which is simply a componentwise function that clips negative numbers at zero: \n",
        "\n",
        "$$ReLU(x) = \\max(0, x)$$\n",
        "\n",
        "We use $n=5$ in this lab."
      ]
    },
    {
      "cell_type": "code",
      "execution_count": 80,
      "id": "967c61cc",
      "metadata": {
        "id": "967c61cc"
      },
      "outputs": [],
      "source": [
        "n = 5"
      ]
    },
    {
      "cell_type": "markdown",
      "id": "e0c50754",
      "metadata": {
        "deletable": false,
        "editable": false,
        "id": "e0c50754"
      },
      "source": [
        "<!--\n",
        "BEGIN QUESTION\n",
        "name: ffnn_forward\n",
        "-->\n",
        "\n",
        "Implement the missing part of the `forward` function below. This function takes the previous words (the entire previous history, not just the $n$-gram context) as input, and returns the probabilities of generating the next word (the target). (This design decision to take the entire history even though the $n-1$-gram context is all that is needed is for consistency with the RNN language model that will be introduced later, which does use the full context.)\n",
        "\n",
        "The returned value should be a dictionary, with word types as keys and their respective probabilities as values."
      ]
    },
    {
      "cell_type": "code",
      "execution_count": 81,
      "id": "8877e9e5",
      "metadata": {
        "id": "8877e9e5"
      },
      "outputs": [],
      "source": [
        "class FFNNLM(torch.nn.Module):\n",
        "  def __init__(self, n, text_field, embedding_size, hidden_size):\n",
        "    super().__init__()\n",
        "    self.n = n\n",
        "    self.text_field = text_field\n",
        "    self.pad_index = self.text_field.vocab.stoi[self.text_field.pad_token]\n",
        "    vocab_size = len(self.text_field.vocab)\n",
        "\n",
        "    # Create modules\n",
        "    self.embed = torch.nn.Embedding(vocab_size, embedding_size)           # Embedding\n",
        "    self.sublayer1 = torch.nn.Linear((n-1) * embedding_size, hidden_size) # First layer\n",
        "    self.sublayer2 = torch.nn.ReLU()                                      # Second layer\n",
        "    self.hidden2output = torch.nn.Linear(hidden_size, vocab_size)         # Last layer\n",
        "\n",
        "  def forward(self, history_words):\n",
        "    \"\"\"Computes the distribution over the next word given context `history_words`.\n",
        "    Arguments:\n",
        "      history_words: a list of word strings, could be an empty list when generating\n",
        "                     the first word.\n",
        "    Returns: \n",
        "      the distribution over the next word given the context, stored as a dictionary, \n",
        "      with word types as keys, and probability values as values. The probability of\n",
        "      generating an unknown word is stored in dictionary[\"<unk>\"]\".\"\"\"\n",
        "    # Switch to \"evaluation\" mode\n",
        "    self.eval()\n",
        "    # Convert strings to word ids\n",
        "    \n",
        "    context = self.text_field.process([history_words]).to(device) # context_len, 1\n",
        "    context_len = context.size(0)\n",
        "    if context_len < self.n-1:\n",
        "      # Pad to the left if we don't have enough context words\n",
        "      padding = context.new(self.n-1-context_len, 1).fill_(self.pad_index)\n",
        "      context = torch.cat([padding, context], 0)\n",
        "    else:\n",
        "      # TODO: prepare proper context (the previous n-1 words) from the full history\n",
        "      context = context[len(context)-(self.n-1):]\n",
        "    context = context.view(1, -1)              # first dim batch=1, second dim length=n-1\n",
        "    embeddings = self.embed(context)           # 1, n-1, embedding_size\n",
        "    embeddings = embeddings.view(1, -1)        # 1, (n-1)*embedding_size\n",
        "    # TODO: finish feedforward and set logits from output\n",
        "    # Logits should be a tensor of size (1, vocab_size)\n",
        "    # The structure of the network is\n",
        "    #   embeddings -> sublayer1 -> sublayer2 -> hidden2output -> softmax\n",
        "    layer1  = self.sublayer1(embeddings)\n",
        "    layer2 = self.sublayer2(layer1)\n",
        "    logits = self.hidden2output(layer2)    \n",
        "    # Normalize to get probabilities\n",
        "    probs = torch.softmax(logits, -1).view(-1) # vocab_size\n",
        "\n",
        "    # Match probabilities with actual word types\n",
        "    distribution = {}\n",
        "    for i, prob in enumerate(probs):\n",
        "      word = self.text_field.vocab.itos[i]\n",
        "      distribution[word] = prob.item()\n",
        "    return distribution"
      ]
    },
    {
      "cell_type": "markdown",
      "id": "83d2d62e",
      "metadata": {
        "id": "83d2d62e"
      },
      "source": [
        "Now, let's load the pretrained feedforward language models for Hamilton and Madison. The model `ffnn_lm_madison` was trained on documents authored by Madison, whereas `ffnn_lm_hamilton` was trained on documents authored by Hamilton."
      ]
    },
    {
      "cell_type": "code",
      "execution_count": 82,
      "id": "a46d5aa2",
      "metadata": {
        "id": "a46d5aa2",
        "colab": {
          "base_uri": "https://localhost:8080/"
        },
        "outputId": "ccae9887-ecfe-466a-ad0a-bec7a0a8ad55"
      },
      "outputs": [
        {
          "output_type": "execute_result",
          "data": {
            "text/plain": [
              "<All keys matched successfully>"
            ]
          },
          "metadata": {},
          "execution_count": 82
        }
      ],
      "source": [
        "# Create and load feedforward LM for Madison\n",
        "ffnn_lm_madison = FFNNLM(n, TEXT,\n",
        "               embedding_size=128, \n",
        "               hidden_size=128, \n",
        "               ).to(device)\n",
        "ffnn_lm_madison.load_state_dict(torch.load(data_path + 'ffnn_lm_m.pt', map_location=device))\n",
        "\n",
        "# Create and load feedforward LM for Hamilton\n",
        "ffnn_lm_hamilton = FFNNLM(n, TEXT,\n",
        "               embedding_size=128, \n",
        "               hidden_size=128, \n",
        "               ).to(device)\n",
        "ffnn_lm_hamilton.load_state_dict(torch.load(data_path + 'ffnn_lm_h.pt', map_location=device))"
      ]
    },
    {
      "cell_type": "markdown",
      "id": "616f392c",
      "metadata": {
        "id": "616f392c"
      },
      "source": [
        "## Sampling from an $n$-gram feedforward network\n",
        "\n",
        "Recall from lab 2-1 that we can sample a sequence of text from a model using the functions below. Again, the `sample` function here takes as an argument the full context instead of just the previous $n-1$ words, for consistency with the later RNN model."
      ]
    },
    {
      "cell_type": "code",
      "execution_count": 83,
      "id": "7e5801f7",
      "metadata": {
        "id": "7e5801f7"
      },
      "outputs": [],
      "source": [
        "def sample(model, context):\n",
        "    \"\"\"Returns a token sampled from the `model` assuming the `context`\"\"\"\n",
        "    distribution = model(context) # calls internally to model.forward(context)\n",
        "    prob_remaining = random.random()\n",
        "    for token, prob in sorted(distribution.items()):\n",
        "        if prob_remaining < prob:\n",
        "            return token\n",
        "        else:\n",
        "            prob_remaining -= prob\n",
        "    raise ValueError\n",
        "\n",
        "def sample_sequence(model, start_context, count=100):\n",
        "    \"\"\"Returns a sequence of tokens of length `count` sampled successively\n",
        "       from the `model` starting with the `start_context`\n",
        "    \"\"\"\n",
        "    random.seed(SEED) # for reproducibility\n",
        "    context = list(start_context)\n",
        "    result = list(start_context)\n",
        "    for i in range(0, count):\n",
        "        next = sample(model, tuple(context))\n",
        "        result.append(next)\n",
        "        context = context + [next]\n",
        "    return result"
      ]
    },
    {
      "cell_type": "markdown",
      "id": "fa3ceab2",
      "metadata": {
        "id": "fa3ceab2"
      },
      "source": [
        "Let's try to sample from our models. (Don't expect much fluency in the samples, since the dataset it is trained on is small.)"
      ]
    },
    {
      "cell_type": "code",
      "execution_count": 84,
      "id": "35458cab",
      "metadata": {
        "id": "35458cab",
        "colab": {
          "base_uri": "https://localhost:8080/"
        },
        "outputId": "95455673-4a01-4cf8-aa5f-2130b5f81b90"
      },
      "outputs": [
        {
          "output_type": "stream",
          "name": "stdout",
          "text": [
            "constitution proposed by the united states , which will have laid against the elevation but the federal innovations is <unk> , and , is very <unk> invested in the authors of that reason . little far as we have have <unk> like , and in mankind , or as more and to the union , at a constitution passions , and very <unk> taxes , if gives give the legislative powers falling that they is the rights of any commission , and mean them in the people of its portion of civil suffrages , and the principles of powerful acts . a enjoyed and \n",
            "\n",
            "constitution proposed by the usual has , very time never it , the convention , the general models of course , and , in treat . the legislature may are merchants . the person of nations . we have far <unk> less , and instance , adopt properly be less <unk> to the union , has , except to be allowed to acquire the <unk> hands of one situation ? these is sometimes take it to serve by a <unk> in a measures than members of the political difference have prospect for this determinate augmented states should propriety either <unk> from a distribution but\n"
          ]
        }
      ],
      "source": [
        "print(' '.join(sample_sequence(ffnn_lm_madison, ('constitution', 'proposed', 'by', 'the'))), \"\\n\")\n",
        "print(' '.join(sample_sequence(ffnn_lm_hamilton, ('constitution', 'proposed', 'by', 'the'))))"
      ]
    },
    {
      "cell_type": "code",
      "execution_count": 85,
      "id": "1be947a6",
      "metadata": {
        "deletable": false,
        "editable": false,
        "id": "1be947a6",
        "colab": {
          "base_uri": "https://localhost:8080/",
          "height": 46
        },
        "outputId": "b50556ba-7a09-46ee-e8d6-1a13b92fe23a"
      },
      "outputs": [
        {
          "output_type": "execute_result",
          "data": {
            "text/plain": [
              "\n",
              "    All tests passed!\n",
              "    "
            ],
            "text/html": [
              "\n",
              "    \n",
              "    \n",
              "        <p>All tests passed!</p>\n",
              "    \n",
              "    "
            ]
          },
          "metadata": {},
          "execution_count": 85
        }
      ],
      "source": [
        "grader.check(\"ffnn_sample\")"
      ]
    },
    {
      "cell_type": "markdown",
      "id": "6366b1d0",
      "metadata": {
        "id": "6366b1d0"
      },
      "source": [
        "## Evaluating text according to an $n$-gram feedforward network\n",
        "\n",
        "Now let's use our language model to score text. Since the $n$-gram feedforward network is able to score with zero context -- internally, it pads on the left with instances of the padding token that `torchtext` provided -- `ffnn_lm_hamilton([])` will return the probability distribution $\\Pr(x_1)$ for the first word in a document."
      ]
    },
    {
      "cell_type": "code",
      "execution_count": 86,
      "id": "5fdc73ef",
      "metadata": {
        "id": "5fdc73ef",
        "colab": {
          "base_uri": "https://localhost:8080/"
        },
        "outputId": "d71a8b2e-032b-4714-fe70-4f9db7a8d240"
      },
      "outputs": [
        {
          "output_type": "stream",
          "name": "stdout",
          "text": [
            "top 1 word: ,        Pr(x1): 0.048\n",
            "top 2 word: the      Pr(x1): 0.046\n",
            "top 3 word: of       Pr(x1): 0.031\n",
            "top 4 word: in       Pr(x1): 0.028\n",
            "top 5 word: <unk>    Pr(x1): 0.027\n",
            "top 6 word: that     Pr(x1): 0.020\n",
            "top 7 word: which    Pr(x1): 0.019\n",
            "top 8 word: to       Pr(x1): 0.018\n",
            "top 9 word: and      Pr(x1): 0.016\n"
          ]
        }
      ],
      "source": [
        "Pr_x1 = ffnn_lm_hamilton([]) # calls internally to ffnn_lm_hamilton.forward([])\n",
        "topk = 9\n",
        "\n",
        "# Sort by probabilities\n",
        "for i, word in enumerate(sorted(Pr_x1, key=lambda word: Pr_x1[word], reverse=True)[:topk]):\n",
        "    print (f\"top {i+1} word: {word:<8} Pr(x1): {Pr_x1[word]:.3f}\")"
      ]
    },
    {
      "cell_type": "markdown",
      "id": "3e4ce770",
      "metadata": {
        "deletable": false,
        "editable": false,
        "id": "3e4ce770"
      },
      "source": [
        "Define a function `neglogprob` that takes a token sequence and a language model and returns the negative log probability of the _entire_ token sequence according to the model (using log base 2). Note that you need to use the probability for the unknown word type `\"<unk>\"` if a token does not appear in the vocabulary.\n",
        "\n",
        "<!--\n",
        "BEGIN QUESTION\n",
        "name: ffnn_neglogprob\n",
        "-->"
      ]
    },
    {
      "cell_type": "code",
      "execution_count": 87,
      "id": "4de86692",
      "metadata": {
        "id": "4de86692"
      },
      "outputs": [],
      "source": [
        "# TODO\n",
        "def neglogprob(tokens, model):\n",
        "    \"\"\"Returns the negative log probability of a sequence of `tokens`\n",
        "       according to a `model` \n",
        "    \"\"\"\n",
        "    history = []\n",
        "    Pr = model(history)\n",
        "    score = 0\n",
        "    for word in tokens:\n",
        "      if word in Pr:\n",
        "        score -= math.log2(Pr[word])\n",
        "      else:\n",
        "        score-= math.log2(Pr['<unk>'])\n",
        "      history.append(word)\n",
        "      Pr = model(history)\n",
        "    return score"
      ]
    },
    {
      "cell_type": "code",
      "execution_count": 88,
      "id": "4e90e431",
      "metadata": {
        "deletable": false,
        "editable": false,
        "id": "4e90e431",
        "colab": {
          "base_uri": "https://localhost:8080/",
          "height": 46
        },
        "outputId": "a7443cdd-b5d8-474b-8695-1b80e59b6400"
      },
      "outputs": [
        {
          "output_type": "execute_result",
          "data": {
            "text/plain": [
              "\n",
              "    All tests passed!\n",
              "    "
            ],
            "text/html": [
              "\n",
              "    \n",
              "    \n",
              "        <p>All tests passed!</p>\n",
              "    \n",
              "    "
            ]
          },
          "metadata": {},
          "execution_count": 88
        }
      ],
      "source": [
        "grader.check(\"ffnn_neglogprob\")"
      ]
    },
    {
      "cell_type": "code",
      "execution_count": 89,
      "id": "44499676",
      "metadata": {
        "id": "44499676",
        "colab": {
          "base_uri": "https://localhost:8080/"
        },
        "outputId": "ff464405-903c-4225-c3e3-79151c411a92"
      },
      "outputs": [
        {
          "output_type": "execute_result",
          "data": {
            "text/plain": [
              "13.35"
            ]
          },
          "metadata": {},
          "execution_count": 89
        }
      ],
      "source": [
        "round(neglogprob([\"constitution\",], ffnn_lm_madison), 2)"
      ]
    },
    {
      "cell_type": "markdown",
      "id": "2a0b8f92",
      "metadata": {
        "deletable": false,
        "editable": false,
        "id": "2a0b8f92"
      },
      "source": [
        "Define a function `perplexity` that takes a token sequence and a language model and returns the perplexity of the _entire_ token sequence according to the model.\n",
        "\n",
        "<!--\n",
        "BEGIN QUESTION\n",
        "name: ffnn_perplexity\n",
        "-->\n"
      ]
    },
    {
      "cell_type": "code",
      "execution_count": 90,
      "id": "0b465661",
      "metadata": {
        "id": "0b465661"
      },
      "outputs": [],
      "source": [
        "# TODO\n",
        "def perplexity(tokens, model):\n",
        "    \"\"\"Returns the perplexity of a sequence of `tokens` according to a `model`\n",
        "    \"\"\"\n",
        "    N = len(tokens)\n",
        "    temp = (neglogprob(tokens, model))/N\n",
        "    return (2 **temp)"
      ]
    },
    {
      "cell_type": "markdown",
      "id": "e7063b59",
      "metadata": {
        "id": "e7063b59"
      },
      "source": [
        "What's the perplexity of each document in the validation set under the language model trained on papers authored by Madison? What about Hamilton? Let's start with one document from each author."
      ]
    },
    {
      "cell_type": "code",
      "execution_count": 91,
      "id": "679ecb3d",
      "metadata": {
        "id": "679ecb3d"
      },
      "outputs": [],
      "source": [
        "document_madison = validation_madison[0]['tokens']\n",
        "document_hamilton = validation_hamilton[0]['tokens']"
      ]
    },
    {
      "cell_type": "markdown",
      "id": "82ae2673",
      "metadata": {
        "deletable": false,
        "editable": false,
        "id": "82ae2673"
      },
      "source": [
        "Calculate the perplexity of each model on `document_madison` and  `document_hamilton`.\n",
        "\n",
        "<!--\n",
        "BEGIN QUESTION\n",
        "name: ffnn_ppl\n",
        "-->"
      ]
    },
    {
      "cell_type": "code",
      "execution_count": 92,
      "id": "e6729697",
      "metadata": {
        "id": "e6729697"
      },
      "outputs": [],
      "source": [
        "# TODO\n",
        "ppl_madison_model_madison_document = perplexity(document_madison,ffnn_lm_madison)\n",
        "ppl_hamilton_model_madison_document = perplexity(document_madison,ffnn_lm_hamilton)\n",
        "ppl_madison_model_hamilton_document = perplexity(document_hamilton,ffnn_lm_madison)\n",
        "ppl_hamilton_model_hamilton_document = perplexity(document_hamilton,ffnn_lm_hamilton)"
      ]
    },
    {
      "cell_type": "code",
      "execution_count": 93,
      "id": "7954f44e",
      "metadata": {
        "deletable": false,
        "editable": false,
        "id": "7954f44e",
        "colab": {
          "base_uri": "https://localhost:8080/",
          "height": 46
        },
        "outputId": "b4de062e-10d2-43c1-ba74-9c4bd6707e43"
      },
      "outputs": [
        {
          "output_type": "execute_result",
          "data": {
            "text/plain": [
              "\n",
              "    All tests passed!\n",
              "    "
            ],
            "text/html": [
              "\n",
              "    \n",
              "    \n",
              "        <p>All tests passed!</p>\n",
              "    \n",
              "    "
            ]
          },
          "metadata": {},
          "execution_count": 93
        }
      ],
      "source": [
        "grader.check(\"ffnn_ppl\")"
      ]
    },
    {
      "cell_type": "markdown",
      "id": "340888f8",
      "metadata": {
        "id": "340888f8"
      },
      "source": [
        "Now, let's compare those perplexity values."
      ]
    },
    {
      "cell_type": "code",
      "execution_count": 94,
      "id": "f4f5a35a",
      "metadata": {
        "id": "f4f5a35a",
        "colab": {
          "base_uri": "https://localhost:8080/"
        },
        "outputId": "072f8710-b8b3-4c9e-e4fc-2e8479354347"
      },
      "outputs": [
        {
          "output_type": "stream",
          "name": "stdout",
          "text": [
            "Author    Madison Model    Hamilton Model\n",
            "Madison      108.3            134.8\n",
            "Hamilton     129.4             96.0\n"
          ]
        }
      ],
      "source": [
        "print (f\"Author    Madison Model    Hamilton Model\\n\"\n",
        "       f\"Madison      {ppl_madison_model_madison_document:5.1f}            {ppl_hamilton_model_madison_document:5.1f}\\n\"\n",
        "       f\"Hamilton     {ppl_madison_model_hamilton_document:5.1f}            {ppl_hamilton_model_hamilton_document:5.1f}\")"
      ]
    },
    {
      "cell_type": "markdown",
      "id": "de4c7d2e",
      "metadata": {
        "deletable": false,
        "editable": false,
        "id": "de4c7d2e"
      },
      "source": [
        "<!-- BEGIN QUESTION -->\n",
        "\n",
        "**Question:** What do you find? Why?\n",
        "\n",
        "<!--\n",
        "BEGIN QUESTION\n",
        "name: open_response_ppl\n",
        "manual: true\n",
        "-->"
      ]
    },
    {
      "cell_type": "markdown",
      "id": "daf15f0e",
      "metadata": {
        "id": "daf15f0e"
      },
      "source": [
        "_We observe that hamilton model success better on hamilton document, while the same is for madison. As for hamilton model on madison document, it perform not as good, and the same goes for madison model on hamilton document._\n",
        "\n",
        "_We think it's because each model learn in forward stage by it's own history sequence, hence learn a model suited for those type of documents better than the other._"
      ]
    },
    {
      "cell_type": "markdown",
      "id": "551c89d6",
      "metadata": {
        "deletable": false,
        "editable": false,
        "id": "551c89d6"
      },
      "source": [
        "<!-- END QUESTION -->\n",
        "\n",
        "<!-- BEGIN QUESTION -->\n",
        "\n",
        "Now, let's revisit our motivation for parameterizing conditional probabilities using a feedforward neural network instead of through counting.\n",
        "\n",
        "**Question:** Compare the pros and cons of feedforward neural language model and the original $n$-gram language model (possibly with smoothing). Which is better?\n",
        "\n",
        "<!--\n",
        "BEGIN QUESTION\n",
        "name: open_response_nn_v_ngram\n",
        "manual: true\n",
        "-->"
      ]
    },
    {
      "cell_type": "markdown",
      "id": "0500ce1a",
      "metadata": {
        "id": "0500ce1a"
      },
      "source": [
        "_Pros of feedforward: The feedforward neural network solution learns the required probabilities using weights and activation functions, in contrast to the n-gram model, which count. Another pro of the feedforward NN is the lack of need in smoothing which skew our probabilities in the n-gram model. Another pro is the leanred embedding layer, which helps us represent our vocabulary words better, making more accurate prediction of unseen sequences._\n",
        "\n",
        "_Cons: The con of feedforward NN model is the long training time of the network, end to end, again and again updating the weights._\n",
        "\n",
        "_One more point we want to state is the tradeoff of space complexity. On the one hand, n-gram model very space consuming since it holds a dictionary of every n-1 combination of words, while on the other hand feedforward NN is using embedding vector for word each is also consuming as well as more weight parameters (matrix for each layer, which we learn)._"
      ]
    },
    {
      "cell_type": "markdown",
      "id": "b0041502",
      "metadata": {
        "id": "b0041502"
      },
      "source": [
        "<!-- END QUESTION -->\n",
        "\n",
        "\n",
        "\n",
        "# The $n$-gram recurrent neural network"
      ]
    },
    {
      "cell_type": "markdown",
      "id": "b229a84a",
      "metadata": {
        "id": "b229a84a"
      },
      "source": [
        "One limitation of $n$-gram language models (both the original one and the neural one) is that they only model context up to a fixed number of words. However, natural language exhibits long-term dependencies, well beyond $n=5$. In this part of the lab, we consider an approach based on recurrent neural networks (RNN), which can consider variable amounts of context.\n",
        "\n",
        "Different from $n$-gram language modeling, RNN-based language models do not make the approximation that the probability of a word only depends on its previous $n-1$ words. That is, we use the unapproximated chain rule:\n",
        "\n",
        "$$\n",
        "\\Prob(w_1, w_2, \\ldots, w_N) = \\prod_{i=1}^N \\Prob (w_i \\given w_1, \\cdots, w_{i-1})\n",
        "$$\n",
        "\n",
        "and we again specify the conditional probabilities using a neural network:\n",
        "\n",
        "$$\n",
        "\\Pr (w_i \\given w_{\\color{red}1}, \\cdots, w_{i-1})= f({ w_{\\color{red}1}}, \\cdots, w_{i-1}),\n",
        "$$\n",
        "\n",
        "where we use an RNN to parameterize $f$. (Notice the change in the first index of the context, highlighted in red; we're using the whole history as context now, not just the last $n-1$ words.) \n",
        "\n",
        "The inputs to RNNs, like in the feedforward case, are embeddings of words, and we project the _final_ output state of the RNN to a vector of size $V$, followed by a softmax to normalize the probabilities."
      ]
    },
    {
      "cell_type": "markdown",
      "id": "140d5f15",
      "metadata": {
        "deletable": false,
        "editable": false,
        "id": "140d5f15"
      },
      "source": [
        "Implement the missing part of the `forward` function of an RNN language model below. This function takes the previous words as input, and returns the probabilities of generating the next word. The returned value should be a dictionary, with word types as keys and their respective probabilities as values.\n",
        "\n",
        "> Hint: You might find [torch.nn.RNN documentation](https://pytorch.org/docs/stable/generated/torch.nn.RNN.html) helpful. Make sure that you understand the input and output shapes.\n",
        "\n",
        "<!--\n",
        "BEGIN QUESTION\n",
        "name: rnn_forward\n",
        "-->"
      ]
    },
    {
      "cell_type": "code",
      "execution_count": 95,
      "id": "96e5424b",
      "metadata": {
        "id": "96e5424b"
      },
      "outputs": [],
      "source": [
        "class RNNLM(torch.nn.Module):\n",
        "  def __init__(self, text_field, embedding_size, hidden_size):\n",
        "    super().__init__()\n",
        "    self.text_field = text_field\n",
        "    vocab_size = len(self.text_field.vocab)\n",
        "    self.pad_index = self.text_field.vocab.stoi[self.text_field.pad_token]\n",
        "    \n",
        "    # Create modules\n",
        "    self.embed = torch.nn.Embedding(vocab_size, embedding_size)\n",
        "    self.rnn = torch.nn.RNN(input_size=embedding_size, hidden_size=hidden_size, num_layers=1)\n",
        "    self.hidden2output = torch.nn.Linear(hidden_size, vocab_size)\n",
        "  \n",
        "  def forward(self, context_words):\n",
        "    \"\"\"Computes the distribution over the next word given context `history_words`.\n",
        "    Arguments:\n",
        "      history_words: a list of word strings, could be an empty list when generating\n",
        "                     the first word.\n",
        "    Returns: \n",
        "      the distribution over the next word given the context, stored as a dictionary, \n",
        "      with word types as keys, and probability values as values. The probability of\n",
        "      generating an unknown word is stored in dictionary[\"<unk>\"]\".\"\"\"\n",
        "    self.eval()\n",
        "    context = self.text_field.process([context_words]).to(device) # seq len, 1\n",
        "    context_len = context.size(0)\n",
        "    \n",
        "    # For generating the first word, we feed in a special beginning-of-sentence symbol <pad>,\n",
        "    # which is also what we use for padding. In future labs we'll be using <bos>, but as long \n",
        "    # as training and evaluation use the same beginning-of-sentence symbol, it doesn't matter\n",
        "    # which particular symbol we use.\n",
        "    if context_len == 0: \n",
        "      context = context.new(1, 1).fill_(self.pad_index)\n",
        "      context_len = context.size(0)\n",
        "    \n",
        "    hidden = None\n",
        "    # TODO: finish feedforward and set logits\n",
        "    # Logits should be a tensor of size (1, vocab_size)\n",
        "    # Note that you should project the `output` from rnn, not the `hidden`\n",
        "    # using self.hidden2output\n",
        "    # The structure of the network is\n",
        "    #   embeddings -> the output of RNN at the last step -> hidden2output -> softmax\n",
        "    embed_layer = self.embed(context)\n",
        "    rnn_out,_ = self.rnn(embed_layer)\n",
        "    logits= self.hidden2output(rnn_out[-1])\n",
        "\n",
        "    # Normalize to get probabilities\n",
        "    probs = torch.softmax(logits, -1).view(-1) # vocab_size\n",
        "\n",
        "    # Match probabilities with actual word types\n",
        "    distribution = {}\n",
        "    for i, prob in enumerate(probs):\n",
        "      word = self.text_field.vocab.itos[i]\n",
        "      distribution[word] = prob.item()\n",
        "    return distribution"
      ]
    },
    {
      "cell_type": "markdown",
      "id": "47b9f35f",
      "metadata": {
        "id": "47b9f35f"
      },
      "source": [
        "Now, let's load the pretrained RNN language models for Hamilton and Madison. The model `rnn_lm_madison` was trained on documents authored by Madison, whereas `rnn_lm_hamilton` was trained on documents authored by Hamilton."
      ]
    },
    {
      "cell_type": "code",
      "execution_count": 96,
      "id": "df2eba8a",
      "metadata": {
        "id": "df2eba8a",
        "colab": {
          "base_uri": "https://localhost:8080/"
        },
        "outputId": "be24066e-ac26-459d-f9f7-a2a0db10ddb9"
      },
      "outputs": [
        {
          "output_type": "execute_result",
          "data": {
            "text/plain": [
              "<All keys matched successfully>"
            ]
          },
          "metadata": {},
          "execution_count": 96
        }
      ],
      "source": [
        "# Create and load RNN LM for Madison\n",
        "rnn_lm_madison = RNNLM(TEXT,\n",
        "               embedding_size=128, \n",
        "               hidden_size=128, \n",
        "               ).to(device)\n",
        "rnn_lm_madison.load_state_dict(torch.load('data/rnn_lm_m.pt', map_location=device))\n",
        "\n",
        "# Create and load feedforward LM for Hamilton\n",
        "rnn_lm_hamilton = RNNLM(TEXT,\n",
        "               embedding_size=128, \n",
        "               hidden_size=128, \n",
        "               ).to(device)\n",
        "rnn_lm_hamilton.load_state_dict(torch.load('data/rnn_lm_h.pt', map_location=device))"
      ]
    },
    {
      "cell_type": "markdown",
      "id": "c521cf4d",
      "metadata": {
        "id": "c521cf4d"
      },
      "source": [
        "## Sampling from an RNN model"
      ]
    },
    {
      "cell_type": "markdown",
      "id": "6ffc5a5f",
      "metadata": {
        "id": "6ffc5a5f"
      },
      "source": [
        "Let's try to sample from our models. The samples might be bad since the dataset is small."
      ]
    },
    {
      "cell_type": "code",
      "execution_count": 97,
      "id": "3d6d45f7",
      "metadata": {
        "id": "3d6d45f7",
        "colab": {
          "base_uri": "https://localhost:8080/"
        },
        "outputId": "2d63c728-ed64-4e40-9e66-b231a1722a11"
      },
      "outputs": [
        {
          "output_type": "stream",
          "name": "stdout",
          "text": [
            "constitution proposed by the united states , which will holding that a representative class , therefore , than the business could be , more weight , not more much <unk> in his liberty and interests , are too little known , on <unk> . it is <unk> on by than any thing of this body , a discretion of course , will be standard , if it clearly sufficiently less reflection from the state governments of the former , and it be held purposes and that the people in the same congress themselves , and there might its human affairs , according to <unk> \n",
            "\n",
            "constitution proposed by the united states , which will have no beneficial prove as <unk> the exigencies of the confederacy , and , in various act increase in the bodies of independent jealousy in the forms of this kind has a long , and it is , that as often as well it would be certainty , can proposition , are under authorize their <unk> . if it were marked retained in the state governments than to encroach . for relations <unk> innovations the less proposed other government , that there are this boundary , to stated temptation he admonish for a direct <unk>\n"
          ]
        }
      ],
      "source": [
        "print(' '.join(sample_sequence(rnn_lm_madison, ('constitution', 'proposed', 'by', 'the'))), \"\\n\")\n",
        "print(' '.join(sample_sequence(rnn_lm_hamilton, ('constitution', 'proposed', 'by', 'the'))))"
      ]
    },
    {
      "cell_type": "code",
      "execution_count": 98,
      "id": "45185cc1",
      "metadata": {
        "deletable": false,
        "editable": false,
        "id": "45185cc1",
        "colab": {
          "base_uri": "https://localhost:8080/",
          "height": 46
        },
        "outputId": "d700edda-7cb7-420b-ed44-279de3dd4db1"
      },
      "outputs": [
        {
          "output_type": "execute_result",
          "data": {
            "text/plain": [
              "\n",
              "    All tests passed!\n",
              "    "
            ],
            "text/html": [
              "\n",
              "    \n",
              "    \n",
              "        <p>All tests passed!</p>\n",
              "    \n",
              "    "
            ]
          },
          "metadata": {},
          "execution_count": 98
        }
      ],
      "source": [
        "grader.check(\"rnn_sample\")"
      ]
    },
    {
      "cell_type": "markdown",
      "id": "9f555302",
      "metadata": {
        "id": "9f555302"
      },
      "source": [
        "## Evaluating text according to an RNN model"
      ]
    },
    {
      "cell_type": "markdown",
      "id": "5218931f",
      "metadata": {
        "id": "5218931f"
      },
      "source": [
        "Again, let's evaluate the models on a document from Hamilton and an artitle from Madison."
      ]
    },
    {
      "cell_type": "code",
      "execution_count": 99,
      "id": "6558ece3",
      "metadata": {
        "id": "6558ece3"
      },
      "outputs": [],
      "source": [
        "document_madison = validation_madison[0]['tokens']\n",
        "document_hamilton = validation_hamilton[0]['tokens']"
      ]
    },
    {
      "cell_type": "markdown",
      "id": "648e681e",
      "metadata": {
        "deletable": false,
        "editable": false,
        "id": "648e681e"
      },
      "source": [
        "Calculate the perplexity of each RNN model on each document.\n",
        "\n",
        "<!--\n",
        "BEGIN QUESTION\n",
        "name: rnn_ppl\n",
        "-->"
      ]
    },
    {
      "cell_type": "code",
      "execution_count": 100,
      "id": "2bd0ead7",
      "metadata": {
        "id": "2bd0ead7"
      },
      "outputs": [],
      "source": [
        "# TODO\n",
        "rnn_ppl_madison_model_madison_document = perplexity(document_madison,rnn_lm_madison)\n",
        "rnn_ppl_hamilton_model_madison_document = perplexity(document_madison,rnn_lm_hamilton)\n",
        "rnn_ppl_madison_model_hamilton_document = perplexity(document_hamilton,rnn_lm_madison)\n",
        "rnn_ppl_hamilton_model_hamilton_document = perplexity(document_hamilton,rnn_lm_hamilton)"
      ]
    },
    {
      "cell_type": "code",
      "execution_count": 101,
      "id": "676e0282",
      "metadata": {
        "deletable": false,
        "editable": false,
        "id": "676e0282",
        "colab": {
          "base_uri": "https://localhost:8080/",
          "height": 46
        },
        "outputId": "93a9c1a1-a9fa-4a58-c538-906c864c60ab"
      },
      "outputs": [
        {
          "output_type": "execute_result",
          "data": {
            "text/plain": [
              "\n",
              "    All tests passed!\n",
              "    "
            ],
            "text/html": [
              "\n",
              "    \n",
              "    \n",
              "        <p>All tests passed!</p>\n",
              "    \n",
              "    "
            ]
          },
          "metadata": {},
          "execution_count": 101
        }
      ],
      "source": [
        "grader.check(\"rnn_ppl\")"
      ]
    },
    {
      "cell_type": "markdown",
      "id": "b03f10c1",
      "metadata": {
        "id": "b03f10c1"
      },
      "source": [
        "Now, let's compare those perplexity values."
      ]
    },
    {
      "cell_type": "code",
      "execution_count": 102,
      "id": "d406c1c2",
      "metadata": {
        "id": "d406c1c2",
        "colab": {
          "base_uri": "https://localhost:8080/"
        },
        "outputId": "7a72e218-79d4-4344-ac8e-9dd5109a0634"
      },
      "outputs": [
        {
          "output_type": "stream",
          "name": "stdout",
          "text": [
            "Author      Madison Model        Hamilton Model\n",
            "Madison         86.4                 99.0\n",
            "Hamilton        93.9                 77.9\n"
          ]
        }
      ],
      "source": [
        "print (f\"Author      Madison Model        Hamilton Model\\n\"\n",
        "       f\"Madison        {rnn_ppl_madison_model_madison_document:5.1f}                {rnn_ppl_hamilton_model_madison_document:5.1f}\\n\"\n",
        "       f\"Hamilton       {rnn_ppl_madison_model_hamilton_document:5.1f}                {rnn_ppl_hamilton_model_hamilton_document:5.1f}\")"
      ]
    },
    {
      "cell_type": "markdown",
      "id": "9536d478",
      "metadata": {
        "deletable": false,
        "editable": false,
        "id": "9536d478"
      },
      "source": [
        "<!-- BEGIN QUESTION -->\n",
        "\n",
        "**Question:** Which type of model is better? The RNN language models or the feedforward language models? What are the possible reasons?\n",
        "\n",
        "<!--\n",
        "BEGIN QUESTION\n",
        "name: open_response_ffnn_vs_rnn\n",
        "manual: true\n",
        "-->"
      ]
    },
    {
      "cell_type": "markdown",
      "id": "be59f5bd",
      "metadata": {
        "id": "be59f5bd"
      },
      "source": [
        "_As we can see, the RNN model achieve better results (lower perplexity). The possible reason for that is the RNN model takes the whole history context, instead of arbitrary n-1 previous tokens._"
      ]
    },
    {
      "cell_type": "markdown",
      "id": "2cea693a",
      "metadata": {
        "id": "2cea693a"
      },
      "source": [
        "<!-- END QUESTION -->\n",
        "\n",
        "\n",
        "\n",
        "# Authorship attribution using language models"
      ]
    },
    {
      "cell_type": "markdown",
      "id": "e3514d81",
      "metadata": {
        "id": "e3514d81"
      },
      "source": [
        "In lab 1-3, you saw how to use a Naive Bayes model to determine authorship:\n",
        "\n",
        "\\begin{align*}\n",
        "\\argmax{i} \\Prob(c_i \\given \\vect{x}) \n",
        "&= \\argmax{i} \\frac{\\Prob(\\vect{x} \\given c_i) \\cdot \\Prob(c_i)}{\\Prob(\\vect{x})} \\\\\n",
        "&= \\argmax{i} \\Prob(\\vect{x} \\given c_i) \\cdot \\Prob(c_i)\n",
        "\\end{align*}\n",
        "\n",
        "In this lab, the language models trained on Madison documents can be used to calculate $\\Pr(\\vect{x} \\given \\text{Madison})$, and the language models trained on Hamilton documents can be used to calculate $\\Pr(\\vect{x} \\given \\text{Hamilton})$. Therefore, they can also be used for authorship attribution.\n",
        "\n",
        "Recall that for numerical stability issues, we operate in log space (with base 2). With a little abuse of notation, let's denote the _log posterior_ as\n",
        "\n",
        "$$\n",
        "\\log \\Prob(\\vect{x} \\given c_i) + \\log \\Prob(c_i),\n",
        "$$\n",
        "where the priors $\\Prob(c_i)$ from lab 1-3 are given below."
      ]
    },
    {
      "cell_type": "code",
      "execution_count": 103,
      "id": "bb86c540",
      "metadata": {
        "id": "bb86c540"
      },
      "outputs": [],
      "source": [
        "prior_madison = 15 / (15+51)\n",
        "prior_hamilton = 51 / (15+51)"
      ]
    },
    {
      "cell_type": "markdown",
      "id": "c203c87d",
      "metadata": {
        "id": "c203c87d"
      },
      "source": [
        "Let's consider a document from the test set."
      ]
    },
    {
      "cell_type": "code",
      "execution_count": 104,
      "id": "0f6a9982",
      "metadata": {
        "id": "0f6a9982"
      },
      "outputs": [],
      "source": [
        "document = testing[0]['tokens']"
      ]
    },
    {
      "cell_type": "markdown",
      "id": "00bc2065",
      "metadata": {
        "deletable": false,
        "editable": false,
        "id": "00bc2065"
      },
      "source": [
        "Use the feedforward neural language models to calculate the log posteriors for `document`.\n",
        "\n",
        "<!--\n",
        "BEGIN QUESTION\n",
        "name: ffnn_author\n",
        "-->"
      ]
    },
    {
      "cell_type": "code",
      "execution_count": 105,
      "id": "6760c58e",
      "metadata": {
        "id": "6760c58e"
      },
      "outputs": [],
      "source": [
        "#TODO - calculate the log posteriors for Madison and Hamilton using feedforward LMs\n",
        "log_posterior_madison_ffnn = -neglogprob(document,ffnn_lm_madison)+math.log2(prior_madison)\n",
        "log_posterior_hamilton_ffnn = -neglogprob(document,ffnn_lm_hamilton)+math.log2(prior_hamilton)\n",
        "#TODO - determine authorship\n",
        "author_ffnn = (\"Hamilton\" if log_posterior_madison_ffnn<log_posterior_hamilton_ffnn else \"Madison\")"
      ]
    },
    {
      "cell_type": "code",
      "execution_count": 106,
      "id": "07f0ed98",
      "metadata": {
        "deletable": false,
        "editable": false,
        "id": "07f0ed98",
        "colab": {
          "base_uri": "https://localhost:8080/",
          "height": 46
        },
        "outputId": "f0f34d9e-7a28-4f80-86ef-af9291244311"
      },
      "outputs": [
        {
          "output_type": "execute_result",
          "data": {
            "text/plain": [
              "\n",
              "    All tests passed!\n",
              "    "
            ],
            "text/html": [
              "\n",
              "    \n",
              "    \n",
              "        <p>All tests passed!</p>\n",
              "    \n",
              "    "
            ]
          },
          "metadata": {},
          "execution_count": 106
        }
      ],
      "source": [
        "grader.check(\"ffnn_author\")"
      ]
    },
    {
      "cell_type": "code",
      "execution_count": 107,
      "id": "9f4f1d74",
      "metadata": {
        "id": "9f4f1d74",
        "colab": {
          "base_uri": "https://localhost:8080/"
        },
        "outputId": "6eff6f34-f29f-492f-82d1-ee58dea1fd69"
      },
      "outputs": [
        {
          "output_type": "stream",
          "name": "stdout",
          "text": [
            "Hamilton\n"
          ]
        }
      ],
      "source": [
        "print (author_ffnn)"
      ]
    },
    {
      "cell_type": "markdown",
      "id": "13b5d235",
      "metadata": {
        "deletable": false,
        "editable": false,
        "id": "13b5d235"
      },
      "source": [
        "Use the RNN neural language models to calculate the log posteriors for `document`.\n",
        "\n",
        "<!--\n",
        "BEGIN QUESTION\n",
        "name: rnn_author\n",
        "-->"
      ]
    },
    {
      "cell_type": "code",
      "execution_count": 108,
      "id": "0388a2bc",
      "metadata": {
        "id": "0388a2bc"
      },
      "outputs": [],
      "source": [
        "#TODO - calculate the log posteriors for Madison and Hamilton using RNN LMs\n",
        "log_posterior_madison_rnn = -neglogprob(document,rnn_lm_madison)+math.log2(prior_madison)\n",
        "log_posterior_hamilton_rnn = -neglogprob(document,rnn_lm_hamilton)+math.log2(prior_hamilton)\n",
        "#TODO - determine authorship\n",
        "author_rnn = (\"Hamilton\" if log_posterior_hamilton_rnn>log_posterior_madison_rnn else \"Madison\")"
      ]
    },
    {
      "cell_type": "code",
      "execution_count": 109,
      "id": "2ae620ba",
      "metadata": {
        "deletable": false,
        "editable": false,
        "id": "2ae620ba",
        "colab": {
          "base_uri": "https://localhost:8080/",
          "height": 46
        },
        "outputId": "441f0fe0-cc65-40c7-c951-990c541b90ea"
      },
      "outputs": [
        {
          "output_type": "execute_result",
          "data": {
            "text/plain": [
              "\n",
              "    All tests passed!\n",
              "    "
            ],
            "text/html": [
              "\n",
              "    \n",
              "    \n",
              "        <p>All tests passed!</p>\n",
              "    \n",
              "    "
            ]
          },
          "metadata": {},
          "execution_count": 109
        }
      ],
      "source": [
        "grader.check(\"rnn_author\")"
      ]
    },
    {
      "cell_type": "code",
      "execution_count": 110,
      "id": "afff12d9",
      "metadata": {
        "id": "afff12d9",
        "colab": {
          "base_uri": "https://localhost:8080/"
        },
        "outputId": "bdeac905-1344-4943-e550-bcaa5586c08e"
      },
      "outputs": [
        {
          "output_type": "stream",
          "name": "stdout",
          "text": [
            "Madison\n"
          ]
        }
      ],
      "source": [
        "print (author_rnn)"
      ]
    },
    {
      "cell_type": "markdown",
      "id": "dd620f75",
      "metadata": {
        "deletable": false,
        "editable": false,
        "id": "dd620f75"
      },
      "source": [
        "Now, we can use these models to determine authorship on the entire test set. Define the `ffnn_classify` and `rnn_classify` functions, which take a sequence of `tokens` and return either `'Hamilton'` or `'Madison'` depending on which of the two has a higher probability of authoring the text.\n",
        "\n",
        "<!--\n",
        "BEGIN QUESTION\n",
        "name: authorship\n",
        "-->"
      ]
    },
    {
      "cell_type": "code",
      "execution_count": 111,
      "id": "4b18f790",
      "metadata": {
        "id": "4b18f790",
        "colab": {
          "base_uri": "https://localhost:8080/",
          "height": 250,
          "referenced_widgets": [
            "79aeb6dc03504c0badb3ed6d0ed252e0",
            "4b6b2e7ae61640faa9fda89af8f8f1d4",
            "d5a3bfdb4787477b8d39d72e0b40890d",
            "3f15741067af4a40a4bc46475486ad08",
            "74fa24e01bf141688f7e529f705b5b25",
            "846c1be8d4184c37b4e105ed6902f9ab",
            "66cb445eda44457cb495cbdba8b38db1",
            "5ed66aa94e7a4b9cbefe81a8a336b4a2",
            "430d714fa6b24f3d84ff436efdde52d7",
            "ac849d74eb2e468f9766433205620f8c",
            "fd89f88a24b34f659b68370c9fe133c5"
          ]
        },
        "outputId": "241537f0-8a8f-4683-fbd4-d7891cd425a1"
      },
      "outputs": [
        {
          "output_type": "display_data",
          "data": {
            "text/plain": [
              "  0%|          | 0/11 [00:00<?, ?it/s]"
            ],
            "application/vnd.jupyter.widget-view+json": {
              "version_major": 2,
              "version_minor": 0,
              "model_id": "79aeb6dc03504c0badb3ed6d0ed252e0"
            }
          },
          "metadata": {}
        },
        {
          "output_type": "stream",
          "name": "stdout",
          "text": [
            "49 Hamilton Madison \n",
            "50 Madison  Madison \n",
            "51 Madison  Madison \n",
            "52 Madison  Madison \n",
            "53 Madison  Madison \n",
            "54 Madison  Madison \n",
            "55 Madison  Madison \n",
            "56 Madison  Madison \n",
            "57 Madison  Madison \n",
            "62 Madison  Madison \n",
            "63 Madison  Madison \n"
          ]
        }
      ],
      "source": [
        "def ffnn_classify(tokens):\n",
        "    \"\"\"Returns the predicted author according to the FFNN model.\n",
        "    Arguments:\n",
        "      tokens: a list of tokens.\n",
        "    Returns: 'Hamilton' or 'Madison'.\"\"\"\n",
        "    #TODO - implement this method\n",
        "    log_posterior_madison_ffnn = -neglogprob(tokens,ffnn_lm_madison)+math.log2(prior_madison)\n",
        "    log_posterior_hamilton_ffnn = -neglogprob(tokens,ffnn_lm_hamilton)+math.log2(prior_hamilton)\n",
        "    author_ffnn = ('Hamilton' if log_posterior_hamilton_ffnn>log_posterior_madison_ffnn else 'Madison')\n",
        "    return author_ffnn\n",
        "\n",
        "def rnn_classify(tokens):\n",
        "    \"\"\"Returns the predicted author according to the RNN model.\n",
        "    Arguments:\n",
        "      tokens: a list of tokens.\n",
        "    Returns: 'Hamilton' or 'Madison'.\"\"\"\n",
        "    #TODO - implement this method\n",
        "    log_posterior_madison_rnn = -neglogprob(tokens,rnn_lm_madison)+math.log2(prior_madison)\n",
        "    log_posterior_hamilton_rnn = -neglogprob(tokens,rnn_lm_hamilton)+math.log2(prior_hamilton)\n",
        "    author_rnn = ('Hamilton' if log_posterior_hamilton_rnn>log_posterior_madison_rnn else 'Madison')\n",
        "    return author_rnn\n",
        "\n",
        "for ex in tqdm(testing):\n",
        "    print(f\"{ex['number']:2} {ffnn_classify(ex['tokens']):8} {rnn_classify(ex['tokens']):8}\")"
      ]
    },
    {
      "cell_type": "code",
      "execution_count": 112,
      "id": "e4e7a54c",
      "metadata": {
        "deletable": false,
        "editable": false,
        "id": "e4e7a54c",
        "colab": {
          "base_uri": "https://localhost:8080/",
          "height": 46
        },
        "outputId": "cd8dfd69-06cd-48ca-f131-edeacfc07e44"
      },
      "outputs": [
        {
          "output_type": "execute_result",
          "data": {
            "text/plain": [
              "\n",
              "    All tests passed!\n",
              "    "
            ],
            "text/html": [
              "\n",
              "    \n",
              "    \n",
              "        <p>All tests passed!</p>\n",
              "    \n",
              "    "
            ]
          },
          "metadata": {},
          "execution_count": 112
        }
      ],
      "source": [
        "grader.check(\"authorship\")"
      ]
    },
    {
      "cell_type": "markdown",
      "id": "da92e537",
      "metadata": {
        "deletable": false,
        "editable": false,
        "id": "da92e537"
      },
      "source": [
        "<!-- BEGIN QUESTION -->\n",
        "\n",
        "**Question:** What would happen if the dataset is imbalanced, that is, if we have much more training data for one author than the other?\n",
        "\n",
        ">Hint: With sufficient data, the model usually gets lower perplexity than with an insufficient amount of data.\n",
        "\n",
        "<!--\n",
        "BEGIN QUESTION\n",
        "name: open_response_imbalanced\n",
        "manual: true\n",
        "-->"
      ]
    },
    {
      "cell_type": "markdown",
      "id": "4c2f2914",
      "metadata": {
        "id": "4c2f2914"
      },
      "source": [
        "_First, if we have much more training data for one author than the other, for example \"Madison\", then its' prior will be significant higher than the other author with less training data. Second, the likelihood argument is computed for each author by the model corresopnding to that author. When we'll meet an instance of the author with less data, the model of the more common \"will detect\" that instance doesn't belong, while the model of the right author will have hard time detecting it is belong, since it didn't see enough examples. Thus, both of the models will yeild poor likelihood for the less common author. For conclusion, we'll tend to predict the more common author._"
      ]
    },
    {
      "cell_type": "markdown",
      "id": "396c59b2",
      "metadata": {
        "deletable": false,
        "editable": false,
        "id": "396c59b2"
      },
      "source": [
        "<!-- END QUESTION -->\n",
        "\n",
        "<!-- BEGIN QUESTION -->\n",
        "\n",
        "# Lab debrief\n",
        "\n",
        "**Question:** We're interested in any thoughts your group has about this lab so that we can improve this lab for later years, and to inform later labs for this year. Please list any issues that arose or comments you have to improve the lab. Useful things to comment on include the following: \n",
        "\n",
        "* Was the lab too long or too short?\n",
        "* Were the readings appropriate for the lab? \n",
        "* Was it clear (at least after you completed the lab) what the points of the exercises were? \n",
        "* Are there additions or changes you think would make the lab better?\n",
        "\n",
        "<!--\n",
        "BEGIN QUESTION\n",
        "name: open_response_debrief\n",
        "manual: true\n",
        "-->"
      ]
    },
    {
      "cell_type": "markdown",
      "id": "4ca65305",
      "metadata": {
        "id": "4ca65305"
      },
      "source": [
        "_Type your answer here, replacing this text._"
      ]
    },
    {
      "cell_type": "markdown",
      "id": "487c6064",
      "metadata": {
        "id": "487c6064"
      },
      "source": [
        "<!-- END QUESTION -->\n",
        "_The lab wasn't too long, and the reading was appropriate. The points was were clear as well._\n",
        "\n",
        "\n",
        "# End of Lab 2-3"
      ]
    },
    {
      "cell_type": "markdown",
      "id": "9a04b3cb",
      "metadata": {
        "deletable": false,
        "editable": false,
        "id": "9a04b3cb"
      },
      "source": [
        "---\n",
        "\n",
        "To double-check your work, the cell below will rerun all of the autograder tests."
      ]
    },
    {
      "cell_type": "code",
      "execution_count": 113,
      "id": "ca2321b3",
      "metadata": {
        "deletable": false,
        "editable": false,
        "id": "ca2321b3",
        "colab": {
          "base_uri": "https://localhost:8080/",
          "height": 397
        },
        "outputId": "cea0febd-6d7f-4103-a89e-a4895a68ae15"
      },
      "outputs": [
        {
          "output_type": "execute_result",
          "data": {
            "text/plain": [
              "authorship:\n",
              "\n",
              "    All tests passed!\n",
              "    \n",
              "\n",
              "ffnn_author:\n",
              "\n",
              "    All tests passed!\n",
              "    \n",
              "\n",
              "ffnn_neglogprob:\n",
              "\n",
              "    All tests passed!\n",
              "    \n",
              "\n",
              "ffnn_ppl:\n",
              "\n",
              "    All tests passed!\n",
              "    \n",
              "\n",
              "ffnn_sample:\n",
              "\n",
              "    All tests passed!\n",
              "    \n",
              "\n",
              "rnn_author:\n",
              "\n",
              "    All tests passed!\n",
              "    \n",
              "\n",
              "rnn_ppl:\n",
              "\n",
              "    All tests passed!\n",
              "    \n",
              "\n",
              "rnn_sample:\n",
              "\n",
              "    All tests passed!\n",
              "    \n"
            ],
            "text/html": [
              "<p><strong>authorship:</strong></p>\n",
              "\n",
              "    \n",
              "    \n",
              "        <p>All tests passed!</p>\n",
              "    \n",
              "    \n",
              "\n",
              "<p><strong>ffnn_author:</strong></p>\n",
              "\n",
              "    \n",
              "    \n",
              "        <p>All tests passed!</p>\n",
              "    \n",
              "    \n",
              "\n",
              "<p><strong>ffnn_neglogprob:</strong></p>\n",
              "\n",
              "    \n",
              "    \n",
              "        <p>All tests passed!</p>\n",
              "    \n",
              "    \n",
              "\n",
              "<p><strong>ffnn_ppl:</strong></p>\n",
              "\n",
              "    \n",
              "    \n",
              "        <p>All tests passed!</p>\n",
              "    \n",
              "    \n",
              "\n",
              "<p><strong>ffnn_sample:</strong></p>\n",
              "\n",
              "    \n",
              "    \n",
              "        <p>All tests passed!</p>\n",
              "    \n",
              "    \n",
              "\n",
              "<p><strong>rnn_author:</strong></p>\n",
              "\n",
              "    \n",
              "    \n",
              "        <p>All tests passed!</p>\n",
              "    \n",
              "    \n",
              "\n",
              "<p><strong>rnn_ppl:</strong></p>\n",
              "\n",
              "    \n",
              "    \n",
              "        <p>All tests passed!</p>\n",
              "    \n",
              "    \n",
              "\n",
              "<p><strong>rnn_sample:</strong></p>\n",
              "\n",
              "    \n",
              "    \n",
              "        <p>All tests passed!</p>\n",
              "    \n",
              "    \n",
              "\n"
            ]
          },
          "metadata": {},
          "execution_count": 113
        }
      ],
      "source": [
        "grader.check_all()"
      ]
    }
  ],
  "metadata": {
    "colab": {
      "collapsed_sections": [],
      "name": "NLP lab2-3.ipynb",
      "provenance": [],
      "toc_visible": true
    },
    "kernelspec": {
      "display_name": "Python 3 (ipykernel)",
      "language": "python",
      "name": "python3"
    },
    "language_info": {
      "codemirror_mode": {
        "name": "ipython",
        "version": 3
      },
      "file_extension": ".py",
      "mimetype": "text/x-python",
      "name": "python",
      "nbconvert_exporter": "python",
      "pygments_lexer": "ipython3",
      "version": "3.8.10"
    },
    "title": "CS236299 Lab 2-3: Language modeling with neural networks",
    "widgets": {
      "application/vnd.jupyter.widget-state+json": {
        "79aeb6dc03504c0badb3ed6d0ed252e0": {
          "model_module": "@jupyter-widgets/controls",
          "model_name": "HBoxModel",
          "model_module_version": "1.5.0",
          "state": {
            "_dom_classes": [],
            "_model_module": "@jupyter-widgets/controls",
            "_model_module_version": "1.5.0",
            "_model_name": "HBoxModel",
            "_view_count": null,
            "_view_module": "@jupyter-widgets/controls",
            "_view_module_version": "1.5.0",
            "_view_name": "HBoxView",
            "box_style": "",
            "children": [
              "IPY_MODEL_4b6b2e7ae61640faa9fda89af8f8f1d4",
              "IPY_MODEL_d5a3bfdb4787477b8d39d72e0b40890d",
              "IPY_MODEL_3f15741067af4a40a4bc46475486ad08"
            ],
            "layout": "IPY_MODEL_74fa24e01bf141688f7e529f705b5b25"
          }
        },
        "4b6b2e7ae61640faa9fda89af8f8f1d4": {
          "model_module": "@jupyter-widgets/controls",
          "model_name": "HTMLModel",
          "model_module_version": "1.5.0",
          "state": {
            "_dom_classes": [],
            "_model_module": "@jupyter-widgets/controls",
            "_model_module_version": "1.5.0",
            "_model_name": "HTMLModel",
            "_view_count": null,
            "_view_module": "@jupyter-widgets/controls",
            "_view_module_version": "1.5.0",
            "_view_name": "HTMLView",
            "description": "",
            "description_tooltip": null,
            "layout": "IPY_MODEL_846c1be8d4184c37b4e105ed6902f9ab",
            "placeholder": "​",
            "style": "IPY_MODEL_66cb445eda44457cb495cbdba8b38db1",
            "value": "100%"
          }
        },
        "d5a3bfdb4787477b8d39d72e0b40890d": {
          "model_module": "@jupyter-widgets/controls",
          "model_name": "FloatProgressModel",
          "model_module_version": "1.5.0",
          "state": {
            "_dom_classes": [],
            "_model_module": "@jupyter-widgets/controls",
            "_model_module_version": "1.5.0",
            "_model_name": "FloatProgressModel",
            "_view_count": null,
            "_view_module": "@jupyter-widgets/controls",
            "_view_module_version": "1.5.0",
            "_view_name": "ProgressView",
            "bar_style": "success",
            "description": "",
            "description_tooltip": null,
            "layout": "IPY_MODEL_5ed66aa94e7a4b9cbefe81a8a336b4a2",
            "max": 11,
            "min": 0,
            "orientation": "horizontal",
            "style": "IPY_MODEL_430d714fa6b24f3d84ff436efdde52d7",
            "value": 11
          }
        },
        "3f15741067af4a40a4bc46475486ad08": {
          "model_module": "@jupyter-widgets/controls",
          "model_name": "HTMLModel",
          "model_module_version": "1.5.0",
          "state": {
            "_dom_classes": [],
            "_model_module": "@jupyter-widgets/controls",
            "_model_module_version": "1.5.0",
            "_model_name": "HTMLModel",
            "_view_count": null,
            "_view_module": "@jupyter-widgets/controls",
            "_view_module_version": "1.5.0",
            "_view_name": "HTMLView",
            "description": "",
            "description_tooltip": null,
            "layout": "IPY_MODEL_ac849d74eb2e468f9766433205620f8c",
            "placeholder": "​",
            "style": "IPY_MODEL_fd89f88a24b34f659b68370c9fe133c5",
            "value": " 11/11 [01:27&lt;00:00,  7.88s/it]"
          }
        },
        "74fa24e01bf141688f7e529f705b5b25": {
          "model_module": "@jupyter-widgets/base",
          "model_name": "LayoutModel",
          "model_module_version": "1.2.0",
          "state": {
            "_model_module": "@jupyter-widgets/base",
            "_model_module_version": "1.2.0",
            "_model_name": "LayoutModel",
            "_view_count": null,
            "_view_module": "@jupyter-widgets/base",
            "_view_module_version": "1.2.0",
            "_view_name": "LayoutView",
            "align_content": null,
            "align_items": null,
            "align_self": null,
            "border": null,
            "bottom": null,
            "display": null,
            "flex": null,
            "flex_flow": null,
            "grid_area": null,
            "grid_auto_columns": null,
            "grid_auto_flow": null,
            "grid_auto_rows": null,
            "grid_column": null,
            "grid_gap": null,
            "grid_row": null,
            "grid_template_areas": null,
            "grid_template_columns": null,
            "grid_template_rows": null,
            "height": null,
            "justify_content": null,
            "justify_items": null,
            "left": null,
            "margin": null,
            "max_height": null,
            "max_width": null,
            "min_height": null,
            "min_width": null,
            "object_fit": null,
            "object_position": null,
            "order": null,
            "overflow": null,
            "overflow_x": null,
            "overflow_y": null,
            "padding": null,
            "right": null,
            "top": null,
            "visibility": null,
            "width": null
          }
        },
        "846c1be8d4184c37b4e105ed6902f9ab": {
          "model_module": "@jupyter-widgets/base",
          "model_name": "LayoutModel",
          "model_module_version": "1.2.0",
          "state": {
            "_model_module": "@jupyter-widgets/base",
            "_model_module_version": "1.2.0",
            "_model_name": "LayoutModel",
            "_view_count": null,
            "_view_module": "@jupyter-widgets/base",
            "_view_module_version": "1.2.0",
            "_view_name": "LayoutView",
            "align_content": null,
            "align_items": null,
            "align_self": null,
            "border": null,
            "bottom": null,
            "display": null,
            "flex": null,
            "flex_flow": null,
            "grid_area": null,
            "grid_auto_columns": null,
            "grid_auto_flow": null,
            "grid_auto_rows": null,
            "grid_column": null,
            "grid_gap": null,
            "grid_row": null,
            "grid_template_areas": null,
            "grid_template_columns": null,
            "grid_template_rows": null,
            "height": null,
            "justify_content": null,
            "justify_items": null,
            "left": null,
            "margin": null,
            "max_height": null,
            "max_width": null,
            "min_height": null,
            "min_width": null,
            "object_fit": null,
            "object_position": null,
            "order": null,
            "overflow": null,
            "overflow_x": null,
            "overflow_y": null,
            "padding": null,
            "right": null,
            "top": null,
            "visibility": null,
            "width": null
          }
        },
        "66cb445eda44457cb495cbdba8b38db1": {
          "model_module": "@jupyter-widgets/controls",
          "model_name": "DescriptionStyleModel",
          "model_module_version": "1.5.0",
          "state": {
            "_model_module": "@jupyter-widgets/controls",
            "_model_module_version": "1.5.0",
            "_model_name": "DescriptionStyleModel",
            "_view_count": null,
            "_view_module": "@jupyter-widgets/base",
            "_view_module_version": "1.2.0",
            "_view_name": "StyleView",
            "description_width": ""
          }
        },
        "5ed66aa94e7a4b9cbefe81a8a336b4a2": {
          "model_module": "@jupyter-widgets/base",
          "model_name": "LayoutModel",
          "model_module_version": "1.2.0",
          "state": {
            "_model_module": "@jupyter-widgets/base",
            "_model_module_version": "1.2.0",
            "_model_name": "LayoutModel",
            "_view_count": null,
            "_view_module": "@jupyter-widgets/base",
            "_view_module_version": "1.2.0",
            "_view_name": "LayoutView",
            "align_content": null,
            "align_items": null,
            "align_self": null,
            "border": null,
            "bottom": null,
            "display": null,
            "flex": null,
            "flex_flow": null,
            "grid_area": null,
            "grid_auto_columns": null,
            "grid_auto_flow": null,
            "grid_auto_rows": null,
            "grid_column": null,
            "grid_gap": null,
            "grid_row": null,
            "grid_template_areas": null,
            "grid_template_columns": null,
            "grid_template_rows": null,
            "height": null,
            "justify_content": null,
            "justify_items": null,
            "left": null,
            "margin": null,
            "max_height": null,
            "max_width": null,
            "min_height": null,
            "min_width": null,
            "object_fit": null,
            "object_position": null,
            "order": null,
            "overflow": null,
            "overflow_x": null,
            "overflow_y": null,
            "padding": null,
            "right": null,
            "top": null,
            "visibility": null,
            "width": null
          }
        },
        "430d714fa6b24f3d84ff436efdde52d7": {
          "model_module": "@jupyter-widgets/controls",
          "model_name": "ProgressStyleModel",
          "model_module_version": "1.5.0",
          "state": {
            "_model_module": "@jupyter-widgets/controls",
            "_model_module_version": "1.5.0",
            "_model_name": "ProgressStyleModel",
            "_view_count": null,
            "_view_module": "@jupyter-widgets/base",
            "_view_module_version": "1.2.0",
            "_view_name": "StyleView",
            "bar_color": null,
            "description_width": ""
          }
        },
        "ac849d74eb2e468f9766433205620f8c": {
          "model_module": "@jupyter-widgets/base",
          "model_name": "LayoutModel",
          "model_module_version": "1.2.0",
          "state": {
            "_model_module": "@jupyter-widgets/base",
            "_model_module_version": "1.2.0",
            "_model_name": "LayoutModel",
            "_view_count": null,
            "_view_module": "@jupyter-widgets/base",
            "_view_module_version": "1.2.0",
            "_view_name": "LayoutView",
            "align_content": null,
            "align_items": null,
            "align_self": null,
            "border": null,
            "bottom": null,
            "display": null,
            "flex": null,
            "flex_flow": null,
            "grid_area": null,
            "grid_auto_columns": null,
            "grid_auto_flow": null,
            "grid_auto_rows": null,
            "grid_column": null,
            "grid_gap": null,
            "grid_row": null,
            "grid_template_areas": null,
            "grid_template_columns": null,
            "grid_template_rows": null,
            "height": null,
            "justify_content": null,
            "justify_items": null,
            "left": null,
            "margin": null,
            "max_height": null,
            "max_width": null,
            "min_height": null,
            "min_width": null,
            "object_fit": null,
            "object_position": null,
            "order": null,
            "overflow": null,
            "overflow_x": null,
            "overflow_y": null,
            "padding": null,
            "right": null,
            "top": null,
            "visibility": null,
            "width": null
          }
        },
        "fd89f88a24b34f659b68370c9fe133c5": {
          "model_module": "@jupyter-widgets/controls",
          "model_name": "DescriptionStyleModel",
          "model_module_version": "1.5.0",
          "state": {
            "_model_module": "@jupyter-widgets/controls",
            "_model_module_version": "1.5.0",
            "_model_name": "DescriptionStyleModel",
            "_view_count": null,
            "_view_module": "@jupyter-widgets/base",
            "_view_module_version": "1.2.0",
            "_view_name": "StyleView",
            "description_width": ""
          }
        }
      }
    }
  },
  "nbformat": 4,
  "nbformat_minor": 5
}