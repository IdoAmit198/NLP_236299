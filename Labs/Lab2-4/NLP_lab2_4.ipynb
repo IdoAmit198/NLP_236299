{
  "cells": [
    {
      "cell_type": "code",
      "execution_count": 41,
      "id": "80ab4873",
      "metadata": {
        "deletable": false,
        "editable": false,
        "jupyter": {
          "outputs_hidden": true,
          "source_hidden": true
        },
        "id": "80ab4873",
        "colab": {
          "base_uri": "https://localhost:8080/",
          "height": 0
        },
        "outputId": "94ee8e89-432e-42ce-b638-9591eaef472b"
      },
      "outputs": [
        {
          "output_type": "stream",
          "name": "stdout",
          "text": [
            "\n"
          ]
        }
      ],
      "source": [
        "# Please do not change this cell because some hidden tests might depend on it.\n",
        "import os\n",
        "\n",
        "# Otter grader does not handle ! commands well, so we define and use our\n",
        "# own function to execute shell commands.\n",
        "def shell(commands, warn=True):\n",
        "    \"\"\"Executes the string `commands` as a sequence of shell commands.\n",
        "     \n",
        "       Prints the result to stdout and returns the exit status. \n",
        "       Provides a printed warning on non-zero exit status unless `warn` \n",
        "       flag is unset.\n",
        "    \"\"\"\n",
        "    file = os.popen(commands)\n",
        "    print (file.read().rstrip('\\n'))\n",
        "    exit_status = file.close()\n",
        "    if warn and exit_status != None:\n",
        "        print(f\"Completed with errors. Exit status: {exit_status}\\n\")\n",
        "    return exit_status\n",
        "\n",
        "shell(\"\"\"\n",
        "ls requirements.txt >/dev/null 2>&1\n",
        "if [ ! $? = 0 ]; then\n",
        " rm -rf .tmp\n",
        " git clone https://github.com/cs236299-2022-spring/lab2-4.git .tmp\n",
        " mv .tmp/tests ./\n",
        " mv .tmp/requirements.txt ./\n",
        " rm -rf .tmp\n",
        "fi\n",
        "pip install -q -r requirements.txt\n",
        "\"\"\")"
      ]
    },
    {
      "cell_type": "code",
      "execution_count": 42,
      "id": "ad6aaf7d",
      "metadata": {
        "deletable": false,
        "editable": false,
        "id": "ad6aaf7d"
      },
      "outputs": [],
      "source": [
        "# Initialize Otter\n",
        "import otter\n",
        "grader = otter.Notebook()"
      ]
    },
    {
      "cell_type": "raw",
      "id": "efa072fd",
      "metadata": {
        "jupyter": {
          "source_hidden": true
        },
        "id": "efa072fd"
      },
      "source": [
        "%%latex\n",
        "\\newcommand{\\vect}[1]{\\mathbf{#1}}\n",
        "\\newcommand{\\cnt}[1]{\\sharp(#1)}\n",
        "\\newcommand{\\argmax}[1]{\\underset{#1}{\\operatorname{argmax}}}\n",
        "\\newcommand{\\softmax}{\\operatorname{softmax}}\n",
        "\\newcommand{\\Prob}{\\Pr}\n",
        "\\newcommand{\\given}{\\,|\\,}"
      ]
    },
    {
      "cell_type": "markdown",
      "id": "6e1c1873",
      "metadata": {
        "jupyter": {
          "source_hidden": true
        },
        "tags": [
          "remove_for_latex"
        ],
        "id": "6e1c1873"
      },
      "source": [
        "$$\n",
        "\\renewcommand{\\vect}[1]{\\mathbf{#1}}\n",
        "\\renewcommand{\\cnt}[1]{\\sharp(#1)}\n",
        "\\renewcommand{\\argmax}[1]{\\underset{#1}{\\operatorname{argmax}}}\n",
        "\\renewcommand{\\softmax}{\\operatorname{softmax}}\n",
        "\\renewcommand{\\Prob}{\\Pr}\n",
        "\\renewcommand{\\given}{\\,|\\,}\n",
        "$$"
      ]
    },
    {
      "cell_type": "markdown",
      "id": "3148322e",
      "metadata": {
        "tags": [
          "remove_for_latex"
        ],
        "id": "3148322e"
      },
      "source": [
        "# Course 236299\n",
        "## Lab 2-4 – Sequence labeling with hidden Markov models"
      ]
    },
    {
      "cell_type": "code",
      "execution_count": 43,
      "id": "79d6a161",
      "metadata": {
        "deletable": false,
        "editable": false,
        "id": "79d6a161"
      },
      "outputs": [],
      "source": [
        "import math\n",
        "from collections import defaultdict"
      ]
    },
    {
      "cell_type": "markdown",
      "id": "a9305d00",
      "metadata": {
        "id": "a9305d00"
      },
      "source": [
        "# Introduction\n",
        "\n",
        "Hidden Markov models (HMM) are a fundamental generative method for sequence labeling NLP tasks such as part-of-speech tagging (as in the present lab) and information extraction (as in the second project segment). In this lab, you'll train, apply, and evaluate some simple sequence labeling algorithms culminating in HMM.\n",
        "\n",
        "To keep things manageable, the dataset you'll use will involve very few word types, only six (plus a special beginning of sentence token), but these are quite ambiguous with regard to part of speech. We'll use the following labels for parts of speech:"
      ]
    },
    {
      "cell_type": "code",
      "execution_count": 44,
      "id": "b67287d7",
      "metadata": {
        "id": "b67287d7"
      },
      "outputs": [],
      "source": [
        "parts_of_speech = [\n",
        "    \"<bos>\", # beginning of sentence marker\n",
        "    \"N\",     # noun\n",
        "    \"V\",     # main verb\n",
        "    \"M\",     # modal verb\n",
        "    \"P\",     # preposition\n",
        "    \"A\",     # adjective\n",
        "    \"R\"      # adverb\n",
        "]"
      ]
    },
    {
      "cell_type": "markdown",
      "id": "0f64f7b6",
      "metadata": {
        "id": "0f64f7b6"
      },
      "source": [
        "The vocabulary of word types, along with their possible parts of speech, is given by the following dictionary:"
      ]
    },
    {
      "cell_type": "code",
      "execution_count": 45,
      "id": "765d44bb",
      "metadata": {
        "id": "765d44bb"
      },
      "outputs": [],
      "source": [
        "vocabulary = {\n",
        "    \"<bos>\":   [\"<bos>\"],\n",
        "    \"can\":     [\"N\", \"V\", \"M\"],\n",
        "    \"canned\":  [\"A\", \"V\"],\n",
        "    \"canners\": [\"N\"],\n",
        "    \"fish\":    [\"N\", \"V\"],\n",
        "    \"for\":     [\"P\"],\n",
        "    \"not\":     [\"R\"]\n",
        "}"
      ]
    },
    {
      "cell_type": "markdown",
      "id": "cf039304",
      "metadata": {
        "id": "cf039304"
      },
      "source": [
        "Here are a few sentences constructed with these words:"
      ]
    },
    {
      "cell_type": "code",
      "execution_count": 46,
      "id": "e06cd898",
      "metadata": {
        "id": "e06cd898"
      },
      "outputs": [],
      "source": [
        "text = \"\"\"\n",
        "    <bos> canners canned fish\n",
        "    <bos> can canners can fish\n",
        "    <bos> fish can not fish\n",
        "    <bos> can fish can fish can\n",
        "    <bos> canners fish fish for can\n",
        "    <bos> canners can fish for fish\n",
        "    <bos> canners fish for fish\n",
        "    <bos> fish can canned fish\n",
        "    <bos> canners can not can canned fish\n",
        "    <bos> fish can can fish for canners\n",
        "\"\"\""
      ]
    },
    {
      "cell_type": "markdown",
      "id": "eb8c6486",
      "metadata": {
        "deletable": false,
        "editable": false,
        "id": "eb8c6486"
      },
      "source": [
        "and the corresponding POS sequences, for the first few sentences. Complete the rest.\n",
        "<!--\n",
        "BEGIN QUESTION\n",
        "name: text_pos\n",
        "-->"
      ]
    },
    {
      "cell_type": "code",
      "execution_count": 47,
      "id": "64bcf5e9",
      "metadata": {
        "id": "64bcf5e9"
      },
      "outputs": [],
      "source": [
        "#TODO -- Provide part-of-speech sequences in this format for the rest of the sample sentences.\n",
        "text_pos = \"\"\"\n",
        "    <bos> N V N\n",
        "    <bos> M N V N\n",
        "    <bos> N M R V\n",
        "    <bos> M N V N N\n",
        "    <bos> N V N P N\n",
        "    <bos> N M V P N\n",
        "    <bos> N V P N\n",
        "    <bos> N V A N\n",
        "    <bos> N M R V A N\n",
        "    <bos> N M V N P N\n",
        "\"\"\""
      ]
    },
    {
      "cell_type": "code",
      "execution_count": 48,
      "id": "d9b9b2df",
      "metadata": {
        "deletable": false,
        "editable": false,
        "id": "d9b9b2df",
        "colab": {
          "base_uri": "https://localhost:8080/",
          "height": 46
        },
        "outputId": "17a3c9d3-af12-4779-8f70-f65ff9ed7b07"
      },
      "outputs": [
        {
          "output_type": "execute_result",
          "data": {
            "text/plain": [
              "\n",
              "    All tests passed!\n",
              "    "
            ],
            "text/html": [
              "\n",
              "    \n",
              "    \n",
              "        <p>All tests passed!</p>\n",
              "    \n",
              "    "
            ]
          },
          "metadata": {},
          "execution_count": 48
        }
      ],
      "source": [
        "grader.check(\"text_pos\")"
      ]
    },
    {
      "cell_type": "markdown",
      "id": "f3f68804",
      "metadata": {
        "id": "f3f68804"
      },
      "source": [
        "> Just to make sure we're all on the same page -- and because you'll need the right tagging to calculate some probabilities below -- you can find our intended solution to this question at <https://pastebin.com/raw/Us8UcWbn>. You should check your solution before moving on.\n",
        "\n",
        "We tokenize the sentences and label the tokens with their POS."
      ]
    },
    {
      "cell_type": "code",
      "execution_count": 49,
      "id": "bb2e0185",
      "metadata": {
        "id": "bb2e0185"
      },
      "outputs": [],
      "source": [
        "def tokenize(text):\n",
        "  result = []\n",
        "  for line in text.strip().split(\"\\n\"):\n",
        "    result.append([item for item in line.strip().split()])\n",
        "  return result\n",
        "\n",
        "tagged_text = [list(zip(sentence, poses))\n",
        "                 for sentence, poses \n",
        "                   in zip(tokenize(text), tokenize(text_pos))]"
      ]
    },
    {
      "cell_type": "markdown",
      "id": "b380059f",
      "metadata": {
        "id": "b380059f"
      },
      "source": [
        "Here are a couple of examples to indicate what the tagged sentences look like."
      ]
    },
    {
      "cell_type": "code",
      "execution_count": 50,
      "id": "95d2c863",
      "metadata": {
        "id": "95d2c863",
        "colab": {
          "base_uri": "https://localhost:8080/",
          "height": 0
        },
        "outputId": "7720b3ba-605f-481c-8ca0-289103d84ecd"
      },
      "outputs": [
        {
          "output_type": "stream",
          "name": "stdout",
          "text": [
            "[('<bos>', '<bos>'), ('canners', 'N'), ('canned', 'V'), ('fish', 'N')]\n",
            "[('<bos>', '<bos>'), ('can', 'M'), ('canners', 'N'), ('can', 'V'), ('fish', 'N')]\n"
          ]
        }
      ],
      "source": [
        "print(tagged_text[0])\n",
        "print(tagged_text[1])"
      ]
    },
    {
      "cell_type": "markdown",
      "id": "2fb88bc9",
      "metadata": {
        "id": "2fb88bc9"
      },
      "source": [
        "For reference, here is a table showing the frequency distribution for each word type and each part of speech it can be used as."
      ]
    },
    {
      "cell_type": "code",
      "execution_count": 51,
      "id": "3beda78f",
      "metadata": {
        "id": "3beda78f",
        "colab": {
          "base_uri": "https://localhost:8080/",
          "height": 0
        },
        "outputId": "d8031fa2-fe06-4d92-dec9-21a35e17244a"
      },
      "outputs": [
        {
          "output_type": "stream",
          "name": "stdout",
          "text": [
            "TYPE     POS    COUNT\n",
            "<bos>    <bos>  10\n",
            "canners  N       7\n",
            "canned   V       1\n",
            "canned   A       2\n",
            "fish     N      13\n",
            "fish     V       4\n",
            "can      M       6\n",
            "can      V       5\n",
            "can      N       2\n",
            "not      R       2\n",
            "for      P       4\n"
          ]
        }
      ],
      "source": [
        "counts = defaultdict(lambda: defaultdict(int))\n",
        "for sentence in tagged_text:\n",
        "  for type, pos in sentence:\n",
        "    counts[type][pos] += 1\n",
        "\n",
        "print(f'{\"TYPE\":8} {\"POS\":6} {\"COUNT\"}')\n",
        "for type, type_counts in counts.items():\n",
        "  for pos, count in type_counts.items():\n",
        "    print(f'{type:8} {pos:6} {count:2}')"
      ]
    },
    {
      "cell_type": "markdown",
      "id": "c0d1cd81",
      "metadata": {
        "deletable": false,
        "editable": false,
        "id": "c0d1cd81"
      },
      "source": [
        "# Majority label\n",
        "The first sequence labeling method we'll use is simply to choose for each word the POS label it most frequently occurs as in the training data. The table above provides the required information directly.\n",
        "\n",
        "Choosing the majority label for a word sequence $\\vect{w} = \\langle{w_1, w_2, \\ldots, w_m}\\rangle$ is tantamount to maximizing the probability of the label sequence assuming independence of the label conditioned on the word, that is, selecting the tag sequence $\\vect{t} = \\langle{t_1, t_2, \\ldots, t_m}\\rangle$ given by\n",
        "$$ \\argmax{\\vect{t}} \\prod_{i=1}^m \\Prob(t_i \\given w_i) $$\n",
        "\n",
        "How would the majority label method label the following test sentence (which we've marked with the words' correct (\"gold\") parts of speech)?\n",
        "\n",
        "> &lt;bos&gt;[&lt;bos&gt;] canners[N] can[V] canned[A] fish[N]\n",
        "\n",
        "Give your answer in the next cell in the form of a list of strings for the POS labels.\n",
        "<!--\n",
        "BEGIN QUESTION\n",
        "name: example_majority_labeling\n",
        "-->"
      ]
    },
    {
      "cell_type": "code",
      "execution_count": 52,
      "id": "5a013014",
      "metadata": {
        "id": "5a013014"
      },
      "outputs": [],
      "source": [
        "#TODO\n",
        "example_majority_labeling = ['<bos>', 'N', 'M', 'A', 'N']"
      ]
    },
    {
      "cell_type": "code",
      "execution_count": 53,
      "id": "b0284979",
      "metadata": {
        "deletable": false,
        "editable": false,
        "id": "b0284979",
        "colab": {
          "base_uri": "https://localhost:8080/",
          "height": 46
        },
        "outputId": "9a25cb12-0977-450c-cb33-ad3009980db1"
      },
      "outputs": [
        {
          "output_type": "execute_result",
          "data": {
            "text/plain": [
              "\n",
              "    All tests passed!\n",
              "    "
            ],
            "text/html": [
              "\n",
              "    \n",
              "    \n",
              "        <p>All tests passed!</p>\n",
              "    \n",
              "    "
            ]
          },
          "metadata": {},
          "execution_count": 53
        }
      ],
      "source": [
        "grader.check(\"example_majority_labeling\")"
      ]
    },
    {
      "cell_type": "markdown",
      "id": "13eab454",
      "metadata": {
        "deletable": false,
        "editable": false,
        "id": "13eab454"
      },
      "source": [
        "By inspection, what is the accuracy of the majority labeling, given as a proportion of the words in the sentence (including the beginning of sentence token)?\n",
        "<!--\n",
        "BEGIN QUESTION\n",
        "name: example_maj_label_accuracy\n",
        "-->"
      ]
    },
    {
      "cell_type": "code",
      "execution_count": 54,
      "id": "f095be9e",
      "metadata": {
        "id": "f095be9e"
      },
      "outputs": [],
      "source": [
        "#TODO\n",
        "example_maj_label_accuracy = 0.8"
      ]
    },
    {
      "cell_type": "code",
      "execution_count": 55,
      "id": "1362edb6",
      "metadata": {
        "deletable": false,
        "editable": false,
        "id": "1362edb6",
        "colab": {
          "base_uri": "https://localhost:8080/",
          "height": 46
        },
        "outputId": "62e033fe-4a13-4776-8108-047d3b53b410"
      },
      "outputs": [
        {
          "output_type": "execute_result",
          "data": {
            "text/plain": [
              "\n",
              "    All tests passed!\n",
              "    "
            ],
            "text/html": [
              "\n",
              "    \n",
              "    \n",
              "        <p>All tests passed!</p>\n",
              "    \n",
              "    "
            ]
          },
          "metadata": {},
          "execution_count": 55
        }
      ],
      "source": [
        "grader.check(\"example_maj_label_accuracy\")"
      ]
    },
    {
      "cell_type": "markdown",
      "id": "61bdbe8b",
      "metadata": {
        "deletable": false,
        "editable": false,
        "id": "61bdbe8b"
      },
      "source": [
        "# Majority bigram labeling\n",
        "\n",
        "It may occur to you that what part of speech a word has _depends on its context_. Suppose we relax the assumption that tag probabilities depend only on the word being tagged, and condition them on the previous word as well. (For the first word in the sentence, we'll condition on that fact, by conditioning it on the special start token.) In summary, we'll condition on the bigram that ends at the word being tagged:\n",
        "$$ \\argmax{\\vect{t}} \\prod_{i=1}^m \\Prob(t_i \\given w_{i-1} w_i) $$\n",
        "\n",
        "What is the majority bigram labeling of the test sentence? Again, give your answer in the form of a list of strings for the POS labels.\n",
        "<!--\n",
        "BEGIN QUESTION\n",
        "name: example_majority_bigram_labeling\n",
        "-->"
      ]
    },
    {
      "cell_type": "code",
      "execution_count": 56,
      "id": "4aa9e7fa",
      "metadata": {
        "id": "4aa9e7fa"
      },
      "outputs": [],
      "source": [
        "#TODO\n",
        "example_majority_bigram_labeling = ['<bos>', 'N', 'M', 'A', 'N']"
      ]
    },
    {
      "cell_type": "code",
      "execution_count": 57,
      "id": "d26e828d",
      "metadata": {
        "deletable": false,
        "editable": false,
        "id": "d26e828d",
        "colab": {
          "base_uri": "https://localhost:8080/",
          "height": 46
        },
        "outputId": "755aaac1-48b0-46fd-e8fe-a616645757d4"
      },
      "outputs": [
        {
          "output_type": "execute_result",
          "data": {
            "text/plain": [
              "\n",
              "    All tests passed!\n",
              "    "
            ],
            "text/html": [
              "\n",
              "    \n",
              "    \n",
              "        <p>All tests passed!</p>\n",
              "    \n",
              "    "
            ]
          },
          "metadata": {},
          "execution_count": 57
        }
      ],
      "source": [
        "grader.check(\"example_majority_bigram_labeling\")"
      ]
    },
    {
      "cell_type": "markdown",
      "id": "d5ca85cd",
      "metadata": {
        "deletable": false,
        "editable": false,
        "id": "d5ca85cd"
      },
      "source": [
        "By inspection, what is the accuracy of the majority bigram labeling, given as a proportion of the words?\n",
        "<!--\n",
        "BEGIN QUESTION\n",
        "name: example_maj_bigram_label_accuracy\n",
        "-->"
      ]
    },
    {
      "cell_type": "code",
      "execution_count": 58,
      "id": "3cce2bc1",
      "metadata": {
        "id": "3cce2bc1"
      },
      "outputs": [],
      "source": [
        "#TODO\n",
        "example_maj_bigram_label_accuracy = 0.8"
      ]
    },
    {
      "cell_type": "code",
      "execution_count": 59,
      "id": "a2d4d6b0",
      "metadata": {
        "deletable": false,
        "editable": false,
        "id": "a2d4d6b0",
        "colab": {
          "base_uri": "https://localhost:8080/",
          "height": 46
        },
        "outputId": "61b20b4f-21d7-4e67-879a-d8af31e4d864"
      },
      "outputs": [
        {
          "output_type": "execute_result",
          "data": {
            "text/plain": [
              "\n",
              "    All tests passed!\n",
              "    "
            ],
            "text/html": [
              "\n",
              "    \n",
              "    \n",
              "        <p>All tests passed!</p>\n",
              "    \n",
              "    "
            ]
          },
          "metadata": {},
          "execution_count": 59
        }
      ],
      "source": [
        "grader.check(\"example_maj_bigram_label_accuracy\")"
      ]
    },
    {
      "cell_type": "markdown",
      "id": "7ed80f6d",
      "metadata": {
        "id": "7ed80f6d"
      },
      "source": [
        "# Hidden Markov models\n",
        "\n",
        "Now we get to the real point, using an HMM model. Recall that in an HMM model, we assume that the joint tag/word sequence is generated by \n",
        "\n",
        "1. Selecting a tag sequence according to a Markov model whose states correspond to tags and whose transitions from state $t_i$ to $t_j$ are governed by a _transition probability_ $a_{ij} = \\Prob(t_i \\rightarrow t_j)$, and then\n",
        "2. Selecting a word sequence from the tag sequence where for tag $t_i$ we observe word $x_i$ of type $w_j$ governed by an _emission probability_ $b_{i}(w_j) = \\Prob(t_i \\rightarrow w_j)$.\n",
        "\n",
        "> Here, we're using a notation $\\Prob(t_i \\rightarrow t_j)$ to indicate the probability that a word tagged $t_i$ is followed by a word tagged $t_j$ and $\\Prob(t_i \\rightarrow w_j)$ to indicate the probability that a word tagged $t_i$ is the word $w_j$.\n",
        "\n",
        "## Estimating the transition and emission probabilities\n",
        "\n",
        "We estimate these transition and emission probabilities by looking at the empirical probabilities in the training data, counting and perhaps smoothing as usual. That is, for the (unsmoothed) transition probabilities, we estimate\n",
        "$$ a_{ij} \\approx \\frac{\\cnt{t_i \\rightarrow t_j}}{\\sum_k \\cnt{t_i \\rightarrow t_k}} $$\n",
        "and for the emission probabilities\n",
        "$$ b_i(w_j) \\approx \\frac{\\cnt{t_i \\rightarrow w_j}}{\\cnt{t_i}} $$\n",
        "\n",
        "For instance, we note that there are 4 times in the training data where the tag $N$ is followed by the tag $M$, out of the 21 occurrences of the tag $N$. Thus, we estimate the corresponding transition probability $a_{NM} \\approx 4/21$.\n",
        "\n",
        "\n",
        "Similarly, the emission probability $b_M(can)$ for tag $M$ generating the word $can$ is $6/6 = 1$, since every occurrence of the tag $M$ corresponds to the word $can$ in the training data.\n",
        "\n",
        "For your convenience, we've computed and provided full tables for the transition and emission probabilities below."
      ]
    },
    {
      "cell_type": "code",
      "execution_count": 60,
      "id": "4bb1d904",
      "metadata": {
        "id": "4bb1d904",
        "colab": {
          "base_uri": "https://localhost:8080/",
          "height": 0
        },
        "outputId": "a71558e6-d6e2-4cfc-ea76-9d186d45496c"
      },
      "outputs": [
        {
          "output_type": "stream",
          "name": "stdout",
          "text": [
            "Transition probabilities: a_ij\n",
            "       <bos>     N     V     M     P     A     R\n",
            "<bos>   0.00  0.80  0.00  0.20  0.00  0.00  0.00\n",
            "N       0.00  0.08  0.46  0.31  0.15  0.00  0.00\n",
            "V       0.00  0.56  0.00  0.00  0.22  0.22  0.00\n",
            "M       0.00  0.33  0.33  0.00  0.00  0.00  0.33\n",
            "P       0.00  1.00  0.00  0.00  0.00  0.00  0.00\n",
            "A       0.00  1.00  0.00  0.00  0.00  0.00  0.00\n",
            "R       0.00  0.00  1.00  0.00  0.00  0.00  0.00\n",
            "\n",
            "Emission probabilities: b_i(w_j)\n",
            "         <bos>     can  canned canners    fish     for     not\n",
            "<bos>     1.00    0.00    0.00    0.00    0.00    0.00    0.00\n",
            "N         0.00    0.09    0.00    0.32    0.59    0.00    0.00\n",
            "V         0.00    0.50    0.10    0.00    0.40    0.00    0.00\n",
            "M         0.00    1.00    0.00    0.00    0.00    0.00    0.00\n",
            "P         0.00    0.00    0.00    0.00    0.00    1.00    0.00\n",
            "A         0.00    0.00    1.00    0.00    0.00    0.00    0.00\n",
            "R         0.00    0.00    0.00    0.00    0.00    0.00    1.00\n"
          ]
        }
      ],
      "source": [
        "# Generate counts\n",
        "bigram_tag_counts = defaultdict(lambda: defaultdict(int))\n",
        "unigram_tag_counts = defaultdict(int)\n",
        "tag_word_counts = defaultdict(lambda: defaultdict(int))\n",
        "tag_counts = defaultdict(int)\n",
        "\n",
        "for sentence in tagged_text:\n",
        "    for (w1, t1), (w2, t2) in list(zip(sentence[:-1], sentence[1:])):\n",
        "        bigram_tag_counts[t1][t2] += 1\n",
        "        unigram_tag_counts[t1] += 1\n",
        "    for w, t in sentence:\n",
        "        tag_word_counts[t][w] += 1\n",
        "        tag_counts[t] += 1\n",
        "\n",
        "# Generate transition and emission probabilities\n",
        "a = defaultdict(lambda: defaultdict(int))\n",
        "b = defaultdict(lambda: defaultdict(int))\n",
        "\n",
        "for t1 in parts_of_speech:\n",
        "    for t2 in parts_of_speech:\n",
        "        a[t1][t2] = bigram_tag_counts[t1][t2] / unigram_tag_counts[t1]\n",
        "    for w1 in vocabulary.keys():\n",
        "        b[t1][w1] = tag_word_counts[t1][w1] / tag_counts[t1]\n",
        "\n",
        "# Print tables of probabilities\n",
        "\n",
        "print(\"Transition probabilities: a_ij\")\n",
        "print(f\"{' ':6}\", end=\"\")\n",
        "for t in parts_of_speech:\n",
        "    print(f\"{t:>6}\", end=\"\")\n",
        "print()\n",
        "for t1 in parts_of_speech:\n",
        "    print(f\"{t1:<6}\", end=\"\")\n",
        "    for t2 in parts_of_speech:\n",
        "        print(f\"{a[t1][t2]:>6.2f}\", end=\"\")\n",
        "    print(\"\")\n",
        " \n",
        "print(\"\\nEmission probabilities: b_i(w_j)\")\n",
        "print(f\"{' ':6}\", end=\"\")\n",
        "for w in vocabulary.keys():\n",
        "    print(f\"{w:>8}\", end=\"\")\n",
        "print()\n",
        "for t in parts_of_speech:\n",
        "    print(f\"{t:<6}\", end=\"\")\n",
        "    for w in vocabulary.keys():\n",
        "        print(f\"{b[t][w]:>8.2f}\", end=\"\")\n",
        "    print()"
      ]
    },
    {
      "cell_type": "markdown",
      "id": "69cf84a5",
      "metadata": {
        "id": "69cf84a5"
      },
      "source": [
        "## An example HMM trellis\n",
        "\n",
        "<img src=\"https://github.com/nlp-course/data/raw/master/Resources/hmm-figure.png\" width=\"75%\" align=right />\n",
        "\n",
        "Now consider the HMM generating the example sentence \"canners can canned fish\". The figure at right contains the _trellis_ for the sentence. The horizontal axis corresponds to the words in the sentence, one at a time. The vertical axis corresponds to the states of the HMM (that is, the parts of speech). The gray arrows that connect a tag on the left to a tag on the right correspond to the transition probabilities. The red arrows that connect a tag to a word directly below correspond to the emission probabilities. \n",
        "\n",
        "For convenient reference, we've labeled the rows with letters and the columns with numbers (in teal!) so that particular nodes can be referred to as, for example, B1.\n",
        "\n",
        "(The red lines are intended to go from a state node to the word node directly below it; for instance, the red line immediately below B1 goes to the word node F1 at the bottom of the figure. Some of those lines are depicted with a crossbar to indicate that they are running \"underneath\" other graphic objects in the figure.)\n",
        "\n",
        "We've highlighted two paths through the trellis from the beginning to the end of the sentence, corresponding to different taggings of the sentence:\n",
        "\n",
        "1. A0-B1-C2-E3-B4\n",
        "2. A0-B1-D2-C3-B4\n",
        "\n",
        "Answer the following questions about this trellis."
      ]
    },
    {
      "cell_type": "markdown",
      "id": "bb9b3e62",
      "metadata": {
        "deletable": false,
        "editable": false,
        "id": "bb9b3e62"
      },
      "source": [
        "What is the path through the trellis corresponding to the _majority bigram labeling_ that you determined above? Give your answer as a string, like the path examples in the previous cell.\n",
        "<!--\n",
        "BEGIN QUESTION\n",
        "name: majority_path\n",
        "-->"
      ]
    },
    {
      "cell_type": "code",
      "execution_count": 61,
      "id": "8a449f65",
      "metadata": {
        "id": "8a449f65"
      },
      "outputs": [],
      "source": [
        "majority_path = 'A0-B1-D2-E3-B4'"
      ]
    },
    {
      "cell_type": "code",
      "execution_count": 62,
      "id": "cdb955d2",
      "metadata": {
        "deletable": false,
        "editable": false,
        "id": "cdb955d2",
        "colab": {
          "base_uri": "https://localhost:8080/",
          "height": 46
        },
        "outputId": "84f4445c-0ca9-4c6b-a946-e6b6b70a5f32"
      },
      "outputs": [
        {
          "output_type": "execute_result",
          "data": {
            "text/plain": [
              "\n",
              "    All tests passed!\n",
              "    "
            ],
            "text/html": [
              "\n",
              "    \n",
              "    \n",
              "        <p>All tests passed!</p>\n",
              "    \n",
              "    "
            ]
          },
          "metadata": {},
          "execution_count": 62
        }
      ],
      "source": [
        "grader.check(\"majority_path\")"
      ]
    },
    {
      "cell_type": "markdown",
      "id": "ff7ccc30",
      "metadata": {
        "deletable": false,
        "editable": false,
        "id": "ff7ccc30"
      },
      "source": [
        "The probability of a path is just the product of the probabilities of all the transitions along the path and all the emissions from nodes in the path to observed words. Use the tables above to calculate the probability of the first highlighted path (A0-B1-C2-E3-B4) by multiplying together the appropriate probabilities. Don't forget the emission probabilities, corresponding to the edges A0-F0, B1-F1, C2-F2, E3-F3, and B4-F4.\n",
        "<!--\n",
        "BEGIN QUESTION\n",
        "name: highlight1_path_probability\n",
        "-->"
      ]
    },
    {
      "cell_type": "code",
      "source": [
        "def prob_path(path):\n",
        "  prob = 1\n",
        "  tags = {'A': '<bos>', 'B':'N', 'C': 'V', 'D':'M', 'E': 'A'}\n",
        "  words = ['<bos>', 'canners', 'can', 'canned', 'fish']\n",
        "  for i, node in enumerate(path):\n",
        "    if i==(len(path)-1):\n",
        "      break\n",
        "    letter1 = tags[path[i][0]]\n",
        "    letter2 = tags[path[i+1][0]]\n",
        "    word = words[i+1]\n",
        "    prob *= (a[letter1][letter2]*b[letter2][word])\n",
        "    print('a ', a[letter1][letter2])\n",
        "    print('b ', b[letter2][word])\n",
        "  return prob"
      ],
      "metadata": {
        "id": "l449jZlWOmn6"
      },
      "id": "l449jZlWOmn6",
      "execution_count": 63,
      "outputs": []
    },
    {
      "cell_type": "code",
      "execution_count": 64,
      "id": "4e160f80",
      "metadata": {
        "id": "4e160f80",
        "colab": {
          "base_uri": "https://localhost:8080/",
          "height": 0
        },
        "outputId": "79f868b4-bda5-459c-9001-14a200d70c8a"
      },
      "outputs": [
        {
          "output_type": "stream",
          "name": "stdout",
          "text": [
            "a  0.8\n",
            "b  0.3181818181818182\n",
            "a  0.46153846153846156\n",
            "b  0.5\n",
            "a  0.2222222222222222\n",
            "b  1.0\n",
            "a  1.0\n",
            "b  0.5909090909090909\n"
          ]
        },
        {
          "output_type": "execute_result",
          "data": {
            "text/plain": [
              "0.007713498622589533"
            ]
          },
          "metadata": {},
          "execution_count": 64
        }
      ],
      "source": [
        "#TODO\n",
        "path_1 = 'A0-B1-C2-E3-B4'\n",
        "path_1_trimmed = path_1.split('-')\n",
        "\n",
        "highlight1_path_probability = prob_path(path_1_trimmed)\n",
        "highlight1_path_probability"
      ]
    },
    {
      "cell_type": "code",
      "execution_count": 65,
      "id": "4cebd003",
      "metadata": {
        "deletable": false,
        "editable": false,
        "id": "4cebd003",
        "colab": {
          "base_uri": "https://localhost:8080/",
          "height": 46
        },
        "outputId": "5fea75e1-5bc4-400b-a733-c8a739c46377"
      },
      "outputs": [
        {
          "output_type": "execute_result",
          "data": {
            "text/plain": [
              "\n",
              "    All tests passed!\n",
              "    "
            ],
            "text/html": [
              "\n",
              "    \n",
              "    \n",
              "        <p>All tests passed!</p>\n",
              "    \n",
              "    "
            ]
          },
          "metadata": {},
          "execution_count": 65
        }
      ],
      "source": [
        "grader.check(\"highlight1_path_probability\")"
      ]
    },
    {
      "cell_type": "markdown",
      "id": "fc13b130",
      "metadata": {
        "deletable": false,
        "editable": false,
        "id": "fc13b130"
      },
      "source": [
        "Do the same for the second highlighted path (A0-B1-D2-C3-B4).\n",
        "<!--\n",
        "BEGIN QUESTION\n",
        "name: highlight2_path_probability\n",
        "-->"
      ]
    },
    {
      "cell_type": "code",
      "execution_count": 66,
      "id": "c81b7883",
      "metadata": {
        "id": "c81b7883",
        "colab": {
          "base_uri": "https://localhost:8080/",
          "height": 0
        },
        "outputId": "84d8e87d-11e3-42cd-c872-e2609e61d9bc"
      },
      "outputs": [
        {
          "output_type": "stream",
          "name": "stdout",
          "text": [
            "a  0.8\n",
            "b  0.3181818181818182\n",
            "a  0.3076923076923077\n",
            "b  1.0\n",
            "a  0.3333333333333333\n",
            "b  0.1\n",
            "a  0.5555555555555556\n",
            "b  0.5909090909090909\n"
          ]
        },
        {
          "output_type": "execute_result",
          "data": {
            "text/plain": [
              "0.000857055402509948"
            ]
          },
          "metadata": {},
          "execution_count": 66
        }
      ],
      "source": [
        "#TODO\n",
        "path_2 = 'A0-B1-D2-C3-B4'\n",
        "path_2_trimmed = path_2.split('-')\n",
        "\n",
        "highlight2_path_probability = prob_path(path_2_trimmed)\n",
        "highlight2_path_probability"
      ]
    },
    {
      "cell_type": "code",
      "execution_count": 67,
      "id": "a54e0518",
      "metadata": {
        "deletable": false,
        "editable": false,
        "id": "a54e0518",
        "colab": {
          "base_uri": "https://localhost:8080/",
          "height": 46
        },
        "outputId": "501b20dd-8993-4869-c9b9-91b3385ddef1"
      },
      "outputs": [
        {
          "output_type": "execute_result",
          "data": {
            "text/plain": [
              "\n",
              "    All tests passed!\n",
              "    "
            ],
            "text/html": [
              "\n",
              "    \n",
              "    \n",
              "        <p>All tests passed!</p>\n",
              "    \n",
              "    "
            ]
          },
          "metadata": {},
          "execution_count": 67
        }
      ],
      "source": [
        "grader.check(\"highlight2_path_probability\")"
      ]
    },
    {
      "cell_type": "markdown",
      "id": "c49a7673",
      "metadata": {
        "deletable": false,
        "editable": false,
        "id": "c49a7673"
      },
      "source": [
        "These two paths turn out to be the two paths through the trellis with the highest probabilities. (You'll have to trust us.) Based on that fact, which tagging has the highest probability according to this HMM? Give your solution in the same format as you did for `example_majority_labeling` above.\n",
        "<!--\n",
        "BEGIN QUESTION\n",
        "name: example_highest_labeling\n",
        "-->"
      ]
    },
    {
      "cell_type": "code",
      "execution_count": 68,
      "id": "ac1e27b6",
      "metadata": {
        "id": "ac1e27b6"
      },
      "outputs": [],
      "source": [
        "#TODO\n",
        "example_highest_labeling = ['<bos>', 'N', 'V', 'A', 'N']"
      ]
    },
    {
      "cell_type": "code",
      "execution_count": 69,
      "id": "fb1af22b",
      "metadata": {
        "deletable": false,
        "editable": false,
        "id": "fb1af22b",
        "colab": {
          "base_uri": "https://localhost:8080/",
          "height": 46
        },
        "outputId": "2f1be59c-d621-4db0-c735-1c040ec09d0e"
      },
      "outputs": [
        {
          "output_type": "execute_result",
          "data": {
            "text/plain": [
              "\n",
              "    All tests passed!\n",
              "    "
            ],
            "text/html": [
              "\n",
              "    \n",
              "    \n",
              "        <p>All tests passed!</p>\n",
              "    \n",
              "    "
            ]
          },
          "metadata": {},
          "execution_count": 69
        }
      ],
      "source": [
        "grader.check(\"example_highest_labeling\")"
      ]
    },
    {
      "cell_type": "markdown",
      "id": "69fa0ab2",
      "metadata": {
        "deletable": false,
        "editable": false,
        "id": "69fa0ab2"
      },
      "source": [
        "By inspection, what is the accuracy of the highest probability HMM labeling, given as a proportion of the words?\n",
        "<!--\n",
        "BEGIN QUESTION\n",
        "name: example_highest_label_accuracy\n",
        "-->"
      ]
    },
    {
      "cell_type": "code",
      "execution_count": 70,
      "id": "c46e53fb",
      "metadata": {
        "id": "c46e53fb"
      },
      "outputs": [],
      "source": [
        "#TODO\n",
        "example_highest_label_accuracy = 1"
      ]
    },
    {
      "cell_type": "code",
      "execution_count": 71,
      "id": "6488656c",
      "metadata": {
        "deletable": false,
        "editable": false,
        "id": "6488656c",
        "colab": {
          "base_uri": "https://localhost:8080/",
          "height": 46
        },
        "outputId": "94181b1a-1a97-40ff-a78f-fece4058e49e"
      },
      "outputs": [
        {
          "output_type": "execute_result",
          "data": {
            "text/plain": [
              "\n",
              "    All tests passed!\n",
              "    "
            ],
            "text/html": [
              "\n",
              "    \n",
              "    \n",
              "        <p>All tests passed!</p>\n",
              "    \n",
              "    "
            ]
          },
          "metadata": {},
          "execution_count": 71
        }
      ],
      "source": [
        "grader.check(\"example_highest_label_accuracy\")"
      ]
    },
    {
      "cell_type": "markdown",
      "id": "e684b312",
      "metadata": {
        "deletable": false,
        "editable": false,
        "id": "e684b312"
      },
      "source": [
        "Now, recall the majority bigram labeling, and the path for it that you developed above. What is the probability of that path according to the HMM?\n",
        "\n",
        "<!--\n",
        "BEGIN QUESTION\n",
        "name: majority_path_probability\n",
        "-->"
      ]
    },
    {
      "cell_type": "code",
      "execution_count": 72,
      "id": "4f10d6b5",
      "metadata": {
        "id": "4f10d6b5",
        "colab": {
          "base_uri": "https://localhost:8080/",
          "height": 0
        },
        "outputId": "632e85b0-6da4-4056-96ab-18eb37d0f812"
      },
      "outputs": [
        {
          "output_type": "stream",
          "name": "stdout",
          "text": [
            "a  0.8\n",
            "b  0.3181818181818182\n",
            "a  0.3076923076923077\n",
            "b  1.0\n",
            "a  0.0\n",
            "b  1.0\n",
            "a  1.0\n",
            "b  0.5909090909090909\n"
          ]
        }
      ],
      "source": [
        "dummy_bigram_path = ['A0', 'B1', 'D2','E3', 'B4' ]\n",
        "majority_path_probability = prob_path(dummy_bigram_path)\n"
      ]
    },
    {
      "cell_type": "code",
      "execution_count": 73,
      "id": "326d7004",
      "metadata": {
        "deletable": false,
        "editable": false,
        "id": "326d7004",
        "colab": {
          "base_uri": "https://localhost:8080/",
          "height": 46
        },
        "outputId": "d8f84794-0145-442f-ac20-6609d31fd904"
      },
      "outputs": [
        {
          "output_type": "execute_result",
          "data": {
            "text/plain": [
              "\n",
              "    All tests passed!\n",
              "    "
            ],
            "text/html": [
              "\n",
              "    \n",
              "    \n",
              "        <p>All tests passed!</p>\n",
              "    \n",
              "    "
            ]
          },
          "metadata": {},
          "execution_count": 73
        }
      ],
      "source": [
        "grader.check(\"majority_path_probability\")"
      ]
    },
    {
      "cell_type": "markdown",
      "id": "44ab7f40",
      "metadata": {
        "id": "44ab7f40"
      },
      "source": [
        "## Calculating the highest probability tagging - The Viterbi algorithm\n",
        "\n",
        "Above, we merely asserted that the two highlighted paths are the two most probable, so that it was a simple matter to find the highest probability tagging by just comparing the probabilities of those two. But in general there can be a huge number of paths through a trellis such as this."
      ]
    },
    {
      "cell_type": "markdown",
      "id": "f0a41f50",
      "metadata": {
        "deletable": false,
        "editable": false,
        "id": "f0a41f50"
      },
      "source": [
        "<!-- BEGIN QUESTION -->\n",
        "\n",
        "**Question:** If there are $N$ tags and a sentence of length $M$, how many paths through the HMM trellis will there be (using big-$O$ notation)?\n",
        "\n",
        "<!--\n",
        "BEGIN QUESTION\n",
        "name: open_response_how_many_paths\n",
        "manual: true\n",
        "-->"
      ]
    },
    {
      "cell_type": "markdown",
      "id": "440aca56",
      "metadata": {
        "id": "440aca56"
      },
      "source": [
        "_$O(N^M)$._"
      ]
    },
    {
      "cell_type": "markdown",
      "id": "8529d557",
      "metadata": {
        "id": "8529d557"
      },
      "source": [
        "<!-- END QUESTION -->\n",
        "\n",
        "\n",
        "\n",
        "The Viterbi algorithm, named after famed electrical engineer [Andrew Viterbi](https://en.wikipedia.org/wiki/Andrew_Viterbi), is an efficient dynamic programming algorithm for performing this (otherwise impractical) computation. We'll do the first few steps of the Viterbi algorithm for the example here.\n",
        "\n",
        "Given a string of words $\\vect{x} = \\langle w_0, w_1, \\ldots, w_M \\rangle$ and a set of states (tags) $\\vect{q} = \\{q_0, q_1, \\ldots, q_N\\}$, the algorithm works by calculating a series of values $v_i(j)$ where $i$ ranges over the words in the sentence from $1$ to $M$ and $j$ ranges over the tags from $1$ to $N$. For simplicity, we'll assume an extra word and tag at the beginning of the sentence, as above, so $w_0 = \\texttt{<bos>}$ and $q_0 = \\texttt{<bos>}$.\n",
        "\n",
        "The values $v_i(j)$ correspond to the probability of the best (highest probability) path starting in state 0, emitting $w_0, \\ldots, w_i$, and ending in state $q_j$. The definition for $v$ then is:\n",
        "\n",
        "\\begin{align*}\n",
        "  v_0(0) &= 1 \\\\\n",
        "  v_0(j) &= 0  &\\mbox{for $j > 0$} \\\\\n",
        "  v_i(j) &= \\max_{j'=1}^N v_{i-1}(j') \\cdot a_{j' j} \\cdot b_{j}(w_i)\n",
        "         & \\mbox{for $i > 0$}\n",
        "\\end{align*}\n",
        "\n",
        "In addition, we'll want to keep track of which states the best paths go through, so in addition to tracking the best probability with $v_i(j)$, we'll track the immediately preceding state that led to that best path -- the \"back pointer\" -- with $bp_i(j)$:\n",
        "\n",
        "\\begin{align*}\n",
        "  bp_i(j) &= \\operatorname*{argmax}_{j'=1}^N v_{i-1}(j') \\cdot a_{j' j} \\cdot b_{j}(w_i)\n",
        "         & \\mbox{for $i > 0$}\n",
        "\\end{align*}\n",
        "\n",
        "> Notice how similar the back pointer definition is to the Viterbi best path definition. It merely records which state was used in computing the corresponding best path."
      ]
    },
    {
      "cell_type": "markdown",
      "id": "d46e07c2",
      "metadata": {
        "deletable": false,
        "editable": false,
        "id": "d46e07c2"
      },
      "source": [
        "<!-- BEGIN QUESTION -->\n",
        "\n",
        "**Question:** For the sample sentence above (\"canners can canned fish\"), calculate the five \"layers\" of the Viterbi algorithm, that is, $v_0$, $v_1$, $v_2$, $v_3$, and $v_4$, and the corresponding back pointers by filling in the tables below. (We've filled in the $v_0$ column for you already, as per the first two lines in the definition of the Viterbi calculation. No $bp_0$ backpointer is needed (or defined).)\n",
        "\n",
        "> For the back pointer table, you need only provide entries corresponding to cases where $b_i(j)$ is non-zero.\n",
        "\n",
        "<!--\n",
        "BEGIN QUESTION\n",
        "name: open_response_viterbi_table\n",
        "manual: true\n",
        "-->"
      ]
    },
    {
      "cell_type": "markdown",
      "id": "999529b3",
      "metadata": {
        "id": "999529b3"
      },
      "source": [
        "<!--TODO: Highest probability table -->\n",
        "|   | tag         | v_0 &lt;bos&gt; | v_1 canners  | v_2 can  | v_3 canned  | v_4 fish  |\n",
        "|---|:-----------:|:---------------:|:------------:|:--------:|:-----------:|:---------:|\n",
        "| 0 | &lt;bos&gt; |    1      |   0   | 0         | 0        |0           |\n",
        "| 1 | N           |    0     | 0.256  | 0.0018432|     0     |     0.007642624      |\n",
        "| 2 | V           |    0     |      0  | 0.05888  | 0.00261888 |      0     |\n",
        "| 3 | M           |    0     |    0    | 0.07936  |     0     |       0    |\n",
        "| 4 | P           |    0     |     0   | 0     |    0         |        0   |\n",
        "| 5 | A           |    0     |      0  |   0   |     0.0129536|         0  |\n",
        "| 6 | R           |    0     |      0  |   0   |   0          |          0 |\n",
        "\n",
        "<!--TODO: Backpointers for best path table -->\n",
        "|   | tag         | bp_1 canners                   | bp_2 can | bp_3 canned | bp_4 fish |\n",
        "|---|:-----------:|:------------------------------:|:--------:|:-----------:|:---------:|\n",
        "| 0 | &lt;bos&gt; |                               |          |             |           |\n",
        "| 1 | N           |        &lt;bos&gt;            |     N     |           |        A   |\n",
        "| 2 | V           |                                |    N      |      M       |           |\n",
        "| 3 | M           |                                |    N      |             |           |\n",
        "| 4 | P           |                                |          |             |           |\n",
        "| 5 | A           |                                |          |      V       |           |\n",
        "| 6 | R           |                                |          |             |           |"
      ]
    },
    {
      "cell_type": "markdown",
      "id": "104de0c7",
      "metadata": {
        "deletable": false,
        "editable": false,
        "id": "104de0c7"
      },
      "source": [
        "<!-- END QUESTION -->\n",
        "\n",
        "<!-- BEGIN QUESTION -->\n",
        "\n",
        "Doing this calculation by hand is painful, but it should make clear what's going on. At each entry $v_i(j)$ in the table, we've calculated the probability of the best path through the trellis from the beginning of the sentence to the current word  $x_i$, starting in the start state and ending in the current state $q_j$. To get the maximum probability of all paths in the trellis for the full sentence ending in any state, we merely look up the maximum value of $v_M(j)$ (recalling that $M$ is the length of the sentence).\n",
        "\n",
        "**Question:** Based on the tables you filled out above, what is the probability of the best path through the trellis for the sample sentence?\n",
        "\n",
        "<!--\n",
        "BEGIN QUESTION\n",
        "name: best_path_probability\n",
        "manual: true\n",
        "-->"
      ]
    },
    {
      "cell_type": "code",
      "execution_count": 74,
      "id": "e42678db",
      "metadata": {
        "id": "e42678db"
      },
      "outputs": [],
      "source": [
        "best_path_probability = 0.007642624"
      ]
    },
    {
      "cell_type": "code",
      "execution_count": 75,
      "id": "09361061",
      "metadata": {
        "deletable": false,
        "editable": false,
        "id": "09361061",
        "colab": {
          "base_uri": "https://localhost:8080/",
          "height": 46
        },
        "outputId": "c4566116-d6f8-45fa-b487-ee8ea4af11e5"
      },
      "outputs": [
        {
          "output_type": "execute_result",
          "data": {
            "text/plain": [
              "\n",
              "    All tests passed!\n",
              "    "
            ],
            "text/html": [
              "\n",
              "    \n",
              "    \n",
              "        <p>All tests passed!</p>\n",
              "    \n",
              "    "
            ]
          },
          "metadata": {},
          "execution_count": 75
        }
      ],
      "source": [
        "grader.check(\"best_path_probability\")"
      ]
    },
    {
      "cell_type": "markdown",
      "id": "b6829d6e",
      "metadata": {
        "deletable": false,
        "editable": false,
        "id": "b6829d6e"
      },
      "source": [
        "<!-- END QUESTION -->\n",
        "\n",
        "<!-- BEGIN QUESTION -->\n",
        "\n",
        "**Question:** Based on the tables you filled out above, what is the best label sequence for the sentence? Provide it as a list of strings for the variable `best_label_sequence`, e.g., `['<bos>','V','A','M','A']`. (No, that's not the actual answer.)\n",
        "\n",
        "> Hint: You'll get this by tracing back the backpointers.\n",
        "\n",
        "<!--\n",
        "BEGIN QUESTION\n",
        "name: best_label_sequence\n",
        "manual: true\n",
        "-->"
      ]
    },
    {
      "cell_type": "code",
      "execution_count": 76,
      "id": "0a272b84",
      "metadata": {
        "id": "0a272b84"
      },
      "outputs": [],
      "source": [
        "best_label_sequence = ['<bos>','N','V','A','N']"
      ]
    },
    {
      "cell_type": "code",
      "execution_count": 77,
      "id": "d1ef1c2c",
      "metadata": {
        "deletable": false,
        "editable": false,
        "id": "d1ef1c2c",
        "colab": {
          "base_uri": "https://localhost:8080/",
          "height": 46
        },
        "outputId": "955bed59-0a48-4838-f96c-b59f27f9e1af"
      },
      "outputs": [
        {
          "output_type": "execute_result",
          "data": {
            "text/plain": [
              "\n",
              "    All tests passed!\n",
              "    "
            ],
            "text/html": [
              "\n",
              "    \n",
              "    \n",
              "        <p>All tests passed!</p>\n",
              "    \n",
              "    "
            ]
          },
          "metadata": {},
          "execution_count": 77
        }
      ],
      "source": [
        "grader.check(\"best_label_sequence\")"
      ]
    },
    {
      "cell_type": "markdown",
      "id": "4b4eea10",
      "metadata": {
        "deletable": false,
        "editable": false,
        "id": "4b4eea10"
      },
      "source": [
        "<!-- END QUESTION -->\n",
        "\n",
        "<!-- BEGIN QUESTION -->\n",
        "\n",
        "**Question:** What is the complexity of filling in all of the entries in the Viterbi table? How does that compare with the complexity of the total number of paths through the trellis that you calculated above?\n",
        "<!--\n",
        "BEGIN QUESTION\n",
        "name: open_response_how_many_paths_viterbi\n",
        "manual: true\n",
        "-->"
      ]
    },
    {
      "cell_type": "markdown",
      "id": "252c0ba1",
      "metadata": {
        "id": "252c0ba1"
      },
      "source": [
        "_The complexity is $O(N^2*M)$, since for each cell in the table we need to find argmax over N candidates, and we have $MN$ cells. This complexity is much better (and practical) compared to the total number of paths, which was $N^M$._\n",
        "\n",
        "_We also notice that space complexity is linear in the input size, which is not $O(1)$, but good enough for practical use._"
      ]
    },
    {
      "cell_type": "markdown",
      "id": "1a52be24",
      "metadata": {
        "deletable": false,
        "editable": false,
        "id": "1a52be24"
      },
      "source": [
        "<!-- END QUESTION -->\n",
        "\n",
        "<!-- BEGIN QUESTION -->\n",
        "\n",
        "# Lab debrief\n",
        "\n",
        "**Question:** We're interested in any thoughts your group has about this lab so that we can improve this lab for later years, and to inform later labs for this year. Please list any issues that arose or comments you have to improve the lab. Useful things to comment on include the following: \n",
        "\n",
        "* Was the lab too long or too short?\n",
        "* Were the readings appropriate for the lab? \n",
        "* Was it clear (at least after you completed the lab) what the points of the exercises were? \n",
        "* Are there additions or changes you think would make the lab better?\n",
        "\n",
        "<!--\n",
        "BEGIN QUESTION\n",
        "name: open_response_debrief\n",
        "manual: true\n",
        "-->"
      ]
    },
    {
      "cell_type": "markdown",
      "id": "0ba23c03",
      "metadata": {
        "id": "0ba23c03"
      },
      "source": [
        "_This lab was really long and tedeious, just like Yonatan said beforehand... The reading was appropiate and the point was clear._"
      ]
    },
    {
      "cell_type": "markdown",
      "id": "7957e423",
      "metadata": {
        "id": "7957e423"
      },
      "source": [
        "<!-- END QUESTION -->\n",
        "\n",
        "\n",
        "\n",
        "# End of lab 2-4"
      ]
    },
    {
      "cell_type": "markdown",
      "id": "4ef191cd",
      "metadata": {
        "deletable": false,
        "editable": false,
        "id": "4ef191cd"
      },
      "source": [
        "---\n",
        "\n",
        "To double-check your work, the cell below will rerun all of the autograder tests."
      ]
    },
    {
      "cell_type": "code",
      "execution_count": 78,
      "id": "439b828f",
      "metadata": {
        "deletable": false,
        "editable": false,
        "id": "439b828f",
        "colab": {
          "base_uri": "https://localhost:8080/",
          "height": 630
        },
        "outputId": "ddca8b69-1439-461d-e72b-671f56d23b1f"
      },
      "outputs": [
        {
          "output_type": "execute_result",
          "data": {
            "text/plain": [
              "best_label_sequence:\n",
              "\n",
              "    All tests passed!\n",
              "    \n",
              "\n",
              "best_path_probability:\n",
              "\n",
              "    All tests passed!\n",
              "    \n",
              "\n",
              "example_highest_label_accuracy:\n",
              "\n",
              "    All tests passed!\n",
              "    \n",
              "\n",
              "example_highest_labeling:\n",
              "\n",
              "    All tests passed!\n",
              "    \n",
              "\n",
              "example_maj_bigram_label_accuracy:\n",
              "\n",
              "    All tests passed!\n",
              "    \n",
              "\n",
              "example_maj_label_accuracy:\n",
              "\n",
              "    All tests passed!\n",
              "    \n",
              "\n",
              "example_majority_bigram_labeling:\n",
              "\n",
              "    All tests passed!\n",
              "    \n",
              "\n",
              "example_majority_labeling:\n",
              "\n",
              "    All tests passed!\n",
              "    \n",
              "\n",
              "highlight1_path_probability:\n",
              "\n",
              "    All tests passed!\n",
              "    \n",
              "\n",
              "highlight2_path_probability:\n",
              "\n",
              "    All tests passed!\n",
              "    \n",
              "\n",
              "majority_path:\n",
              "\n",
              "    All tests passed!\n",
              "    \n",
              "\n",
              "majority_path_probability:\n",
              "\n",
              "    All tests passed!\n",
              "    \n",
              "\n",
              "text_pos:\n",
              "\n",
              "    All tests passed!\n",
              "    \n"
            ],
            "text/html": [
              "<p><strong>best_label_sequence:</strong></p>\n",
              "\n",
              "    \n",
              "    \n",
              "        <p>All tests passed!</p>\n",
              "    \n",
              "    \n",
              "\n",
              "<p><strong>best_path_probability:</strong></p>\n",
              "\n",
              "    \n",
              "    \n",
              "        <p>All tests passed!</p>\n",
              "    \n",
              "    \n",
              "\n",
              "<p><strong>example_highest_label_accuracy:</strong></p>\n",
              "\n",
              "    \n",
              "    \n",
              "        <p>All tests passed!</p>\n",
              "    \n",
              "    \n",
              "\n",
              "<p><strong>example_highest_labeling:</strong></p>\n",
              "\n",
              "    \n",
              "    \n",
              "        <p>All tests passed!</p>\n",
              "    \n",
              "    \n",
              "\n",
              "<p><strong>example_maj_bigram_label_accuracy:</strong></p>\n",
              "\n",
              "    \n",
              "    \n",
              "        <p>All tests passed!</p>\n",
              "    \n",
              "    \n",
              "\n",
              "<p><strong>example_maj_label_accuracy:</strong></p>\n",
              "\n",
              "    \n",
              "    \n",
              "        <p>All tests passed!</p>\n",
              "    \n",
              "    \n",
              "\n",
              "<p><strong>example_majority_bigram_labeling:</strong></p>\n",
              "\n",
              "    \n",
              "    \n",
              "        <p>All tests passed!</p>\n",
              "    \n",
              "    \n",
              "\n",
              "<p><strong>example_majority_labeling:</strong></p>\n",
              "\n",
              "    \n",
              "    \n",
              "        <p>All tests passed!</p>\n",
              "    \n",
              "    \n",
              "\n",
              "<p><strong>highlight1_path_probability:</strong></p>\n",
              "\n",
              "    \n",
              "    \n",
              "        <p>All tests passed!</p>\n",
              "    \n",
              "    \n",
              "\n",
              "<p><strong>highlight2_path_probability:</strong></p>\n",
              "\n",
              "    \n",
              "    \n",
              "        <p>All tests passed!</p>\n",
              "    \n",
              "    \n",
              "\n",
              "<p><strong>majority_path:</strong></p>\n",
              "\n",
              "    \n",
              "    \n",
              "        <p>All tests passed!</p>\n",
              "    \n",
              "    \n",
              "\n",
              "<p><strong>majority_path_probability:</strong></p>\n",
              "\n",
              "    \n",
              "    \n",
              "        <p>All tests passed!</p>\n",
              "    \n",
              "    \n",
              "\n",
              "<p><strong>text_pos:</strong></p>\n",
              "\n",
              "    \n",
              "    \n",
              "        <p>All tests passed!</p>\n",
              "    \n",
              "    \n",
              "\n"
            ]
          },
          "metadata": {},
          "execution_count": 78
        }
      ],
      "source": [
        "grader.check_all()"
      ]
    }
  ],
  "metadata": {
    "kernelspec": {
      "display_name": "Python 3",
      "language": "python",
      "name": "python3"
    },
    "language_info": {
      "codemirror_mode": {
        "name": "ipython",
        "version": 3
      },
      "file_extension": ".py",
      "mimetype": "text/x-python",
      "name": "python",
      "nbconvert_exporter": "python",
      "pygments_lexer": "ipython3",
      "version": "3.8.3"
    },
    "title": "CS236299 Lab 2-4: Sequence labeling with hidden Markov models",
    "colab": {
      "name": "NLP lab2-4.ipynb",
      "provenance": [],
      "collapsed_sections": []
    }
  },
  "nbformat": 4,
  "nbformat_minor": 5
}