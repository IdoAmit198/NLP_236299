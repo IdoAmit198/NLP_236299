{
  "cells": [
    {
      "cell_type": "code",
      "execution_count": 41,
      "id": "6774c1ff",
      "metadata": {
        "deletable": false,
        "editable": false,
        "jupyter": {
          "outputs_hidden": true,
          "source_hidden": true
        },
        "id": "6774c1ff",
        "colab": {
          "base_uri": "https://localhost:8080/"
        },
        "outputId": "c8293cb7-fd3b-4e60-f9c9-b2caa85c1bd8"
      },
      "outputs": [
        {
          "output_type": "stream",
          "name": "stdout",
          "text": [
            "\n"
          ]
        }
      ],
      "source": [
        "# Please do not change this cell because some hidden tests might depend on it.\n",
        "import os\n",
        "\n",
        "# Otter grader does not handle ! commands well, so we define and use our\n",
        "# own function to execute shell commands.\n",
        "def shell(commands, warn=True):\n",
        "    \"\"\"Executes the string `commands` as a sequence of shell commands.\n",
        "     \n",
        "       Prints the result to stdout and returns the exit status. \n",
        "       Provides a printed warning on non-zero exit status unless `warn` \n",
        "       flag is unset.\n",
        "    \"\"\"\n",
        "    file = os.popen(commands)\n",
        "    print (file.read().rstrip('\\n'))\n",
        "    exit_status = file.close()\n",
        "    if warn and exit_status != None:\n",
        "        print(f\"Completed with errors. Exit status: {exit_status}\\n\")\n",
        "    return exit_status\n",
        "\n",
        "shell(\"\"\"\n",
        "ls requirements.txt >/dev/null 2>&1\n",
        "if [ ! $? = 0 ]; then\n",
        " rm -rf .tmp\n",
        " git clone https://github.com/cs236299-2022-spring/lab4-5.git .tmp\n",
        " mv .tmp/tests ./\n",
        " mv .tmp/requirements.txt ./\n",
        " rm -rf .tmp\n",
        "fi\n",
        "pip install -q -r requirements.txt\n",
        "\"\"\")"
      ]
    },
    {
      "cell_type": "code",
      "execution_count": 42,
      "id": "56146076",
      "metadata": {
        "deletable": false,
        "editable": false,
        "id": "56146076"
      },
      "outputs": [],
      "source": [
        "# Initialize Otter\n",
        "import otter\n",
        "grader = otter.Notebook()"
      ]
    },
    {
      "cell_type": "raw",
      "id": "df4a4c41",
      "metadata": {
        "jupyter": {
          "source_hidden": true
        },
        "id": "df4a4c41"
      },
      "source": [
        "%%latex\n",
        "\\newcommand{\\vect}[1]{\\mathbf{#1}}\n",
        "\\newcommand{\\cnt}[1]{\\sharp(#1)}\n",
        "\\newcommand{\\argmax}[1]{\\underset{#1}{\\operatorname{argmax}}}\n",
        "\\newcommand{\\softmax}{\\operatorname{softmax}}\n",
        "\\newcommand{\\Prob}{\\Pr}\n",
        "\\newcommand{\\given}{\\,|\\,}"
      ]
    },
    {
      "cell_type": "markdown",
      "id": "438f777f",
      "metadata": {
        "jupyter": {
          "source_hidden": true
        },
        "id": "438f777f"
      },
      "source": [
        "$$\n",
        "\\renewcommand{\\vect}[1]{\\mathbf{#1}}\n",
        "\\renewcommand{\\cnt}[1]{\\sharp(#1)}\n",
        "\\renewcommand{\\argmax}[1]{\\underset{#1}{\\operatorname{argmax}}}\n",
        "\\renewcommand{\\softmax}{\\operatorname{softmax}}\n",
        "\\renewcommand{\\Prob}{\\Pr}\n",
        "\\renewcommand{\\given}{\\,|\\,}\n",
        "$$"
      ]
    },
    {
      "cell_type": "markdown",
      "id": "135f59d4",
      "metadata": {
        "tags": [
          "remove_for_latex"
        ],
        "id": "135f59d4"
      },
      "source": [
        "# Course 236299\n",
        "## Lab 4-5 - Sequence-to-sequence models with attention"
      ]
    },
    {
      "cell_type": "markdown",
      "id": "43f2e5c9",
      "metadata": {
        "id": "43f2e5c9"
      },
      "source": [
        "In lab 4-4, you built a sequence-to-sequence model in its most basic form and applied it to the task of words-to-numbers conversion. That model first encodes the source sequence into a fixed-size vector (encoder final states), and then decodes based on that vector. Since the only way information from the source side can flow to the target side is through this fixed-size vector, it presents a bottleneck in the encoder-decoder model: no matter how long the source sentence is, it must always be compressed into this fixed-size vector.\n",
        "\n",
        "An _attention mechanism_ (proposed in [this seminal paper](https://arxiv.org/abs/1409.0473)) offers a workaround by providing the decoder a dynamic view of the source-side as the decoding proceeds. Instead of compressing the source sequence into a *fixed-size* vector, we preserve the \"resolution\" and encode the source sequence into a *set of vectors* (usually with the same size as the source sequence) which is sometimes called a *memory bank*. When predicting each word, the decoder \"attends to\" this memory bank and assigns a weight to each vector in the set, and the weighted sum of those vectors will be used to make a prediction. Hopefully, the decoder will assign higher weights to more relevant source words when predicting a target word, which we'll test in this lab."
      ]
    },
    {
      "cell_type": "markdown",
      "id": "fac036ea",
      "metadata": {
        "id": "fac036ea"
      },
      "source": [
        "New bits of Pytorch used in this lab, and which you may find useful include:\n",
        "* [torch.transpose](https://pytorch.org/docs/stable/generated/torch.transpose.html): swaps two dimensions of a tensor.\n",
        "* [torch.reshape](https://pytorch.org/docs/stable/generated/torch.reshape.html): reshapes a tensor.\n",
        "* [torch.bmm](https://pytorch.org/docs/stable/generated/torch.bmm.html): Performs batched matrix multiplication.\n",
        "* [torch.nn.utils.rnn.pack_padded_sequence](https://pytorch.org/docs/stable/generated/torch.nn.utils.rnn.pack_padded_sequence.html) (imported as `pack`): Handles paddings. A more detailed explanation can be found [here](https://stackoverflow.com/a/56211056).\n",
        "* [torch.nn.utils.rnn.pad_packed_sequence](https://pytorch.org/docs/stable/generated/torch.nn.utils.rnn.pad_packed_sequence.html) (imported as `unpack`): Handles paddings.\n",
        "* [torch.masked_fill](https://pytorch.org/docs/stable/tensors.html#torch.Tensor.masked_fill): Fills tensor elements with a value in spots where mask is `True`.\n",
        "* [torch.softmax](https://pytorch.org/docs/stable/_modules/torch/nn/functional.html#softmax): Computes softmax.\n",
        "* [torch.repeat](https://pytorch.org/docs/stable/tensors.html#torch.Tensor.repeat): Repeats a tensor along the specified dimensions.\n",
        "* [torch.triu](https://pytorch.org/docs/stable/generated/torch.triu.html): Returns the upper triangular part of a matrix."
      ]
    },
    {
      "cell_type": "markdown",
      "id": "03de1182",
      "metadata": {
        "id": "03de1182"
      },
      "source": [
        "# Preparation - Loading data\n",
        "\n",
        "We use the same data as in lab 4-4."
      ]
    },
    {
      "cell_type": "code",
      "execution_count": 43,
      "id": "3b79ea00",
      "metadata": {
        "deletable": false,
        "id": "3b79ea00"
      },
      "outputs": [],
      "source": [
        "import copy\n",
        "import math\n",
        "import matplotlib\n",
        "import matplotlib.pyplot as plt\n",
        "import os\n",
        "import wget\n",
        "\n",
        "import torch\n",
        "import torch.nn as nn\n",
        "import torchtext.legacy as tt\n",
        "\n",
        "from tqdm import tqdm\n",
        "\n",
        "from torch.nn.utils.rnn import pack_padded_sequence as pack\n",
        "from torch.nn.utils.rnn import pad_packed_sequence as unpack"
      ]
    },
    {
      "cell_type": "code",
      "execution_count": 44,
      "id": "8e655b2b",
      "metadata": {
        "deletable": false,
        "id": "8e655b2b",
        "colab": {
          "base_uri": "https://localhost:8080/"
        },
        "outputId": "cf5c309a-5192-40c5-e03b-e12cd5a44c86"
      },
      "outputs": [
        {
          "output_type": "stream",
          "name": "stdout",
          "text": [
            "cuda\n"
          ]
        }
      ],
      "source": [
        "# Spcify matplotlib configuration\n",
        "%matplotlib inline\n",
        "plt.style.use('tableau-colorblind10')\n",
        "\n",
        "# GPU check, make sure to use GPU where available\n",
        "device = torch.device(\"cuda\" if torch.cuda.is_available() else \"cpu\")\n",
        "print(device)"
      ]
    },
    {
      "cell_type": "code",
      "execution_count": 45,
      "id": "9515a76e",
      "metadata": {
        "id": "9515a76e"
      },
      "outputs": [],
      "source": [
        "# Download data\n",
        "local_dir = \"data/\"\n",
        "remote_dir = \"https://github.com/nlp-236299/data/raw/master/Words2Num/\"\n",
        "os.makedirs(local_dir, exist_ok=True)\n",
        "\n",
        "for filename in [\n",
        "    \"train.src\",\n",
        "    \"train.tgt\",\n",
        "    \"dev.src\",\n",
        "    \"dev.tgt\",\n",
        "    \"test.src\",\n",
        "    \"test.tgt\",\n",
        "]:\n",
        "    wget.download(remote_dir + filename, out=local_dir)"
      ]
    },
    {
      "cell_type": "markdown",
      "id": "873748d3",
      "metadata": {
        "id": "873748d3"
      },
      "source": [
        "As before, we use torchtext to load data. We use two fields: `SRC` for processing the source side (the English number phrases) and `TGT` for processing the target side (the digit sequences). And as in lab 4-4\n",
        ", we prepend `<bos>` and appended `<eos>` to target sentences."
      ]
    },
    {
      "cell_type": "code",
      "execution_count": 46,
      "id": "3b11339b",
      "metadata": {
        "id": "3b11339b"
      },
      "outputs": [],
      "source": [
        "SRC = tt.data.Field(include_lengths=True,         # include lengths\n",
        "                    batch_first=False,            # batches will be max_src_len x bsz\n",
        "                    tokenize=lambda x: x.split(), # use split to tokenize\n",
        "                   ) \n",
        "TGT = tt.data.Field(include_lengths=False,\n",
        "                    batch_first=False,            # batches will be max_tgt_len x bsz\n",
        "                    tokenize=lambda x: x.split(), # use split to tokenize\n",
        "                    init_token=\"<bos>\",           # prepend <bos>\n",
        "                    eos_token=\"<eos>\")            # append <eos>\n",
        "fields = [('src', SRC), ('tgt', TGT)]"
      ]
    },
    {
      "cell_type": "code",
      "execution_count": 47,
      "id": "7cf8269f",
      "metadata": {
        "id": "7cf8269f",
        "colab": {
          "base_uri": "https://localhost:8080/"
        },
        "outputId": "cff0b8a2-51ea-4b7b-f2c7-5b486c78fc2c"
      },
      "outputs": [
        {
          "output_type": "stream",
          "name": "stdout",
          "text": [
            "Size of src vocab: 34\n",
            "Size of tgt vocab: 14\n",
            "Index for src padding: 1\n",
            "Index for tgt padding: 1\n",
            "Index for start of sequence token: 2\n",
            "Index for end of sequence token: 3\n"
          ]
        }
      ],
      "source": [
        "# Make splits for data\n",
        "train_data, val_data, test_data = tt.datasets.TranslationDataset.splits(\n",
        "    (\".src\", \".tgt\"),\n",
        "    fields,\n",
        "    path=local_dir,\n",
        "    train=\"train\",\n",
        "    validation=\"dev\",\n",
        "    test=\"test\",\n",
        ")\n",
        "\n",
        "# Build vocabulary\n",
        "SRC.build_vocab(train_data.src)\n",
        "TGT.build_vocab(train_data.tgt)\n",
        "\n",
        "print(f\"Size of src vocab: {len(SRC.vocab)}\")\n",
        "print(f\"Size of tgt vocab: {len(TGT.vocab)}\")\n",
        "print(f\"Index for src padding: {SRC.vocab.stoi[SRC.pad_token]}\")\n",
        "print(f\"Index for tgt padding: {TGT.vocab.stoi[TGT.pad_token]}\")\n",
        "print(f\"Index for start of sequence token: {TGT.vocab.stoi[TGT.init_token]}\")\n",
        "print(f\"Index for end of sequence token: {TGT.vocab.stoi[TGT.eos_token]}\")"
      ]
    },
    {
      "cell_type": "markdown",
      "id": "58f66ae6",
      "metadata": {
        "id": "58f66ae6"
      },
      "source": [
        "We batch training and validation data into minibatches, but for the test set, we use a batch size of 1, to make decoding implementation easier."
      ]
    },
    {
      "cell_type": "code",
      "execution_count": 48,
      "id": "6073dfb0",
      "metadata": {
        "id": "6073dfb0"
      },
      "outputs": [],
      "source": [
        "BATCH_SIZE = 32     # batch size for training and validation\n",
        "TEST_BATCH_SIZE = 1 # batch size for test; we use 1 to make implementation easier\n",
        "\n",
        "train_iter, val_iter = tt.data.BucketIterator.splits((train_data, val_data),\n",
        "                                                     batch_size=BATCH_SIZE, \n",
        "                                                     device=device,\n",
        "                                                     repeat=False, \n",
        "                                                     sort_key=lambda x: len(x.src), # sort by length to minimize padding\n",
        "                                                     sort_within_batch=True)\n",
        "test_iter = tt.data.BucketIterator(test_data,\n",
        "                                   batch_size=TEST_BATCH_SIZE, \n",
        "                                   device=device,\n",
        "                                   repeat=False, \n",
        "                                   sort=False, \n",
        "                                   train=False)"
      ]
    },
    {
      "cell_type": "markdown",
      "id": "a2dc052c",
      "metadata": {
        "id": "a2dc052c"
      },
      "source": [
        "Let's take a look at a batch from these iterators."
      ]
    },
    {
      "cell_type": "code",
      "execution_count": 49,
      "id": "1ab33742",
      "metadata": {
        "id": "1ab33742",
        "colab": {
          "base_uri": "https://localhost:8080/"
        },
        "outputId": "8ad8f32a-831b-4077-df50-a1348a6a1325"
      },
      "outputs": [
        {
          "output_type": "stream",
          "name": "stdout",
          "text": [
            "Size of src batch: torch.Size([13, 32])\n",
            "Third src sentence in batch: tensor([ 9,  5,  9,  3,  2, 15, 14,  4, 10,  3,  2, 15,  9], device='cuda:0')\n",
            "Length of the third src sentence in batch: 13\n",
            "Converted back to string: three million three hundred and thirty four thousand nine hundred and thirty three\n",
            "Size of tgt batch: torch.Size([12, 32])\n",
            "Third tgt sentence in batch: tensor([ 2,  4,  4,  4, 10,  5,  4,  4,  3,  1,  1,  1], device='cuda:0')\n",
            "Converted back to string: <bos> 3 3 3 4 9 3 3 <eos> <pad> <pad> <pad>\n"
          ]
        }
      ],
      "source": [
        "batch = next(iter(train_iter))\n",
        "src, src_lengths = batch.src\n",
        "print (f\"Size of src batch: {src.shape}\")\n",
        "print (f\"Third src sentence in batch: {src[:, 2]}\")\n",
        "print (f\"Length of the third src sentence in batch: {src_lengths[2]}\")\n",
        "print (f\"Converted back to string: {' '.join([SRC.vocab.itos[i] for i in src[:, 2]])}\")\n",
        "\n",
        "tgt = batch.tgt\n",
        "print (f\"Size of tgt batch: {tgt.shape}\")\n",
        "print (f\"Third tgt sentence in batch: {tgt[:, 2]}\")\n",
        "print (f\"Converted back to string: {' '.join([TGT.vocab.itos[i] for i in tgt[:, 2]])}\")"
      ]
    },
    {
      "cell_type": "markdown",
      "id": "6b14e13f",
      "metadata": {
        "id": "6b14e13f"
      },
      "source": [
        "# The attention mechanism\n",
        "\n",
        "Attention works by _querying_ a (dynamically sized) set of _keys_ associated with _values_. As usual, the query, keys, and values are represented as vectors. The query process provides a score that specifies how much each key should be attended to. The attention can then be summarized by taking an average of the values weighted by the attention score of the corresponding keys. This _context vector_ can then be used as another input to other processes.\n",
        "\n",
        "More formally, let's suppose we have a query vector $\\mathbf{q}\\in \\mathbb{R}^D$, a set of $S$ key-value pairs $\\{(\\mathbf{k}_i, \\mathbf{v}_i) \\in \\mathbb{R}^D \\times \\mathbb{R}^D: i \\in \\{1, 2, \\cdots, S\\} \\}$, where $D$ is the hidden size. What we want to do through the attention mechanism is to use the query to attend to the keys, and summarize those values associated with the \"relevant\" keys into a fixed-size context vector $\\mathbf{c}\\in\\mathbb{R}^D$. Note that this is different from directly compressing the key-value pairs into a fixed-size vector, since depending on the query, we might end up with different context vectors.\n",
        "\n",
        "To determine the score for a given query and key, it is standard to use a measure of similarity between the query and key. You've seen such similarity measures before, in labs 1-1 and 1-2. A good choice is simply the normalized dot product between query and key. We'll thus take the attention score for query $\\mathbf{q}$ and key $\\mathbf{k}_i$ to be \n",
        "$$\n",
        "a_i = \\frac{\\exp(\\mathbf{q} \\cdot \\mathbf{k}_i)}{Z},\n",
        "$$\n",
        "where $\\cdot$ denotes the dot product (inner product) and $\\exp$ is exponentiation which ensures that all scores are nonnegative, and \n",
        "$$Z = \\sum_{i=1}^{S} \\exp(\\mathbf{q} \\cdot \\mathbf{k}_i)$$ \n",
        "is the normalizer to guarantee the scores all sum to one. (There are multiple ways of parameterizing the attention function, but the form we present here is the most popular one.) You might have noticed that the operation above is essentially a softmax over $\\mathbf{q}\\cdot\\mathbf{k}$.\n",
        "\n",
        "The attention scores $\\mathbf{a}$ lie on a *simplex* (meaning $a_i\\ge 0$ and $\\sum_i a_i=1$), which lends it some interpretability: the closer $a_i$ is to 1, the more \"relevant\" a key $k_i$ (and hence its value $v_i$) is to the given query. We will observe this later in the lab: When we are about to predict the target word \"3\", $a_i$ is close to 1 for the source word $x_i=\\text{\"three\"}$. "
      ]
    },
    {
      "cell_type": "markdown",
      "id": "0b8748d6",
      "metadata": {
        "id": "0b8748d6"
      },
      "source": [
        "To compute the context vector $\\mathbf{c}$, we take the weighted sum of values using the corresponding attention scores as weights:\n",
        "$$\n",
        "\\mathbf{c} = \\sum_{i=1}^S a_i \\mathbf{v}_i\n",
        "$$\n",
        "The closer $a_i$ is to 1, the higher the weight $\\mathbf{v}_i$ receives."
      ]
    },
    {
      "cell_type": "markdown",
      "id": "782036ec",
      "metadata": {
        "deletable": false,
        "editable": false,
        "id": "782036ec"
      },
      "source": [
        "<!-- BEGIN QUESTION -->\n",
        "\n",
        "---\n",
        "**Question:** In the extreme, if there exists $i$ for which $a_i$ is 1, then what will the value of $\\mathbf{c}$ be? \n",
        "\n",
        "\n",
        "<!--\n",
        "BEGIN QUESTION\n",
        "name: open_response_a_i_1\n",
        "manual: true\n",
        "-->"
      ]
    },
    {
      "cell_type": "markdown",
      "id": "9002c6c5",
      "metadata": {
        "id": "9002c6c5"
      },
      "source": [
        "**_In this particular case for every $j\\ne i$ $a_j$=0, and thus c=$v_i$._**"
      ]
    },
    {
      "cell_type": "markdown",
      "id": "5d80dbff",
      "metadata": {
        "id": "5d80dbff"
      },
      "source": [
        "<!-- END QUESTION -->\n",
        "\n",
        "\n",
        "\n",
        "In practice, instead of computing the context vector once for each query, we want to batch computations for different queries together for parallel processing on GPUs. This will become especially useful for the transformer implementation. We use a matrix $Q\\in\\mathbb{R}^{{T} \\times D}$ to store $T$ queries, a matrix $K\\in\\mathbb{R}^{S \\times D}$ to store $S$ keys, and a matrix $V\\in\\mathbb{R}^{S\\times D}$ to store the corresponding values. Then we can write down how we compute the attention scores $A\\in\\mathbb{R}^{T \\times S}$ in a matrix form:\n",
        "\n",
        "$$\n",
        "A = \\operatorname{softmax} (Q K^{\\top}, \\text{dim}=-1),\n",
        "$$"
      ]
    },
    {
      "cell_type": "markdown",
      "id": "2e5bdabd",
      "metadata": {
        "deletable": false,
        "editable": false,
        "id": "2e5bdabd"
      },
      "source": [
        "<!-- BEGIN QUESTION -->\n",
        "\n",
        "---\n",
        "**Question:** What is the shape of $A$? What does $A_{ij}$ represent? \n",
        "\n",
        "\n",
        "<!--\n",
        "BEGIN QUESTION\n",
        "name: open_response_a_ij_meaning\n",
        "manual: true\n",
        "-->"
      ]
    },
    {
      "cell_type": "markdown",
      "id": "b9d4198d",
      "metadata": {
        "id": "b9d4198d"
      },
      "source": [
        "**_The shape of A is $T \\times S$. $A_{ij}$ represent the normalized weight $a_{ij}$ which is the \"relevant score\" of query $i$ to key $j$ (according to the reading materials, chapter 9)._**"
      ]
    },
    {
      "cell_type": "markdown",
      "id": "ebc331e1",
      "metadata": {
        "id": "ebc331e1"
      },
      "source": [
        "<!-- END QUESTION -->\n",
        "\n",
        "\n",
        "\n",
        "To get the context matrix $C \\in \\mathbb{R}^{T \\times D}$:\n",
        "\n",
        "$$\n",
        "C = A V\n",
        "$$"
      ]
    },
    {
      "cell_type": "markdown",
      "id": "3c59b4bf",
      "metadata": {
        "deletable": false,
        "editable": false,
        "id": "3c59b4bf"
      },
      "source": [
        "Your first job is to implement this calculation by finishing the attention function below, which takes the $Q$, $K$, and $V$ matrices and returns the $A$ and $C$ matrices. Note that for these matrices, there is one additional dimension for the batching, so instead of $Q\\in \\mathbb{R}^{T \\times D}$, $K,V\\in \\mathbb{R}^{S \\times D}$, $A\\in \\mathbb{R}^{T \\times S}$, $C\\in \\mathbb{R}^{T \\times D}$, we have $Q\\in\\mathbb{R}^{T\\times B \\times D}$, $K,V\\in \\mathbb{R}^{S \\times B\\times D}$, $A\\in \\mathbb{R}^{B\\times T \\times S}$, $C\\in \\mathbb{R}^{T \\times B \\times D}$, where $B$ is the batch size.  In addition, the function below also takes an argument `mask` of size $\\mathbb{R}^{B\\times T \\times S}$ to mark where attentions are disallowed. This is useful not only in disallowing attending to padding symbols, but also in implementing the transformer model which we'll see later in this lab.\n",
        "\n",
        "> **Hint:** Notice that the batch dimension is the second dimension in $Q$, $K$, $V$, and $C$, but it is the first dimension in $A$ and `mask`.\n",
        "\n",
        "> **Hint:** You might find [`torch.bmm`](https://pytorch.org/docs/stable/generated/torch.bmm.html) helpful for batched matrix multiplications. You might need to transpose and reshape tensors to be able to use this function.\n",
        "\n",
        "> **Hint:** As mentioned in the beginning of the lab, you might also find [`torch.transpose`](https://pytorch.org/docs/stable/generated/torch.transpose.html), [`torch.reshape`](https://pytorch.org/docs/stable/generated/torch.reshape.html), [`torch.masked_fill`](https://pytorch.org/docs/stable/tensors.html#torch.Tensor.masked_fill), and [`torch.softmax`](https://pytorch.org/docs/stable/_modules/torch/nn/functional.html#softmax) useful.\n",
        "\n",
        "> **Hint:** A simple trick for masking an attention score is to set it to negative infinity before normalization.\n",
        "<!--\n",
        "BEGIN QUESTION\n",
        "name: attention\n",
        "-->"
      ]
    },
    {
      "cell_type": "code",
      "execution_count": 50,
      "id": "bc038832",
      "metadata": {
        "id": "bc038832"
      },
      "outputs": [],
      "source": [
        "#TODO - finish implementing this function.\n",
        "def attention(batched_Q, batched_K, batched_V, mask=None):\n",
        "  \"\"\"\n",
        "  Performs the attention operation and returns the attention matrix\n",
        "  `batched_A` and the context matrix `batched_C` using queries \n",
        "  `batched_Q`, keys `batched_K`, and values `batched_V`.\n",
        "  \n",
        "  Arguments:\n",
        "      batched_Q: (q_len, bsz, D)\n",
        "      batched_K: (k_len, bsz, D)\n",
        "      batched_V: (k_len, bsz, D)\n",
        "      mask: (bsz, q_len, k_len). An optional boolean mask *disallowing* \n",
        "            attentions where the mask value is *`False`*.\n",
        "  Returns:\n",
        "      batched_A: the normalized attention scores (bsz, q_len, k_ken)\n",
        "      batched_C: a tensor of size (q_len, bsz, D).\n",
        "  \"\"\"\n",
        "  # Check sizes\n",
        "  D = batched_Q.size(-1)\n",
        "  bsz = batched_Q.size(1)\n",
        "  q_len = batched_Q.size(0)\n",
        "  k_len = batched_K.size(0)\n",
        "  assert batched_K.size(-1) == D and batched_V.size(-1) == D\n",
        "  assert batched_K.size(1) == bsz and batched_V.size(1) == bsz\n",
        "  assert batched_V.size(0) == k_len\n",
        "  \n",
        "  if mask is not None:\n",
        "    assert mask.size() == torch.Size([bsz, q_len, k_len])\n",
        "\n",
        "  batched_Q = batched_Q.transpose(0,1)\n",
        "  batched_K = batched_K.transpose(0,1)\n",
        "  batched_K = batched_K.transpose(1,2)\n",
        "  A = torch.bmm(batched_Q,batched_K)\n",
        "  if mask is not None:\n",
        "    A = A.masked_fill(~mask, float('-inf'))\n",
        "  batched_A = torch.softmax(A, dim=-1)\n",
        "  batched_V = batched_V.transpose(0,1)\n",
        "  batched_C = torch.bmm(batched_A,batched_V)\n",
        "  batched_C = batched_C.transpose(0,1)\n",
        "  # Verify that things sum up to one properly.\n",
        "  assert torch.all(torch.isclose(batched_A.sum(-1), \n",
        "                                 torch.ones(bsz, q_len).to(device)))\n",
        "  return batched_A, batched_C"
      ]
    },
    {
      "cell_type": "code",
      "execution_count": 51,
      "id": "27460ee3",
      "metadata": {
        "deletable": false,
        "editable": false,
        "id": "27460ee3",
        "colab": {
          "base_uri": "https://localhost:8080/",
          "height": 46
        },
        "outputId": "a41d31f1-d654-4f6e-b9f9-684571e7bd91"
      },
      "outputs": [
        {
          "output_type": "execute_result",
          "data": {
            "text/plain": [
              "\n",
              "    All tests passed!\n",
              "    "
            ],
            "text/html": [
              "\n",
              "    \n",
              "    \n",
              "        <p>All tests passed!</p>\n",
              "    \n",
              "    "
            ]
          },
          "metadata": {},
          "execution_count": 51
        }
      ],
      "source": [
        "grader.check(\"attention\")"
      ]
    },
    {
      "cell_type": "markdown",
      "id": "d4aeada8",
      "metadata": {
        "id": "d4aeada8"
      },
      "source": [
        "## Neural encoder-decoder models with attention\n",
        "\n",
        "Now we can add an attention mechanism to our encoder-decoder model. As in lab 4-4, we use a bidirectional LSTM as the encoder, and a unidirectional LSTM as the decoder, and initialize the decoder state with the encoder final state. However, instead of directly projecting the decoder hidden state to logits, we use it as a query vector and attend to all encoder outputs (used as both keys and values), and then concatanate the resulting context vector with the query vector, and project to logits. In addition, we add the context vector to the word embedding at the next time step, so that the LSTM can be aware of the previous attention results. \n",
        "\n",
        "<img src=\"https://github.com/nlp-course/data/raw/master/img/encoder_decoder_attn.png\" alt=\"encoder-decoder-attn illustration\" />\n",
        "\n",
        "In the above illustration, at the first time step, we use $q_1$ to denote the decoder output. Instead of directly projecting that to logits as in lab 4-4, we use $q_1$ as the query vector, and use it to attend to the memory bank (which is the set of encoder outputs) and get the context vector $c_1$. We concatenate $c_1$ with $q_1$, and project the result to the vocabulary size to get logits. At the next step, we first embed $y_1$ into embeddings, and then **add** $c_1$ to it (via componentwise addition) and use the sum as the decoder input. This process continues until an end-of-sequence is produced.\n",
        "\n",
        "You'll need to implement `forward_encoder` and `forward_decoder_incrementally` in the code below. The `forward_encoder` function will return a \"memory bank\" in addition to the final states. The \"memory bank\" is simply the encoder outputs at all time steps, which is the first returned value of `torch.nn.LSTM`.\n",
        "\n",
        "The `forward_decoder_incrementally` function forwards the LSTM cell for a single time step. It takes the initial decoder state, the memory bank, and the input word at the current time step and returns logits for this time step. In addition, it needs to return the context vector and the updated decoder state, which will be used for the next time step. Note that here you need to consider **batch sizes greater than 1**, as this function is used in `forward_decoder`, which is used during training.\n",
        "\n",
        "In summary, the steps in decoding are:\n",
        "\n",
        "1. Map the target words to word embeddings. Add the context vector from the previous time step if any. Use the result as the input to the decoder.\n",
        "\n",
        "2. Forward the decoder RNN for one time step. Use the decoder output as query, the memory bank as **both keys and values**, and compute the context vector through the attention mechanism. Since we don't want to attend to padding symbols at the source side, we also need to pass in a proper `mask` to the attention function.\n",
        "\n",
        "3. Concatenate the context vector with the decoder output, and project the concatenation to vocabulary size as (unnormalized) logits. Normalize them using `torch.log_softmax` if `normalize` is `True`.\n",
        "\n",
        "4. Update the decoder hidden state and the context vector, which will be used in the next time step.\n",
        "\n",
        "Before proceeding, let's consider a simple question: in lab 4-4, we tried to avoid `for` loops, but if you read the code of `forward_decoder` in this lab, you might notice a `for` loop. Is this unavoidable?"
      ]
    },
    {
      "cell_type": "markdown",
      "id": "9cda53d6",
      "metadata": {
        "deletable": false,
        "editable": false,
        "id": "9cda53d6"
      },
      "source": [
        "<!-- BEGIN QUESTION -->\n",
        "\n",
        "---\n",
        "**Question:** Recall that in the `forward_decoder` function in lab 4-4 we didn't use any for loops but instead used a single call to `self.decoder_rnn`. Why do we need a `for` loop in the function `forward_decoder` below? Is it possible to get rid of the for loop to make the code more efficient?\n",
        "\n",
        "<!--\n",
        "BEGIN QUESTION\n",
        "name: open_response_for_loop\n",
        "manual: true\n",
        "-->"
      ]
    },
    {
      "cell_type": "markdown",
      "id": "d66da96b",
      "metadata": {
        "id": "d66da96b"
      },
      "source": [
        "**_The need of the for loop comes from our usage of the attention-context._**\n",
        "\n",
        "**_We note that during decoding, in each iteration we pass in to decoder_incrementally function $target[i]$, memory bank and the previous decoder_state. The previous decoder_state depends on the computed attention-context of that time-step, which depends on the output of the RNN for that time-step. Meaning, if our decoder-state wouldn't be depend on the context, or if our context wouldn't be depend on the RNN output (but on the input alone), we could've accelerated it without the for loop._**\n",
        "\n",
        "**_However, according to what we stated above, we can not get rid of the for loop in this case._**"
      ]
    },
    {
      "cell_type": "markdown",
      "id": "77e19bc6",
      "metadata": {
        "deletable": false,
        "editable": false,
        "id": "77e19bc6"
      },
      "source": [
        "<!-- END QUESTION -->\n",
        "\n",
        "---\n",
        "Now let's implement `forward_encoder` and `forward_decoder_incrementally`.\n",
        "\n",
        "> Hint on using `pack`: if you use `pack` to handle paddings and pass the result as encoder inputs, you need to use `unpack` and extract the first returned value as the memory bank. An example can be found [here](https://stackoverflow.com/a/55805785), but note that our input is already the padded sequences, and that we set `batch_first` to `False`.\n",
        "> Hint on ignoring source-side paddings in the attention mechanism: what `mask` should we pass into the `attention` function??\n",
        "\n",
        "<!--\n",
        "BEGIN QUESTION\n",
        "name: attn_encoder_decoder\n",
        "-->"
      ]
    },
    {
      "cell_type": "code",
      "execution_count": 52,
      "id": "d88382d0",
      "metadata": {
        "id": "d88382d0"
      },
      "outputs": [],
      "source": [
        "#TODO - implement `forward_encoder` and `forward_decoder_incrementally`.\n",
        "class AttnEncoderDecoder(nn.Module):\n",
        "  def __init__(self, src_field, tgt_field, hidden_size=64, layers=3):\n",
        "    \"\"\"\n",
        "    Initializer. Creates network modules and loss function.\n",
        "    Arguments:\n",
        "        src_field: src field\n",
        "        tgt_field: tgt field\n",
        "        hidden_size: hidden layer size of both encoder and decoder\n",
        "        layers: number of layers of both encoder and decoder\n",
        "    \"\"\"\n",
        "    super().__init__()\n",
        "    self.src_field = src_field\n",
        "    self.tgt_field = tgt_field\n",
        "    \n",
        "    # Keep the vocabulary sizes available\n",
        "    self.V_src = len(src_field.vocab.itos)\n",
        "    self.V_tgt = len(tgt_field.vocab.itos)\n",
        "    \n",
        "    # Get special word ids\n",
        "    self.padding_id_src = src_field.vocab.stoi[src_field.pad_token]\n",
        "    self.padding_id_tgt = tgt_field.vocab.stoi[tgt_field.pad_token]\n",
        "    self.bos_id = tgt_field.vocab.stoi[tgt_field.init_token]\n",
        "    self.eos_id = tgt_field.vocab.stoi[tgt_field.eos_token]\n",
        "\n",
        "    # Keep hyper-parameters available\n",
        "    self.embedding_size = hidden_size\n",
        "    self.hidden_size = hidden_size\n",
        "    self.layers = layers\n",
        "\n",
        "    # Create essential modules\n",
        "    self.word_embeddings_src = nn.Embedding(self.V_src, self.embedding_size)\n",
        "    self.word_embeddings_tgt = nn.Embedding(self.V_tgt, self.embedding_size)\n",
        "\n",
        "    # RNN cells\n",
        "    self.encoder_rnn = nn.LSTM(\n",
        "      input_size    = self.embedding_size,\n",
        "      hidden_size   = hidden_size // 2, # to match decoder hidden size\n",
        "      num_layers    = layers,\n",
        "      bidirectional = True              # bidirectional encoder\n",
        "    )\n",
        "    self.decoder_rnn = nn.LSTM(\n",
        "      input_size    = self.embedding_size,\n",
        "      hidden_size   = hidden_size,\n",
        "      num_layers    = layers,\n",
        "      bidirectional = False             # unidirectional decoder\n",
        "    )\n",
        "\n",
        "    # Final projection layer\n",
        "    self.hidden2output = nn.Linear(2*hidden_size, self.V_tgt) # project the concatenation to logits\n",
        "   \n",
        "    # Create loss function\n",
        "    self.loss_function = nn.CrossEntropyLoss(reduction='sum', \n",
        "                                             ignore_index=self.padding_id_tgt)\n",
        "\n",
        "  def forward_encoder(self, src, src_lengths):\n",
        "    \"\"\"\n",
        "    Encodes source words `src`.\n",
        "    Arguments:\n",
        "        src: src batch of size (max_src_len, bsz)\n",
        "        src_lengths: src lengths of size (bsz)\n",
        "    Returns:\n",
        "        memory_bank: a tensor of size (src_len, bsz, hidden_size)\n",
        "        (final_state, context): `final_state` is a tuple (h, c) where h/c is of size \n",
        "                                (layers, bsz, hidden_size), and `context` is `None`. \n",
        "    \"\"\"\n",
        "    #TODO\n",
        "    emb_src = self.word_embeddings_src(src)\n",
        "    output_rnn, (h, c) = self.encoder_rnn(emb_src)\n",
        "    swap_h = h.transpose(0, 1)\n",
        "    swap_c = c.transpose(0, 1)\n",
        "    join_h = swap_h.reshape(-1, int(swap_h.shape[1]/2), swap_h.shape[2]*2)\n",
        "    join_c = swap_c.reshape(-1, int(swap_c.shape[1]/2), swap_c.shape[2]*2)\n",
        "    h = join_h.transpose(0,1)\n",
        "    c = join_c.transpose(0,1)\n",
        "    h = h.contiguous()\n",
        "    c = c.contiguous()\n",
        "    # return output_rnn, (h, c)\n",
        "    memory_bank = output_rnn\n",
        "    final_state= (h,c)\n",
        "    context = None\n",
        "    return memory_bank, (final_state, context)\n",
        "\n",
        "  def forward_decoder(self, encoder_final_state, tgt_in, memory_bank, src_mask):\n",
        "    \"\"\"\n",
        "    Decodes based on encoder final state, memory bank, src_mask, and ground truth \n",
        "    target words.\n",
        "    Arguments:\n",
        "        encoder_final_state: (final_state, None) where final_state is the encoder \n",
        "                             final state used to initialize decoder. None is the\n",
        "                             initial context (there's no previous context at the\n",
        "                             first step).\n",
        "        tgt_in: a tensor of size (tgt_len, bsz)\n",
        "        memory_bank: a tensor of size (src_len, bsz, hidden_size), encoder outputs \n",
        "                     at every position\n",
        "        src_mask: a tensor of size (src_len, bsz): a boolean tensor, `False` where\n",
        "                  src is padding (we disallow decoder to attend to those places).\n",
        "    Returns:\n",
        "        Logits of size (tgt_len, bsz, V_tgt) (before the softmax operation)\n",
        "    \"\"\"\n",
        "    max_tgt_length = tgt_in.size(0)\n",
        "    \n",
        "    # Initialize decoder state, note that it's a tuple (state, context) here\n",
        "    decoder_states = encoder_final_state\n",
        "    \n",
        "    all_logits = []\n",
        "    for i in range(max_tgt_length):\n",
        "      logits, decoder_states, attn = \\\n",
        "        self.forward_decoder_incrementally(decoder_states, \n",
        "                                           tgt_in[i], \n",
        "                                           memory_bank,\n",
        "                                           src_mask,\n",
        "                                           normalize=False)\n",
        "      all_logits.append(logits)             # list of bsz, vocab_tgt\n",
        "    all_logits = torch.stack(all_logits, 0) # tgt_len, bsz, vocab_tgt\n",
        "    return all_logits\n",
        "\n",
        "  def forward(self, src, src_lengths, tgt_in):\n",
        "    \"\"\"\n",
        "    Performs forward computation, returns logits.\n",
        "    Arguments:\n",
        "        src: src batch of size (max_src_len, bsz)\n",
        "        src_lengths: src lengths of size (bsz)\n",
        "        tgt_in:  a tensor of size (tgt_len, bsz)\n",
        "    \"\"\"\n",
        "    src_mask = src.ne(self.padding_id_src) # max_src_len, bsz\n",
        "    # Forward encoder\n",
        "    memory_bank, encoder_final_state = self.forward_encoder(src, src_lengths)  # return memory_bank, (final_state, context)\n",
        "    # Forward decoder\n",
        "    logits = self.forward_decoder(encoder_final_state, tgt_in, memory_bank, src_mask)\n",
        "    return logits\n",
        "\n",
        "  def forward_decoder_incrementally(self, prev_decoder_states, tgt_in_onestep, \n",
        "                                    memory_bank, src_mask,\n",
        "                                    normalize=True):\n",
        "    \"\"\"\n",
        "    Forward the decoder for a single step with token `tgt_in_onestep`.\n",
        "    This function will be used both in `forward_decoder` and in beam search.\n",
        "    Note that bsz can be greater than 1.\n",
        "    Arguments:\n",
        "        prev_decoder_states: a tuple (prev_decoder_state, prev_context). `prev_context`\n",
        "                             is `None` for the first step\n",
        "        tgt_in_onestep: a tensor of size (bsz), tokens at one step\n",
        "        memory_bank: a tensor of size (src_len, bsz, hidden_size), encoder outputs \n",
        "                     at every position\n",
        "        src_mask: a tensor of size (src_len, bsz): a boolean tensor, `False` where\n",
        "                  src is padding (we disallow decoder to attend to those places).\n",
        "        normalize: use log_softmax to normalize or not. Beam search needs to normalize,\n",
        "                   while `forward_decoder` does not\n",
        "    Returns:\n",
        "        logits: log probabilities for `tgt_in_token` of size (bsz, V_tgt)\n",
        "        decoder_states: (`decoder_state`, `context`) which will be used for the \n",
        "                        next incremental update\n",
        "        attn: normalized attention scores at this step (bsz, src_len)\n",
        "    \"\"\"\n",
        "    prev_decoder_state, prev_context = prev_decoder_states\n",
        "    #TODO \n",
        "    # ours VVV\n",
        "    tgt_embeddings = self.word_embeddings_tgt(tgt_in_onestep[None,...])\n",
        "    # Forward decoder RNN\n",
        "    input_decoder = tgt_embeddings + (prev_context if prev_context is not None else 0)\n",
        "    decoder_outs, decoder_state = self.decoder_rnn(input_decoder, prev_decoder_state)\n",
        "    \n",
        "    src_mask = src_mask.transpose(0,1)\n",
        "    src_mask = torch.unsqueeze(src_mask,1)\n",
        "    attn, attn_context = attention(decoder_outs, memory_bank, memory_bank, src_mask)\n",
        "    concated = torch.cat((decoder_outs, attn_context),dim=2)\n",
        "    logits = self.hidden2output(concated)\n",
        "    # ours ^^^\n",
        "    decoder_states = (decoder_state, attn_context)\n",
        "    if normalize:\n",
        "      logits = torch.log_softmax(logits, dim=-1)\n",
        "    return logits, decoder_states, attn\n",
        "\n",
        "  def evaluate_ppl(self, iterator):\n",
        "    \"\"\"Returns the model's perplexity on a given dataset `iterator`.\"\"\"\n",
        "    # Switch to eval mode\n",
        "    self.eval()\n",
        "    total_loss = 0\n",
        "    total_words = 0\n",
        "    for batch in iterator:\n",
        "      # Input and target\n",
        "      src, src_lengths = batch.src\n",
        "      tgt = batch.tgt # max_length_sql, bsz\n",
        "      tgt_in = tgt[:-1] # remove <eos> for decode input (y_0=<bos>, y_1, y_2)\n",
        "      tgt_out = tgt[1:] # remove <bos> as target        (y_1, y_2, y_3=<eos>)\n",
        "      # Forward to get logits\n",
        "      logits = self.forward(src, src_lengths, tgt_in)\n",
        "      # Compute cross entropy loss\n",
        "      loss = self.loss_function(logits.view(-1, self.V_tgt), tgt_out.view(-1))\n",
        "      total_loss += loss.item()\n",
        "      total_words += tgt_out.ne(self.padding_id_tgt).float().sum().item()\n",
        "    return math.exp(total_loss/total_words)\n",
        "\n",
        "  def train_all(self, train_iter, val_iter, epochs=10, learning_rate=0.001):\n",
        "    \"\"\"Train the model.\"\"\"\n",
        "    # Switch the module to training mode\n",
        "    self.train()\n",
        "    # Use Adam to optimize the parameters\n",
        "    optim = torch.optim.Adam(self.parameters(), lr=learning_rate)\n",
        "    best_validation_ppl = float('inf')\n",
        "    best_model = None\n",
        "    # Run the optimization for multiple epochs\n",
        "    for epoch in range(epochs): \n",
        "      total_words = 0\n",
        "      total_loss = 0.0\n",
        "      for batch in tqdm(train_iter):\n",
        "        # Zero the parameter gradients\n",
        "        self.zero_grad()\n",
        "        # Input and target\n",
        "        src, src_lengths = batch.src # text: max_src_length, bsz\n",
        "        tgt = batch.tgt # max_tgt_length, bsz\n",
        "        tgt_in = tgt[:-1] # Remove <eos> for decode input (y_0=<bos>, y_1, y_2)\n",
        "        tgt_out = tgt[1:] # Remove <bos> as target        (y_1, y_2, y_3=<eos>)\n",
        "        bsz = tgt.size(1)\n",
        "        # Run forward pass and compute loss along the way.\n",
        "        logits = self.forward(src, src_lengths, tgt_in)\n",
        "        loss = self.loss_function(logits.view(-1, self.V_tgt), tgt_out.view(-1))\n",
        "        # Training stats\n",
        "        num_tgt_words = tgt_out.ne(self.padding_id_tgt).float().sum().item()\n",
        "        total_words += num_tgt_words\n",
        "        total_loss += loss.item()\n",
        "        # Perform backpropagation\n",
        "        loss.div(bsz).backward()\n",
        "        optim.step()\n",
        "\n",
        "      # Evaluate and track improvements on the validation dataset\n",
        "      validation_ppl = self.evaluate_ppl(val_iter)\n",
        "      self.train()\n",
        "      if validation_ppl < best_validation_ppl:\n",
        "        best_validation_ppl = validation_ppl\n",
        "        self.best_model = copy.deepcopy(self.state_dict())\n",
        "      epoch_loss = total_loss / total_words\n",
        "      print (f'Epoch: {epoch} Training Perplexity: {math.exp(epoch_loss):.4f} '\n",
        "             f'Validation Perplexity: {validation_ppl:.4f}')"
      ]
    },
    {
      "cell_type": "code",
      "execution_count": 53,
      "id": "3691f83b",
      "metadata": {
        "id": "3691f83b",
        "colab": {
          "base_uri": "https://localhost:8080/"
        },
        "outputId": "d2067c90-b47e-4c5a-d3e0-48945f79dbeb"
      },
      "outputs": [
        {
          "output_type": "stream",
          "name": "stderr",
          "text": [
            "100%|██████████| 2032/2032 [00:53<00:00, 38.21it/s]\n"
          ]
        },
        {
          "output_type": "stream",
          "name": "stdout",
          "text": [
            "Epoch: 0 Training Perplexity: 1.3616 Validation Perplexity: 1.0049\n"
          ]
        },
        {
          "output_type": "stream",
          "name": "stderr",
          "text": [
            "100%|██████████| 2032/2032 [00:49<00:00, 41.35it/s]\n"
          ]
        },
        {
          "output_type": "stream",
          "name": "stdout",
          "text": [
            "Epoch: 1 Training Perplexity: 1.0359 Validation Perplexity: 1.0046\n"
          ]
        },
        {
          "output_type": "execute_result",
          "data": {
            "text/plain": [
              "<All keys matched successfully>"
            ]
          },
          "metadata": {},
          "execution_count": 53
        }
      ],
      "source": [
        "EPOCHS = 2 # epochs, we highly recommend starting with a smaller number like 1\n",
        "LEARNING_RATE = 2e-3 # learning rate\n",
        "\n",
        "# Instantiate and train classifier\n",
        "model = AttnEncoderDecoder(SRC, TGT,\n",
        "  hidden_size    = 64,\n",
        "  layers         = 3,\n",
        ").to(device)\n",
        "\n",
        "model.train_all(train_iter, val_iter, epochs=EPOCHS, learning_rate=LEARNING_RATE)\n",
        "model.load_state_dict(model.best_model)"
      ]
    },
    {
      "cell_type": "markdown",
      "id": "5b451b52",
      "metadata": {
        "id": "5b451b52"
      },
      "source": [
        "Since the task we consider here is very simple, we should expect a perplexity very close to 1."
      ]
    },
    {
      "cell_type": "code",
      "execution_count": 54,
      "id": "f41a0310",
      "metadata": {
        "id": "f41a0310",
        "colab": {
          "base_uri": "https://localhost:8080/"
        },
        "outputId": "8e0dd63f-b512-4af9-b7d5-cd02d56fc331"
      },
      "outputs": [
        {
          "output_type": "stream",
          "name": "stdout",
          "text": [
            "Test perplexity: 1.005\n"
          ]
        }
      ],
      "source": [
        "# Evaluate model performance, the expected value should be < 1.05\n",
        "print (f'Test perplexity: {model.evaluate_ppl(test_iter):.3f}')"
      ]
    },
    {
      "cell_type": "code",
      "execution_count": 55,
      "id": "0e2c79c7",
      "metadata": {
        "deletable": false,
        "editable": false,
        "id": "0e2c79c7",
        "colab": {
          "base_uri": "https://localhost:8080/",
          "height": 46
        },
        "outputId": "0f8e1248-ddd2-4a83-fce4-5e2801b9fab5"
      },
      "outputs": [
        {
          "output_type": "execute_result",
          "data": {
            "text/plain": [
              "\n",
              "    All tests passed!\n",
              "    "
            ],
            "text/html": [
              "\n",
              "    \n",
              "    \n",
              "        <p>All tests passed!</p>\n",
              "    \n",
              "    "
            ]
          },
          "metadata": {},
          "execution_count": 55
        }
      ],
      "source": [
        "grader.check(\"encoder_decoder_ppl\")"
      ]
    },
    {
      "cell_type": "markdown",
      "id": "c584f21f",
      "metadata": {
        "id": "c584f21f"
      },
      "source": [
        "## Beam search decoding\n",
        "\n",
        "We can reuse most of our beam search code in lab 4-4 here: we only need to modify the code a bit to pass in `memory_bank` and `src_mask`. For reference here is the same pseudo-code used in lab 4-4, where we want to decode a single example `x` of maximum length `max_T` using a beam size of `K`.\n",
        "\n",
        "```\n",
        " 1.  def beam_search(x, K, max_T):\n",
        " 2.      finished = []       # for storing completed hypotheses\n",
        "         # Initialize the beam\n",
        " 3.      beams = [Beam(hyp=(bos), score=0)] # initial hypothesis: bos, initial score: 0\n",
        " \n",
        " 4.      for t in [1..max_T]  # main body of search over time steps           \n",
        " 5.          hypotheses = []\n",
        " \n",
        "             # Expand each beam by all possible tokens y_{t+1}\n",
        " 6.          for beam in beams:\n",
        " 7.              y_{1:t}, score = beam.hyp, beam.score\n",
        " 8.              for y_{t+1} in V:\n",
        " 9.                  y_{1:t+1} = y_{1:t} + [y_{t+1}]\n",
        " 10.                 new_score = score + log P(y_{t+1} | y_{1:t}, x)\n",
        " 11.                 hypotheses.append(Beam(hyp=y_{1:t+1}, score=new_score))\n",
        " \n",
        "             # Find K best next beams\n",
        " 12.         beams = sorted(hypotheses, key=lambda beam: -beam.score)[:K]\n",
        " \n",
        "             # Set aside finished beams (those that end in <eos>)\n",
        " 13.         for beam in beams:\n",
        " 14.             y_{t+1} = beam.hyp[-1]\n",
        " 15.             if y_{t+1} == eos:\n",
        " 16.                 finished.append(beam)\n",
        " 17.                 beams.remove(beam)\n",
        "\n",
        "             # Break the loop if everything is finished\n",
        " 18.         if len(beams) == 0:\n",
        " 19.             break              \n",
        " 20.     return sorted(finished, key=lambda beam: -beam.score)[0] # return the best finished hypothesis\n",
        "```\n"
      ]
    },
    {
      "cell_type": "markdown",
      "id": "80775362",
      "metadata": {
        "deletable": false,
        "editable": false,
        "id": "80775362"
      },
      "source": [
        "Implement function `beam_search` in the code below. In addition to the predicted target sequence, this function also returns a list of attentions `all_attns`.\n",
        "\n",
        "<!--\n",
        "BEGIN QUESTION\n",
        "name: beam_search\n",
        "-->"
      ]
    },
    {
      "cell_type": "code",
      "execution_count": 56,
      "id": "881ad63e",
      "metadata": {
        "id": "881ad63e"
      },
      "outputs": [],
      "source": [
        "# max target length\n",
        "MAX_T = 15\n",
        "class Beam():\n",
        "  \"\"\"\n",
        "  Helper class for storing a hypothesis, its score and its decoder hidden state.\n",
        "  \"\"\"\n",
        "  def __init__(self, decoder_state, tokens, score):\n",
        "    self.decoder_state = decoder_state\n",
        "    self.tokens = tokens\n",
        "    self.score = score\n",
        "        \n",
        "class BeamSearcher():\n",
        "  \"\"\"\n",
        "  Main class for beam search.\n",
        "  \"\"\"\n",
        "  def __init__(self, model):\n",
        "    self.model = model\n",
        "    self.bos_id = model.bos_id\n",
        "    self.eos_id = model.eos_id\n",
        "    self.padding_id_src = model.padding_id_src\n",
        "    self.V = model.V_tgt\n",
        "\n",
        "\n",
        "  def beam_search(self, src, src_lengths, K, max_T=MAX_T):\n",
        "    \"\"\"\n",
        "    Performs beam search decoding.\n",
        "    Arguments:\n",
        "        src: src batch of size (max_src_len, 1)\n",
        "        src_lengths: src lengths of size (1)\n",
        "        K: beam size\n",
        "        max_T: max possible target length considered\n",
        "    Returns:\n",
        "        a list of token ids and a list of attentions\n",
        "    \"\"\"\n",
        "    finished = []\n",
        "    all_attns = []\n",
        "    # Initialize the beam\n",
        "    self.model.eval()\n",
        "    #TODO - fill in `memory_bank`, `encoder_final_state`, and `init_beam` below\n",
        "    # ours VVV\n",
        "    memory_bank, encoder_final_state = self.model.forward_encoder(src, src_lengths)\n",
        "    init_beam =  Beam(encoder_final_state,[torch.LongTensor(1).fill_(self.bos_id).to(device)], score=0)\n",
        "    # ours ^^^\n",
        "    beams = [init_beam]\n",
        "    \n",
        "    with torch.no_grad():\n",
        "      for t in range(max_T): # main body of search over time steps\n",
        "        \n",
        "        # Expand each beam by all possible tokens y_{t+1}\n",
        "        all_total_scores = []\n",
        "        for beam in beams:\n",
        "          y_1_to_t, score, decoder_state = beam.tokens, beam.score, beam.decoder_state\n",
        "          y_t = y_1_to_t[-1]\n",
        "          #TODO - finish the code below\n",
        "          # Hint: you might want to use `model.forward_decoder_incrementally` with `normalize=True`\n",
        "          src_mask = src.ne(self.padding_id_src)\n",
        "          # ours: VVV\n",
        "          y_t_tensor = torch.ones(1, dtype=torch.long, device=device) * y_t\n",
        "          logits, decoder_state, attn = self.model.forward_decoder_incrementally(decoder_state, \n",
        "                                              y_t_tensor, memory_bank, src_mask, normalize=True)\n",
        "   \n",
        "          if attn is not None:\n",
        "            attn = attn.reshape(1, -1)\n",
        "          total_scores = score + logits\n",
        "          # ours ^^^\n",
        "          all_total_scores.append(total_scores)\n",
        "          all_attns.append(attn) # keep attentions for visualization\n",
        "          beam.decoder_state = decoder_state # update decoder state in the beam\n",
        "        all_total_scores = torch.stack(all_total_scores) # (K, V) when t>0, (1, V) when t=0\n",
        "\n",
        "        # Find K best next beams\n",
        "        # The code below has the same functionality as line 6-12, but is more efficient\n",
        "        all_scores_flattened = all_total_scores.view(-1) # K*V when t>0, 1*V when t=0\n",
        "        topk_scores, topk_ids = all_scores_flattened.topk(K, 0)\n",
        "        beam_ids = topk_ids.div(self.V, rounding_mode='floor')\n",
        "        next_tokens = topk_ids - beam_ids * self.V\n",
        "        new_beams = []\n",
        "        for k in range(K):\n",
        "          beam_id = beam_ids[k]       # which beam it comes from\n",
        "          y_t_plus_1 = next_tokens[k] # which y_{t+1}\n",
        "          score = topk_scores[k]\n",
        "          beam = beams[beam_id]\n",
        "          decoder_state = beam.decoder_state\n",
        "          y_1_to_t = beam.tokens\n",
        "          #TODO\n",
        "          new_beam = Beam(decoder_state, y_1_to_t + [y_t_plus_1], score)  # ours\n",
        "          new_beams.append(new_beam)\n",
        "        beams = new_beams\n",
        "\n",
        "        # Set aside completed beams\n",
        "        # TODO - move completed beams to `finished` (and remove them from `beams`)\n",
        "\n",
        "        # ours VVV\n",
        "        new_beams = []\n",
        "        for beam in beams:\n",
        "          if beam.tokens[-1] == self.eos_id:\n",
        "            finished.append(beam)\n",
        "          else:\n",
        "            new_beams.append(beam)\n",
        "        beams = new_beams\n",
        "        # ours ^^^\n",
        "        \n",
        "        # Break the loop if everything is completed\n",
        "        if len(beams) == 0:\n",
        "            break\n",
        "            \n",
        "    # Return the best hypothesis\n",
        "    if len(finished) > 0:\n",
        "      finished = sorted(finished, key=lambda beam: -beam.score)\n",
        "      return finished[0].tokens, all_attns\n",
        "    else: # when nothing is finished, return an unfinished hypothesis\n",
        "      return beams[0].tokens, all_attns"
      ]
    },
    {
      "cell_type": "code",
      "execution_count": 57,
      "id": "393390ca",
      "metadata": {
        "deletable": false,
        "editable": false,
        "id": "393390ca",
        "colab": {
          "base_uri": "https://localhost:8080/",
          "height": 46
        },
        "outputId": "14087995-619d-44a4-8744-c0d3399297e6"
      },
      "outputs": [
        {
          "output_type": "execute_result",
          "data": {
            "text/plain": [
              "\n",
              "    All tests passed!\n",
              "    "
            ],
            "text/html": [
              "\n",
              "    \n",
              "    \n",
              "        <p>All tests passed!</p>\n",
              "    \n",
              "    "
            ]
          },
          "metadata": {},
          "execution_count": 57
        }
      ],
      "source": [
        "grader.check(\"beam_search\")"
      ]
    },
    {
      "cell_type": "markdown",
      "id": "4c835a0c",
      "metadata": {
        "id": "4c835a0c"
      },
      "source": [
        "Now we can use beam search decoding to predict the outputs for the test set inputs using the trained model. You should expect an accuracy close to 100%."
      ]
    },
    {
      "cell_type": "code",
      "execution_count": 58,
      "id": "5b15a437",
      "metadata": {
        "id": "5b15a437",
        "colab": {
          "base_uri": "https://localhost:8080/"
        },
        "outputId": "33c4b0ac-bdbd-4e6d-c3c9-de43d52e9451"
      },
      "outputs": [
        {
          "output_type": "stream",
          "name": "stdout",
          "text": [
            "Source: sixteen thousand eight hundred and thirty two\n",
            "Prediction:   1 6 8 3 2\n",
            "Ground truth: 1 6 8 3 2\n",
            "Source: sixty seven million six hundred and eighty five thousand two hundred and thirty\n",
            "Prediction:   6 7 6 8 5 2 3 0\n",
            "Ground truth: 6 7 6 8 5 2 3 0\n",
            "Source: six thousand two hundred and twelve\n",
            "Prediction:   6 2 1 2\n",
            "Ground truth: 6 2 1 2\n",
            "Source: seven hundred and ninety eight million three hundred and thirty one thousand eight hundred and eighteen\n",
            "Prediction:   7 9 8 3 3 1 8 1 8\n",
            "Ground truth: 7 9 8 3 3 1 8 1 8\n",
            "Source: eighty eight million four hundred and thirteen thousand nine hundred and eighteen\n",
            "Prediction:   8 8 4 1 3 9 1 8\n",
            "Ground truth: 8 8 4 1 3 9 1 8\n",
            "Source: three hundred and seventy four thousand two hundred and seventy\n",
            "Prediction:   3 7 4 2 7 0\n",
            "Ground truth: 3 7 4 2 7 0\n",
            "Source: ninety eight million three hundred and seventy thousand five hundred and forty five\n",
            "Prediction:   9 8 3 7 0 5 4 5\n",
            "Ground truth: 9 8 3 7 0 5 4 5\n",
            "Source: ninety seven thousand seven hundred and sixty two\n",
            "Prediction:   9 7 7 6 2\n",
            "Ground truth: 9 7 7 6 2\n",
            "Source: four hundred and ten thousand two hundred and three\n",
            "Prediction:   4 1 0 2 0 3\n",
            "Ground truth: 4 1 0 2 0 3\n",
            "Accuracy: 1.00\n"
          ]
        }
      ],
      "source": [
        "DEBUG_FIRST = 10  # set to 0 to disable printing predictions\n",
        "K = 1             # beam size 1\n",
        "\n",
        "correct = 0\n",
        "total = 0\n",
        "\n",
        "# create beam searcher\n",
        "beam_searcher = BeamSearcher(model)\n",
        "\n",
        "for index, batch in enumerate(test_iter, start=1):\n",
        "  # Input and output\n",
        "  src, src_lengths = batch.src\n",
        "  # Predict\n",
        "  prediction, _ = beam_searcher.beam_search(src, src_lengths, K)\n",
        "  # Convert to string\n",
        "  prediction = ' '.join([TGT.vocab.itos[token] for token in prediction])\n",
        "  prediction = prediction.lstrip('<bos>').rstrip('<eos>').strip()\n",
        "  ground_truth = ' '.join([TGT.vocab.itos[token] for token in batch.tgt.view(-1)])\n",
        "  ground_truth = ground_truth.lstrip('<bos>').rstrip('<eos>').strip()\n",
        "  if DEBUG_FIRST > index:\n",
        "    src = ' '.join([SRC.vocab.itos[item] for item in src.view(-1)])\n",
        "    print (f'Source: {src}')\n",
        "    print (f'Prediction:   {prediction}')\n",
        "    print (f'Ground truth: {ground_truth}')\n",
        "  if ground_truth == prediction:\n",
        "    correct += 1\n",
        "  total += 1\n",
        "\n",
        "print (f'Accuracy: {correct/total:.2f}')"
      ]
    },
    {
      "cell_type": "markdown",
      "id": "d5b990ec",
      "metadata": {
        "id": "d5b990ec"
      },
      "source": [
        "# Visualizing attention\n",
        "\n",
        "We can visualize how each query distributes its attention scores over each source word. "
      ]
    },
    {
      "cell_type": "code",
      "execution_count": 59,
      "id": "4a2d7cde",
      "metadata": {
        "id": "4a2d7cde",
        "colab": {
          "base_uri": "https://localhost:8080/",
          "height": 429
        },
        "outputId": "f59384b5-56fc-4705-e79d-a3d73b22a7b3"
      },
      "outputs": [
        {
          "output_type": "stream",
          "name": "stdout",
          "text": [
            "Source: sixteen thousand eight hundred and thirty two\n",
            "Prediction:   1 6 8 3 2\n",
            "Ground truth: 1 6 8 3 2\n"
          ]
        },
        {
          "output_type": "display_data",
          "data": {
            "text/plain": [
              "<Figure size 576x432 with 1 Axes>"
            ],
            "image/png": "[encoded data removed]"
          },
          "metadata": {
            "needs_background": "light"
          }
        }
      ],
      "source": [
        "K = 1 # this code only works for beam size 1\n",
        "\n",
        "# Create beam searcher\n",
        "beam_searcher = BeamSearcher(model)\n",
        "batch = next(iter(test_iter))\n",
        "# Input and output\n",
        "src, src_lengths = batch.src\n",
        "# Predict and get attentions\n",
        "prediction, all_attns = beam_searcher.beam_search(src, src_lengths, K)\n",
        "all_attns = torch.stack(all_attns, 0)\n",
        "# Convert to string\n",
        "prediction = ' '.join([TGT.vocab.itos[token] for token in prediction])\n",
        "prediction = prediction.lstrip('<bos>').rstrip('<eos>').strip()\n",
        "ground_truth = ' '.join([TGT.vocab.itos[token] for token in batch.tgt.view(-1)])\n",
        "ground_truth = ground_truth.lstrip('<bos>').rstrip('<eos>').strip()\n",
        "src = ' '.join([SRC.vocab.itos[item] for item in src.view(-1)])\n",
        "print (f'Source: {src}')\n",
        "print (f'Prediction:   {prediction}')\n",
        "print (f'Ground truth: {ground_truth}')\n",
        "\n",
        "# Plot\n",
        "fig, ax = plt.subplots(figsize=(8, 6))\n",
        "\n",
        "ax.imshow(all_attns[:,0,:].detach().cpu())\n",
        "ax.set_yticks(list(range(1+len(prediction.split()))));\n",
        "ax.set_yticklabels(prediction.split() + ['eos']);\n",
        "ax.set_xticks(list(range(len(src.split()))));\n",
        "ax.set_xticklabels(src.split());\n",
        "\n",
        "# Uncomment the line below if the plot does not show up\n",
        "# Make sure to comment that before submitting to gradescope\n",
        "# since there would be some autograder issues with plt.show()\n",
        "#plt.show()"
      ]
    },
    {
      "cell_type": "markdown",
      "id": "b42c1cc7",
      "metadata": {
        "id": "b42c1cc7"
      },
      "source": [
        "Do these attentions make sense? Do you see how the attention mechanism solves the bottleneck problem in vanilla seq2seq?"
      ]
    },
    {
      "cell_type": "markdown",
      "id": "e081cedc",
      "metadata": {
        "id": "e081cedc"
      },
      "source": [
        "# The transformer architecture"
      ]
    },
    {
      "cell_type": "markdown",
      "id": "26fda71d",
      "metadata": {
        "id": "26fda71d"
      },
      "source": [
        "In RNN-based neural encoder-decoder models, we used recurrence to model the dependencies among words. For example, by running a unidirectional RNN from $y_{1}$ to $y_{t}$, we can consider the past history when predicting $y_{t+1}$. However, running an RNN over a sequence is a serial process: we need to wait for it to finish running from $y_1$ to $y_t$ before being able to compute the outputs at $y_{t+1}$. This serial process cannot be parallelized on GPUs along the sequence length dimension: even during training where all $y_t$'s are available, we cannot compute the logits for $y_t$ and the logits for $y_{t+1}$ in parallel.\n",
        "\n",
        "The attention mechanism provides an alternative, and most importantly, parallelizable solution. [The transformer model](https://arxiv.org/abs/1706.03762) completely gets rid of recurrence and only uses attention to model the dependencies among words. For example, we can use attention to incorporate the representations from $y_1$ to $y_t$ when predicting $y_{t+1}$, simply by attending to their word embeddings. This is called _decoder self-attention_.\n",
        "\n"
      ]
    },
    {
      "cell_type": "markdown",
      "id": "2d018cac",
      "metadata": {
        "deletable": false,
        "editable": false,
        "id": "2d018cac"
      },
      "source": [
        "<!-- BEGIN QUESTION -->\n",
        "\n",
        "**Question:** By getting rid of recurrence and only using decoder self-attention, can we compute the logits for any two different words $y_{t_1}$ and $y_{t_2}$ in parallel at training time (only consider decoder for now)? Why?\n",
        "\n",
        "<!--\n",
        "BEGIN QUESTION\n",
        "name: open_response_transformer_parallel\n",
        "manual: true\n",
        "-->"
      ]
    },
    {
      "cell_type": "markdown",
      "id": "b6f716b7",
      "metadata": {
        "id": "b6f716b7"
      },
      "source": [
        "**_In general, we can not compute the logits for any two different words in parallel, since there is a dependency between previous logits to future logits, and that apply to training time as well to inference._**\n",
        "\n",
        "**_However, According to papers online and few notes in our reading magterial, in practice the decoding using self-attention during training is done in parallel, mostly thanks to a a method called 'Teacher Forcing'. The idea behind this method is that instead of taking the previous output of the model at step t as input at step t+1, we can used the ground truth output at step t (that's like using our output as part of the input). That works since during training, the output words predicted previously are known, beacuse they are taken from the target side (ground truth) of our training data (which is parallel). This way, we avoid the dependency between logits of different time steps._**"
      ]
    },
    {
      "cell_type": "markdown",
      "id": "fd4c8224",
      "metadata": {
        "id": "fd4c8224"
      },
      "source": [
        "<!-- END QUESTION -->\n",
        "\n",
        "\n",
        "\n",
        "Similarly, at the encoder side, for each word $x_i$, we let it attend to the embeddings of $x_1, \\ldots, x_S$, to model the context in which $x_i$ appears. This is called _encoder self-attention_. It is different from decoder self-attention in that here every word attends to all words, but at the decoder side, every word can only attend to the previous words (since the prediction of word $y_t$ cannot use the information from any $y_{\\ge t}$).\n",
        "\n",
        "To incorporate source-side information at the decoder side, at each time step, we let the decoder attend to the top-layer encoder outputs, as we did in the RNN-based encoder-decoder model above. This is called _cross-attention_. Note that there's no initialization of decoder hidden state here, since we no longer use an RNN.\n",
        "\n",
        "The process we describe above is only a single layer of attention. In practice, transformers stack multiple layers of attention and feedforward layers, using the outputs from the layer below as the inputs to the layer above, as shown in the illustration below.\n",
        "\n",
        "<img src=\"https://github.com/nlp-course/data/raw/master/img/transformer.png\" alt=\"transformer illustration\" />\n",
        "\n",
        "In the above illustration, due to space limits, we ommited the details of encoder self-attention and decoder self-attention, and we describe it here, using encoder-self-attention at layer 0 as an example. First, we use three linear projections to project each hidden state $h_{0,i}$ to a query vector $q_{0,i}$, a key vector $k_{0,i}$, and a value vector $v_{0,i}$. Then at each position $i$, we use $q_i$ as the query, and $\\{(k_{0,j}, v_{0,j}): j \\in \\{1, \\ldots, S\\}\\}$ as keys/values to produce a context vector $c_{0,i}$. Note that the keys/values are the same for different positions, and the only difference is that a different query vector is used for each position.\n",
        "\n",
        "A clear difference between the transformer architecture and the RNN-based encoder decoder architecture is that there are no horizontal arrows in the transformer model: transformers only use position-wise operations and attention operations. The dependencies among words are **only introduced by the attention operations**, while the other operations such as feedforwad, nonlinearity, and normalization are position-wise, that is, they do not depend on other positions, and can thus be performed in parallel."
      ]
    },
    {
      "cell_type": "markdown",
      "id": "b7c838f7",
      "metadata": {
        "deletable": false,
        "editable": false,
        "id": "b7c838f7"
      },
      "source": [
        "<!-- BEGIN QUESTION -->\n",
        "\n",
        "**Question:** In the above transformer model, if we shuffle the input words $x_1, \\ldots, x_4$, would we get a different distribution over $y$? Why or why not?\n",
        "\n",
        "<!--\n",
        "BEGIN QUESTION\n",
        "name: open_response_transformer_shuffle\n",
        "manual: true\n",
        "-->"
      ]
    },
    {
      "cell_type": "markdown",
      "id": "74e8e5a6",
      "metadata": {
        "id": "74e8e5a6"
      },
      "source": [
        "**_No, we would get the same distribution over y, since we don't use positional embedding (As described later and described in our reading material)._**"
      ]
    },
    {
      "cell_type": "markdown",
      "id": "b4e0eaf1",
      "metadata": {
        "id": "b4e0eaf1"
      },
      "source": [
        "<!-- END QUESTION -->\n",
        "\n",
        "\n",
        "\n",
        "Since the transformer model itself doesn't have any sense of position/order, we encode the position of the word in the sentence, and add it to the word embedding as the input representation, as illustrated below.\n",
        "\n",
        "<img src=\"https://github.com/nlp-course/data/raw/master/img/transformer_pos.png\" alt=\"transformer w/ positional encoding illustration\" />\n",
        "\n",
        "> The illustrations above also omitted residual connections, which add the inputs to certain operations (such as attention and feedforward) to the outputs. More details can be found in the code below."
      ]
    },
    {
      "cell_type": "markdown",
      "id": "a2e5a9ba",
      "metadata": {
        "deletable": false,
        "editable": false,
        "id": "a2e5a9ba"
      },
      "source": [
        "## Causal attention mask\n",
        "\n",
        "To efficiently train the transformer model, we want to batch the attention operations together such that they can be fully parallelized along the sequence length dimension. (The non-attention operations are position-wise so they are trivally parallelizable.) This is quite straightforward for encoder self-attention and decoder-encoder cross-attention given our batched implementation of the `attention` function. However, things are a bit trickier for the decoder: each word $y_t$ attends to $t-1$ previous words $y_1, \\ldots, y_{t-1}$, which means each word $y_t$ has a different set of key-value pairs. Is it possible to batch them together?\n",
        "\n",
        "The solution is to use *attention masks*. For every word $y_t$, we give it all key-value pairs at $y_1, \\ldots, y_T$, and we disallow attending to future words $y_{t}, y_{t+1},\\ldots, y_T$ through an attention mask. (Recall that the `attention` function takes a `mask` argument.) We usually call this attention mask a _causal attention mask_, as it prevents the leakage of information from the future into the past. Since every $y_t$ has the same set of (key, value) pairs, we can batch them and compute the context vectors using a single call to the function `attention`.\n",
        "\n",
        "What should such a mask be? Implement the `causal_mask` function below to generate this mask.\n",
        "\n",
        "> Hint: you might find [`torch.triu`](https://pytorch.org/docs/stable/generated/torch.triu.html) useful.\n",
        "\n",
        "<!--\n",
        "BEGIN QUESTION\n",
        "name: causal_attention_mask\n",
        "-->"
      ]
    },
    {
      "cell_type": "code",
      "execution_count": 60,
      "id": "c75195db",
      "metadata": {
        "id": "c75195db"
      },
      "outputs": [],
      "source": [
        "#TODO - implement this function, which returns a causal attention mask\n",
        "def causal_mask(T):\n",
        "  \"\"\"\n",
        "  Generate a causal mask.\n",
        "  Arguments:\n",
        "      T: the length of target sequence\n",
        "  Returns:\n",
        "      mask: a T x T tensor, where `mask[i, j]` should be `True` \n",
        "      if y_i can attend to y_{j-1} (there's a \"-1\" since the first \n",
        "      token in decoder input is <bos>) and `False` if y_i cannot \n",
        "      attend to y_{j-1}\n",
        "  \"\"\"\n",
        "  mask = torch.ones((T,T), dtype=torch.bool)\n",
        "  mask = torch.triu(mask)\n",
        "  mask = torch.transpose(mask, 0, 1)\n",
        "  return mask.to(device)"
      ]
    },
    {
      "cell_type": "code",
      "execution_count": 61,
      "id": "a7ca3bb7",
      "metadata": {
        "deletable": false,
        "editable": false,
        "id": "a7ca3bb7",
        "colab": {
          "base_uri": "https://localhost:8080/",
          "height": 46
        },
        "outputId": "6b812f4d-23c8-47ae-baf0-64019561b114"
      },
      "outputs": [
        {
          "output_type": "execute_result",
          "data": {
            "text/plain": [
              "\n",
              "    All tests passed!\n",
              "    "
            ],
            "text/html": [
              "\n",
              "    \n",
              "    \n",
              "        <p>All tests passed!</p>\n",
              "    \n",
              "    "
            ]
          },
          "metadata": {},
          "execution_count": 61
        }
      ],
      "source": [
        "grader.check(\"causal_attention_mask\")"
      ]
    },
    {
      "cell_type": "markdown",
      "id": "5d73c932",
      "metadata": {
        "id": "5d73c932"
      },
      "source": [
        "We can visualize the attention mask and manually check if it's what we expected."
      ]
    },
    {
      "cell_type": "code",
      "execution_count": 62,
      "id": "8e243146",
      "metadata": {
        "id": "8e243146",
        "colab": {
          "base_uri": "https://localhost:8080/",
          "height": 392
        },
        "outputId": "ec0cdd47-5d52-46bf-e32a-593dba152168"
      },
      "outputs": [
        {
          "output_type": "execute_result",
          "data": {
            "text/plain": [
              "<matplotlib.image.AxesImage at 0x7f3fb4740ed0>"
            ]
          },
          "metadata": {},
          "execution_count": 62
        },
        {
          "output_type": "display_data",
          "data": {
            "text/plain": [
              "<Figure size 576x432 with 1 Axes>"
            ],
            "image/png": "[encoded data removed]"
          },
          "metadata": {
            "needs_background": "light"
          }
        }
      ],
      "source": [
        "fig, ax = plt.subplots(figsize=(8, 6))\n",
        "\n",
        "T = 7\n",
        "mask = causal_mask(T)\n",
        "ax.imshow(mask.cpu())\n",
        "\n",
        "# Uncomment the line below if the plot does not show up\n",
        "# Make sure to comment that before submitting to gradescope\n",
        "# since there would be some autograder issues with `plt.show()`\n",
        "#plt.show()"
      ]
    },
    {
      "cell_type": "markdown",
      "id": "2fe96668",
      "metadata": {
        "id": "2fe96668"
      },
      "source": [
        "As we have emphasized multiple times, unlike RNN-based encoder-decoders, transformer encoder/decoders are parallelizable in the sequence length dimension, even for the decoder: by using causal masks, all positions (at the same layer) can be computed all at once (if the lower layer has been computed). The parallelizability of transformers is the key to its success since it allows for training it on vast amounts of data."
      ]
    },
    {
      "cell_type": "markdown",
      "id": "beaddb93",
      "metadata": {
        "deletable": false,
        "editable": false,
        "id": "beaddb93"
      },
      "source": [
        "Now we are ready to complete the implementation of the transformer model. The code is structured as a set of classes: `TransformerEncoderLayer`\\*, `TransformerEncoder`, `TransformDecoderLayer`\\*, `TransformDecoder`, `PositionalEmbedding`, and `TransformerEncoderDecoder`\\*. We've provided almost all the necessary code. In particular, we provide code for all position-wise operations. Your job is only to implement the parts involving attention and to figure out the correct attention masks, which involves only the three classes marked above with a star.\n",
        "\n",
        "> Hint: Completing this transformer implementation should require very little code, just a few lines.\n",
        "\n",
        "> Hint: The causal mask is a 2-D matrix, but we want to add a batch dimension, and expand it to be of the desired size. For this purpose, you can use [`torch.repeat`](https://pytorch.org/docs/stable/tensors.html#torch.Tensor.repeat).\n",
        "\n",
        "<!--\n",
        "BEGIN QUESTION\n",
        "name: transformer\n",
        "-->"
      ]
    },
    {
      "cell_type": "code",
      "execution_count": 63,
      "id": "eb483566",
      "metadata": {
        "id": "eb483566"
      },
      "outputs": [],
      "source": [
        "#TODO - implement `forward_encoder` and `forward_decoder`.\n",
        "# `TransformerEncoderDecoder` inherits most functions from `AttnEncoderDecoder`\n",
        "class TransformerEncoderDecoder(AttnEncoderDecoder):\n",
        "  def __init__(self, src_field, tgt_field, hidden_size=64, layers=3):\n",
        "    \"\"\"\n",
        "    Initializer. Creates network modules and loss function.\n",
        "    Arguments:\n",
        "        src_field: src field\n",
        "        tgt_field: tgt field\n",
        "        hidden_size: hidden layer size of both encoder and decoder\n",
        "        layers: number of layers of both encoder and decoder\n",
        "    \"\"\"\n",
        "    super(AttnEncoderDecoder, self).__init__()\n",
        "    self.src_field = src_field\n",
        "    self.tgt_field = tgt_field\n",
        "    \n",
        "    # Keep the vocabulary sizes available\n",
        "    self.V_src = len(src_field.vocab.itos)\n",
        "    self.V_tgt = len(tgt_field.vocab.itos)\n",
        "    \n",
        "    # Get special word ids\n",
        "    self.padding_id_src = src_field.vocab.stoi[src_field.pad_token]\n",
        "    self.padding_id_tgt = tgt_field.vocab.stoi[tgt_field.pad_token]\n",
        "    self.bos_id = tgt_field.vocab.stoi[tgt_field.init_token]\n",
        "    self.eos_id = tgt_field.vocab.stoi[tgt_field.eos_token]\n",
        "\n",
        "    # Keep hyper-parameters available\n",
        "    self.embedding_size = hidden_size\n",
        "    self.hidden_size = hidden_size\n",
        "    self.layers = layers\n",
        "\n",
        "    # Create essential modules\n",
        "    self.encoder = TransformerEncoder(self.V_src, hidden_size, layers)\n",
        "    self.decoder = TransformerDecoder(self.V_tgt, hidden_size, layers)\n",
        "\n",
        "    # Final projection layer\n",
        "    self.hidden2output = nn.Linear(hidden_size, self.V_tgt)\n",
        "   \n",
        "    # Create loss function\n",
        "    self.loss_function = nn.CrossEntropyLoss(reduction='sum', \n",
        "                                             ignore_index=self.padding_id_tgt)\n",
        "\n",
        "  def forward_encoder(self, src, src_lengths):\n",
        "    \"\"\"\n",
        "    Encodes source words `src`.\n",
        "    Arguments:\n",
        "        src: src batch of size (max_src_len, bsz)\n",
        "        src_lengths: src lengths (bsz)\n",
        "    Returns:\n",
        "        memory_bank: a tensor of size (src_len, bsz, hidden_size) \n",
        "    \"\"\"\n",
        "    # The reason we don't directly pass in src_mask as in `forward_decoder` is to\n",
        "    # enable us to reuse beam search implemented for RNN-based encoder-decoder\n",
        "    src_len = src.size(0)\n",
        "    #TODO - compute `encoder_self_attn_mask`\n",
        "    src_mask = src.ne(self.padding_id_src)\n",
        "    encoder_self_attn_mask = src_mask.transpose(0,1).unsqueeze(1).repeat(1,src_len,1)\n",
        "\n",
        "    memory_bank = self.encoder(src, encoder_self_attn_mask)\n",
        "    return memory_bank, None\n",
        "\n",
        "  def forward_decoder(self, tgt_in, memory_bank, src_mask):\n",
        "    \"\"\"\n",
        "    Decodes based on memory bank, and ground truth target words.\n",
        "    Arguments:\n",
        "        tgt_in: a tensor of size (tgt_len, bsz)\n",
        "        memory_bank: a tensor of size (src_len, bsz, hidden_size), encoder outputs \n",
        "                     at every position\n",
        "        src_mask: a tensor of size (src_len, bsz) which is `False` for source paddings\n",
        "    Returns:\n",
        "        Logits of size (tgt_len, bsz, V_tgt) (before the softmax operation)\n",
        "    \"\"\"\n",
        "    tgt_len = tgt_in.size(0)\n",
        "    bsz = tgt_in.size(1)\n",
        "    #TODO - compute `cross_attn_mask` and `decoder_self_attn_mask`\n",
        "\n",
        "    #0.75\n",
        "    cross_attn_mask = src_mask.repeat(tgt_len,1,1)\n",
        "    cross_attn_mask = cross_attn_mask.transpose(1,2)\n",
        "    cross_attn_mask = cross_attn_mask.transpose(0,1)\n",
        "    decoder_self_attn_mask = causal_mask(tgt_len).repeat(bsz,1,1)\n",
        "    \n",
        "    outputs = self.decoder(tgt_in, memory_bank, cross_attn_mask, decoder_self_attn_mask)\n",
        "    logits = self.hidden2output(outputs)\n",
        "    return logits\n",
        "\n",
        "  def forward(self, src, src_lengths, tgt_in):\n",
        "    \"\"\"\n",
        "    Performs forward computation, returns logits.\n",
        "    Arguments:\n",
        "        src: src batch of size (max_src_len, bsz)\n",
        "        src_lengths: src lengths of size (bsz)\n",
        "        tgt_in:  a tensor of size (tgt_len, bsz)\n",
        "    \"\"\"\n",
        "    src_mask = src.ne(self.padding_id_src) # max_src_len, bsz\n",
        "    # Forward encoder\n",
        "    memory_bank, _ = self.forward_encoder(src, src_lengths)\n",
        "    # Forward decoder\n",
        "    logits = self.forward_decoder(tgt_in, memory_bank, src_mask)\n",
        "    return logits\n",
        "\n",
        "  def forward_decoder_incrementally(self, prev_decoder_states, tgt_in_onestep, \n",
        "                                    memory_bank, src_mask, normalize=True):\n",
        "    \"\"\"\n",
        "    Forward the decoder at `decoder_state` for a single step with token `tgt_in_onestep`.\n",
        "    This function will be used in beam search. Note that the implementation here is\n",
        "    very inefficient, since we do not cache any decoder state, but instead we only\n",
        "    cache previously generated tokens in `prev_decoder_states`, and do a fresh\n",
        "    `forward_decoder`.\n",
        "    Arguments:\n",
        "        prev_decoder_states: previous tgt words. None for the first step.\n",
        "        tgt_in_onestep: a tensor of size (bsz), tokens at one step\n",
        "        memory_bank: a tensor of size (src_len, bsz, hidden_size), src hidden states \n",
        "                     at every position\n",
        "        src_mask: a tensor of size (src_len, bsz): a boolean tensor, `False` where\n",
        "                  src is padding.\n",
        "        normalize: use log_softmax to normalize or not. Beam search needs to normalize,\n",
        "                   while `forward_decoder` does not\n",
        "    Returns:\n",
        "        logits: Log probabilities for `tgt_in_token` of size (bsz, V_tgt)\n",
        "        decoder_states: we use tgt words up to now as states, a tensor of size (len, bsz)\n",
        "        None: to keep output format the same as AttnEncoderDecoder, such that we can\n",
        "              reuse beam search code\n",
        "        \n",
        "    \"\"\"\n",
        "    prev_tgt_in = prev_decoder_states # tgt_len, bsz\n",
        "    src_len = memory_bank.size(0)\n",
        "    bsz = memory_bank.size(1)\n",
        "    tgt_in_onestep = tgt_in_onestep.view(1, -1) # 1, bsz\n",
        "    if prev_tgt_in is not None:\n",
        "      tgt_in = torch.cat((prev_tgt_in, tgt_in_onestep), 0) # tgt_len+1, bsz\n",
        "    else:\n",
        "      tgt_in = tgt_in_onestep\n",
        "    tgt_len = tgt_in.size(1)\n",
        "    \n",
        "    logits = self.forward_decoder(tgt_in, memory_bank, src_mask)\n",
        "    logits = logits[-1]\n",
        "    if normalize:\n",
        "      logits = torch.log_softmax(logits, dim=-1)\n",
        "    decoder_states = tgt_in\n",
        "    return logits, decoder_states, None"
      ]
    },
    {
      "cell_type": "code",
      "execution_count": 64,
      "id": "d588138f",
      "metadata": {
        "id": "d588138f"
      },
      "outputs": [],
      "source": [
        "class TransformerEncoder(nn.Module):\n",
        "  r\"\"\"TransformerEncoder is an embedding layer and a stack of N encoder layers.\n",
        "  Arguments:\n",
        "      hidden_size: hidden size.\n",
        "      layers: the number of encoder layers.\n",
        "  \"\"\"\n",
        "\n",
        "  def __init__(self, vocab_size, hidden_size, layers):\n",
        "    super().__init__()\n",
        "    self.embed = PositionalEmbedding(vocab_size, hidden_size)\n",
        "    encoder_layer = TransformerEncoderLayer(hidden_size)\n",
        "    self.layers = _get_clones(encoder_layer, layers)\n",
        "    self.norm = nn.LayerNorm(hidden_size)\n",
        "\n",
        "  def forward(self, src, encoder_self_attn_mask):\n",
        "    r\"\"\"Pass the input through the word embedding layer, followed by\n",
        "    the encoder layers in turn.\n",
        "    Arguments:\n",
        "        src: src batch of size (max_src_len, bsz)\n",
        "        encoder_self_attn_mask: the mask for encoder self-attention, it's of size\n",
        "                                (bsz, max_src_len, max_src_len)\n",
        "    Returns:\n",
        "        a tensor of size (max_src_len, bsz, hidden_size)\n",
        "    \"\"\"\n",
        "    output = self.embed(src)\n",
        "    for mod in self.layers:\n",
        "      output = mod(output, encoder_self_attn_mask=encoder_self_attn_mask)\n",
        "    output = self.norm(output)\n",
        "    return output\n",
        "\n",
        "\n",
        "class TransformerEncoderLayer(nn.Module):\n",
        "  r\"\"\"TransformerEncoderLayer is made up of self-attn and feedforward network.\n",
        "  Arguments:\n",
        "      hidden_size: hidden size.\n",
        "  \"\"\"\n",
        "\n",
        "  def __init__(self, hidden_size):\n",
        "    super(TransformerEncoderLayer, self).__init__()\n",
        "    self.hidden_size = hidden_size\n",
        "    fwd_hidden_size = hidden_size * 4\n",
        "    \n",
        "    # Create modules\n",
        "    self.linear1 = nn.Linear(hidden_size, fwd_hidden_size)\n",
        "    self.linear2 = nn.Linear(fwd_hidden_size, hidden_size)\n",
        "    self.norm1 = nn.LayerNorm(hidden_size)\n",
        "    self.norm2 = nn.LayerNorm(hidden_size)\n",
        "    self.activation = nn.ReLU()\n",
        "    # Attention related\n",
        "    self.q_proj = nn.Linear(hidden_size, hidden_size)\n",
        "    self.k_proj = nn.Linear(hidden_size, hidden_size)\n",
        "    self.v_proj = nn.Linear(hidden_size, hidden_size)\n",
        "    self.context_proj = nn.Linear(hidden_size, hidden_size)\n",
        "\n",
        "\n",
        "  def forward(self, src, encoder_self_attn_mask):\n",
        "    r\"\"\"Pass the input through the encoder layer.\n",
        "    Arguments:\n",
        "        src: an input tensor of size (max_src_len, bsz, hidden_size).\n",
        "        encoder_self_attn_mask: attention mask of size (bsz, max_src_len, max_src_len),\n",
        "                                it's `False` where the corresponding attention is disabled\n",
        "    Returns:\n",
        "        a tensor of size (max_src_len, bsz, hidden_size).\n",
        "    \"\"\"\n",
        "    # Attend\n",
        "    q = self.q_proj(src) / math.sqrt(self.hidden_size) # a trick needed to make transformer work\n",
        "    k = self.k_proj(src)\n",
        "    v = self.v_proj(src)\n",
        "    #TODO - compute `context`\n",
        "    _,context = attention(q,k,v,encoder_self_attn_mask) # ours\n",
        "    src2 = self.context_proj(context) # ours\n",
        "    # Residual connection\n",
        "    src = src + src2\n",
        "    src = self.norm1(src)\n",
        "    # Feedforward for each position\n",
        "    src2 = self.linear2(self.activation(self.linear1(src)))\n",
        "    src = src + src2\n",
        "    src = self.norm2(src)\n",
        "    return src\n",
        "\n",
        "\n",
        "class TransformerDecoder(nn.Module):\n",
        "  r\"\"\"TransformerDecoder is an embedding layer and a stack of N decoder layers.\n",
        "  Arguments:\n",
        "      hidden_size: hidden size.\n",
        "      layers: the number of sub-encoder-layers in the encoder.\n",
        "  \"\"\"\n",
        "  def __init__(self, vocab_size, hidden_size, layers):\n",
        "    super(TransformerDecoder, self).__init__()\n",
        "    self.embed = PositionalEmbedding(vocab_size, hidden_size)\n",
        "    decoder_layer = TransformerDecoderLayer(hidden_size)\n",
        "    self.layers = _get_clones(decoder_layer, layers)\n",
        "    self.norm = nn.LayerNorm(hidden_size)\n",
        "\n",
        "  def forward(self, tgt_in, memory, cross_attn_mask, decoder_self_attn_mask):\n",
        "    r\"\"\"Pass the inputs (and mask) through the word embedding layer, followed by\n",
        "    the decoder layer in turn.\n",
        "    Arguments:\n",
        "        tgt_in: tgt batch of size (max_tgt_len, bsz)\n",
        "        memory: the outputs of the encoder (max_src_len, bsz, hidden_size)\n",
        "        cross_attn_mask: attention mask of size (bsz, max_tgt_len, max_src_len), \n",
        "                         it's `False` where the cross-attention is disallowed.\n",
        "        decoder_self_attn_mask: attention mask of size (bsz, max_tgt_len, max_tgt_len),\n",
        "                                it's `False` where the self-attention is disallowed.\n",
        "    Returns:\n",
        "        a tensor of size (max_tgt_len, bsz, hidden_size)\n",
        "    \"\"\"\n",
        "    output = self.embed(tgt_in)\n",
        "    for mod in self.layers:\n",
        "      output = mod(output, memory, cross_attn_mask=cross_attn_mask, \\\n",
        "                   decoder_self_attn_mask=decoder_self_attn_mask)\n",
        "\n",
        "    output = self.norm(output)\n",
        "    return output\n",
        "\n",
        "\n",
        "class TransformerDecoderLayer(nn.Module):\n",
        "  r\"\"\"TransformerDecoderLayer is made up of self-attn, cross-attn, and \n",
        "  feedforward network.\n",
        "  Arguments:\n",
        "      hidden_size: hidden size.\n",
        "  \"\"\"\n",
        "\n",
        "  def __init__(self, hidden_size):\n",
        "    super(TransformerDecoderLayer, self).__init__()\n",
        "    self.hidden_size = hidden_size\n",
        "    fwd_hidden_size = hidden_size * 4\n",
        "    \n",
        "    # Create modules\n",
        "    self.linear1 = nn.Linear(hidden_size, fwd_hidden_size)\n",
        "    self.linear2 = nn.Linear(fwd_hidden_size, hidden_size)\n",
        "    \n",
        "    self.activation = nn.ReLU()\n",
        "\n",
        "    self.norm1 = nn.LayerNorm(hidden_size)\n",
        "    self.norm2 = nn.LayerNorm(hidden_size)\n",
        "    self.norm3 = nn.LayerNorm(hidden_size)\n",
        "    \n",
        "    # Attention related\n",
        "    self.q_proj_self = nn.Linear(hidden_size, hidden_size)\n",
        "    self.k_proj_self = nn.Linear(hidden_size, hidden_size)\n",
        "    self.v_proj_self = nn.Linear(hidden_size, hidden_size)\n",
        "    self.context_proj_self = nn.Linear(hidden_size, hidden_size)\n",
        "    \n",
        "    self.q_proj_cross = nn.Linear(hidden_size, hidden_size)\n",
        "    self.k_proj_cross = nn.Linear(hidden_size, hidden_size)\n",
        "    self.v_proj_cross = nn.Linear(hidden_size, hidden_size)\n",
        "    self.context_proj_cross = nn.Linear(hidden_size, hidden_size)\n",
        "\n",
        "  def forward(self, tgt, memory, cross_attn_mask, decoder_self_attn_mask):\n",
        "    r\"\"\"Pass the inputs (and mask) through the decoder layer.\n",
        "    Arguments:\n",
        "        tgt: an input tensor of size (max_tgt_len, bsz, hidden_size).\n",
        "        memory: encoder outputs of size (max_src_len, bsz, hidden_size).\n",
        "        cross_attn_mask: attention mask of size (bsz, max_tgt_len, max_src_len), \n",
        "                         it's `False` where the cross-attention is disallowed.\n",
        "        decoder_self_attn_mask: attention mask of size (bsz, max_tgt_len, max_tgt_len),\n",
        "                                it's `False` where the self-attention is disallowed.\n",
        "    Returns:\n",
        "        a tensor of size (max_tgt_len, bsz, hidden_size)\n",
        "    \"\"\"\n",
        "    # Self attention (decoder-side)\n",
        "    q = self.q_proj_self(tgt) / math.sqrt(self.hidden_size)\n",
        "    k = self.k_proj_self(tgt)\n",
        "    v = self.v_proj_self(tgt)\n",
        "    #TODO - compute `context`\n",
        "    _,context = attention(q,k,v,decoder_self_attn_mask) # ours\n",
        "    tgt2 = self.context_proj_self(context) # ours\n",
        "    tgt = tgt + tgt2\n",
        "    tgt = self.norm1(tgt)\n",
        "    # Cross attention (decoder attends to encoder)\n",
        "    q = self.q_proj_cross(tgt) / math.sqrt(self.hidden_size)\n",
        "    k = self.k_proj_cross(memory)\n",
        "    v = self.v_proj_cross(memory)\n",
        "    #TODO - compute `context`\n",
        "    _,context = attention(q,k,v,cross_attn_mask)  # ours\n",
        "    tgt2 = self.context_proj_cross(context)\n",
        "    tgt = tgt + tgt2\n",
        "    tgt = self.norm2(tgt)\n",
        "    tgt2 = self.linear2(self.activation(self.linear1(tgt)))\n",
        "    tgt = tgt + tgt2\n",
        "    tgt = self.norm3(tgt)\n",
        "    return tgt\n",
        "\n",
        "class PositionalEmbedding(nn.Module):\n",
        "  \"\"\"\"Embeds a word both by its word id and by its position in the sentence.\"\"\"\n",
        "  def __init__(self, vocab_size, embedding_size, max_len=1024):\n",
        "    super(PositionalEmbedding, self).__init__()\n",
        "    self.embedding_size = embedding_size\n",
        "\n",
        "    self.embed = nn.Embedding(vocab_size, embedding_size)\n",
        "    pe = torch.zeros(max_len, embedding_size)\n",
        "    position = torch.arange(0, max_len).unsqueeze(1)\n",
        "    div_term = torch.exp(torch.arange(0, embedding_size, 2) *\n",
        "                         -(math.log(10000.0) / embedding_size))\n",
        "    pe[:, 0::2] = torch.sin(position * div_term)\n",
        "    pe[:, 1::2] = torch.cos(position * div_term)\n",
        "    pe = pe.unsqueeze(1) # max_len, 1, embedding_size\n",
        "    self.register_buffer('pe', pe)\n",
        "\n",
        "  def forward(self, batch):\n",
        "    x = self.embed(batch) * math.sqrt(self.embedding_size) # type embedding\n",
        "    # Add positional encoding to type embedding\n",
        "    x = x + self.pe[:x.size(0)].detach()\n",
        "    return x\n",
        "\n",
        "\n",
        "def _get_clones(module, N):\n",
        "  \"\"\"Copies a module `N` times\"\"\"\n",
        "  return nn.ModuleList([copy.deepcopy(module) for i in range(N)])"
      ]
    },
    {
      "cell_type": "code",
      "execution_count": 65,
      "id": "df1fcc77",
      "metadata": {
        "id": "df1fcc77",
        "colab": {
          "base_uri": "https://localhost:8080/"
        },
        "outputId": "990a964b-c6fc-4d4c-eba8-5decd9794da3"
      },
      "outputs": [
        {
          "output_type": "stream",
          "name": "stderr",
          "text": [
            "100%|██████████| 2032/2032 [00:53<00:00, 38.30it/s]\n"
          ]
        },
        {
          "output_type": "stream",
          "name": "stdout",
          "text": [
            "Epoch: 0 Training Perplexity: 2.2093 Validation Perplexity: 1.3195\n"
          ]
        },
        {
          "output_type": "stream",
          "name": "stderr",
          "text": [
            "100%|██████████| 2032/2032 [00:53<00:00, 37.80it/s]\n"
          ]
        },
        {
          "output_type": "stream",
          "name": "stdout",
          "text": [
            "Epoch: 1 Training Perplexity: 1.2673 Validation Perplexity: 1.1367\n"
          ]
        },
        {
          "output_type": "execute_result",
          "data": {
            "text/plain": [
              "<All keys matched successfully>"
            ]
          },
          "metadata": {},
          "execution_count": 65
        }
      ],
      "source": [
        "EPOCHS = 2 # epochs, we highly recommend starting with a smaller number like 1\n",
        "LEARNING_RATE = 2e-3 # learning rate\n",
        "\n",
        "# Instantiate and train classifier\n",
        "model_transformer = TransformerEncoderDecoder(SRC, TGT,\n",
        "  hidden_size    = 64,\n",
        "  layers         = 3,\n",
        ").to(device)\n",
        "\n",
        "model_transformer.train_all(train_iter, val_iter, epochs=EPOCHS, learning_rate=LEARNING_RATE)\n",
        "model_transformer.load_state_dict(model_transformer.best_model)"
      ]
    },
    {
      "cell_type": "markdown",
      "id": "0a05ede1",
      "metadata": {
        "id": "0a05ede1"
      },
      "source": [
        "You might notice that in these experiments training transformers doesn't appear to be faster than training RNNs. There are two reasons for that: first, we are not using GPUs; second, even if you use GPUs, the sequences here are too short to observe the benefits of parallelizing along the horizontal direction. In real datasets with long sentences, training transformers is much faster than training RNNs, so under the same computational budget, using transformers allows for training on much larger datasets. This is one of the primary reasons transformers dominate NLP research these days."
      ]
    },
    {
      "cell_type": "markdown",
      "id": "2fbf95e5",
      "metadata": {
        "deletable": false,
        "editable": false,
        "id": "2fbf95e5"
      },
      "source": [
        "<!-- BEGIN QUESTION -->\n",
        "\n",
        "**Question:** Would there be any speed advantage of decoding (generation) using transformers compared to RNNs? Why or why not?\n",
        "\n",
        "<!--\n",
        "BEGIN QUESTION\n",
        "name: open_response_transformer_decoding_speed\n",
        "manual: true\n",
        "-->"
      ]
    },
    {
      "cell_type": "markdown",
      "id": "a2b5ad8f",
      "metadata": {
        "id": "a2b5ad8f"
      },
      "source": [
        "**_Although i am not sure i saw this speed advantage on our task, in general decoding of transformers is faster then with RNN due the ability to do it parallel (at least in parts of the process)._**"
      ]
    },
    {
      "cell_type": "markdown",
      "id": "3d8c1857",
      "metadata": {
        "deletable": false,
        "editable": false,
        "id": "3d8c1857"
      },
      "source": [
        "<!-- END QUESTION -->"
      ]
    },
    {
      "cell_type": "code",
      "execution_count": 66,
      "id": "c57c66b0",
      "metadata": {
        "id": "c57c66b0",
        "colab": {
          "base_uri": "https://localhost:8080/"
        },
        "outputId": "ade89b88-dd1a-4f6f-b756-cdaa50739247"
      },
      "outputs": [
        {
          "output_type": "stream",
          "name": "stdout",
          "text": [
            "Test perplexity: 1.145\n"
          ]
        }
      ],
      "source": [
        "# Evaluate model performance, the expected value should be < 1.5\n",
        "print (f'Test perplexity: {model_transformer.evaluate_ppl(test_iter):.3f}')"
      ]
    },
    {
      "cell_type": "code",
      "execution_count": 67,
      "id": "7ba778a2",
      "metadata": {
        "deletable": false,
        "editable": false,
        "id": "7ba778a2",
        "colab": {
          "base_uri": "https://localhost:8080/",
          "height": 46
        },
        "outputId": "2e6c956d-e6b9-4602-c0e5-57bd48178ff7"
      },
      "outputs": [
        {
          "output_type": "execute_result",
          "data": {
            "text/plain": [
              "\n",
              "    All tests passed!\n",
              "    "
            ],
            "text/html": [
              "\n",
              "    \n",
              "    \n",
              "        <p>All tests passed!</p>\n",
              "    \n",
              "    "
            ]
          },
          "metadata": {},
          "execution_count": 67
        }
      ],
      "source": [
        "grader.check(\"transformer_ppl\")"
      ]
    },
    {
      "cell_type": "markdown",
      "id": "ca23ac05",
      "metadata": {
        "id": "ca23ac05"
      },
      "source": [
        "Now that we have a trained model, we can decode from it using our previously implemented beam search function. If the code below throws any errors, you might need to modify your beam search code such that it generalizes here."
      ]
    },
    {
      "cell_type": "code",
      "execution_count": 68,
      "id": "68943823",
      "metadata": {
        "deletable": false,
        "editable": false,
        "id": "68943823",
        "colab": {
          "base_uri": "https://localhost:8080/",
          "height": 46
        },
        "outputId": "76341d66-48ce-46b1-f952-37417034cc30"
      },
      "outputs": [
        {
          "output_type": "execute_result",
          "data": {
            "text/plain": [
              "\n",
              "    All tests passed!\n",
              "    "
            ],
            "text/html": [
              "\n",
              "    \n",
              "    \n",
              "        <p>All tests passed!</p>\n",
              "    \n",
              "    "
            ]
          },
          "metadata": {},
          "execution_count": 68
        }
      ],
      "source": [
        "grader.check(\"transformer_beam_search\")"
      ]
    },
    {
      "cell_type": "code",
      "execution_count": 69,
      "id": "541e533b",
      "metadata": {
        "id": "541e533b",
        "colab": {
          "base_uri": "https://localhost:8080/"
        },
        "outputId": "89a84f88-d681-46d8-9cde-0557c77f585b"
      },
      "outputs": [
        {
          "output_type": "stream",
          "name": "stdout",
          "text": [
            "Source: sixteen thousand eight hundred and thirty two\n",
            "Prediction:   1 6 8 3 2\n",
            "Ground truth: 1 6 8 3 2\n",
            "Source: sixty seven million six hundred and eighty five thousand two hundred and thirty\n",
            "Prediction:   6 7 6 8 0 5 2 3 0\n",
            "Ground truth: 6 7 6 8 5 2 3 0\n",
            "Source: six thousand two hundred and twelve\n",
            "Prediction:   6 2 1 2\n",
            "Ground truth: 6 2 1 2\n",
            "Source: seven hundred and ninety eight million three hundred and thirty one thousand eight hundred and eighteen\n",
            "Prediction:   7 9 8 3 3 1 8 1 8\n",
            "Ground truth: 7 9 8 3 3 1 8 1 8\n",
            "Source: eighty eight million four hundred and thirteen thousand nine hundred and eighteen\n",
            "Prediction:   8 8 4 1 3 9 1 8\n",
            "Ground truth: 8 8 4 1 3 9 1 8\n",
            "Source: three hundred and seventy four thousand two hundred and seventy\n",
            "Prediction:   3 7 4 2 7 0\n",
            "Ground truth: 3 7 4 2 7 0\n",
            "Source: ninety eight million three hundred and seventy thousand five hundred and forty five\n",
            "Prediction:   9 8 3 7 0 5 4 5\n",
            "Ground truth: 9 8 3 7 0 5 4 5\n",
            "Source: ninety seven thousand seven hundred and sixty two\n",
            "Prediction:   9 7 7 6 2\n",
            "Ground truth: 9 7 7 6 2\n",
            "Source: four hundred and ten thousand two hundred and three\n",
            "Prediction:   4 1 0 2 0 3\n",
            "Ground truth: 4 1 0 2 0 3\n",
            "Accuracy: 0.73\n"
          ]
        }
      ],
      "source": [
        "DEBUG_FIRST = 10 # set to False to disable printing predictions\n",
        "K = 1 # beam size 1\n",
        "\n",
        "correct = 0\n",
        "total = 0\n",
        "\n",
        "# create beam searcher\n",
        "beam_searcher = BeamSearcher(model_transformer)\n",
        "\n",
        "for index, batch in enumerate(test_iter, start=1):\n",
        "  # Input and output\n",
        "  src, src_lengths = batch.src\n",
        "  # Predict\n",
        "  model.all_attns = []\n",
        "  prediction, _ = beam_searcher.beam_search(src, src_lengths, K)\n",
        "  # Convert to string\n",
        "  prediction = ' '.join([TGT.vocab.itos[token] for token in prediction])\n",
        "  prediction = prediction.lstrip('<bos>').rstrip('<eos>').strip()\n",
        "  ground_truth = ' '.join([TGT.vocab.itos[token] for token in batch.tgt.view(-1)])\n",
        "  ground_truth = ground_truth.lstrip('<bos>').rstrip('<eos>').strip()\n",
        "  if DEBUG_FIRST > index:\n",
        "    src = ' '.join([SRC.vocab.itos[item] for item in src.view(-1)])\n",
        "    print (f'Source: {src}')\n",
        "    print (f'Prediction:   {prediction}')\n",
        "    print (f'Ground truth: {ground_truth}')\n",
        "  if ground_truth == prediction:\n",
        "    correct += 1\n",
        "  total += 1\n",
        "\n",
        "print (f'Accuracy: {correct/total:.2f}')"
      ]
    },
    {
      "cell_type": "markdown",
      "id": "5f2db02f",
      "metadata": {
        "deletable": false,
        "editable": false,
        "id": "5f2db02f"
      },
      "source": [
        "<!-- BEGIN QUESTION -->\n",
        "\n",
        "**Question:** When we first introduced attention above, adding it to an RNN model, we noted that\n",
        "\n",
        "> The attention scores $\\mathbf{a}$ lie on a *simplex* (meaning $a_i\\ge 0$ and $\\sum_i a_i=1$), which lends it some interpretability: the closer $a_i$ is to 1, the more \"relevant\" a key $k_i$ (and hence its value $v_i$) is to the given query. We will observe this later in the lab: When we are about to predict the target word \"3\", $a_i$ is close to 1 for the source word $x_i=\\text{\"three\"}$.\n",
        "\n",
        "Can we interpret the attentions in a multi-layer transformer similarly? If so, what would you expect the attention scores to correspond to? If not, explain why. \n",
        "\n",
        "<!--\n",
        "BEGIN QUESTION\n",
        "name: open_response_attn_transformer\n",
        "manual: true\n",
        "-->"
      ]
    },
    {
      "cell_type": "markdown",
      "id": "49617e4c",
      "metadata": {
        "id": "49617e4c"
      },
      "source": [
        "**_From our understanding, such interpretability when using multi-layer transformer is much more complex. From reading online, there are tools to visualize the interpretability of multi-layer transformers and from playing with we get the idea that the attention gasp more complex connections in deeper layers._**"
      ]
    },
    {
      "cell_type": "markdown",
      "id": "8caed012",
      "metadata": {
        "id": "8caed012"
      },
      "source": [
        "<!-- END QUESTION -->\n",
        "\n",
        "\n",
        "\n",
        "You might have noticed that the transformer model underperforms the RNN-based encoder-decoder on this particular task. This might be due to several reasons: \n",
        "\n",
        "* Transformers tend to be data hungry, sometimes requiring billions of words to train.\n",
        "* The transformer formulation presented in this lab is not in its full form: for instance, instead of only doing attention once at each position for each layer, researchers usually use multiple attention operations in the hope of capturing different aspects of \"relevance\", which is called \"multi-headed attention\". For example, one attention head might be focusing on pronoun resolution, while the other might be looking for similar contexts before.\n",
        "* Transformers are usually sensitive to hyper-parameters and require heavy tuning. For example, while we used a fixed learning rate, researchers usually use a customized learning rate scheduler which first warms up the learning rate, and then gradually decreases it. If you are interested, more details can be found in [the original paper](https://arxiv.org/abs/1706.03762).\n",
        "\n",
        "We also recommend the excellent pedagogic blog posts: [The Illustrated Transformer](http://jalammar.github.io/illustrated-transformer/) and [The Annotated Transformer](http://nlp.seas.harvard.edu/2018/04/03/attention).\n",
        "\n",
        "In real-world applications, many state-of-the-art NLP approaches are based on transformers, such as the fake news generator used by [GROVER](https://arxiv.org/abs/1905.12616) that you've seen in the Embedded EthiCS class. For further readings if you are interested, we recommend [BERT](https://arxiv.org/abs/1810.04805) and [GPT-3](https://arxiv.org/abs/2005.14165)."
      ]
    },
    {
      "cell_type": "markdown",
      "id": "4d7cbbc8",
      "metadata": {
        "deletable": false,
        "editable": false,
        "id": "4d7cbbc8"
      },
      "source": [
        "<!-- BEGIN QUESTION -->\n",
        "\n",
        "# Lab debrief \n",
        "\n",
        "**Question:** We're interested in any thoughts your group has about this lab so that we can improve this lab for later years, and to inform later labs for this year. Please list any issues that arose or comments you have to improve the lab. Useful things to comment on might include the following: \n",
        "\n",
        "* Was the lab too long or too short?\n",
        "* Were the readings appropriate for the lab? \n",
        "* Was it clear (at least after you completed the lab) what the points of the exercises were? \n",
        "* Are there additions or changes you think would make the lab better?\n",
        "\n",
        "but you should comment on whatever aspects you found especially positive or negative.\n",
        "\n",
        "<!--\n",
        "BEGIN QUESTION\n",
        "name: open_response_debrief\n",
        "manual: true\n",
        "-->"
      ]
    },
    {
      "cell_type": "markdown",
      "id": "b329e28b",
      "metadata": {
        "id": "b329e28b"
      },
      "source": [
        "**_This lab was very tough and unclear. we think we did not have the tools to handel it in the time we had for it. maybe more time to work on it at class or more lectures could help._**"
      ]
    },
    {
      "cell_type": "markdown",
      "id": "3774fcf6",
      "metadata": {
        "id": "3774fcf6"
      },
      "source": [
        "<!-- END QUESTION -->\n",
        "\n",
        "\n",
        "\n",
        "# End of Lab 4-5"
      ]
    },
    {
      "cell_type": "markdown",
      "id": "7c004de7",
      "metadata": {
        "deletable": false,
        "editable": false,
        "id": "7c004de7"
      },
      "source": [
        "---\n",
        "\n",
        "To double-check your work, the cell below will rerun all of the autograder tests."
      ]
    },
    {
      "cell_type": "code",
      "execution_count": 70,
      "id": "87b04361",
      "metadata": {
        "deletable": false,
        "editable": false,
        "id": "87b04361",
        "colab": {
          "base_uri": "https://localhost:8080/",
          "height": 303
        },
        "outputId": "fd61728b-44f3-4d8d-c3c4-4898f230f508"
      },
      "outputs": [
        {
          "output_type": "execute_result",
          "data": {
            "text/plain": [
              "attention:\n",
              "\n",
              "    All tests passed!\n",
              "    \n",
              "\n",
              "beam_search:\n",
              "\n",
              "    All tests passed!\n",
              "    \n",
              "\n",
              "causal_attention_mask:\n",
              "\n",
              "    All tests passed!\n",
              "    \n",
              "\n",
              "encoder_decoder_ppl:\n",
              "\n",
              "    All tests passed!\n",
              "    \n",
              "\n",
              "transformer_beam_search:\n",
              "\n",
              "    All tests passed!\n",
              "    \n",
              "\n",
              "transformer_ppl:\n",
              "\n",
              "    All tests passed!\n",
              "    \n"
            ],
            "text/html": [
              "<p><strong>attention:</strong></p>\n",
              "\n",
              "    \n",
              "    \n",
              "        <p>All tests passed!</p>\n",
              "    \n",
              "    \n",
              "\n",
              "<p><strong>beam_search:</strong></p>\n",
              "\n",
              "    \n",
              "    \n",
              "        <p>All tests passed!</p>\n",
              "    \n",
              "    \n",
              "\n",
              "<p><strong>causal_attention_mask:</strong></p>\n",
              "\n",
              "    \n",
              "    \n",
              "        <p>All tests passed!</p>\n",
              "    \n",
              "    \n",
              "\n",
              "<p><strong>encoder_decoder_ppl:</strong></p>\n",
              "\n",
              "    \n",
              "    \n",
              "        <p>All tests passed!</p>\n",
              "    \n",
              "    \n",
              "\n",
              "<p><strong>transformer_beam_search:</strong></p>\n",
              "\n",
              "    \n",
              "    \n",
              "        <p>All tests passed!</p>\n",
              "    \n",
              "    \n",
              "\n",
              "<p><strong>transformer_ppl:</strong></p>\n",
              "\n",
              "    \n",
              "    \n",
              "        <p>All tests passed!</p>\n",
              "    \n",
              "    \n",
              "\n"
            ]
          },
          "metadata": {},
          "execution_count": 70
        }
      ],
      "source": [
        "grader.check_all()"
      ]
    }
  ],
  "metadata": {
    "accelerator": "GPU",
    "colab": {
      "name": "NLP lab4-5.ipynb",
      "provenance": [],
      "collapsed_sections": []
    },
    "kernelspec": {
      "display_name": "Python 3 (ipykernel)",
      "language": "python",
      "name": "python3"
    },
    "language_info": {
      "codemirror_mode": {
        "name": "ipython",
        "version": 3
      },
      "file_extension": ".py",
      "mimetype": "text/x-python",
      "name": "python",
      "nbconvert_exporter": "python",
      "pygments_lexer": "ipython3",
      "version": "3.8.3"
    },
    "title": "CS236299 Lab 4-5: Sequence-to-sequence models with attention",
    "gpuClass": "standard"
  },
  "nbformat": 4,
  "nbformat_minor": 5
}